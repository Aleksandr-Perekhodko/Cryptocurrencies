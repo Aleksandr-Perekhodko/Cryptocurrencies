{
 "cells": [
  {
   "cell_type": "markdown",
   "metadata": {},
   "source": [
    "# Clustering Crypto"
   ]
  },
  {
   "cell_type": "code",
   "execution_count": 172,
   "metadata": {},
   "outputs": [],
   "source": [
    "# Initial imports\n",
    "import warnings\n",
    "warnings.filterwarnings('ignore')\n",
    "import pandas as pd\n",
    "import hvplot.pandas\n",
    "from path import Path\n",
    "import plotly.express as px\n",
    "from sklearn.preprocessing import StandardScaler, MinMaxScaler\n",
    "from sklearn.decomposition import PCA\n",
    "from sklearn.cluster import KMeans\n"
   ]
  },
  {
   "cell_type": "markdown",
   "metadata": {},
   "source": [
    "### Deliverable 1: Preprocessing the Data for PCA"
   ]
  },
  {
   "cell_type": "code",
   "execution_count": 173,
   "metadata": {
    "scrolled": false
   },
   "outputs": [
    {
     "data": {
      "text/html": [
       "<div>\n",
       "<style scoped>\n",
       "    .dataframe tbody tr th:only-of-type {\n",
       "        vertical-align: middle;\n",
       "    }\n",
       "\n",
       "    .dataframe tbody tr th {\n",
       "        vertical-align: top;\n",
       "    }\n",
       "\n",
       "    .dataframe thead th {\n",
       "        text-align: right;\n",
       "    }\n",
       "</style>\n",
       "<table border=\"1\" class=\"dataframe\">\n",
       "  <thead>\n",
       "    <tr style=\"text-align: right;\">\n",
       "      <th></th>\n",
       "      <th>CoinName</th>\n",
       "      <th>Algorithm</th>\n",
       "      <th>IsTrading</th>\n",
       "      <th>ProofType</th>\n",
       "      <th>TotalCoinsMined</th>\n",
       "      <th>TotalCoinSupply</th>\n",
       "    </tr>\n",
       "  </thead>\n",
       "  <tbody>\n",
       "    <tr>\n",
       "      <th>42</th>\n",
       "      <td>42 Coin</td>\n",
       "      <td>Scrypt</td>\n",
       "      <td>True</td>\n",
       "      <td>PoW/PoS</td>\n",
       "      <td>4.199995e+01</td>\n",
       "      <td>42</td>\n",
       "    </tr>\n",
       "    <tr>\n",
       "      <th>365</th>\n",
       "      <td>365Coin</td>\n",
       "      <td>X11</td>\n",
       "      <td>True</td>\n",
       "      <td>PoW/PoS</td>\n",
       "      <td>NaN</td>\n",
       "      <td>2300000000</td>\n",
       "    </tr>\n",
       "    <tr>\n",
       "      <th>404</th>\n",
       "      <td>404Coin</td>\n",
       "      <td>Scrypt</td>\n",
       "      <td>True</td>\n",
       "      <td>PoW/PoS</td>\n",
       "      <td>1.055185e+09</td>\n",
       "      <td>532000000</td>\n",
       "    </tr>\n",
       "    <tr>\n",
       "      <th>611</th>\n",
       "      <td>SixEleven</td>\n",
       "      <td>SHA-256</td>\n",
       "      <td>True</td>\n",
       "      <td>PoW</td>\n",
       "      <td>NaN</td>\n",
       "      <td>611000</td>\n",
       "    </tr>\n",
       "    <tr>\n",
       "      <th>808</th>\n",
       "      <td>808</td>\n",
       "      <td>SHA-256</td>\n",
       "      <td>True</td>\n",
       "      <td>PoW/PoS</td>\n",
       "      <td>0.000000e+00</td>\n",
       "      <td>0</td>\n",
       "    </tr>\n",
       "  </tbody>\n",
       "</table>\n",
       "</div>"
      ],
      "text/plain": [
       "      CoinName Algorithm  IsTrading ProofType  TotalCoinsMined TotalCoinSupply\n",
       "42     42 Coin    Scrypt       True   PoW/PoS     4.199995e+01              42\n",
       "365    365Coin       X11       True   PoW/PoS              NaN      2300000000\n",
       "404    404Coin    Scrypt       True   PoW/PoS     1.055185e+09       532000000\n",
       "611  SixEleven   SHA-256       True       PoW              NaN          611000\n",
       "808        808   SHA-256       True   PoW/PoS     0.000000e+00               0"
      ]
     },
     "execution_count": 173,
     "metadata": {},
     "output_type": "execute_result"
    }
   ],
   "source": [
    "# Load the crypto_data.csv dataset.\n",
    "file = (\"./Resources/crypto_data.csv\")\n",
    "df = pd.read_csv(file, index_col = 0)\n",
    "df.head()"
   ]
  },
  {
   "cell_type": "code",
   "execution_count": 174,
   "metadata": {},
   "outputs": [
    {
     "data": {
      "text/html": [
       "<div>\n",
       "<style scoped>\n",
       "    .dataframe tbody tr th:only-of-type {\n",
       "        vertical-align: middle;\n",
       "    }\n",
       "\n",
       "    .dataframe tbody tr th {\n",
       "        vertical-align: top;\n",
       "    }\n",
       "\n",
       "    .dataframe thead th {\n",
       "        text-align: right;\n",
       "    }\n",
       "</style>\n",
       "<table border=\"1\" class=\"dataframe\">\n",
       "  <thead>\n",
       "    <tr style=\"text-align: right;\">\n",
       "      <th></th>\n",
       "      <th>CoinName</th>\n",
       "      <th>Algorithm</th>\n",
       "      <th>IsTrading</th>\n",
       "      <th>ProofType</th>\n",
       "      <th>TotalCoinsMined</th>\n",
       "      <th>TotalCoinSupply</th>\n",
       "    </tr>\n",
       "  </thead>\n",
       "  <tbody>\n",
       "    <tr>\n",
       "      <th>42</th>\n",
       "      <td>42 Coin</td>\n",
       "      <td>Scrypt</td>\n",
       "      <td>True</td>\n",
       "      <td>PoW/PoS</td>\n",
       "      <td>4.199995e+01</td>\n",
       "      <td>42</td>\n",
       "    </tr>\n",
       "    <tr>\n",
       "      <th>365</th>\n",
       "      <td>365Coin</td>\n",
       "      <td>X11</td>\n",
       "      <td>True</td>\n",
       "      <td>PoW/PoS</td>\n",
       "      <td>NaN</td>\n",
       "      <td>2300000000</td>\n",
       "    </tr>\n",
       "    <tr>\n",
       "      <th>404</th>\n",
       "      <td>404Coin</td>\n",
       "      <td>Scrypt</td>\n",
       "      <td>True</td>\n",
       "      <td>PoW/PoS</td>\n",
       "      <td>1.055185e+09</td>\n",
       "      <td>532000000</td>\n",
       "    </tr>\n",
       "    <tr>\n",
       "      <th>611</th>\n",
       "      <td>SixEleven</td>\n",
       "      <td>SHA-256</td>\n",
       "      <td>True</td>\n",
       "      <td>PoW</td>\n",
       "      <td>NaN</td>\n",
       "      <td>611000</td>\n",
       "    </tr>\n",
       "    <tr>\n",
       "      <th>808</th>\n",
       "      <td>808</td>\n",
       "      <td>SHA-256</td>\n",
       "      <td>True</td>\n",
       "      <td>PoW/PoS</td>\n",
       "      <td>0.000000e+00</td>\n",
       "      <td>0</td>\n",
       "    </tr>\n",
       "  </tbody>\n",
       "</table>\n",
       "</div>"
      ],
      "text/plain": [
       "      CoinName Algorithm  IsTrading ProofType  TotalCoinsMined TotalCoinSupply\n",
       "42     42 Coin    Scrypt       True   PoW/PoS     4.199995e+01              42\n",
       "365    365Coin       X11       True   PoW/PoS              NaN      2300000000\n",
       "404    404Coin    Scrypt       True   PoW/PoS     1.055185e+09       532000000\n",
       "611  SixEleven   SHA-256       True       PoW              NaN          611000\n",
       "808        808   SHA-256       True   PoW/PoS     0.000000e+00               0"
      ]
     },
     "execution_count": 174,
     "metadata": {},
     "output_type": "execute_result"
    }
   ],
   "source": [
    "# Keep all the cryptocurrencies that are being traded.\n",
    "df1 = df.loc[df['IsTrading'] == True]\n",
    "df1.head()"
   ]
  },
  {
   "cell_type": "code",
   "execution_count": 175,
   "metadata": {},
   "outputs": [
    {
     "data": {
      "text/html": [
       "<div>\n",
       "<style scoped>\n",
       "    .dataframe tbody tr th:only-of-type {\n",
       "        vertical-align: middle;\n",
       "    }\n",
       "\n",
       "    .dataframe tbody tr th {\n",
       "        vertical-align: top;\n",
       "    }\n",
       "\n",
       "    .dataframe thead th {\n",
       "        text-align: right;\n",
       "    }\n",
       "</style>\n",
       "<table border=\"1\" class=\"dataframe\">\n",
       "  <thead>\n",
       "    <tr style=\"text-align: right;\">\n",
       "      <th></th>\n",
       "      <th>CoinName</th>\n",
       "      <th>Algorithm</th>\n",
       "      <th>IsTrading</th>\n",
       "      <th>ProofType</th>\n",
       "      <th>TotalCoinsMined</th>\n",
       "      <th>TotalCoinSupply</th>\n",
       "    </tr>\n",
       "  </thead>\n",
       "  <tbody>\n",
       "    <tr>\n",
       "      <th>AQUA</th>\n",
       "      <td>Aquachain</td>\n",
       "      <td>Argon2</td>\n",
       "      <td>True</td>\n",
       "      <td>PoW</td>\n",
       "      <td>0.000000e+00</td>\n",
       "      <td>42000000</td>\n",
       "    </tr>\n",
       "    <tr>\n",
       "      <th>OPES</th>\n",
       "      <td>Opes</td>\n",
       "      <td>Argon2</td>\n",
       "      <td>True</td>\n",
       "      <td>PoW</td>\n",
       "      <td>NaN</td>\n",
       "      <td>52000000</td>\n",
       "    </tr>\n",
       "    <tr>\n",
       "      <th>BOAT</th>\n",
       "      <td>Doubloon</td>\n",
       "      <td>536</td>\n",
       "      <td>True</td>\n",
       "      <td>PoW/PoS</td>\n",
       "      <td>NaN</td>\n",
       "      <td>500000000</td>\n",
       "    </tr>\n",
       "    <tr>\n",
       "      <th>ESP</th>\n",
       "      <td>Espers</td>\n",
       "      <td>536</td>\n",
       "      <td>True</td>\n",
       "      <td>PoW/PoS</td>\n",
       "      <td>2.280188e+10</td>\n",
       "      <td>50000000000</td>\n",
       "    </tr>\n",
       "    <tr>\n",
       "      <th>HODL</th>\n",
       "      <td>HOdlcoin</td>\n",
       "      <td>1GB AES Pattern Search</td>\n",
       "      <td>True</td>\n",
       "      <td>PoW</td>\n",
       "      <td>1.144895e+07</td>\n",
       "      <td>81962100</td>\n",
       "    </tr>\n",
       "  </tbody>\n",
       "</table>\n",
       "</div>"
      ],
      "text/plain": [
       "       CoinName               Algorithm  IsTrading ProofType  TotalCoinsMined  \\\n",
       "AQUA  Aquachain                  Argon2       True       PoW     0.000000e+00   \n",
       "OPES       Opes                  Argon2       True       PoW              NaN   \n",
       "BOAT   Doubloon                     536       True   PoW/PoS              NaN   \n",
       "ESP      Espers                     536       True   PoW/PoS     2.280188e+10   \n",
       "HODL   HOdlcoin  1GB AES Pattern Search       True       PoW     1.144895e+07   \n",
       "\n",
       "     TotalCoinSupply  \n",
       "AQUA        42000000  \n",
       "OPES        52000000  \n",
       "BOAT       500000000  \n",
       "ESP      50000000000  \n",
       "HODL        81962100  "
      ]
     },
     "execution_count": 175,
     "metadata": {},
     "output_type": "execute_result"
    }
   ],
   "source": [
    "# Keep all the cryptocurrencies that have a working algorithm.\n",
    "df0 = df1.sort_values(by='Algorithm', ascending=False)\n",
    "df0.tail()"
   ]
  },
  {
   "cell_type": "code",
   "execution_count": 176,
   "metadata": {},
   "outputs": [
    {
     "name": "stdout",
     "output_type": "stream",
     "text": [
      "<class 'pandas.core.frame.DataFrame'>\n",
      "Index: 1144 entries, 42 to XBC\n",
      "Data columns (total 6 columns):\n",
      " #   Column           Non-Null Count  Dtype  \n",
      "---  ------           --------------  -----  \n",
      " 0   CoinName         1144 non-null   object \n",
      " 1   Algorithm        1144 non-null   object \n",
      " 2   IsTrading        1144 non-null   bool   \n",
      " 3   ProofType        1144 non-null   object \n",
      " 4   TotalCoinsMined  685 non-null    float64\n",
      " 5   TotalCoinSupply  1144 non-null   object \n",
      "dtypes: bool(1), float64(1), object(4)\n",
      "memory usage: 54.7+ KB\n"
     ]
    }
   ],
   "source": [
    "# Keep all the cryptocurrencies that have a working algorithm\n",
    "df2 = df1.dropna(axis=0, subset=['Algorithm'])\n",
    "df2.info()"
   ]
  },
  {
   "cell_type": "code",
   "execution_count": 177,
   "metadata": {
    "scrolled": true
   },
   "outputs": [
    {
     "data": {
      "text/html": [
       "<div>\n",
       "<style scoped>\n",
       "    .dataframe tbody tr th:only-of-type {\n",
       "        vertical-align: middle;\n",
       "    }\n",
       "\n",
       "    .dataframe tbody tr th {\n",
       "        vertical-align: top;\n",
       "    }\n",
       "\n",
       "    .dataframe thead th {\n",
       "        text-align: right;\n",
       "    }\n",
       "</style>\n",
       "<table border=\"1\" class=\"dataframe\">\n",
       "  <thead>\n",
       "    <tr style=\"text-align: right;\">\n",
       "      <th></th>\n",
       "      <th>CoinName</th>\n",
       "      <th>Algorithm</th>\n",
       "      <th>ProofType</th>\n",
       "      <th>TotalCoinsMined</th>\n",
       "      <th>TotalCoinSupply</th>\n",
       "    </tr>\n",
       "  </thead>\n",
       "  <tbody>\n",
       "    <tr>\n",
       "      <th>42</th>\n",
       "      <td>42 Coin</td>\n",
       "      <td>Scrypt</td>\n",
       "      <td>PoW/PoS</td>\n",
       "      <td>4.199995e+01</td>\n",
       "      <td>42</td>\n",
       "    </tr>\n",
       "    <tr>\n",
       "      <th>365</th>\n",
       "      <td>365Coin</td>\n",
       "      <td>X11</td>\n",
       "      <td>PoW/PoS</td>\n",
       "      <td>NaN</td>\n",
       "      <td>2300000000</td>\n",
       "    </tr>\n",
       "    <tr>\n",
       "      <th>404</th>\n",
       "      <td>404Coin</td>\n",
       "      <td>Scrypt</td>\n",
       "      <td>PoW/PoS</td>\n",
       "      <td>1.055185e+09</td>\n",
       "      <td>532000000</td>\n",
       "    </tr>\n",
       "    <tr>\n",
       "      <th>611</th>\n",
       "      <td>SixEleven</td>\n",
       "      <td>SHA-256</td>\n",
       "      <td>PoW</td>\n",
       "      <td>NaN</td>\n",
       "      <td>611000</td>\n",
       "    </tr>\n",
       "    <tr>\n",
       "      <th>808</th>\n",
       "      <td>808</td>\n",
       "      <td>SHA-256</td>\n",
       "      <td>PoW/PoS</td>\n",
       "      <td>0.000000e+00</td>\n",
       "      <td>0</td>\n",
       "    </tr>\n",
       "  </tbody>\n",
       "</table>\n",
       "</div>"
      ],
      "text/plain": [
       "      CoinName Algorithm ProofType  TotalCoinsMined TotalCoinSupply\n",
       "42     42 Coin    Scrypt   PoW/PoS     4.199995e+01              42\n",
       "365    365Coin       X11   PoW/PoS              NaN      2300000000\n",
       "404    404Coin    Scrypt   PoW/PoS     1.055185e+09       532000000\n",
       "611  SixEleven   SHA-256       PoW              NaN          611000\n",
       "808        808   SHA-256   PoW/PoS     0.000000e+00               0"
      ]
     },
     "execution_count": 177,
     "metadata": {},
     "output_type": "execute_result"
    }
   ],
   "source": [
    "# Remove the \"IsTrading\" column. \n",
    "df3 = df2.drop(['IsTrading'], axis=1)\n",
    "df3.head()"
   ]
  },
  {
   "cell_type": "code",
   "execution_count": 178,
   "metadata": {},
   "outputs": [
    {
     "data": {
      "text/html": [
       "<div>\n",
       "<style scoped>\n",
       "    .dataframe tbody tr th:only-of-type {\n",
       "        vertical-align: middle;\n",
       "    }\n",
       "\n",
       "    .dataframe tbody tr th {\n",
       "        vertical-align: top;\n",
       "    }\n",
       "\n",
       "    .dataframe thead th {\n",
       "        text-align: right;\n",
       "    }\n",
       "</style>\n",
       "<table border=\"1\" class=\"dataframe\">\n",
       "  <thead>\n",
       "    <tr style=\"text-align: right;\">\n",
       "      <th></th>\n",
       "      <th>CoinName</th>\n",
       "      <th>Algorithm</th>\n",
       "      <th>ProofType</th>\n",
       "      <th>TotalCoinsMined</th>\n",
       "      <th>TotalCoinSupply</th>\n",
       "    </tr>\n",
       "  </thead>\n",
       "  <tbody>\n",
       "    <tr>\n",
       "      <th>42</th>\n",
       "      <td>42 Coin</td>\n",
       "      <td>Scrypt</td>\n",
       "      <td>PoW/PoS</td>\n",
       "      <td>4.199995e+01</td>\n",
       "      <td>42</td>\n",
       "    </tr>\n",
       "    <tr>\n",
       "      <th>404</th>\n",
       "      <td>404Coin</td>\n",
       "      <td>Scrypt</td>\n",
       "      <td>PoW/PoS</td>\n",
       "      <td>1.055185e+09</td>\n",
       "      <td>532000000</td>\n",
       "    </tr>\n",
       "    <tr>\n",
       "      <th>808</th>\n",
       "      <td>808</td>\n",
       "      <td>SHA-256</td>\n",
       "      <td>PoW/PoS</td>\n",
       "      <td>0.000000e+00</td>\n",
       "      <td>0</td>\n",
       "    </tr>\n",
       "    <tr>\n",
       "      <th>1337</th>\n",
       "      <td>EliteCoin</td>\n",
       "      <td>X13</td>\n",
       "      <td>PoW/PoS</td>\n",
       "      <td>2.927942e+10</td>\n",
       "      <td>314159265359</td>\n",
       "    </tr>\n",
       "    <tr>\n",
       "      <th>BTC</th>\n",
       "      <td>Bitcoin</td>\n",
       "      <td>SHA-256</td>\n",
       "      <td>PoW</td>\n",
       "      <td>1.792718e+07</td>\n",
       "      <td>21000000</td>\n",
       "    </tr>\n",
       "  </tbody>\n",
       "</table>\n",
       "</div>"
      ],
      "text/plain": [
       "       CoinName Algorithm ProofType  TotalCoinsMined TotalCoinSupply\n",
       "42      42 Coin    Scrypt   PoW/PoS     4.199995e+01              42\n",
       "404     404Coin    Scrypt   PoW/PoS     1.055185e+09       532000000\n",
       "808         808   SHA-256   PoW/PoS     0.000000e+00               0\n",
       "1337  EliteCoin       X13   PoW/PoS     2.927942e+10    314159265359\n",
       "BTC     Bitcoin   SHA-256       PoW     1.792718e+07        21000000"
      ]
     },
     "execution_count": 178,
     "metadata": {},
     "output_type": "execute_result"
    }
   ],
   "source": [
    "# Remove rows that have at least 1 null value.\n",
    "df4 = df3.dropna()\n",
    "df4.head()"
   ]
  },
  {
   "cell_type": "code",
   "execution_count": 179,
   "metadata": {},
   "outputs": [
    {
     "data": {
      "text/html": [
       "<div>\n",
       "<style scoped>\n",
       "    .dataframe tbody tr th:only-of-type {\n",
       "        vertical-align: middle;\n",
       "    }\n",
       "\n",
       "    .dataframe tbody tr th {\n",
       "        vertical-align: top;\n",
       "    }\n",
       "\n",
       "    .dataframe thead th {\n",
       "        text-align: right;\n",
       "    }\n",
       "</style>\n",
       "<table border=\"1\" class=\"dataframe\">\n",
       "  <thead>\n",
       "    <tr style=\"text-align: right;\">\n",
       "      <th></th>\n",
       "      <th>CoinName</th>\n",
       "      <th>Algorithm</th>\n",
       "      <th>ProofType</th>\n",
       "      <th>TotalCoinsMined</th>\n",
       "      <th>TotalCoinSupply</th>\n",
       "    </tr>\n",
       "  </thead>\n",
       "  <tbody>\n",
       "    <tr>\n",
       "      <th>42</th>\n",
       "      <td>42 Coin</td>\n",
       "      <td>Scrypt</td>\n",
       "      <td>PoW/PoS</td>\n",
       "      <td>4.199995e+01</td>\n",
       "      <td>42</td>\n",
       "    </tr>\n",
       "    <tr>\n",
       "      <th>404</th>\n",
       "      <td>404Coin</td>\n",
       "      <td>Scrypt</td>\n",
       "      <td>PoW/PoS</td>\n",
       "      <td>1.055185e+09</td>\n",
       "      <td>532000000</td>\n",
       "    </tr>\n",
       "    <tr>\n",
       "      <th>1337</th>\n",
       "      <td>EliteCoin</td>\n",
       "      <td>X13</td>\n",
       "      <td>PoW/PoS</td>\n",
       "      <td>2.927942e+10</td>\n",
       "      <td>314159265359</td>\n",
       "    </tr>\n",
       "    <tr>\n",
       "      <th>BTC</th>\n",
       "      <td>Bitcoin</td>\n",
       "      <td>SHA-256</td>\n",
       "      <td>PoW</td>\n",
       "      <td>1.792718e+07</td>\n",
       "      <td>21000000</td>\n",
       "    </tr>\n",
       "    <tr>\n",
       "      <th>ETH</th>\n",
       "      <td>Ethereum</td>\n",
       "      <td>Ethash</td>\n",
       "      <td>PoW</td>\n",
       "      <td>1.076842e+08</td>\n",
       "      <td>0</td>\n",
       "    </tr>\n",
       "  </tbody>\n",
       "</table>\n",
       "</div>"
      ],
      "text/plain": [
       "       CoinName Algorithm ProofType  TotalCoinsMined TotalCoinSupply\n",
       "42      42 Coin    Scrypt   PoW/PoS     4.199995e+01              42\n",
       "404     404Coin    Scrypt   PoW/PoS     1.055185e+09       532000000\n",
       "1337  EliteCoin       X13   PoW/PoS     2.927942e+10    314159265359\n",
       "BTC     Bitcoin   SHA-256       PoW     1.792718e+07        21000000\n",
       "ETH    Ethereum    Ethash       PoW     1.076842e+08               0"
      ]
     },
     "execution_count": 179,
     "metadata": {},
     "output_type": "execute_result"
    }
   ],
   "source": [
    "# Keep the rows where coins are mined.\n",
    "df5 = df4.loc[df4['TotalCoinsMined'] > 0]\n",
    "df5.head()"
   ]
  },
  {
   "cell_type": "code",
   "execution_count": 180,
   "metadata": {},
   "outputs": [
    {
     "data": {
      "text/html": [
       "<div>\n",
       "<style scoped>\n",
       "    .dataframe tbody tr th:only-of-type {\n",
       "        vertical-align: middle;\n",
       "    }\n",
       "\n",
       "    .dataframe tbody tr th {\n",
       "        vertical-align: top;\n",
       "    }\n",
       "\n",
       "    .dataframe thead th {\n",
       "        text-align: right;\n",
       "    }\n",
       "</style>\n",
       "<table border=\"1\" class=\"dataframe\">\n",
       "  <thead>\n",
       "    <tr style=\"text-align: right;\">\n",
       "      <th></th>\n",
       "      <th>CoinName</th>\n",
       "    </tr>\n",
       "  </thead>\n",
       "  <tbody>\n",
       "    <tr>\n",
       "      <th>42</th>\n",
       "      <td>42 Coin</td>\n",
       "    </tr>\n",
       "    <tr>\n",
       "      <th>404</th>\n",
       "      <td>404Coin</td>\n",
       "    </tr>\n",
       "    <tr>\n",
       "      <th>1337</th>\n",
       "      <td>EliteCoin</td>\n",
       "    </tr>\n",
       "    <tr>\n",
       "      <th>BTC</th>\n",
       "      <td>Bitcoin</td>\n",
       "    </tr>\n",
       "    <tr>\n",
       "      <th>ETH</th>\n",
       "      <td>Ethereum</td>\n",
       "    </tr>\n",
       "  </tbody>\n",
       "</table>\n",
       "</div>"
      ],
      "text/plain": [
       "       CoinName\n",
       "42      42 Coin\n",
       "404     404Coin\n",
       "1337  EliteCoin\n",
       "BTC     Bitcoin\n",
       "ETH    Ethereum"
      ]
     },
     "execution_count": 180,
     "metadata": {},
     "output_type": "execute_result"
    }
   ],
   "source": [
    "# Create a new DataFrame that holds only the cryptocurrencies names.\n",
    "crypto_names_df = df5[[\"CoinName\"]]\n",
    "crypto_names_df.head()"
   ]
  },
  {
   "cell_type": "code",
   "execution_count": 181,
   "metadata": {},
   "outputs": [
    {
     "data": {
      "text/html": [
       "<div>\n",
       "<style scoped>\n",
       "    .dataframe tbody tr th:only-of-type {\n",
       "        vertical-align: middle;\n",
       "    }\n",
       "\n",
       "    .dataframe tbody tr th {\n",
       "        vertical-align: top;\n",
       "    }\n",
       "\n",
       "    .dataframe thead th {\n",
       "        text-align: right;\n",
       "    }\n",
       "</style>\n",
       "<table border=\"1\" class=\"dataframe\">\n",
       "  <thead>\n",
       "    <tr style=\"text-align: right;\">\n",
       "      <th></th>\n",
       "      <th>Algorithm</th>\n",
       "      <th>ProofType</th>\n",
       "      <th>TotalCoinsMined</th>\n",
       "      <th>TotalCoinSupply</th>\n",
       "    </tr>\n",
       "  </thead>\n",
       "  <tbody>\n",
       "    <tr>\n",
       "      <th>42</th>\n",
       "      <td>Scrypt</td>\n",
       "      <td>PoW/PoS</td>\n",
       "      <td>4.199995e+01</td>\n",
       "      <td>42</td>\n",
       "    </tr>\n",
       "    <tr>\n",
       "      <th>404</th>\n",
       "      <td>Scrypt</td>\n",
       "      <td>PoW/PoS</td>\n",
       "      <td>1.055185e+09</td>\n",
       "      <td>532000000</td>\n",
       "    </tr>\n",
       "    <tr>\n",
       "      <th>1337</th>\n",
       "      <td>X13</td>\n",
       "      <td>PoW/PoS</td>\n",
       "      <td>2.927942e+10</td>\n",
       "      <td>314159265359</td>\n",
       "    </tr>\n",
       "    <tr>\n",
       "      <th>BTC</th>\n",
       "      <td>SHA-256</td>\n",
       "      <td>PoW</td>\n",
       "      <td>1.792718e+07</td>\n",
       "      <td>21000000</td>\n",
       "    </tr>\n",
       "    <tr>\n",
       "      <th>ETH</th>\n",
       "      <td>Ethash</td>\n",
       "      <td>PoW</td>\n",
       "      <td>1.076842e+08</td>\n",
       "      <td>0</td>\n",
       "    </tr>\n",
       "  </tbody>\n",
       "</table>\n",
       "</div>"
      ],
      "text/plain": [
       "     Algorithm ProofType  TotalCoinsMined TotalCoinSupply\n",
       "42      Scrypt   PoW/PoS     4.199995e+01              42\n",
       "404     Scrypt   PoW/PoS     1.055185e+09       532000000\n",
       "1337       X13   PoW/PoS     2.927942e+10    314159265359\n",
       "BTC    SHA-256       PoW     1.792718e+07        21000000\n",
       "ETH     Ethash       PoW     1.076842e+08               0"
      ]
     },
     "execution_count": 181,
     "metadata": {},
     "output_type": "execute_result"
    }
   ],
   "source": [
    "# Drop the 'CoinName' column since it's not going to be used on the clustering algorithm.\n",
    "crypto_df = df5.drop(['CoinName'], axis = 1)\n",
    "crypto_df.head()"
   ]
  },
  {
   "cell_type": "code",
   "execution_count": 182,
   "metadata": {
    "scrolled": true
   },
   "outputs": [
    {
     "data": {
      "text/html": [
       "<div>\n",
       "<style scoped>\n",
       "    .dataframe tbody tr th:only-of-type {\n",
       "        vertical-align: middle;\n",
       "    }\n",
       "\n",
       "    .dataframe tbody tr th {\n",
       "        vertical-align: top;\n",
       "    }\n",
       "\n",
       "    .dataframe thead th {\n",
       "        text-align: right;\n",
       "    }\n",
       "</style>\n",
       "<table border=\"1\" class=\"dataframe\">\n",
       "  <thead>\n",
       "    <tr style=\"text-align: right;\">\n",
       "      <th></th>\n",
       "      <th>TotalCoinsMined</th>\n",
       "      <th>TotalCoinSupply</th>\n",
       "      <th>Algorithm_1GB AES Pattern Search</th>\n",
       "      <th>Algorithm_536</th>\n",
       "      <th>Algorithm_Argon2d</th>\n",
       "      <th>Algorithm_BLAKE256</th>\n",
       "      <th>Algorithm_Blake</th>\n",
       "      <th>Algorithm_Blake2S</th>\n",
       "      <th>Algorithm_Blake2b</th>\n",
       "      <th>Algorithm_C11</th>\n",
       "      <th>...</th>\n",
       "      <th>ProofType_PoW/PoS</th>\n",
       "      <th>ProofType_PoW/PoS</th>\n",
       "      <th>ProofType_PoW/PoW</th>\n",
       "      <th>ProofType_PoW/nPoS</th>\n",
       "      <th>ProofType_Pos</th>\n",
       "      <th>ProofType_Proof of Authority</th>\n",
       "      <th>ProofType_Proof of Trust</th>\n",
       "      <th>ProofType_TPoS</th>\n",
       "      <th>ProofType_Zero-Knowledge Proof</th>\n",
       "      <th>ProofType_dPoW/PoW</th>\n",
       "    </tr>\n",
       "  </thead>\n",
       "  <tbody>\n",
       "    <tr>\n",
       "      <th>42</th>\n",
       "      <td>4.199995e+01</td>\n",
       "      <td>42</td>\n",
       "      <td>0</td>\n",
       "      <td>0</td>\n",
       "      <td>0</td>\n",
       "      <td>0</td>\n",
       "      <td>0</td>\n",
       "      <td>0</td>\n",
       "      <td>0</td>\n",
       "      <td>0</td>\n",
       "      <td>...</td>\n",
       "      <td>1</td>\n",
       "      <td>0</td>\n",
       "      <td>0</td>\n",
       "      <td>0</td>\n",
       "      <td>0</td>\n",
       "      <td>0</td>\n",
       "      <td>0</td>\n",
       "      <td>0</td>\n",
       "      <td>0</td>\n",
       "      <td>0</td>\n",
       "    </tr>\n",
       "    <tr>\n",
       "      <th>404</th>\n",
       "      <td>1.055185e+09</td>\n",
       "      <td>532000000</td>\n",
       "      <td>0</td>\n",
       "      <td>0</td>\n",
       "      <td>0</td>\n",
       "      <td>0</td>\n",
       "      <td>0</td>\n",
       "      <td>0</td>\n",
       "      <td>0</td>\n",
       "      <td>0</td>\n",
       "      <td>...</td>\n",
       "      <td>1</td>\n",
       "      <td>0</td>\n",
       "      <td>0</td>\n",
       "      <td>0</td>\n",
       "      <td>0</td>\n",
       "      <td>0</td>\n",
       "      <td>0</td>\n",
       "      <td>0</td>\n",
       "      <td>0</td>\n",
       "      <td>0</td>\n",
       "    </tr>\n",
       "    <tr>\n",
       "      <th>1337</th>\n",
       "      <td>2.927942e+10</td>\n",
       "      <td>314159265359</td>\n",
       "      <td>0</td>\n",
       "      <td>0</td>\n",
       "      <td>0</td>\n",
       "      <td>0</td>\n",
       "      <td>0</td>\n",
       "      <td>0</td>\n",
       "      <td>0</td>\n",
       "      <td>0</td>\n",
       "      <td>...</td>\n",
       "      <td>1</td>\n",
       "      <td>0</td>\n",
       "      <td>0</td>\n",
       "      <td>0</td>\n",
       "      <td>0</td>\n",
       "      <td>0</td>\n",
       "      <td>0</td>\n",
       "      <td>0</td>\n",
       "      <td>0</td>\n",
       "      <td>0</td>\n",
       "    </tr>\n",
       "    <tr>\n",
       "      <th>BTC</th>\n",
       "      <td>1.792718e+07</td>\n",
       "      <td>21000000</td>\n",
       "      <td>0</td>\n",
       "      <td>0</td>\n",
       "      <td>0</td>\n",
       "      <td>0</td>\n",
       "      <td>0</td>\n",
       "      <td>0</td>\n",
       "      <td>0</td>\n",
       "      <td>0</td>\n",
       "      <td>...</td>\n",
       "      <td>0</td>\n",
       "      <td>0</td>\n",
       "      <td>0</td>\n",
       "      <td>0</td>\n",
       "      <td>0</td>\n",
       "      <td>0</td>\n",
       "      <td>0</td>\n",
       "      <td>0</td>\n",
       "      <td>0</td>\n",
       "      <td>0</td>\n",
       "    </tr>\n",
       "    <tr>\n",
       "      <th>ETH</th>\n",
       "      <td>1.076842e+08</td>\n",
       "      <td>0</td>\n",
       "      <td>0</td>\n",
       "      <td>0</td>\n",
       "      <td>0</td>\n",
       "      <td>0</td>\n",
       "      <td>0</td>\n",
       "      <td>0</td>\n",
       "      <td>0</td>\n",
       "      <td>0</td>\n",
       "      <td>...</td>\n",
       "      <td>0</td>\n",
       "      <td>0</td>\n",
       "      <td>0</td>\n",
       "      <td>0</td>\n",
       "      <td>0</td>\n",
       "      <td>0</td>\n",
       "      <td>0</td>\n",
       "      <td>0</td>\n",
       "      <td>0</td>\n",
       "      <td>0</td>\n",
       "    </tr>\n",
       "  </tbody>\n",
       "</table>\n",
       "<p>5 rows × 98 columns</p>\n",
       "</div>"
      ],
      "text/plain": [
       "      TotalCoinsMined TotalCoinSupply  Algorithm_1GB AES Pattern Search  \\\n",
       "42       4.199995e+01              42                                 0   \n",
       "404      1.055185e+09       532000000                                 0   \n",
       "1337     2.927942e+10    314159265359                                 0   \n",
       "BTC      1.792718e+07        21000000                                 0   \n",
       "ETH      1.076842e+08               0                                 0   \n",
       "\n",
       "      Algorithm_536  Algorithm_Argon2d  Algorithm_BLAKE256  Algorithm_Blake  \\\n",
       "42                0                  0                   0                0   \n",
       "404               0                  0                   0                0   \n",
       "1337              0                  0                   0                0   \n",
       "BTC               0                  0                   0                0   \n",
       "ETH               0                  0                   0                0   \n",
       "\n",
       "      Algorithm_Blake2S  Algorithm_Blake2b  Algorithm_C11  ...  \\\n",
       "42                    0                  0              0  ...   \n",
       "404                   0                  0              0  ...   \n",
       "1337                  0                  0              0  ...   \n",
       "BTC                   0                  0              0  ...   \n",
       "ETH                   0                  0              0  ...   \n",
       "\n",
       "      ProofType_PoW/PoS  ProofType_PoW/PoS   ProofType_PoW/PoW  \\\n",
       "42                    1                   0                  0   \n",
       "404                   1                   0                  0   \n",
       "1337                  1                   0                  0   \n",
       "BTC                   0                   0                  0   \n",
       "ETH                   0                   0                  0   \n",
       "\n",
       "      ProofType_PoW/nPoS  ProofType_Pos  ProofType_Proof of Authority  \\\n",
       "42                     0              0                             0   \n",
       "404                    0              0                             0   \n",
       "1337                   0              0                             0   \n",
       "BTC                    0              0                             0   \n",
       "ETH                    0              0                             0   \n",
       "\n",
       "      ProofType_Proof of Trust  ProofType_TPoS  \\\n",
       "42                           0               0   \n",
       "404                          0               0   \n",
       "1337                         0               0   \n",
       "BTC                          0               0   \n",
       "ETH                          0               0   \n",
       "\n",
       "      ProofType_Zero-Knowledge Proof  ProofType_dPoW/PoW  \n",
       "42                                 0                   0  \n",
       "404                                0                   0  \n",
       "1337                               0                   0  \n",
       "BTC                                0                   0  \n",
       "ETH                                0                   0  \n",
       "\n",
       "[5 rows x 98 columns]"
      ]
     },
     "execution_count": 182,
     "metadata": {},
     "output_type": "execute_result"
    }
   ],
   "source": [
    "# Use get_dummies() to create variables for text features.\n",
    "X = pd.get_dummies(crypto_df, columns=['Algorithm', 'ProofType'])\n",
    "X.head()"
   ]
  },
  {
   "cell_type": "code",
   "execution_count": 183,
   "metadata": {},
   "outputs": [
    {
     "name": "stdout",
     "output_type": "stream",
     "text": [
      "[[-0.11710817 -0.1528703  -0.0433963  -0.0433963  -0.0433963  -0.06142951\n",
      "  -0.07530656 -0.0433963  -0.06142951 -0.06142951 -0.0433963  -0.0433963\n",
      "  -0.19245009 -0.06142951 -0.09740465 -0.0433963  -0.11547005 -0.07530656\n",
      "  -0.0433963  -0.0433963  -0.15191091 -0.0433963  -0.13118084 -0.0433963\n",
      "  -0.0433963  -0.08703883 -0.0433963  -0.0433963  -0.0433963  -0.0433963\n",
      "  -0.06142951 -0.0433963  -0.08703883 -0.08703883 -0.08703883 -0.0433963\n",
      "  -0.13118084 -0.13840913 -0.13840913 -0.0433963  -0.06142951 -0.0433963\n",
      "  -0.07530656 -0.18168574 -0.0433963  -0.0433963  -0.0433963  -0.07530656\n",
      "  -0.15826614 -0.31491833 -0.0433963  -0.08703883 -0.07530656 -0.06142951\n",
      "   1.38675049 -0.0433963  -0.0433963  -0.06142951 -0.0433963  -0.0433963\n",
      "  -0.0433963  -0.0433963  -0.0433963  -0.0433963  -0.0433963  -0.0433963\n",
      "  -0.39879994 -0.0433963  -0.18168574 -0.0433963  -0.08703883 -0.08703883\n",
      "  -0.10680283 -0.0433963  -0.13118084 -0.0433963  -0.0433963  -0.0433963\n",
      "  -0.0433963  -0.07530656 -0.43911856 -0.0433963  -0.06142951 -0.0433963\n",
      "  -0.0433963  -0.89632016 -0.0433963  -0.0433963   1.42222617 -0.0433963\n",
      "  -0.0433963  -0.0433963  -0.0433963  -0.0433963  -0.0433963  -0.0433963\n",
      "  -0.0433963  -0.0433963 ]\n",
      " [-0.09396955 -0.145009   -0.0433963  -0.0433963  -0.0433963  -0.06142951\n",
      "  -0.07530656 -0.0433963  -0.06142951 -0.06142951 -0.0433963  -0.0433963\n",
      "  -0.19245009 -0.06142951 -0.09740465 -0.0433963  -0.11547005 -0.07530656\n",
      "  -0.0433963  -0.0433963  -0.15191091 -0.0433963  -0.13118084 -0.0433963\n",
      "  -0.0433963  -0.08703883 -0.0433963  -0.0433963  -0.0433963  -0.0433963\n",
      "  -0.06142951 -0.0433963  -0.08703883 -0.08703883 -0.08703883 -0.0433963\n",
      "  -0.13118084 -0.13840913 -0.13840913 -0.0433963  -0.06142951 -0.0433963\n",
      "  -0.07530656 -0.18168574 -0.0433963  -0.0433963  -0.0433963  -0.07530656\n",
      "  -0.15826614 -0.31491833 -0.0433963  -0.08703883 -0.07530656 -0.06142951\n",
      "   1.38675049 -0.0433963  -0.0433963  -0.06142951 -0.0433963  -0.0433963\n",
      "  -0.0433963  -0.0433963  -0.0433963  -0.0433963  -0.0433963  -0.0433963\n",
      "  -0.39879994 -0.0433963  -0.18168574 -0.0433963  -0.08703883 -0.08703883\n",
      "  -0.10680283 -0.0433963  -0.13118084 -0.0433963  -0.0433963  -0.0433963\n",
      "  -0.0433963  -0.07530656 -0.43911856 -0.0433963  -0.06142951 -0.0433963\n",
      "  -0.0433963  -0.89632016 -0.0433963  -0.0433963   1.42222617 -0.0433963\n",
      "  -0.0433963  -0.0433963  -0.0433963  -0.0433963  -0.0433963  -0.0433963\n",
      "  -0.0433963  -0.0433963 ]\n",
      " [ 0.52494561  4.48942416 -0.0433963  -0.0433963  -0.0433963  -0.06142951\n",
      "  -0.07530656 -0.0433963  -0.06142951 -0.06142951 -0.0433963  -0.0433963\n",
      "  -0.19245009 -0.06142951 -0.09740465 -0.0433963  -0.11547005 -0.07530656\n",
      "  -0.0433963  -0.0433963  -0.15191091 -0.0433963  -0.13118084 -0.0433963\n",
      "  -0.0433963  -0.08703883 -0.0433963  -0.0433963  -0.0433963  -0.0433963\n",
      "  -0.06142951 -0.0433963  -0.08703883 -0.08703883 -0.08703883 -0.0433963\n",
      "  -0.13118084 -0.13840913 -0.13840913 -0.0433963  -0.06142951 -0.0433963\n",
      "  -0.07530656 -0.18168574 -0.0433963  -0.0433963  -0.0433963  -0.07530656\n",
      "  -0.15826614 -0.31491833 -0.0433963  -0.08703883 -0.07530656 -0.06142951\n",
      "  -0.72111026 -0.0433963  -0.0433963  -0.06142951 -0.0433963  -0.0433963\n",
      "  -0.0433963  -0.0433963  -0.0433963  -0.0433963  -0.0433963  -0.0433963\n",
      "  -0.39879994 -0.0433963   5.50400923 -0.0433963  -0.08703883 -0.08703883\n",
      "  -0.10680283 -0.0433963  -0.13118084 -0.0433963  -0.0433963  -0.0433963\n",
      "  -0.0433963  -0.07530656 -0.43911856 -0.0433963  -0.06142951 -0.0433963\n",
      "  -0.0433963  -0.89632016 -0.0433963  -0.0433963   1.42222617 -0.0433963\n",
      "  -0.0433963  -0.0433963  -0.0433963  -0.0433963  -0.0433963  -0.0433963\n",
      "  -0.0433963  -0.0433963 ]\n",
      " [-0.11671506 -0.15255998 -0.0433963  -0.0433963  -0.0433963  -0.06142951\n",
      "  -0.07530656 -0.0433963  -0.06142951 -0.06142951 -0.0433963  -0.0433963\n",
      "  -0.19245009 -0.06142951 -0.09740465 -0.0433963  -0.11547005 -0.07530656\n",
      "  -0.0433963  -0.0433963  -0.15191091 -0.0433963  -0.13118084 -0.0433963\n",
      "  -0.0433963  -0.08703883 -0.0433963  -0.0433963  -0.0433963  -0.0433963\n",
      "  -0.06142951 -0.0433963  -0.08703883 -0.08703883 -0.08703883 -0.0433963\n",
      "  -0.13118084 -0.13840913 -0.13840913 -0.0433963  -0.06142951 -0.0433963\n",
      "  -0.07530656 -0.18168574 -0.0433963  -0.0433963  -0.0433963  -0.07530656\n",
      "  -0.15826614  3.17542648 -0.0433963  -0.08703883 -0.07530656 -0.06142951\n",
      "  -0.72111026 -0.0433963  -0.0433963  -0.06142951 -0.0433963  -0.0433963\n",
      "  -0.0433963  -0.0433963  -0.0433963  -0.0433963  -0.0433963  -0.0433963\n",
      "  -0.39879994 -0.0433963  -0.18168574 -0.0433963  -0.08703883 -0.08703883\n",
      "  -0.10680283 -0.0433963  -0.13118084 -0.0433963  -0.0433963  -0.0433963\n",
      "  -0.0433963  -0.07530656 -0.43911856 -0.0433963  -0.06142951 -0.0433963\n",
      "  -0.0433963   1.11567277 -0.0433963  -0.0433963  -0.70312305 -0.0433963\n",
      "  -0.0433963  -0.0433963  -0.0433963  -0.0433963  -0.0433963  -0.0433963\n",
      "  -0.0433963  -0.0433963 ]\n",
      " [-0.11474682 -0.1528703  -0.0433963  -0.0433963  -0.0433963  -0.06142951\n",
      "  -0.07530656 -0.0433963  -0.06142951 -0.06142951 -0.0433963  -0.0433963\n",
      "  -0.19245009 -0.06142951 -0.09740465 -0.0433963  -0.11547005 -0.07530656\n",
      "  -0.0433963  -0.0433963  -0.15191091 -0.0433963   7.62306442 -0.0433963\n",
      "  -0.0433963  -0.08703883 -0.0433963  -0.0433963  -0.0433963  -0.0433963\n",
      "  -0.06142951 -0.0433963  -0.08703883 -0.08703883 -0.08703883 -0.0433963\n",
      "  -0.13118084 -0.13840913 -0.13840913 -0.0433963  -0.06142951 -0.0433963\n",
      "  -0.07530656 -0.18168574 -0.0433963  -0.0433963  -0.0433963  -0.07530656\n",
      "  -0.15826614 -0.31491833 -0.0433963  -0.08703883 -0.07530656 -0.06142951\n",
      "  -0.72111026 -0.0433963  -0.0433963  -0.06142951 -0.0433963  -0.0433963\n",
      "  -0.0433963  -0.0433963  -0.0433963  -0.0433963  -0.0433963  -0.0433963\n",
      "  -0.39879994 -0.0433963  -0.18168574 -0.0433963  -0.08703883 -0.08703883\n",
      "  -0.10680283 -0.0433963  -0.13118084 -0.0433963  -0.0433963  -0.0433963\n",
      "  -0.0433963  -0.07530656 -0.43911856 -0.0433963  -0.06142951 -0.0433963\n",
      "  -0.0433963   1.11567277 -0.0433963  -0.0433963  -0.70312305 -0.0433963\n",
      "  -0.0433963  -0.0433963  -0.0433963  -0.0433963  -0.0433963  -0.0433963\n",
      "  -0.0433963  -0.0433963 ]]\n"
     ]
    }
   ],
   "source": [
    "# Standardize the data with StandardScaler().\n",
    "X_scaled = StandardScaler().fit_transform(X)\n",
    "print(X_scaled[0:5])"
   ]
  },
  {
   "cell_type": "markdown",
   "metadata": {},
   "source": [
    "### Deliverable 2: Reducing Data Dimensions Using PCA"
   ]
  },
  {
   "cell_type": "code",
   "execution_count": 184,
   "metadata": {},
   "outputs": [
    {
     "data": {
      "text/plain": [
       "array([[-0.32870597,  1.04329186, -0.50416815],\n",
       "       [-0.31205279,  1.04342222, -0.50466031],\n",
       "       [ 2.29309286,  1.64801737, -0.55543849],\n",
       "       ...,\n",
       "       [ 0.32812111, -2.340703  ,  0.34887719],\n",
       "       [-0.15743783, -2.02043845,  0.34079683],\n",
       "       [-0.28857024,  0.82771558, -0.26491621]])"
      ]
     },
     "execution_count": 184,
     "metadata": {},
     "output_type": "execute_result"
    }
   ],
   "source": [
    "# Using PCA to reduce dimension to three principal components.\n",
    "pca = PCA(n_components = 3)\n",
    "pca\n",
    "\n",
    "X_pca = pca.fit_transform(X_scaled)\n",
    "X_pca"
   ]
  },
  {
   "cell_type": "code",
   "execution_count": 185,
   "metadata": {},
   "outputs": [
    {
     "data": {
      "text/plain": [
       "['42',\n",
       " '404',\n",
       " '1337',\n",
       " 'BTC',\n",
       " 'ETH',\n",
       " 'LTC',\n",
       " 'DASH',\n",
       " 'XMR',\n",
       " 'ETC',\n",
       " 'ZEC',\n",
       " 'BTS',\n",
       " 'DGB',\n",
       " 'BTCD',\n",
       " 'XPY',\n",
       " 'PRC',\n",
       " 'KOBO',\n",
       " 'SPR',\n",
       " 'ARG',\n",
       " 'AUR',\n",
       " 'BLU',\n",
       " 'XMY',\n",
       " 'MOON',\n",
       " 'ZET',\n",
       " 'SXC',\n",
       " 'QTL',\n",
       " 'ENRG',\n",
       " 'QRK',\n",
       " 'RIC',\n",
       " 'DGC',\n",
       " 'BTB',\n",
       " 'CAT',\n",
       " 'CBX',\n",
       " 'CCN',\n",
       " 'CRYPT',\n",
       " 'CSC',\n",
       " 'DMD',\n",
       " 'XVG',\n",
       " 'DVC',\n",
       " 'EAC',\n",
       " 'EFL',\n",
       " 'EMC2',\n",
       " 'EMD',\n",
       " 'EXCL',\n",
       " 'FLT',\n",
       " 'FRK',\n",
       " 'FTC',\n",
       " 'GDC',\n",
       " 'GLC',\n",
       " 'GLD',\n",
       " 'HBN',\n",
       " 'HYP',\n",
       " 'IFC',\n",
       " 'IOC',\n",
       " 'IXC',\n",
       " 'KGC',\n",
       " 'LKY',\n",
       " 'LTB',\n",
       " 'MAX',\n",
       " 'MEC',\n",
       " 'MED',\n",
       " 'MINT',\n",
       " 'MINC',\n",
       " 'MZC',\n",
       " 'NAUT',\n",
       " 'NAV',\n",
       " 'NOBL',\n",
       " 'NMC',\n",
       " 'NYAN',\n",
       " 'OPAL',\n",
       " 'ORB',\n",
       " 'POT',\n",
       " 'PXC',\n",
       " 'RDD',\n",
       " 'RPC',\n",
       " 'SBC',\n",
       " 'SMC',\n",
       " 'SUPER',\n",
       " 'SYNC',\n",
       " 'SYS',\n",
       " 'TES',\n",
       " 'TGC',\n",
       " 'TIT',\n",
       " 'TOR',\n",
       " 'TRC',\n",
       " 'UNB',\n",
       " 'UNO',\n",
       " 'URO',\n",
       " 'USDE',\n",
       " 'UTC',\n",
       " 'VIA',\n",
       " 'VRC',\n",
       " 'VTC',\n",
       " 'WDC',\n",
       " 'XC',\n",
       " 'XCR',\n",
       " 'XJO',\n",
       " 'XST',\n",
       " 'ZCC',\n",
       " 'BCN',\n",
       " 'XDN',\n",
       " 'BURST',\n",
       " 'SJCX',\n",
       " 'MONA',\n",
       " 'NTRN',\n",
       " 'FAIR',\n",
       " 'NLG',\n",
       " 'RBY',\n",
       " 'PTC',\n",
       " 'KORE',\n",
       " 'WBB',\n",
       " 'NOTE',\n",
       " 'FLO',\n",
       " '8BIT',\n",
       " 'STV',\n",
       " 'ABY',\n",
       " 'FLDC',\n",
       " 'U',\n",
       " 'UIS',\n",
       " 'CYP',\n",
       " 'OMC',\n",
       " 'VTR',\n",
       " 'GRE',\n",
       " 'XCN',\n",
       " 'MSC',\n",
       " 'SOON',\n",
       " '1CR',\n",
       " 'ISL',\n",
       " 'NXS',\n",
       " 'MARS',\n",
       " 'CTO',\n",
       " 'ACP',\n",
       " 'DRZ',\n",
       " 'BSC',\n",
       " 'SQL',\n",
       " 'SONG',\n",
       " 'ZNY',\n",
       " 'DIGS',\n",
       " 'EXP',\n",
       " 'CON',\n",
       " 'SC',\n",
       " 'EMC',\n",
       " 'EGC',\n",
       " 'MND',\n",
       " 'I0C',\n",
       " 'DCR',\n",
       " 'RVR',\n",
       " 'HODL',\n",
       " 'EDRC',\n",
       " 'HTC',\n",
       " 'GAME',\n",
       " 'DBIC',\n",
       " 'DIEM',\n",
       " 'PWR',\n",
       " 'BLRY',\n",
       " 'GPU',\n",
       " 'ADZ',\n",
       " 'SOIL',\n",
       " 'YOC',\n",
       " 'SIB',\n",
       " 'ERC',\n",
       " 'ZEIT',\n",
       " 'SWING',\n",
       " 'SAFEX',\n",
       " 'NEBU',\n",
       " 'FRN',\n",
       " 'BOLI',\n",
       " 'XRA',\n",
       " 'REV',\n",
       " 'CKC',\n",
       " 'VIP',\n",
       " 'BSD',\n",
       " 'OMNI',\n",
       " 'LIR',\n",
       " 'PUT',\n",
       " 'IBANK',\n",
       " 'FRWC',\n",
       " 'MUDRA',\n",
       " 'PIZZA',\n",
       " 'LC',\n",
       " 'KMD',\n",
       " 'GB',\n",
       " 'CTC',\n",
       " 'KRB',\n",
       " 'BXT',\n",
       " 'ZYD',\n",
       " 'MST',\n",
       " 'ZNE',\n",
       " 'COVAL',\n",
       " 'ROOT',\n",
       " 'DOPE',\n",
       " 'BTCR',\n",
       " 'DLC',\n",
       " 'SCN',\n",
       " 'SH',\n",
       " 'BUZZ',\n",
       " 'XPO',\n",
       " 'PSB',\n",
       " 'HALLO',\n",
       " 'XZC',\n",
       " 'CFC',\n",
       " 'ROYAL',\n",
       " 'GNJ',\n",
       " 'TEAM',\n",
       " 'LANA',\n",
       " 'ELE',\n",
       " 'ZCL',\n",
       " 'ARK',\n",
       " 'INSANE',\n",
       " 'KLC',\n",
       " 'ATX',\n",
       " 'EMB',\n",
       " 'XEN',\n",
       " 'FRE',\n",
       " 'PLNC',\n",
       " 'ARCO',\n",
       " 'KURT',\n",
       " 'XCRE',\n",
       " 'ENT',\n",
       " 'EUC',\n",
       " 'BCF',\n",
       " 'XSN',\n",
       " 'BCCOIN',\n",
       " 'MONEY',\n",
       " 'XNG',\n",
       " 'XCI',\n",
       " 'RC',\n",
       " 'PND',\n",
       " 'UNITS',\n",
       " 'GAKH',\n",
       " 'ASAFE2',\n",
       " 'LTCR',\n",
       " 'OS76',\n",
       " 'BIC',\n",
       " 'HXX',\n",
       " 'KED',\n",
       " 'IOP',\n",
       " 'KUSH',\n",
       " 'PRX',\n",
       " 'PAC',\n",
       " 'IMPCH',\n",
       " 'CTL',\n",
       " 'ZBC',\n",
       " 'FRST',\n",
       " 'BVC',\n",
       " 'FIND',\n",
       " 'VLTC',\n",
       " 'ZER',\n",
       " 'CHAT',\n",
       " 'CDN',\n",
       " 'ZOI',\n",
       " 'RNS',\n",
       " 'DBIX',\n",
       " 'XVP',\n",
       " 'TAJ',\n",
       " 'IMX',\n",
       " 'EB3',\n",
       " 'ATMOS',\n",
       " 'HPC',\n",
       " 'CXT',\n",
       " 'MCRN',\n",
       " 'RAIN',\n",
       " 'IMS',\n",
       " 'ARGUS',\n",
       " 'LMC',\n",
       " 'PROC',\n",
       " 'XGR',\n",
       " 'BENJI',\n",
       " 'GRW',\n",
       " 'ILC',\n",
       " 'PHR',\n",
       " 'DEA',\n",
       " 'HTML5',\n",
       " 'USC',\n",
       " 'EQT',\n",
       " 'QTUM',\n",
       " 'QRL',\n",
       " 'ESP',\n",
       " 'DYN',\n",
       " 'NANO',\n",
       " 'CHAN',\n",
       " 'DCY',\n",
       " 'DNR',\n",
       " 'DP',\n",
       " 'VUC',\n",
       " 'BTPL',\n",
       " 'UNIFY',\n",
       " 'BRIT',\n",
       " 'SOCC',\n",
       " 'ARC',\n",
       " 'DAS',\n",
       " 'LINDA',\n",
       " 'XLC',\n",
       " 'ONION',\n",
       " 'BTX',\n",
       " 'GCN',\n",
       " 'SMART',\n",
       " 'SIGT',\n",
       " 'ONX',\n",
       " 'CRM',\n",
       " 'BCH',\n",
       " 'XMCC',\n",
       " 'DFT',\n",
       " 'VET',\n",
       " 'SOJ',\n",
       " 'STCN',\n",
       " 'NYC',\n",
       " 'FRAZ',\n",
       " 'KRONE',\n",
       " 'ACC',\n",
       " 'LINX',\n",
       " 'XCXT',\n",
       " 'ETHD',\n",
       " 'SUMO',\n",
       " 'ODN',\n",
       " 'ADA',\n",
       " 'REC',\n",
       " 'BTCZ',\n",
       " 'TZC',\n",
       " 'ELM',\n",
       " 'TER',\n",
       " 'VIVO',\n",
       " 'RUP',\n",
       " 'BTG',\n",
       " 'WOMEN',\n",
       " 'MAY',\n",
       " 'NAMO',\n",
       " 'LUX',\n",
       " 'PIRL',\n",
       " 'XIOS',\n",
       " 'BTDX',\n",
       " 'EBST',\n",
       " 'KEK',\n",
       " 'BLHC',\n",
       " 'XIN',\n",
       " 'PURA',\n",
       " 'INN',\n",
       " 'ELLA',\n",
       " 'GBX',\n",
       " 'MAG',\n",
       " 'TAU',\n",
       " 'ECA',\n",
       " 'BCD',\n",
       " 'XSH',\n",
       " 'CNBC',\n",
       " 'XUN',\n",
       " 'COAL',\n",
       " 'DAXX',\n",
       " 'BWK',\n",
       " 'KLKS',\n",
       " 'AC3',\n",
       " 'LTHN',\n",
       " 'GER',\n",
       " 'LTCU',\n",
       " 'POP',\n",
       " 'PNX',\n",
       " 'PHO',\n",
       " 'SUCR',\n",
       " 'SPK',\n",
       " 'WAGE',\n",
       " 'GUN',\n",
       " 'IRL',\n",
       " 'TROLL',\n",
       " 'LCP',\n",
       " 'MONK',\n",
       " 'PCOIN',\n",
       " 'UBTC',\n",
       " 'ITZ',\n",
       " 'TPAY',\n",
       " 'MCT',\n",
       " 'MBC',\n",
       " 'TRTL',\n",
       " 'MUN',\n",
       " 'USX',\n",
       " 'NBR',\n",
       " 'SSS',\n",
       " 'TRF',\n",
       " 'KREDS',\n",
       " 'TOKC',\n",
       " 'BBP',\n",
       " 'LCC',\n",
       " 'FLIP',\n",
       " 'LOT',\n",
       " 'CIF',\n",
       " 'SPD',\n",
       " 'POA',\n",
       " 'PUSHI',\n",
       " 'ELP',\n",
       " 'VLX',\n",
       " 'ONT',\n",
       " 'CLO',\n",
       " 'TUBE',\n",
       " 'PSD',\n",
       " 'ADK',\n",
       " 'BSX',\n",
       " 'BRIA',\n",
       " 'IC',\n",
       " 'BTL',\n",
       " 'MEDIC',\n",
       " 'ALPS',\n",
       " 'BITG',\n",
       " 'DEV',\n",
       " 'ABJ',\n",
       " 'SEM',\n",
       " 'FTO',\n",
       " 'CARE',\n",
       " 'NZL',\n",
       " 'XMC',\n",
       " 'PROTON',\n",
       " 'DEAL',\n",
       " 'JUMP',\n",
       " 'INFX',\n",
       " 'XBI',\n",
       " 'KEC',\n",
       " 'HWC',\n",
       " 'GIN',\n",
       " 'PLTC',\n",
       " 'LOKI',\n",
       " 'NCP',\n",
       " 'SIC',\n",
       " 'XT3',\n",
       " 'MGD',\n",
       " 'VIG',\n",
       " 'PLURA',\n",
       " 'EMAR',\n",
       " 'DKD',\n",
       " 'LYNX',\n",
       " 'POSQ',\n",
       " 'BWS',\n",
       " 'MUSE',\n",
       " 'XMN',\n",
       " 'PLUS1',\n",
       " 'AXE',\n",
       " 'TRVC',\n",
       " 'DTEM',\n",
       " 'GIC',\n",
       " 'PNY',\n",
       " 'ABS',\n",
       " 'VITAE',\n",
       " 'HEX',\n",
       " 'TPC',\n",
       " 'WEBC',\n",
       " 'RYO',\n",
       " 'URALS',\n",
       " 'QWC',\n",
       " 'ARE',\n",
       " 'EUNO',\n",
       " 'MMO',\n",
       " 'KETAN',\n",
       " 'PPAI',\n",
       " 'XDNA',\n",
       " 'PAXEX',\n",
       " 'AZART',\n",
       " 'TSC',\n",
       " 'KCASH',\n",
       " 'XCG',\n",
       " 'AAC',\n",
       " 'CRYP',\n",
       " 'BTXC',\n",
       " 'ACM',\n",
       " 'BSV',\n",
       " 'BITM',\n",
       " 'JMC',\n",
       " 'FRED',\n",
       " 'HERB',\n",
       " 'UMO',\n",
       " 'LIT',\n",
       " 'PIRATE',\n",
       " 'EXO',\n",
       " 'BLTG',\n",
       " 'OWC',\n",
       " 'BEAM',\n",
       " 'GALI',\n",
       " 'BTH',\n",
       " 'CSPN',\n",
       " 'CREDIT',\n",
       " 'SLC',\n",
       " 'DASHP',\n",
       " 'NSD',\n",
       " 'BEET',\n",
       " 'TTN',\n",
       " 'AWR',\n",
       " 'BLAST',\n",
       " 'XRC',\n",
       " 'GLT',\n",
       " 'INSN',\n",
       " 'ALX',\n",
       " 'LDOGE',\n",
       " 'SLR',\n",
       " 'TRK',\n",
       " 'UFO',\n",
       " 'OC',\n",
       " 'BLC',\n",
       " 'BITS',\n",
       " 'NEOS',\n",
       " 'HYPER',\n",
       " 'PINK',\n",
       " 'CESC',\n",
       " 'ADC',\n",
       " 'NKA',\n",
       " 'PIGGY',\n",
       " 'CRW',\n",
       " 'GEN',\n",
       " 'SMLY',\n",
       " 'MI',\n",
       " 'GRS',\n",
       " 'CPC',\n",
       " 'CLUB',\n",
       " 'RADS',\n",
       " 'BTA',\n",
       " 'PAK',\n",
       " 'CRB',\n",
       " 'OK',\n",
       " 'LSK',\n",
       " 'XHI',\n",
       " 'XWC',\n",
       " 'FSC',\n",
       " 'J',\n",
       " 'TRI',\n",
       " 'VOLLAR',\n",
       " 'EOS',\n",
       " 'RCC',\n",
       " 'OXY',\n",
       " 'TCH',\n",
       " 'WAVES',\n",
       " 'PART',\n",
       " 'BTT',\n",
       " 'NXT',\n",
       " 'ZEPH',\n",
       " 'GAP',\n",
       " 'BDX',\n",
       " 'ZEN',\n",
       " 'XBC']"
      ]
     },
     "execution_count": 185,
     "metadata": {},
     "output_type": "execute_result"
    }
   ],
   "source": [
    "# Index values\n",
    "index_values = (X.index.tolist())\n",
    "index_values"
   ]
  },
  {
   "cell_type": "code",
   "execution_count": 186,
   "metadata": {},
   "outputs": [
    {
     "data": {
      "text/html": [
       "<div>\n",
       "<style scoped>\n",
       "    .dataframe tbody tr th:only-of-type {\n",
       "        vertical-align: middle;\n",
       "    }\n",
       "\n",
       "    .dataframe tbody tr th {\n",
       "        vertical-align: top;\n",
       "    }\n",
       "\n",
       "    .dataframe thead th {\n",
       "        text-align: right;\n",
       "    }\n",
       "</style>\n",
       "<table border=\"1\" class=\"dataframe\">\n",
       "  <thead>\n",
       "    <tr style=\"text-align: right;\">\n",
       "      <th></th>\n",
       "      <th>PC 1</th>\n",
       "      <th>PC 2</th>\n",
       "      <th>PC 3</th>\n",
       "    </tr>\n",
       "  </thead>\n",
       "  <tbody>\n",
       "    <tr>\n",
       "      <th>42</th>\n",
       "      <td>-0.328706</td>\n",
       "      <td>1.043292</td>\n",
       "      <td>-0.504168</td>\n",
       "    </tr>\n",
       "    <tr>\n",
       "      <th>404</th>\n",
       "      <td>-0.312053</td>\n",
       "      <td>1.043422</td>\n",
       "      <td>-0.504660</td>\n",
       "    </tr>\n",
       "    <tr>\n",
       "      <th>1337</th>\n",
       "      <td>2.293093</td>\n",
       "      <td>1.648017</td>\n",
       "      <td>-0.555438</td>\n",
       "    </tr>\n",
       "    <tr>\n",
       "      <th>BTC</th>\n",
       "      <td>-0.150712</td>\n",
       "      <td>-1.316797</td>\n",
       "      <td>0.186963</td>\n",
       "    </tr>\n",
       "    <tr>\n",
       "      <th>ETH</th>\n",
       "      <td>-0.155103</td>\n",
       "      <td>-2.020462</td>\n",
       "      <td>0.364907</td>\n",
       "    </tr>\n",
       "  </tbody>\n",
       "</table>\n",
       "</div>"
      ],
      "text/plain": [
       "          PC 1      PC 2      PC 3\n",
       "42   -0.328706  1.043292 -0.504168\n",
       "404  -0.312053  1.043422 -0.504660\n",
       "1337  2.293093  1.648017 -0.555438\n",
       "BTC  -0.150712 -1.316797  0.186963\n",
       "ETH  -0.155103 -2.020462  0.364907"
      ]
     },
     "execution_count": 186,
     "metadata": {},
     "output_type": "execute_result"
    }
   ],
   "source": [
    "# Create a DataFrame with the three principal components.\n",
    "pcs_df = pd.DataFrame(data = X_pca, columns=[\"PC 1\", \"PC 2\", \"PC 3\"], index = index_values)\n",
    "pcs_df.head()"
   ]
  },
  {
   "cell_type": "markdown",
   "metadata": {},
   "source": [
    "### Deliverable 3: Clustering Crytocurrencies Using K-Means\n",
    "\n",
    "#### Finding the Best Value for `k` Using the Elbow Curve"
   ]
  },
  {
   "cell_type": "code",
   "execution_count": 187,
   "metadata": {},
   "outputs": [],
   "source": [
    "# Create an elbow curve to find the best value for K.\n",
    "inertia = []\n",
    "k = list(range(1,11))"
   ]
  },
  {
   "cell_type": "code",
   "execution_count": 188,
   "metadata": {},
   "outputs": [],
   "source": [
    "# Calculate inertia for range in k\n",
    "for i in k:\n",
    "    km  = KMeans(n_clusters=i, random_state=0)\n",
    "    km.fit_transform(pcs_df)\n",
    "    inertia.append(km.inertia_)"
   ]
  },
  {
   "cell_type": "code",
   "execution_count": 189,
   "metadata": {},
   "outputs": [
    {
     "data": {},
     "metadata": {},
     "output_type": "display_data"
    },
    {
     "data": {
      "application/vnd.holoviews_exec.v0+json": "",
      "text/html": [
       "<div id='1418'>\n",
       "\n",
       "\n",
       "\n",
       "\n",
       "\n",
       "  <div class=\"bk-root\" id=\"856f87d3-7999-43ad-b231-7f6e8f6b1e6e\" data-root-id=\"1418\"></div>\n",
       "</div>\n",
       "<script type=\"application/javascript\">(function(root) {\n",
       "  function embed_document(root) {\n",
       "    var docs_json = {\"f8980a90-2b28-4f28-a441-b94a3625ca5d\":{\"defs\":[{\"extends\":null,\"module\":null,\"name\":\"ReactiveHTML1\",\"overrides\":[],\"properties\":[]},{\"extends\":null,\"module\":null,\"name\":\"FlexBox1\",\"overrides\":[],\"properties\":[{\"default\":\"flex-start\",\"kind\":null,\"name\":\"align_content\"},{\"default\":\"flex-start\",\"kind\":null,\"name\":\"align_items\"},{\"default\":\"row\",\"kind\":null,\"name\":\"flex_direction\"},{\"default\":\"wrap\",\"kind\":null,\"name\":\"flex_wrap\"},{\"default\":\"flex-start\",\"kind\":null,\"name\":\"justify_content\"}]},{\"extends\":null,\"module\":null,\"name\":\"GridStack1\",\"overrides\":[],\"properties\":[{\"default\":\"warn\",\"kind\":null,\"name\":\"mode\"},{\"default\":null,\"kind\":null,\"name\":\"ncols\"},{\"default\":null,\"kind\":null,\"name\":\"nrows\"},{\"default\":true,\"kind\":null,\"name\":\"allow_resize\"},{\"default\":true,\"kind\":null,\"name\":\"allow_drag\"},{\"default\":[],\"kind\":null,\"name\":\"state\"}]},{\"extends\":null,\"module\":null,\"name\":\"click1\",\"overrides\":[],\"properties\":[{\"default\":\"\",\"kind\":null,\"name\":\"terminal_output\"},{\"default\":\"\",\"kind\":null,\"name\":\"debug_name\"},{\"default\":0,\"kind\":null,\"name\":\"clears\"}]},{\"extends\":null,\"module\":null,\"name\":\"TemplateActions1\",\"overrides\":[],\"properties\":[{\"default\":0,\"kind\":null,\"name\":\"open_modal\"},{\"default\":0,\"kind\":null,\"name\":\"close_modal\"}]},{\"extends\":null,\"module\":null,\"name\":\"MaterialTemplateActions1\",\"overrides\":[],\"properties\":[{\"default\":0,\"kind\":null,\"name\":\"open_modal\"},{\"default\":0,\"kind\":null,\"name\":\"close_modal\"}]}],\"roots\":{\"references\":[{\"attributes\":{\"line_color\":\"#30a2da\",\"line_width\":2,\"x\":{\"field\":\"k\"},\"y\":{\"field\":\"inertia\"}},\"id\":\"1461\",\"type\":\"Line\"},{\"attributes\":{},\"id\":\"1440\",\"type\":\"SaveTool\"},{\"attributes\":{},\"id\":\"1441\",\"type\":\"PanTool\"},{\"attributes\":{\"ticks\":[1,2,3,4,5,6,7,8,9,10]},\"id\":\"1462\",\"type\":\"FixedTicker\"},{\"attributes\":{},\"id\":\"1444\",\"type\":\"ResetTool\"},{\"attributes\":{\"line_alpha\":0.2,\"line_color\":\"#30a2da\",\"line_width\":2,\"x\":{\"field\":\"k\"},\"y\":{\"field\":\"inertia\"}},\"id\":\"1458\",\"type\":\"Line\"},{\"attributes\":{},\"id\":\"1442\",\"type\":\"WheelZoomTool\"},{\"attributes\":{},\"id\":\"1477\",\"type\":\"UnionRenderers\"},{\"attributes\":{\"overlay\":{\"id\":\"1445\"}},\"id\":\"1443\",\"type\":\"BoxZoomTool\"},{\"attributes\":{\"line_alpha\":0.1,\"line_color\":\"#30a2da\",\"line_width\":2,\"x\":{\"field\":\"k\"},\"y\":{\"field\":\"inertia\"}},\"id\":\"1457\",\"type\":\"Line\"},{\"attributes\":{\"coordinates\":null,\"group\":null,\"text\":\"Elbow Curve\",\"text_color\":\"black\",\"text_font_size\":\"12pt\"},\"id\":\"1424\",\"type\":\"Title\"},{\"attributes\":{\"margin\":[5,5,5,5],\"name\":\"HSpacer02502\",\"sizing_mode\":\"stretch_width\"},\"id\":\"1489\",\"type\":\"Spacer\"},{\"attributes\":{\"axis\":{\"id\":\"1432\"},\"coordinates\":null,\"grid_line_color\":null,\"group\":null,\"ticker\":null},\"id\":\"1435\",\"type\":\"Grid\"},{\"attributes\":{\"callback\":null,\"renderers\":[{\"id\":\"1459\"}],\"tags\":[\"hv_created\"],\"tooltips\":[[\"k\",\"@{k}\"],[\"inertia\",\"@{inertia}\"]]},\"id\":\"1422\",\"type\":\"HoverTool\"},{\"attributes\":{\"tools\":[{\"id\":\"1422\"},{\"id\":\"1440\"},{\"id\":\"1441\"},{\"id\":\"1442\"},{\"id\":\"1443\"},{\"id\":\"1444\"}]},\"id\":\"1446\",\"type\":\"Toolbar\"},{\"attributes\":{},\"id\":\"1437\",\"type\":\"BasicTicker\"},{\"attributes\":{},\"id\":\"1430\",\"type\":\"LinearScale\"},{\"attributes\":{},\"id\":\"1454\",\"type\":\"Selection\"},{\"attributes\":{\"bottom_units\":\"screen\",\"coordinates\":null,\"fill_alpha\":0.5,\"fill_color\":\"lightgrey\",\"group\":null,\"left_units\":\"screen\",\"level\":\"overlay\",\"line_alpha\":1.0,\"line_color\":\"black\",\"line_dash\":[4,4],\"line_width\":2,\"right_units\":\"screen\",\"syncable\":false,\"top_units\":\"screen\"},\"id\":\"1445\",\"type\":\"BoxAnnotation\"},{\"attributes\":{\"axis_label\":\"inertia\",\"coordinates\":null,\"formatter\":{\"id\":\"1469\"},\"group\":null,\"major_label_policy\":{\"id\":\"1470\"},\"ticker\":{\"id\":\"1437\"}},\"id\":\"1436\",\"type\":\"LinearAxis\"},{\"attributes\":{\"axis_label\":\"k\",\"coordinates\":null,\"formatter\":{\"id\":\"1464\"},\"group\":null,\"major_label_policy\":{\"id\":\"1465\"},\"ticker\":{\"id\":\"1462\"}},\"id\":\"1432\",\"type\":\"LinearAxis\"},{\"attributes\":{},\"id\":\"1470\",\"type\":\"AllLabels\"},{\"attributes\":{\"end\":3994.2303437175206,\"reset_end\":3994.2303437175206,\"reset_start\":-250.75714831284813,\"start\":-250.75714831284813,\"tags\":[[[\"inertia\",\"inertia\",null]]]},\"id\":\"1421\",\"type\":\"Range1d\"},{\"attributes\":{\"axis\":{\"id\":\"1436\"},\"coordinates\":null,\"dimension\":1,\"grid_line_color\":null,\"group\":null,\"ticker\":null},\"id\":\"1439\",\"type\":\"Grid\"},{\"attributes\":{\"children\":[{\"id\":\"1419\"},{\"id\":\"1423\"},{\"id\":\"1489\"}],\"margin\":[0,0,0,0],\"name\":\"Row02497\",\"tags\":[\"embedded\"]},\"id\":\"1418\",\"type\":\"Row\"},{\"attributes\":{\"coordinates\":null,\"data_source\":{\"id\":\"1453\"},\"glyph\":{\"id\":\"1456\"},\"group\":null,\"hover_glyph\":null,\"muted_glyph\":{\"id\":\"1458\"},\"nonselection_glyph\":{\"id\":\"1457\"},\"selection_glyph\":{\"id\":\"1461\"},\"view\":{\"id\":\"1460\"}},\"id\":\"1459\",\"type\":\"GlyphRenderer\"},{\"attributes\":{\"margin\":[5,5,5,5],\"name\":\"HSpacer02501\",\"sizing_mode\":\"stretch_width\"},\"id\":\"1419\",\"type\":\"Spacer\"},{\"attributes\":{},\"id\":\"1465\",\"type\":\"AllLabels\"},{\"attributes\":{\"below\":[{\"id\":\"1432\"}],\"center\":[{\"id\":\"1435\"},{\"id\":\"1439\"}],\"height\":300,\"left\":[{\"id\":\"1436\"}],\"margin\":[5,5,5,5],\"min_border_bottom\":10,\"min_border_left\":10,\"min_border_right\":10,\"min_border_top\":10,\"renderers\":[{\"id\":\"1459\"}],\"sizing_mode\":\"fixed\",\"title\":{\"id\":\"1424\"},\"toolbar\":{\"id\":\"1446\"},\"width\":700,\"x_range\":{\"id\":\"1420\"},\"x_scale\":{\"id\":\"1428\"},\"y_range\":{\"id\":\"1421\"},\"y_scale\":{\"id\":\"1430\"}},\"id\":\"1423\",\"subtype\":\"Figure\",\"type\":\"Plot\"},{\"attributes\":{\"end\":10.0,\"reset_end\":10.0,\"reset_start\":1.0,\"start\":1.0,\"tags\":[[[\"k\",\"k\",null]]]},\"id\":\"1420\",\"type\":\"Range1d\"},{\"attributes\":{},\"id\":\"1469\",\"type\":\"BasicTickFormatter\"},{\"attributes\":{},\"id\":\"1428\",\"type\":\"LinearScale\"},{\"attributes\":{\"source\":{\"id\":\"1453\"}},\"id\":\"1460\",\"type\":\"CDSView\"},{\"attributes\":{},\"id\":\"1464\",\"type\":\"BasicTickFormatter\"},{\"attributes\":{\"data\":{\"inertia\":{\"__ndarray__\":\"mWw7ePZwrECszOJ/GVmjQPW7szayOJdAVwdBP9ZJgUCbeAmHFIZ3QD4KW4WTnnBAVg4Ks514aUDhE73Rlq1jQB4DOucTrF9Aw1jzzXm/WUA=\",\"dtype\":\"float64\",\"order\":\"little\",\"shape\":[10]},\"k\":[1,2,3,4,5,6,7,8,9,10]},\"selected\":{\"id\":\"1454\"},\"selection_policy\":{\"id\":\"1477\"}},\"id\":\"1453\",\"type\":\"ColumnDataSource\"},{\"attributes\":{\"line_color\":\"#30a2da\",\"line_width\":2,\"x\":{\"field\":\"k\"},\"y\":{\"field\":\"inertia\"}},\"id\":\"1456\",\"type\":\"Line\"}],\"root_ids\":[\"1418\"]},\"title\":\"Bokeh Application\",\"version\":\"2.4.2\"}};\n",
       "    var render_items = [{\"docid\":\"f8980a90-2b28-4f28-a441-b94a3625ca5d\",\"root_ids\":[\"1418\"],\"roots\":{\"1418\":\"856f87d3-7999-43ad-b231-7f6e8f6b1e6e\"}}];\n",
       "    root.Bokeh.embed.embed_items_notebook(docs_json, render_items);\n",
       "  }\n",
       "  if (root.Bokeh !== undefined && root.Bokeh.Panel !== undefined) {\n",
       "    embed_document(root);\n",
       "  } else {\n",
       "    var attempts = 0;\n",
       "    var timer = setInterval(function(root) {\n",
       "      if (root.Bokeh !== undefined && root.Bokeh.Panel !== undefined) {\n",
       "        clearInterval(timer);\n",
       "        embed_document(root);\n",
       "      } else if (document.readyState == \"complete\") {\n",
       "        attempts++;\n",
       "        if (attempts > 200) {\n",
       "          clearInterval(timer);\n",
       "          console.log(\"Bokeh: ERROR: Unable to run BokehJS code because BokehJS library is missing\");\n",
       "        }\n",
       "      }\n",
       "    }, 25, root)\n",
       "  }\n",
       "})(window);</script>"
      ],
      "text/plain": [
       ":Curve   [k]   (inertia)"
      ]
     },
     "execution_count": 189,
     "metadata": {
      "application/vnd.holoviews_exec.v0+json": {
       "id": "1418"
      }
     },
     "output_type": "execute_result"
    }
   ],
   "source": [
    "# Plot the elbow curve\n",
    "elbow_data = {\"k\": k, \"inertia\": inertia}\n",
    "df_elbow = pd.DataFrame(elbow_data)\n",
    "df_elbow.hvplot.line(x=\"k\", y=\"inertia\", title=\"Elbow Curve\", xticks=k)"
   ]
  },
  {
   "cell_type": "markdown",
   "metadata": {},
   "source": [
    "Running K-Means with `k=4`"
   ]
  },
  {
   "cell_type": "code",
   "execution_count": 190,
   "metadata": {},
   "outputs": [
    {
     "name": "stdout",
     "output_type": "stream",
     "text": [
      "[0 0 0 3 3 3 0 3 3 3 0 3 0 0 3 0 3 3 0 0 3 3 3 3 3 0 3 3 3 0 3 0 3 3 0 0 3\n",
      " 3 3 3 3 3 0 0 3 3 3 3 3 0 0 3 0 3 3 3 3 0 3 3 0 3 0 0 0 3 3 3 0 0 0 0 0 3\n",
      " 3 3 0 0 3 0 3 0 0 3 3 3 3 0 0 3 0 3 3 0 0 3 0 0 3 3 0 0 3 0 0 3 0 3 0 3 0\n",
      " 3 0 0 3 3 0 3 3 3 0 3 3 3 3 3 0 0 3 3 3 0 3 0 3 3 0 3 0 3 0 0 3 3 0 3 3 0\n",
      " 0 3 0 3 0 0 0 3 3 3 3 0 0 0 0 0 3 3 0 0 0 0 0 3 0 0 0 0 0 3 0 3 0 0 3 0 3\n",
      " 0 0 3 0 3 0 3 0 3 0 0 0 0 3 0 0 0 0 0 3 3 0 0 3 3 0 0 0 0 0 3 0 0 0 0 0 0\n",
      " 0 0 3 0 0 0 0 0 0 3 3 3 0 0 0 0 3 0 3 0 0 3 0 3 3 0 3 3 0 3 0 0 0 3 0 0 3\n",
      " 0 0 0 0 0 0 0 3 0 3 0 0 0 0 3 0 3 0 3 3 3 3 0 3 0 0 3 0 3 3 3 0 3 0 3 3 3\n",
      " 0 3 0 3 0 0 1 3 0 3 3 3 3 3 0 0 3 0 0 0 3 0 3 0 3 0 3 0 0 0 0 3 0 0 3 0 0\n",
      " 0 3 3 3 3 0 0 0 0 3 0 3 3 3 0 0 3 3 0 0 3 0 3 3 3 0 3 3 0 0 0 3 3 3 0 0 0\n",
      " 3 3 0 3 3 3 3 0 1 1 3 3 3 0 1 0 0 0 0 3 3 3 3 0 0 0 3 0 3 0 0 0 0 3 0 0 3\n",
      " 0 0 3 3 0 3 0 3 3 3 3 0 0 3 0 3 0 0 0 0 0 0 3 3 3 0 0 0 0 0 0 3 0 3 3 3 3\n",
      " 0 0 0 0 3 0 0 3 0 0 3 1 3 0 3 3 0 0 3 0 3 3 0 3 3 0 3 0 3 0 0 3 0 0 0 0 0\n",
      " 3 3 3 0 0 0 3 0 3 0 3 0 0 0 0 3 0 0 0 3 0 3 0 3 0 0 0 3 3 0 0 0 0 0 0 3 0\n",
      " 3 0 3 0 0 0 0 2 0 0 0 3 3 0]\n"
     ]
    }
   ],
   "source": [
    "# Initialize the K-Means model.\n",
    "model = KMeans(n_clusters=4, random_state=0)\n",
    "# Fit the model\n",
    "model.fit(pcs_df)\n",
    "\n",
    "# Predict clusters\n",
    "predictions = model.predict(pcs_df)\n",
    "print(predictions)\n",
    "pcs_df[\"Class\"] = model.labels_"
   ]
  },
  {
   "cell_type": "code",
   "execution_count": 191,
   "metadata": {},
   "outputs": [
    {
     "name": "stdout",
     "output_type": "stream",
     "text": [
      "(532, 9)\n"
     ]
    },
    {
     "data": {
      "text/html": [
       "<div>\n",
       "<style scoped>\n",
       "    .dataframe tbody tr th:only-of-type {\n",
       "        vertical-align: middle;\n",
       "    }\n",
       "\n",
       "    .dataframe tbody tr th {\n",
       "        vertical-align: top;\n",
       "    }\n",
       "\n",
       "    .dataframe thead th {\n",
       "        text-align: right;\n",
       "    }\n",
       "</style>\n",
       "<table border=\"1\" class=\"dataframe\">\n",
       "  <thead>\n",
       "    <tr style=\"text-align: right;\">\n",
       "      <th></th>\n",
       "      <th>Algorithm</th>\n",
       "      <th>ProofType</th>\n",
       "      <th>TotalCoinsMined</th>\n",
       "      <th>TotalCoinSupply</th>\n",
       "      <th>PC 1</th>\n",
       "      <th>PC 2</th>\n",
       "      <th>PC 3</th>\n",
       "      <th>Class</th>\n",
       "      <th>CoinName</th>\n",
       "    </tr>\n",
       "  </thead>\n",
       "  <tbody>\n",
       "    <tr>\n",
       "      <th>42</th>\n",
       "      <td>Scrypt</td>\n",
       "      <td>PoW/PoS</td>\n",
       "      <td>4.199995e+01</td>\n",
       "      <td>42</td>\n",
       "      <td>-0.328706</td>\n",
       "      <td>1.043292</td>\n",
       "      <td>-0.504168</td>\n",
       "      <td>0</td>\n",
       "      <td>42 Coin</td>\n",
       "    </tr>\n",
       "    <tr>\n",
       "      <th>404</th>\n",
       "      <td>Scrypt</td>\n",
       "      <td>PoW/PoS</td>\n",
       "      <td>1.055185e+09</td>\n",
       "      <td>532000000</td>\n",
       "      <td>-0.312053</td>\n",
       "      <td>1.043422</td>\n",
       "      <td>-0.504660</td>\n",
       "      <td>0</td>\n",
       "      <td>404Coin</td>\n",
       "    </tr>\n",
       "    <tr>\n",
       "      <th>1337</th>\n",
       "      <td>X13</td>\n",
       "      <td>PoW/PoS</td>\n",
       "      <td>2.927942e+10</td>\n",
       "      <td>314159265359</td>\n",
       "      <td>2.293093</td>\n",
       "      <td>1.648017</td>\n",
       "      <td>-0.555438</td>\n",
       "      <td>0</td>\n",
       "      <td>EliteCoin</td>\n",
       "    </tr>\n",
       "    <tr>\n",
       "      <th>BTC</th>\n",
       "      <td>SHA-256</td>\n",
       "      <td>PoW</td>\n",
       "      <td>1.792718e+07</td>\n",
       "      <td>21000000</td>\n",
       "      <td>-0.150712</td>\n",
       "      <td>-1.316797</td>\n",
       "      <td>0.186963</td>\n",
       "      <td>3</td>\n",
       "      <td>Bitcoin</td>\n",
       "    </tr>\n",
       "    <tr>\n",
       "      <th>ETH</th>\n",
       "      <td>Ethash</td>\n",
       "      <td>PoW</td>\n",
       "      <td>1.076842e+08</td>\n",
       "      <td>0</td>\n",
       "      <td>-0.155103</td>\n",
       "      <td>-2.020462</td>\n",
       "      <td>0.364907</td>\n",
       "      <td>3</td>\n",
       "      <td>Ethereum</td>\n",
       "    </tr>\n",
       "    <tr>\n",
       "      <th>LTC</th>\n",
       "      <td>Scrypt</td>\n",
       "      <td>PoW</td>\n",
       "      <td>6.303924e+07</td>\n",
       "      <td>84000000</td>\n",
       "      <td>-0.156598</td>\n",
       "      <td>-1.115060</td>\n",
       "      <td>-0.027175</td>\n",
       "      <td>3</td>\n",
       "      <td>Litecoin</td>\n",
       "    </tr>\n",
       "    <tr>\n",
       "      <th>DASH</th>\n",
       "      <td>X11</td>\n",
       "      <td>PoW/PoS</td>\n",
       "      <td>9.031294e+06</td>\n",
       "      <td>22000000</td>\n",
       "      <td>-0.404431</td>\n",
       "      <td>1.208190</td>\n",
       "      <td>-0.413216</td>\n",
       "      <td>0</td>\n",
       "      <td>Dash</td>\n",
       "    </tr>\n",
       "    <tr>\n",
       "      <th>XMR</th>\n",
       "      <td>CryptoNight-V7</td>\n",
       "      <td>PoW</td>\n",
       "      <td>1.720114e+07</td>\n",
       "      <td>0</td>\n",
       "      <td>-0.154389</td>\n",
       "      <td>-2.233013</td>\n",
       "      <td>0.306565</td>\n",
       "      <td>3</td>\n",
       "      <td>Monero</td>\n",
       "    </tr>\n",
       "    <tr>\n",
       "      <th>ETC</th>\n",
       "      <td>Ethash</td>\n",
       "      <td>PoW</td>\n",
       "      <td>1.133597e+08</td>\n",
       "      <td>210000000</td>\n",
       "      <td>-0.153543</td>\n",
       "      <td>-2.020565</td>\n",
       "      <td>0.364881</td>\n",
       "      <td>3</td>\n",
       "      <td>Ethereum Classic</td>\n",
       "    </tr>\n",
       "    <tr>\n",
       "      <th>ZEC</th>\n",
       "      <td>Equihash</td>\n",
       "      <td>PoW</td>\n",
       "      <td>7.383056e+06</td>\n",
       "      <td>21000000</td>\n",
       "      <td>-0.157437</td>\n",
       "      <td>-2.020438</td>\n",
       "      <td>0.340797</td>\n",
       "      <td>3</td>\n",
       "      <td>ZCash</td>\n",
       "    </tr>\n",
       "  </tbody>\n",
       "</table>\n",
       "</div>"
      ],
      "text/plain": [
       "           Algorithm ProofType  TotalCoinsMined TotalCoinSupply      PC 1  \\\n",
       "42            Scrypt   PoW/PoS     4.199995e+01              42 -0.328706   \n",
       "404           Scrypt   PoW/PoS     1.055185e+09       532000000 -0.312053   \n",
       "1337             X13   PoW/PoS     2.927942e+10    314159265359  2.293093   \n",
       "BTC          SHA-256       PoW     1.792718e+07        21000000 -0.150712   \n",
       "ETH           Ethash       PoW     1.076842e+08               0 -0.155103   \n",
       "LTC           Scrypt       PoW     6.303924e+07        84000000 -0.156598   \n",
       "DASH             X11   PoW/PoS     9.031294e+06        22000000 -0.404431   \n",
       "XMR   CryptoNight-V7       PoW     1.720114e+07               0 -0.154389   \n",
       "ETC           Ethash       PoW     1.133597e+08       210000000 -0.153543   \n",
       "ZEC         Equihash       PoW     7.383056e+06        21000000 -0.157437   \n",
       "\n",
       "          PC 2      PC 3  Class          CoinName  \n",
       "42    1.043292 -0.504168      0           42 Coin  \n",
       "404   1.043422 -0.504660      0           404Coin  \n",
       "1337  1.648017 -0.555438      0         EliteCoin  \n",
       "BTC  -1.316797  0.186963      3           Bitcoin  \n",
       "ETH  -2.020462  0.364907      3          Ethereum  \n",
       "LTC  -1.115060 -0.027175      3          Litecoin  \n",
       "DASH  1.208190 -0.413216      0              Dash  \n",
       "XMR  -2.233013  0.306565      3            Monero  \n",
       "ETC  -2.020565  0.364881      3  Ethereum Classic  \n",
       "ZEC  -2.020438  0.340797      3             ZCash  "
      ]
     },
     "execution_count": 191,
     "metadata": {},
     "output_type": "execute_result"
    }
   ],
   "source": [
    "# Create a new DataFrame including predicted clusters and cryptocurrencies features.\n",
    "# Concatentate the crypto_df and pcs_df DataFrames on the same columns.\n",
    "clustered_df = crypto_df.join(pcs_df, how='inner')\n",
    "\n",
    "#  Add a new column, \"CoinName\" to the clustered_df DataFrame that holds the names of the cryptocurrencies. \n",
    "clustered_df = clustered_df.join(crypto_names_df, how='inner')\n",
    "\n",
    "# Print the shape of the clustered_df\n",
    "print(clustered_df.shape)\n",
    "clustered_df.head(10)"
   ]
  },
  {
   "cell_type": "markdown",
   "metadata": {},
   "source": [
    "### Deliverable 4: Visualizing Cryptocurrencies Results\n",
    "\n",
    "#### 3D-Scatter with Clusters"
   ]
  },
  {
   "cell_type": "code",
   "execution_count": 192,
   "metadata": {},
   "outputs": [
    {
     "data": {
      "application/vnd.plotly.v1+json": {
       "config": {
        "plotlyServerURL": "https://plot.ly"
       },
       "data": [
        {
         "customdata": [
          [
           "Scrypt",
           41.99995383,
           "42"
          ],
          [
           "Scrypt",
           1055184902.04,
           "532000000"
          ],
          [
           "X13",
           29279424622.5027,
           "314159265359"
          ],
          [
           "X11",
           9031294.37563393,
           "22000000"
          ],
          [
           "SHA-512",
           2741570000,
           "3600570502"
          ],
          [
           "SHA-256",
           1288862,
           "22000000"
          ],
          [
           "SHA-256",
           11995334.8847328,
           "12500000"
          ],
          [
           "X15",
           25542535.5881841,
           "350000000"
          ],
          [
           "Scrypt",
           18135099.992959,
           "16768584"
          ],
          [
           "Scrypt",
           635423900,
           "0"
          ],
          [
           "Scrypt",
           123062801.128773,
           "0"
          ],
          [
           "Scrypt",
           42579.476901,
           "500000"
          ],
          [
           "Scrypt",
           1039116.65144562,
           "1000000"
          ],
          [
           "Scrypt",
           39999997299.8568,
           "40000000000"
          ],
          [
           "Groestl",
           3304487.74735637,
           "4380000"
          ],
          [
           "PoS",
           5679705,
           "0"
          ],
          [
           "Scrypt",
           461829905.32893,
           "0"
          ],
          [
           "Scrypt",
           89266933.684704,
           "120000000"
          ],
          [
           "X11",
           1678520090.7713,
           "0"
          ],
          [
           "X11",
           17650913.9743456,
           "22000000"
          ],
          [
           "SHA3",
           61445805,
           "100000000"
          ],
          [
           "Scrypt",
           21293925445.4969,
           "0"
          ],
          [
           "SHA-256",
           1613836099.99999,
           "2419200000"
          ],
          [
           "Scrypt",
           16180000,
           "16180000"
          ],
          [
           "X13",
           66087096.2077108,
           "0"
          ],
          [
           "X13",
           15156364.3306548,
           "0"
          ],
          [
           "NeoScrypt",
           3220616.279225,
           "3770000"
          ],
          [
           "Scrypt",
           222677226.014206,
           "420000000"
          ],
          [
           "Scrypt",
           73959274.625,
           "98000000"
          ],
          [
           "Scrypt",
           29315567169.0888,
           "0"
          ],
          [
           "X11",
           50707661.7493518,
           "0"
          ],
          [
           "X11",
           1177,
           "1000"
          ],
          [
           "Multiple",
           80260463.7331396,
           "100000000"
          ],
          [
           "PHI1612",
           1622326490.46336,
           "2300000000"
          ],
          [
           "X11",
           1431851.00002479,
           "10000000"
          ],
          [
           "Scrypt",
           1098952592.6,
           "1600000000"
          ],
          [
           "Scrypt",
           50235211.141939,
           "100000000"
          ],
          [
           "Scrypt",
           32021108.4136696,
           "0"
          ],
          [
           "X11",
           6950831.0970606,
           "5500000"
          ],
          [
           "Multiple",
           100000000,
           "0"
          ],
          [
           "X13",
           33093725.4123502,
           "0"
          ],
          [
           "Scrypt",
           147990237.978331,
           "1000000000"
          ],
          [
           "Shabal256",
           1813033920,
           "2158812800"
          ],
          [
           "Counterparty",
           51173144,
           "500000000"
          ],
          [
           "SHA-256",
           39121694,
           "68000000"
          ],
          [
           "Groestl",
           53193831,
           "0"
          ],
          [
           "Scrypt",
           27184490.3918338,
           "0"
          ],
          [
           "X13",
           2022464.886973,
           "12000000"
          ],
          [
           "Scrypt",
           174646113.934655,
           "500000000"
          ],
          [
           "Scrypt",
           1467841,
           "0"
          ],
          [
           "X13",
           7096834,
           "10000000"
          ],
          [
           "X11",
           2689812,
           "20000000"
          ],
          [
           "Scrypt",
           11604722,
           "20000000"
          ],
          [
           "X11",
           1513704,
           "0"
          ],
          [
           "SHA3",
           63657220,
           "78000000"
          ],
          [
           "QUAIT",
           8568038.35935056,
           "5060000"
          ],
          [
           "X11",
           329200.01639,
           "0"
          ],
          [
           "Scrypt",
           100000000,
           "100000000"
          ],
          [
           "X13",
           23042604,
           "50000000"
          ],
          [
           "SHA-256",
           43059794.804778,
           "1000000000"
          ],
          [
           "X15",
           13530556.4180753,
           "26298000"
          ],
          [
           "BLAKE256",
           10365046.9281661,
           "21000000"
          ],
          [
           "SHA-256",
           3669691.84494672,
           "22000000"
          ],
          [
           "X11",
           10996318099,
           "26550000000"
          ],
          [
           "SHA-256",
           5129014,
           "10500000"
          ],
          [
           "NIST5",
           10069449031.9252,
           "0"
          ],
          [
           "Scrypt",
           8998743.2411911,
           "42000000"
          ],
          [
           "Scrypt",
           40477042,
           "221052632"
          ],
          [
           "X11",
           10407269.7881868,
           "384000000"
          ],
          [
           "Scrypt",
           36971236046.8073,
           " 99000000000"
          ],
          [
           "SHA-256",
           4377081.60953993,
           "40000000"
          ],
          [
           "Scrypt",
           2147483647,
           "2147483647"
          ],
          [
           "PoS",
           20000000,
           "20000000"
          ],
          [
           "X11",
           134554941.15119,
           "75000000"
          ],
          [
           "SHA-256",
           1195525,
           "222725000"
          ],
          [
           "SHA-256",
           16662820,
           "525000000"
          ],
          [
           "NIST5",
           83450403,
           "90000000"
          ],
          [
           "X11",
           24387724.5010828,
           "139000000"
          ],
          [
           "POS 3.0",
           38589808.6658096,
           "33500000"
          ],
          [
           "Scrypt",
           813092338.575672,
           "2000000000"
          ],
          [
           "Scrypt",
           4526324,
           "44333333"
          ],
          [
           "Scrypt",
           100000000,
           "100000000"
          ],
          [
           "X13",
           5000000,
           "200000000"
          ],
          [
           "X11",
           657000000,
           "657000000"
          ],
          [
           "X11",
           15563873,
           "50000000"
          ],
          [
           "Scrypt",
           43165500,
           "90000000"
          ],
          [
           "SHA-256",
           595429,
           "21000000"
          ],
          [
           "X11",
           657636.34549789,
           "3000000"
          ],
          [
           "Scrypt",
           2581970,
           "21000000"
          ],
          [
           "Scrypt",
           1939889,
           "0"
          ],
          [
           "Scrypt",
           169598616,
           "0"
          ],
          [
           "Scrypt",
           665200057,
           "3100000000"
          ],
          [
           "SHA-256D",
           19577787259,
           "20000000000"
          ],
          [
           "PoS",
           74033806.7949683,
           "74000000"
          ],
          [
           "Scrypt",
           33522957,
           "0"
          ],
          [
           "X11",
           264678458.288619,
           "1500000000"
          ],
          [
           "PoS",
           148716816,
           "39999898"
          ],
          [
           "X13",
           2500124,
           "2500124"
          ],
          [
           "X14",
           100000000,
           "100000000"
          ],
          [
           "PoS",
           17818682.1654,
           "301000000"
          ],
          [
           "SHA-256D",
           1082162635.53683,
           "7506000000"
          ],
          [
           "DPoS",
           108202084,
           "125000000"
          ],
          [
           "X11",
           18342813,
           "30000000"
          ],
          [
           "X13",
           92192822723,
           "850000000"
          ],
          [
           "X11",
           3853326.77707314,
           "3853326.77707314"
          ],
          [
           "PoS",
           50000000,
           "50000000"
          ],
          [
           "Scrypt",
           17089600,
           "38540000 "
          ],
          [
           "Scrypt",
           2449577.41533168,
           "42000000"
          ],
          [
           "PoS",
           20000000,
           "20000000"
          ],
          [
           "X11",
           6069482.07721352,
           "60000000"
          ],
          [
           "SHA-256",
           12416554,
           "20000000"
          ],
          [
           "Scrypt",
           20244023.640728,
           "33000000"
          ],
          [
           "X11",
           75590369,
           "76500000"
          ],
          [
           "Scrypt",
           11080722.3769581,
           "28000000"
          ],
          [
           "Scrypt",
           10914418,
           "650659833"
          ],
          [
           "X11",
           814671,
           "5000000"
          ],
          [
           "Scrypt",
           8377873,
           "144000000"
          ],
          [
           "Scrypt",
           33813143821.8337,
           "32514916898"
          ],
          [
           "Scrypt",
           3472983,
           "13000000"
          ],
          [
           "Scrypt",
           3315789,
           "3315789"
          ],
          [
           "Quark",
           10517772.7391666,
           "15000000"
          ],
          [
           "QuBit",
           30227750,
           "78835200"
          ],
          [
           "Scrypt",
           23965372,
           "500000000"
          ],
          [
           "SHA-256",
           2526078.47525448,
           "21000000"
          ],
          [
           "X11",
           5659096.95728771,
           "9354000"
          ],
          [
           "Scrypt",
           11821728,
           "20000000"
          ],
          [
           "Scrypt",
           308179,
           "21933333"
          ],
          [
           "Scrypt",
           2922613.96424908,
           "55000000"
          ],
          [
           "Scrypt",
           110000000,
           "110000000"
          ],
          [
           "X13",
           14524851.4827,
           "14524851.4827"
          ],
          [
           "Scrypt",
           1000000000,
           "1000000000"
          ],
          [
           "Scrypt",
           36050365,
           "34426423"
          ],
          [
           "X11",
           13162749.0858027,
           "100000000"
          ],
          [
           "Blake2S",
           12184195.9258495,
           "36900000"
          ],
          [
           "X11",
           110630387.850471,
           "110000000"
          ],
          [
           "PoS",
           111135836.889,
           "110290030"
          ],
          [
           "X11",
           21521322.0099142,
           "100000000"
          ],
          [
           "PoS",
           401421401,
           "400000000"
          ],
          [
           "X11",
           121665451.643876,
           "500000000"
          ],
          [
           "Scrypt",
           5368934,
           "21212121"
          ],
          [
           "Scrypt",
           1148324,
           "28600000"
          ],
          [
           "Scrypt",
           500000,
           "1000000000"
          ],
          [
           "SHA-256",
           100545745,
           "75000000000"
          ],
          [
           "X11",
           17171382,
           "40000000"
          ],
          [
           "Scrypt",
           295135466.361878,
           "2000000000"
          ],
          [
           "PoS",
           11390225.9742772,
           "30000000"
          ],
          [
           "Scrypt",
           21358764,
           "105000000"
          ],
          [
           "X15",
           40659020000,
           "90000000000"
          ],
          [
           "SHA-256",
           10343113,
           "200084200"
          ],
          [
           "POS 3.0",
           100000000,
           "100000000"
          ],
          [
           "536",
           22801882871,
           "50000000000"
          ],
          [
           "NIST5",
           4171382,
           "10000000"
          ],
          [
           "NIST5",
           62942075,
           "120000000"
          ],
          [
           "Skein",
           6804362,
           "100000000"
          ],
          [
           "X13",
           21268092,
           "30000000"
          ],
          [
           "Scrypt",
           9044930943.24243,
           "50000000000"
          ],
          [
           "X13",
           21917018.0492836,
           "18898187.6216583"
          ],
          [
           "SkunkHash v2 Raptor",
           107972766,
           "137500000"
          ],
          [
           "Skein",
           47331802.4774238,
           "100000000"
          ],
          [
           "X11",
           12569262.5359307,
           "9507271"
          ],
          [
           "Scrypt",
           18663297.3489799,
           "17405891.19707116"
          ],
          [
           "PoS",
           4000000,
           "61599965"
          ],
          [
           "Scrypt",
           19539588,
           "48252000"
          ],
          [
           "Scrypt",
           4200000,
           "4200000"
          ],
          [
           "SHA-512",
           25000000,
           "91388946"
          ],
          [
           "Ouroboros",
           25927070538,
           "45000000000"
          ],
          [
           "X11",
           7262402.04264803,
           "27000000"
          ],
          [
           "NeoScrypt",
           182638400,
           "400000000"
          ],
          [
           "Scrypt",
           1140734.91680375,
           "15733333"
          ],
          [
           "Lyra2REv2",
           24000000,
           "24000000"
          ],
          [
           "Scrypt",
           48459472454,
           "25000000000"
          ],
          [
           "SHA-256",
           92050800,
           "100000000"
          ],
          [
           "NIST5",
           560563220,
           "1200000000"
          ],
          [
           "PHI1612",
           8305775.31777569,
           "60000000"
          ],
          [
           "Scrypt",
           2149688,
           "21000000"
          ],
          [
           "Quark",
           30711550.5294042,
           "200000000"
          ],
          [
           "POS 2.0",
           12330806.30517,
           "21000000"
          ],
          [
           "Scrypt",
           16362544.992,
           "14788275.991"
          ],
          [
           "SHA-256",
           8999999990,
           "9000000000"
          ],
          [
           "X11",
           38198594.8342105,
           "144000000"
          ],
          [
           "DPoS",
           288090567.493887,
           "500000000"
          ],
          [
           "NIST5",
           28399150208,
           "30000000000"
          ],
          [
           "X13",
           183534024.889807,
           "210000000"
          ],
          [
           "Scrypt",
           110976977.29338,
           "210000000"
          ],
          [
           "NIST5",
           13247178.8807286,
           "27716121"
          ],
          [
           "Quark",
           16955764.902064,
           "20000000"
          ],
          [
           "Scrypt",
           4911500269.41,
           "50000000000"
          ],
          [
           "Scrypt",
           8419402.321,
           "150000000"
          ],
          [
           "X11",
           45174214.1078625,
           "50000000"
          ],
          [
           "Quark",
           27299680,
           "120000000"
          ],
          [
           "Scrypt",
           591022748,
           "900000000"
          ],
          [
           "Scrypt",
           2504486.227718,
           "4000000"
          ],
          [
           "X11",
           4407252,
           "21000000"
          ],
          [
           "POS 3.0",
           20445861.5344251,
           "25000000"
          ],
          [
           "Ethash",
           1618033,
           "1618033"
          ],
          [
           "Scrypt",
           9399342.52839847,
           "30000000"
          ],
          [
           "Scrypt",
           234846265.782157,
           "232000000"
          ],
          [
           "X13",
           230298925,
           "800000000"
          ],
          [
           "C11",
           11251342.1879021,
           "19340594"
          ],
          [
           "X11",
           2167827.1,
           "25000000"
          ],
          [
           "XEVAN",
           419275.38,
           "60000000"
          ],
          [
           "Scrypt",
           25570013.1348022,
           "124000000"
          ],
          [
           "VBFT",
           650848625,
           "1000000000"
          ],
          [
           "NIST5",
           13787854.6277781,
           "50000000"
          ],
          [
           "Scrypt",
           845637.81347436,
           "3000000"
          ],
          [
           "Scrypt",
           1182153.5,
           "5000000"
          ],
          [
           "Scrypt",
           267297676.3125,
           "500000000"
          ],
          [
           "Green Protocol",
           9803691.3618195,
           "21000000"
          ],
          [
           "PoS",
           21876586.8530324,
           "88000000"
          ],
          [
           "Scrypt",
           9880502.37178894,
           "30000000"
          ],
          [
           "Semux BFT consensus",
           1231147,
           "100000000"
          ],
          [
           "Quark",
           139739596.506702,
           "200000000"
          ],
          [
           "PoS",
           11075254.0929996,
           "80000000"
          ],
          [
           "X16R",
           4403800,
           "45000000"
          ],
          [
           "Scrypt",
           1404157529.46026,
           "5121951220"
          ],
          [
           "XEVAN",
           10904963.0923455,
           "21000000"
          ],
          [
           "Scrypt",
           38706809.466535,
           "26000000"
          ],
          [
           "Scrypt",
           10200000000,
           "10200000000"
          ],
          [
           "Scrypt",
           7630000.0154,
           "44000000"
          ],
          [
           "SHA-256D",
           33238183.7225834,
           "100000000"
          ],
          [
           "Scrypt",
           21599339.6728,
           "84000000"
          ],
          [
           "X15",
           30284196.369129,
           "90000000"
          ],
          [
           "Scrypt",
           77872059787.8998,
           "92000000000"
          ],
          [
           "Quark",
           2716264.95302831,
           "650000000 "
          ],
          [
           "SHA-256",
           57811001.000889,
           "100262205"
          ],
          [
           "DPoS",
           18194936,
           "18081806 "
          ],
          [
           "X16R",
           36923120.6205934,
           "82546564"
          ],
          [
           "Quark",
           7082392.24744494,
           "21000000"
          ],
          [
           "Quark",
           5919489.76813523,
           "5151000"
          ],
          [
           "Scrypt",
           1042012.45227735,
           "16880000000"
          ],
          [
           "Lyra2REv2",
           13332617.9413708,
           "52500000"
          ],
          [
           "Quark",
           66053877.6256106,
           "100000000"
          ],
          [
           "Scrypt",
           5403802.49590733,
           "1000000000"
          ],
          [
           "X11",
           19269509.94,
           "55000000"
          ],
          [
           "X11",
           30771125.9760867,
           "50000000"
          ],
          [
           "Scrypt",
           107763867.917675,
           "260000000"
          ],
          [
           "PoS",
           9327131.59708692,
           "210000000"
          ],
          [
           "Keccak",
           4672513.84432375,
           "366000000"
          ],
          [
           "X11",
           4504639,
           "100000000"
          ],
          [
           "Scrypt",
           1059954080.43439,
           "18000000000"
          ],
          [
           "SHA-512",
           1000000000,
           "1000000000"
          ],
          [
           "XEVAN",
           6787405.18013774,
           "50000000"
          ],
          [
           "XEVAN",
           208515864.367343,
           "70000000000"
          ],
          [
           "X11",
           17209923728.3266,
           "0"
          ],
          [
           "Quark",
           35312185.7437239,
           "54000000"
          ],
          [
           "Equihash",
           13475920,
           "105000000"
          ],
          [
           "Scrypt",
           14777549.3940764,
           "21000000"
          ],
          [
           "Quark",
           18265011.2486006,
           "19035999"
          ],
          [
           "Quark",
           1934701.67524713,
           "13370000"
          ],
          [
           "Scrypt",
           30825710000.0296,
           "74800000000"
          ],
          [
           "X11",
           715659.44237941,
           "19700000"
          ],
          [
           "Scrypt",
           20546528.2059957,
           "84000000"
          ],
          [
           "XEVAN",
           198938144.363399,
           "500000000"
          ],
          [
           "SHA-256D",
           896361168,
           "5000000000"
          ],
          [
           "X11",
           15420234.5389336,
           "420000000"
          ],
          [
           "X11",
           23775960.3207514,
           "30000000"
          ],
          [
           "DPoS",
           1000000000,
           "1000000000"
          ],
          [
           "Scrypt",
           15318887081.0146,
           "35000000000"
          ],
          [
           "X11",
           242574105.22384,
           "0"
          ],
          [
           "Scrypt",
           3537150,
           "200000000"
          ],
          [
           "Scrypt",
           20576532,
           "54256119"
          ],
          [
           "SHA-256",
           4392258.24647793,
           "21000000"
          ],
          [
           "Scrypt",
           9631199.99309942,
           "0"
          ],
          [
           "X11",
           436353624.490312,
           "500000000"
          ],
          [
           "Scrypt",
           980732528.97974,
           "10500000000"
          ],
          [
           "SHA-256",
           17939725045.334,
           "190000000"
          ],
          [
           "X11",
           494240666.028571,
           "1000000000"
          ],
          [
           "Scrypt",
           60000000,
           "15000000"
          ],
          [
           "Scrypt",
           404316475.545465,
           "400000000"
          ],
          [
           "X11",
           201364327.427503,
           "208000000"
          ],
          [
           "Scrypt",
           103621876.167052,
           "160000000"
          ],
          [
           "PoS",
           3821245.74150193,
           "9000000"
          ],
          [
           "X11",
           16901016.6609755,
           "16504333"
          ],
          [
           "SHA-256",
           74676064.9488608,
           "105000000"
          ],
          [
           "DPoS",
           120012140,
           "159918400"
          ],
          [
           "Scrypt",
           10000244677.7002,
           "10008835635"
          ],
          [
           "Scrypt",
           252005564.19257,
           "300000000"
          ],
          [
           "NeoScrypt",
           1120385.00502,
           "60168145"
          ],
          [
           "X13",
           140777.753365,
           "120000"
          ],
          [
           "DPoS",
           1020544523.0722,
           "0"
          ],
          [
           "DPoS",
           1122382283.37,
           "0"
          ],
          [
           "SHA-256",
           1000000000,
           "1000000000"
          ],
          [
           "Leased POS",
           100000000,
           "100000000"
          ],
          [
           "PoS",
           9283137.5558676,
           "8634140"
          ],
          [
           "PoS",
           1000000000,
           "1000000000"
          ],
          [
           "SHA-256",
           1999999995.3056,
           "2000000000"
          ],
          [
           "Scrypt",
           14931046.1546605,
           "250000000"
          ],
          [
           "Scrypt",
           128326.99633965,
           "1000000"
          ]
         ],
         "hovertemplate": "<b>%{hovertext}</b><br><br>Class=%{marker.color}<br>PC 1=%{x}<br>PC 2=%{y}<br>PC 3=%{z}<br>Algorithm=%{customdata[0]}<br>TotalCoinsMined=%{customdata[1]}<br>TotalCoinSupply=%{customdata[2]}<extra></extra>",
         "hovertext": [
          "42 Coin",
          "404Coin",
          "EliteCoin",
          "Dash",
          "Bitshares",
          "BitcoinDark",
          "PayCoin",
          "KoboCoin",
          "Aurora Coin",
          "BlueCoin",
          "EnergyCoin",
          "BitBar",
          "CryptoBullion",
          "CasinoCoin",
          "Diamond",
          "Exclusive Coin",
          "FlutterCoin",
          "HoboNickels",
          "HyperStake",
          "IOCoin",
          "MaxCoin",
          "MintCoin",
          "MazaCoin",
          "Nautilus Coin",
          "NavCoin",
          "OpalCoin",
          "Orbitcoin",
          "PotCoin",
          "PhoenixCoin",
          "Reddcoin",
          "SuperCoin",
          "SyncCoin",
          "TeslaCoin",
          "TittieCoin",
          "TorCoin",
          "UnitaryStatus Dollar",
          "UltraCoin",
          "VeriCoin",
          "X11 Coin",
          "Crypti",
          "StealthCoin",
          "ZCC Coin",
          "BurstCoin",
          "StorjCoin",
          "Neutron",
          "FairCoin",
          "RubyCoin",
          "Kore",
          "Dnotes",
          "8BIT Coin",
          "Sativa Coin",
          "Ucoin",
          "Vtorrent",
          "IslaCoin",
          "Nexus",
          "Droidz",
          "Squall Coin",
          "Diggits",
          "Paycon",
          "Emercoin",
          "EverGreenCoin",
          "Decred",
          "EDRCoin",
          "Hitcoin",
          "DubaiCoin",
          "PWR Coin",
          "BillaryCoin",
          "GPU Coin",
          "EuropeCoin",
          "ZeitCoin",
          "SwingCoin",
          "SafeExchangeCoin",
          "Nebuchadnezzar",
          "Ratecoin",
          "Revenu",
          "Clockcoin",
          "VIP Tokens",
          "BitSend",
          "Let it Ride",
          "PutinCoin",
          "iBankCoin",
          "Frankywillcoin",
          "MudraCoin",
          "Lutetium Coin",
          "GoldBlocks",
          "CarterCoin",
          "BitTokens",
          "MustangCoin",
          "ZoneCoin",
          "RootCoin",
          "BitCurrency",
          "Swiscoin",
          "BuzzCoin",
          "Opair",
          "PesoBit",
          "Halloween Coin",
          "CoffeeCoin",
          "RoyalCoin",
          "GanjaCoin V2",
          "TeamUP",
          "LanaCoin",
          "ARK",
          "InsaneCoin",
          "EmberCoin",
          "XenixCoin",
          "FreeCoin",
          "PLNCoin",
          "AquariusCoin",
          "Creatio",
          "Eternity",
          "Eurocoin",
          "BitcoinFast",
          "Stakenet",
          "BitConnect Coin",
          "MoneyCoin",
          "Enigma",
          "Russiacoin",
          "PandaCoin",
          "GameUnits",
          "GAKHcoin",
          "Allsafe",
          "LiteCreed",
          "Klingon Empire Darsek",
          "Internet of People",
          "KushCoin",
          "Printerium",
          "Impeach",
          "Zilbercoin",
          "FirstCoin",
          "FindCoin",
          "OpenChat",
          "RenosCoin",
          "VirtacoinPlus",
          "TajCoin",
          "Impact",
          "Atmos",
          "HappyCoin",
          "MacronCoin",
          "Condensate",
          "Independent Money System",
          "ArgusCoin",
          "LomoCoin",
          "ProCurrency",
          "GoldReserve",
          "GrowthCoin",
          "Phreak",
          "Degas Coin",
          "HTML5 Coin",
          "Ultimate Secure Cash",
          "QTUM",
          "Espers",
          "Denarius",
          "Virta Unique Coin",
          "Bitcoin Planet",
          "BritCoin",
          "Linda",
          "DeepOnion",
          "Signatum",
          "Cream",
          "Monoeci",
          "Draftcoin",
          "Stakecoin",
          "CoinonatX",
          "Ethereum Dark",
          "Obsidian",
          "Cardano",
          "Regalcoin",
          "TrezarCoin",
          "TerraNovaCoin",
          "Rupee",
          "WomenCoin",
          "Theresa May Coin",
          "NamoCoin",
          "LUXCoin",
          "Xios",
          "Bitcloud 2.0",
          "KekCoin",
          "BlackholeCoin",
          "Infinity Economics",
          "Magnet",
          "Lamden Tau",
          "Electra",
          "Bitcoin Diamond",
          "Cash & Back Coin",
          "Bulwark",
          "Kalkulus",
          "GermanCoin",
          "LiteCoin Ultra",
          "PhantomX",
          "Digiwage",
          "Trollcoin",
          "Litecoin Plus",
          "Monkey Project",
          "TokenPay",
          "1717 Masonic Commemorative Token",
          "My Big Coin",
          "Unified Society USDEX",
          "Tokyo Coin",
          "Stipend",
          "Pushi",
          "Ellerium",
          "Velox",
          "Ontology",
          "Bitspace",
          "Briacoin",
          "Ignition",
          "MedicCoin",
          "Bitcoin Green",
          "Deviant Coin",
          "Abjcoin",
          "Semux",
          "Carebit",
          "Zealium",
          "Proton",
          "iDealCash",
          "Bitcoin Incognito",
          "HollyWoodCoin",
          "Swisscoin",
          "Xt3ch",
          "TheVig",
          "EmaratCoin",
          "Dekado",
          "Lynx",
          "Poseidon Quark",
          "BitcoinWSpectrum",
          "Muse",
          "Trivechain",
          "Dystem",
          "Giant",
          "Peony Coin",
          "Absolute Coin",
          "Vitae",
          "TPCash",
          "ARENON",
          "EUNO",
          "MMOCoin",
          "Ketan",
          "XDNA",
          "PAXEX",
          "ThunderStake",
          "Kcash",
          "Bettex coin",
          "BitMoney",
          "Junson Ming Chan Coin",
          "HerbCoin",
          "PirateCash",
          "Oduwa",
          "Galilel",
          "Crypto Sports",
          "Credit",
          "Dash Platinum",
          "Nasdacoin",
          "Beetle Coin",
          "Titan Coin",
          "Award",
          "Insane Coin",
          "ALAX",
          "LiteDoge",
          "TruckCoin",
          "OrangeCoin",
          "BitstarCoin",
          "NeosCoin",
          "HyperCoin",
          "PinkCoin",
          "AudioCoin",
          "IncaKoin",
          "Piggy Coin",
          "Genstake",
          "XiaoMiCoin",
          "CapriCoin",
          " ClubCoin",
          "Radium",
          "Creditbit ",
          "OKCash",
          "Lisk",
          "HiCoin",
          "WhiteCoin",
          "FriendshipCoin",
          "Triangles Coin",
          "EOS",
          "Oxycoin",
          "TigerCash",
          "Waves",
          "Particl",
          "Nxt",
          "ZEPHYR",
          "Gapcoin",
          "BitcoinPlus"
         ],
         "legendgroup": "0",
         "marker": {
          "color": [
           0,
           0,
           0,
           0,
           0,
           0,
           0,
           0,
           0,
           0,
           0,
           0,
           0,
           0,
           0,
           0,
           0,
           0,
           0,
           0,
           0,
           0,
           0,
           0,
           0,
           0,
           0,
           0,
           0,
           0,
           0,
           0,
           0,
           0,
           0,
           0,
           0,
           0,
           0,
           0,
           0,
           0,
           0,
           0,
           0,
           0,
           0,
           0,
           0,
           0,
           0,
           0,
           0,
           0,
           0,
           0,
           0,
           0,
           0,
           0,
           0,
           0,
           0,
           0,
           0,
           0,
           0,
           0,
           0,
           0,
           0,
           0,
           0,
           0,
           0,
           0,
           0,
           0,
           0,
           0,
           0,
           0,
           0,
           0,
           0,
           0,
           0,
           0,
           0,
           0,
           0,
           0,
           0,
           0,
           0,
           0,
           0,
           0,
           0,
           0,
           0,
           0,
           0,
           0,
           0,
           0,
           0,
           0,
           0,
           0,
           0,
           0,
           0,
           0,
           0,
           0,
           0,
           0,
           0,
           0,
           0,
           0,
           0,
           0,
           0,
           0,
           0,
           0,
           0,
           0,
           0,
           0,
           0,
           0,
           0,
           0,
           0,
           0,
           0,
           0,
           0,
           0,
           0,
           0,
           0,
           0,
           0,
           0,
           0,
           0,
           0,
           0,
           0,
           0,
           0,
           0,
           0,
           0,
           0,
           0,
           0,
           0,
           0,
           0,
           0,
           0,
           0,
           0,
           0,
           0,
           0,
           0,
           0,
           0,
           0,
           0,
           0,
           0,
           0,
           0,
           0,
           0,
           0,
           0,
           0,
           0,
           0,
           0,
           0,
           0,
           0,
           0,
           0,
           0,
           0,
           0,
           0,
           0,
           0,
           0,
           0,
           0,
           0,
           0,
           0,
           0,
           0,
           0,
           0,
           0,
           0,
           0,
           0,
           0,
           0,
           0,
           0,
           0,
           0,
           0,
           0,
           0,
           0,
           0,
           0,
           0,
           0,
           0,
           0,
           0,
           0,
           0,
           0,
           0,
           0,
           0,
           0,
           0,
           0,
           0,
           0,
           0,
           0,
           0,
           0,
           0,
           0,
           0,
           0,
           0,
           0,
           0,
           0,
           0,
           0,
           0,
           0,
           0,
           0,
           0,
           0,
           0,
           0,
           0,
           0,
           0,
           0,
           0,
           0,
           0,
           0,
           0,
           0,
           0,
           0,
           0,
           0,
           0,
           0,
           0,
           0,
           0,
           0,
           0,
           0,
           0,
           0,
           0
          ],
          "coloraxis": "coloraxis",
          "symbol": "circle"
         },
         "mode": "markers",
         "name": "0",
         "scene": "scene",
         "showlegend": true,
         "type": "scatter3d",
         "x": [
          -0.3287059722233517,
          -0.31205279462276225,
          2.2930928598941662,
          -0.4044305681620737,
          -0.22434162649985753,
          -0.3216499566578911,
          -0.2814596104502942,
          -0.25247614935735474,
          -0.3283656595422823,
          -0.32095054577648724,
          -0.32720397633182624,
          -0.328701905868518,
          -0.328686195531442,
          0.7115554759228052,
          -0.39302123660438076,
          -0.3708599816884251,
          -0.2530152367741127,
          -0.3267650644341993,
          -0.3440832655608874,
          -0.4043253646392208,
          -0.40112644763684524,
          -0.028683905928604023,
          -0.2849605913726319,
          -0.28826662329869046,
          -0.29240548630086655,
          -0.29302710218003325,
          -0.35169629281486264,
          -0.32300828872771564,
          -0.3271079853224865,
          0.029094148571970253,
          -0.363950917504863,
          -0.40469686378305386,
          -0.25173251452061096,
          -0.32570656449584345,
          -0.4046084597717974,
          -0.30394119227031774,
          -0.327383350539689,
          -0.24837584505324908,
          -0.4045730272363216,
          -0.25220108657171925,
          -0.2928081744704209,
          -0.3198047785666778,
          0.09740451210702386,
          -0.3608126876951498,
          -0.3208618343214642,
          -0.39244340690640933,
          -0.28824710850998686,
          -0.293102263582699,
          -0.2828998435055469,
          -0.32868805785308086,
          -0.2930545201909593,
          -0.3643950821912075,
          -0.3284224368609131,
          -0.40467841029897905,
          -0.37255154579912964,
          -0.4110579497518323,
          -0.2204549695769596,
          -0.2866488906813188,
          -0.2925761018840569,
          -0.3142012709591996,
          -0.2549194082740707,
          -0.0782836313542743,
          -0.3216208983352896,
          -0.08211439970573235,
          -0.3216846791141111,
          -0.24504277707446057,
          -0.3282981541368784,
          -0.28651651272758333,
          -0.40184540038744104,
          0.8650601845023824,
          -0.321484555360059,
          -0.019001045092507947,
          -0.3705433016111883,
          -0.40252250390280847,
          -0.32022696094159075,
          -0.3178935530755563,
          -0.36628457893905797,
          -0.4034130312618224,
          -0.3653955499308993,
          -0.3045921698851779,
          -0.32833618567327216,
          -0.3267759651392156,
          -0.2516049963411117,
          -0.3518896589170969,
          -0.4041521784834704,
          -0.32754058679137654,
          -0.3216655150487024,
          -0.4046675738445886,
          -0.32852546570924646,
          -0.3286822964488811,
          -0.28650892650016585,
          -0.19801323462818668,
          0.024166351610278736,
          -0.36950068473191633,
          -0.32829682119930104,
          -0.39082401896271507,
          -0.36883039857589806,
          -0.2530367604320077,
          -0.41891300809360954,
          -0.3685762424210732,
          -0.290219405273675,
          3.7029547286074966,
          -0.4042601602835397,
          0.8380434237458237,
          -0.4046225157324318,
          -0.36996429924276614,
          -0.3282239527752533,
          -0.3283780875154615,
          -0.3705433016111883,
          -0.4041971091453161,
          -0.32152833171193873,
          -0.32822475869718837,
          -0.4121034757219456,
          -0.3283720726985619,
          -0.323956358771466,
          -0.40465146730658313,
          -0.3275820464926375,
          0.3548065846299329,
          -0.32857135042795765,
          -0.32864197804448336,
          -0.37440638347193245,
          -0.3509888740095257,
          -0.3248659950475376,
          -0.32164195123316913,
          -0.4045614490534057,
          -0.3284197882758545,
          -0.32854659565358163,
          -0.2881530051688877,
          -0.24322529841699028,
          -0.2528046822422704,
          -0.3094058940865495,
          -0.2878946454814034,
          -0.40382673673186603,
          -0.4254257394025693,
          -0.40256618259757443,
          -0.36879037372637663,
          -0.40372471931595033,
          -0.36319192323624,
          -0.39966446570622804,
          -0.3284899454800551,
          -0.3284890418755134,
          -0.32160491515554007,
          0.25165412005629956,
          -0.40420350819055384,
          -0.2707868230880762,
          -0.3705774354144395,
          -0.32770031637049185,
          0.8795232107785936,
          -0.28014887450556264,
          -0.36417421642491987,
          0.5817237543154529,
          -0.3678197856170204,
          -0.3663220369582613,
          -0.45210780036933,
          -0.2927396591287332,
          0.13643629319044423,
          -0.29281050576883216,
          -0.3463500991060976,
          -0.45161315794786266,
          -0.4044760221773127,
          -0.288227616704268,
          -0.3704434336964342,
          -0.3281251441627846,
          -0.3286249127023771,
          -0.2823951855392547,
          0.635417844140401,
          -0.4044166829351043,
          -0.3466952424378889,
          -0.32858042292865025,
          -0.3465708931993256,
          0.4401217622657633,
          -0.3199887894689347,
          -0.35258595762030437,
          -0.4014256612339591,
          -0.3285307417644998,
          -0.41297442364175524,
          -0.3969498460855177,
          -0.3284013439920483,
          -0.10799399153240574,
          -0.4032089931053745,
          3.707810898032023,
          0.19152215139327683,
          -0.289482091399757,
          -0.32586154468943124,
          -0.32745624484926783,
          -0.374292332205067,
          0.08598726079695376,
          -0.32753896989024084,
          -0.40379078060949875,
          -0.3734565879108103,
          -0.31510700754105686,
          -0.32864702564864884,
          -0.3643670256683622,
          -0.36567730616897953,
          -0.2870009164699985,
          -0.2667131340145775,
          -0.3241936156924004,
          -0.2445982219176387,
          -0.3874682161952743,
          -0.40449305276275876,
          -0.17860743249496464,
          -0.28738703894524936,
          -0.35602347281774976,
          -0.36741861716704194,
          -0.32867436705394604,
          -0.32865606992775503,
          -0.281769019732138,
          -0.38093433705971164,
          -0.37003794067511453,
          -0.32837253162147584,
          3.9007988774736533,
          -0.41164372286137724,
          -0.37022653191936067,
          -0.3421887541999344,
          -0.27522804175005927,
          0.005481741102152347,
          -0.28792200834293474,
          -0.1318451677704101,
          -0.28817359544863813,
          -0.3555668969621872,
          -0.3278463741763114,
          -0.21413589072572745,
          2.2509562834356767,
          -0.36999630521292787,
          -0.28027775565815755,
          1.0020381210969225,
          -0.3816525351353951,
          -0.3744057429836532,
          -0.41465945875689336,
          -0.1688033349410386,
          -0.3866259581475415,
          -0.3731254872439091,
          -0.32154506363981666,
          -0.3639444014920072,
          -0.4039665720808125,
          -0.2854189388628744,
          -0.3693255237793872,
          -0.3453335998075439,
          -0.3638053355779757,
          -0.1880599067404685,
          -0.16146530503868872,
          -0.1384735837787262,
          0.9288912597090403,
          -0.15452056400457514,
          -0.41395413579640805,
          -0.28738167296907213,
          -0.3283766171549926,
          -0.4144102666934614,
          -0.37452270569256607,
          0.5782282862054935,
          -0.36442130545383417,
          -0.3278592238704237,
          -0.1730627048166704,
          -0.31026709317914813,
          -0.4015287981415036,
          -0.40419384804878555,
          3.7200473183279965,
          0.10658637375720065,
          -0.40173623829955046,
          -0.32724381061758545,
          -0.32806988917704577,
          -0.28149209982044754,
          -0.3285884230473273,
          -0.3958236576514847,
          -0.2422389804447004,
          -0.10151717280378705,
          -0.39156966149458844,
          -0.32786724128635886,
          -0.3209332583373118,
          -0.4007634580264999,
          -0.3263060623738252,
          -0.37081880981558846,
          -0.3929621751398398,
          -0.3201653754817035,
          3.703346616288789,
          -0.09551243434489533,
          -0.3235017273723547,
          -0.3513217840785035,
          -0.2932095178759601,
          3.7132031114554285,
          3.714446053910147,
          -0.26239462298960625,
          -0.4899753935282092,
          -0.3707547425110883,
          -0.3794363285496449,
          2.4559649352331214,
          -0.3267499989405511,
          -0.2885702373738874
         ],
         "y": [
          1.0432918553091917,
          1.0434222239662945,
          1.648017371916866,
          1.2081903048271496,
          1.7044406753956665,
          0.8415298519672578,
          0.6259628576542408,
          1.863547677907112,
          1.043290254306834,
          1.0435317623679363,
          1.043338318209588,
          1.0432916194911301,
          1.0432917438386407,
          0.5244092051922374,
          0.9300544625473248,
          1.5544956008817912,
          0.30877485896910895,
          1.0432651025703583,
          0.9932558884710834,
          1.2081935592019672,
          2.044532631341602,
          0.8357556466803155,
          0.840930969564313,
          0.8277139900007979,
          1.795260827833851,
          1.7952415987148105,
          0.5374225680282516,
          1.0431643325489979,
          1.0432704066720153,
          1.0543600750329978,
          0.9926413008180108,
          1.208197978538136,
          0.16625265999932348,
          1.6341985690933987,
          1.2081934812105612,
          1.0429006914700985,
          1.0432604419510896,
          0.33705977687285565,
          1.2081978320203195,
          0.1663104926325488,
          1.7952483710433988,
          1.042843930815962,
          0.9955354357596671,
          1.5044602755956882,
          0.8415209611699469,
          0.930075505124555,
          0.8277262962594288,
          1.7952305943677598,
          0.8275300716080644,
          1.0432924095042366,
          1.7952335178155703,
          0.9926130954931566,
          1.0432861607505748,
          1.2081985501030736,
          2.2809934270147525,
          1.897414015517615,
          0.7846383002039176,
          0.8277034081857915,
          1.7952193862560675,
          0.8410529074835154,
          1.8637062234293842,
          0.9068793036670605,
          0.8415307508599069,
          1.1989738266405952,
          0.8415370955201656,
          1.5529667798426814,
          1.0432740932771496,
          0.8276199488569782,
          1.208008449146885,
          0.7917985966805836,
          0.8415219495585831,
          0.5291878786714108,
          1.554490931594256,
          1.2082109954858564,
          0.8414286917021613,
          0.8412822456474701,
          1.549151180788572,
          1.2081371582479288,
          1.5149195944257363,
          1.0425912441472682,
          1.0432712291653443,
          1.0432792308632788,
          1.5795611816867183,
          0.9925392132755995,
          1.2081786648626232,
          1.043262810739497,
          0.8415300939574725,
          1.2081967154944453,
          1.0432822503725112,
          1.0432925877280095,
          0.8277800653311359,
          0.4231503631170055,
          1.9077463239807115,
          1.5544841271545031,
          1.043304512052516,
          1.2075422108156033,
          1.5545294532614988,
          1.5796597380592026,
          1.9439838880129603,
          1.5543485405497866,
          1.9070576834702293,
          1.9004467905475537,
          1.2081897900406042,
          1.8296154480000801,
          1.2081974921361949,
          1.5544871442588921,
          1.0432788911593032,
          1.0432716206111463,
          1.554490931594256,
          1.2081700422255341,
          0.8415350608734172,
          1.0432828731713106,
          0.5411789669336725,
          1.0432819325213953,
          1.0429681744211112,
          1.2081957671858503,
          1.043222471381614,
          0.8241013540304173,
          1.0432866171691846,
          1.0432914367143273,
          1.4443635781287087,
          0.6094709167630266,
          1.043049004116944,
          0.8415308228825676,
          1.2081954026796946,
          1.0432862426821328,
          1.0432809216807446,
          0.8276894271455383,
          0.2267317725369584,
          1.579658220003348,
          1.0431656108023655,
          0.8277122996163838,
          1.208152568365076,
          1.8675652808681997,
          1.2081843297068908,
          1.5544798523115337,
          1.2081557241805894,
          1.5544434953357698,
          1.2079920144894412,
          1.0432831957365571,
          1.0432778802219336,
          1.0427882452359811,
          0.5882176735557343,
          1.2081843097731852,
          0.8268198646029021,
          1.5544826429481187,
          1.043247020528766,
          1.8337234564056883,
          0.6258677291453877,
          1.5149092774863107,
          2.0710057801130297,
          1.5491615525582951,
          1.5491283238145859,
          1.9324919936674547,
          1.7952287922584687,
          1.0215168654951694,
          1.7952346303436886,
          1.515605648682167,
          1.9325072949786402,
          1.208197934424969,
          0.827714309977916,
          1.5544639327099954,
          1.0432749232684275,
          1.0432913250875409,
          1.7051829442448856,
          1.406024652736743,
          1.2081871179798853,
          0.5372906877712197,
          1.0432843595687529,
          0.6655523935360431,
          1.0489929682338905,
          0.8415248232204358,
          1.5487721000751888,
          1.8502935206760214,
          1.043282087162564,
          1.659853822266413,
          1.3968174696756082,
          1.0432905827479035,
          0.6248284256362401,
          1.208139853607733,
          1.9003257836549718,
          1.5447732724673309,
          1.7951993726722193,
          1.0432279573946104,
          1.333580231125854,
          1.4443634898263358,
          1.019956270790475,
          1.0432194642680555,
          1.2081898443755223,
          1.4443170153308422,
          1.0430615795500253,
          1.0432907856987226,
          0.9926132401212326,
          1.514917026389961,
          -0.07774532074895965,
          0.42008962371147934,
          1.043263641207687,
          1.5793439649610415,
          0.9519900353064814,
          1.2081862020986995,
          1.4968616311054888,
          0.8276632156484234,
          1.6080753146971818,
          1.5491450313450776,
          1.0432906631921544,
          1.043289782647402,
          0.827565052607877,
          1.606894671210528,
          1.5544573817855865,
          1.043280471775408,
          1.7970065618933715,
          1.6598949862787413,
          1.5544573340863326,
          0.6141472663193779,
          1.0412415679252802,
          1.0733254354932698,
          0.8277175477907955,
          1.0420041612908075,
          0.8276967462270013,
          1.9103927918125674,
          1.0432576911351261,
          1.648104633166725,
          0.30722310904000805,
          1.4440407203622,
          0.6259359410595348,
          1.7010414759200114,
          0.8297164508916371,
          1.4443592582927482,
          1.6599426266194173,
          0.8192123013694159,
          0.8811098304297128,
          1.4443417231236002,
          1.0427900966879133,
          0.9926017222701794,
          1.2081844064270377,
          0.8276257316509373,
          1.554391180223852,
          0.8953107143848045,
          0.9925734767805184,
          1.0346236661792505,
          2.1343951923206412,
          1.2812932507316244,
          1.2444379363645688,
          0.9991198373759682,
          1.6599291138891508,
          -0.0777210901320948,
          1.043286854866483,
          1.6599402924780688,
          1.4443611587450829,
          1.0172460816131808,
          0.99261250128294,
          1.0432572936415834,
          1.49671491127025,
          1.9082500532514615,
          1.2079922050546958,
          1.2081918413489745,
          1.9003426687255927,
          1.0314426077215,
          1.2082895635046151,
          1.0431924310097012,
          1.0432722899028573,
          0.6259557047893585,
          1.0432954916158828,
          1.2081108263759655,
          1.0383722471560115,
          0.8482179482571286,
          1.207880782452093,
          1.0433069515922697,
          1.043242987213732,
          1.2081692144120293,
          1.0432503703870166,
          1.5544903650227246,
          0.6437608095655677,
          0.8415157443194708,
          1.9004336576355334,
          0.8264492285120714,
          1.043235861453148,
          0.5373933617558979,
          1.7952358690590144,
          1.900854224255197,
          1.9008926735439349,
          0.6258383817370228,
          3.0469207826486566,
          1.5544926115035524,
          1.7447188860145857,
          0.8251373345247791,
          1.0431715428819008,
          0.8277155772885634
         ],
         "z": [
          -0.5041681452640789,
          -0.5046603123145783,
          -0.5554384930166291,
          -0.41321568663922426,
          -0.2257098007180746,
          -0.2900587879648847,
          -0.050809974516315026,
          -0.5262210469409472,
          -0.5041774777455146,
          -0.5044278128834929,
          -0.5042184351781887,
          -0.504168219938381,
          -0.5041686844719587,
          -0.16735031835174347,
          -0.352479610850858,
          -0.16915681059151697,
          -0.32282747049511207,
          -0.5042183754605895,
          -0.17464330653145835,
          -0.41321920906935217,
          -0.609736523214612,
          -0.2736178636080698,
          -0.29099245980361765,
          -0.26492451128990463,
          -0.5075002157134006,
          -0.5074794027363941,
          -0.23915324759322054,
          -0.5043072715564698,
          -0.5042095989193818,
          -0.5161480285647938,
          -0.1739780967179006,
          -0.4132094755464612,
          0.08612435173307599,
          -0.24029228636724687,
          -0.41321120600156114,
          -0.5048005824602873,
          -0.5042001332028915,
          -0.41489292651120474,
          -0.4132129456827797,
          0.08612774433000836,
          -0.5074867328859913,
          -0.5043432139419609,
          0.23563086090535962,
          -0.06925178917805326,
          -0.29007951968745804,
          -0.3524994963482714,
          -0.26492715420353163,
          -0.5074754106391958,
          -0.26504471083300274,
          -0.5041687450791854,
          -0.5074772551092245,
          -0.17396076593983442,
          -0.5041751793841901,
          -0.41321009352999005,
          -0.5773599632586378,
          -0.5360504973505152,
          -0.06590518555644417,
          -0.2649683696624302,
          -0.5074883550739651,
          -0.2901879288411737,
          -0.526179044521784,
          -0.4141925490264247,
          -0.2900597608972379,
          -0.4207455694416664,
          -0.2900590394438937,
          -0.4503440462920967,
          -0.504176635470374,
          -0.26495791712519,
          -0.41325773127588594,
          -0.29136905569434324,
          -0.29006211263174364,
          -0.14754419009174802,
          -0.16916495445961213,
          -0.4132730555876898,
          -0.29008175132202874,
          -0.2901227104001015,
          -0.44627355508083816,
          -0.4132353693604862,
          -0.08449704868621596,
          -0.5047296017591619,
          -0.5041750751860662,
          -0.5042204697142287,
          -0.26824607067998507,
          -0.17430114668087227,
          -0.41322156477342953,
          -0.5041960982258985,
          -0.2900583899995712,
          -0.41321008747200444,
          -0.5041716068050494,
          -0.5041689379828372,
          -0.26498535210904856,
          -0.3134188626751581,
          -0.6477802597260522,
          -0.16919322348978916,
          -0.5041818444863146,
          -0.4134895246483527,
          -0.16921984675401408,
          -0.2682224171732911,
          -0.5151549797126879,
          -0.16919626343885816,
          -0.6387902605551341,
          -0.10746055750029454,
          -0.4132204085525126,
          -0.5452454508611532,
          -0.4132114911837799,
          -0.16918065180124625,
          -0.5041795453315134,
          -0.5041739591366022,
          -0.16916495445961213,
          -0.4132188307867202,
          -0.2900631061411695,
          -0.5041801995547562,
          -0.22941288127398787,
          -0.5041758819871826,
          -0.5042471659251843,
          -0.41321038082883,
          -0.5041880701444663,
          -0.28245982764880184,
          -0.504171054183035,
          -0.5041698802112059,
          -0.19451702422649642,
          -0.30558152385244647,
          -0.5042352348048662,
          -0.29005917896453715,
          -0.4132128594501982,
          -0.5041752680642606,
          -0.5041707845669904,
          -0.2649235420897467,
          -0.3728939124409367,
          -0.2682287090484696,
          -0.5046913899632512,
          -0.26493472226257164,
          -0.41322631315292174,
          -0.6041634286171691,
          -0.41326728947985647,
          -0.16921254388238208,
          -0.4132297289056446,
          -0.1693643683128859,
          -0.4133164899071305,
          -0.5041727700125802,
          -0.5041718918418264,
          -0.5042829416698257,
          -0.059439136077151185,
          -0.41322107576517997,
          -0.26526583727462316,
          -0.1691625819739149,
          -0.5041889057276253,
          -0.5530992058462879,
          -0.05083079499918115,
          -0.084529764496526,
          -0.619406479530435,
          -0.4462319901331044,
          -0.4462686120619164,
          -0.7201543227434066,
          -0.5074853380729591,
          -0.5135939850374186,
          -0.5074843310782795,
          -0.16060540950882798,
          -0.720170884388129,
          -0.41321570087111087,
          -0.2649256665733201,
          -0.16916318304510447,
          -0.5041816594440168,
          -0.5041703428699441,
          -0.22419754278218101,
          -0.10714282948030295,
          -0.4132155367372429,
          -0.23927197196890318,
          -0.5041704143221181,
          -0.04901932491584132,
          -0.52683603814645,
          -0.2901048162525298,
          -0.4465957257159694,
          -0.47862812631835694,
          -0.5041714301518777,
          -0.4337985760572501,
          -0.22728680714062865,
          -0.5041765264586133,
          -0.05551284267615844,
          -0.4132415861693358,
          -0.10757704143835996,
          -0.4612722897386803,
          -0.5075722750497804,
          -0.504237560615911,
          -0.20698562905701112,
          -0.19452022808936661,
          -0.5119048477640621,
          -0.5041887746681404,
          -0.4132336651168946,
          -0.19453591436750953,
          -0.5045128011276689,
          -0.5041696270753792,
          -0.17396158236829112,
          -0.0844886600818259,
          0.12717361320301246,
          -0.21449999103384512,
          -0.5042907011513873,
          -0.26840689493674985,
          -0.38239904361250154,
          -0.4132132256416435,
          -0.319823297246672,
          -0.26494070386374424,
          -0.05644061696761022,
          -0.4462405036138924,
          -0.5041688345905273,
          -0.5041692012927469,
          -0.2650825731366912,
          -0.08117309295358195,
          -0.16917351359464092,
          -0.5041756206983358,
          -0.19977235120933676,
          -0.43384313065386343,
          -0.16916818286490098,
          -0.05341104943067723,
          -0.5053288930486207,
          0.02748131076441979,
          -0.2649348422240434,
          -0.509505241397701,
          -0.2649242052622733,
          -0.6375129457270243,
          -0.5041865976053749,
          -0.28694109063488454,
          -0.4413442293864145,
          -0.19458660210429085,
          -0.050838754063792777,
          -0.09820181911517119,
          -0.292680741127709,
          -0.19451630790186686,
          -0.4337661165603059,
          -0.26685078568307424,
          -0.2882703315889061,
          -0.19454945952986705,
          -0.5042849456215623,
          -0.17397155200038103,
          -0.4132277792571972,
          -0.2649898771236182,
          -0.16918236546324564,
          -0.37679221390319056,
          -0.17397067494175428,
          -0.5066639560790918,
          -0.35499769869227915,
          -0.08057265362678384,
          0.089155314646249,
          -0.18099025531611368,
          -0.43378372567207846,
          0.10300810985935814,
          -0.5041765905605178,
          -0.43377275270121396,
          -0.19451332994689582,
          -0.5253366415735837,
          -0.1739599248195894,
          -0.5041861673712109,
          -0.3199548430271653,
          -0.6384271644925651,
          -0.41326390515271416,
          -0.4132226288223988,
          -0.10792526114366849,
          -0.5144389721282178,
          -0.4133086034944645,
          -0.5041925091280094,
          -0.5041827712185123,
          -0.05080784153199075,
          -0.504172081057224,
          -0.41344508805336405,
          -0.5057721412240471,
          -0.2974086283781963,
          -0.4135260397952376,
          -0.5041943832808206,
          -0.5043792070696095,
          -0.4133155981679007,
          -0.5042288253294968,
          -0.16915708245618513,
          -0.04960982416441436,
          -0.290098288982041,
          -0.10746938508345186,
          -0.2701496048838402,
          -0.5043055056065306,
          -0.23915885211015905,
          -0.5074732803286546,
          -0.10781906461544243,
          -0.10786068088297582,
          -0.05132688491115815,
          -1.575287912658465,
          -0.16915927254791777,
          -0.3135938534149701,
          -0.06105983437814522,
          -0.5042028948785922,
          -0.26491621222358125
         ]
        },
        {
         "customdata": [
          [
           "SHA-256",
           17927175,
           "21000000"
          ],
          [
           "Ethash",
           107684222.6865,
           "0"
          ],
          [
           "Scrypt",
           63039243.3000049,
           "84000000"
          ],
          [
           "CryptoNight-V7",
           17201143.1449131,
           "0"
          ],
          [
           "Ethash",
           113359703,
           "210000000"
          ],
          [
           "Equihash",
           7383056.25,
           "21000000"
          ],
          [
           "Multiple",
           11406219141,
           "21000000000"
          ],
          [
           "Scrypt",
           5768310,
           "21000000"
          ],
          [
           "X11",
           11149733.9976203,
           "20000000"
          ],
          [
           "Scrypt",
           12205795.4449549,
           "64000000"
          ],
          [
           "Multiple",
           1688254250,
           "2000000000"
          ],
          [
           "Scrypt",
           88,
           "384000000000"
          ],
          [
           "SHA-256",
           170204389.754849,
           "169795588"
          ],
          [
           "Scrypt",
           128940951.183046,
           "250000000"
          ],
          [
           "Scrypt",
           7357794.7925,
           "100000000"
          ],
          [
           "Quark",
           259557164.91477,
           "247000000"
          ],
          [
           "Groestl",
           49548585.1412917,
           "84000000"
          ],
          [
           "Scrypt",
           33442988.3440364,
           "48166000"
          ],
          [
           "Scrypt",
           7219956.64626131,
           "21000000 "
          ],
          [
           "Scrypt",
           4703879.51824446,
           "13140000"
          ],
          [
           "X11",
           4996986.20575291,
           "18000000"
          ],
          [
           "Multiple",
           15929530669.1206,
           "16555000000"
          ],
          [
           "SHA-256",
           18773857500,
           "21000000000"
          ],
          [
           "Scrypt",
           12539015186.822,
           "13500000000"
          ],
          [
           "Scrypt",
           20910478.8062499,
           "21000000 "
          ],
          [
           "Scrypt",
           218871896.499999,
           "299792458"
          ],
          [
           "Scrypt",
           19496786.31025,
           "32000000"
          ],
          [
           "Scrypt",
           1142732.14912776,
           "11235813"
          ],
          [
           "NeoScrypt",
           208669093.00773,
           "336000000"
          ],
          [
           "Scrypt",
           884125802,
           "1420609614"
          ],
          [
           "Scrypt",
           65672720.4708748,
           "70000000"
          ],
          [
           "Scrypt",
           41658647.9999715,
           "72245700"
          ],
          [
           "Scrypt",
           90595753018.6314,
           "90600000000"
          ],
          [
           "SHA-256",
           21089348.999,
           "21000000"
          ],
          [
           "Scrypt",
           151447649.8,
           "265420800"
          ],
          [
           "Scrypt",
           19326319.14375,
           "20000000"
          ],
          [
           "Scrypt",
           1104344.22938102,
           "1350000"
          ],
          [
           "Scrypt",
           38151999.9930997,
           "42000000"
          ],
          [
           "HybridScryptHash256",
           40431856.9,
           "200000000"
          ],
          [
           "Scrypt",
           5804204.88794916,
           "10000000"
          ],
          [
           "Scrypt",
           2366066305.76482,
           "15000000000"
          ],
          [
           "SHA-256",
           14736400,
           "21000000"
          ],
          [
           "Scrypt",
           334709223.483138,
           "337000000"
          ],
          [
           "Scrypt",
           1104157.42169891,
           "21000000"
          ],
          [
           "Scrypt",
           24215181.725,
           "250000000"
          ],
          [
           "Scrypt",
           25593737.1355044,
           "51200000"
          ],
          [
           "SHA-256",
           563336541.299966,
           "888000000"
          ],
          [
           "SHA-256",
           43536800,
           "47011968"
          ],
          [
           "SHA-256",
           22935396,
           "42000000"
          ],
          [
           "SHA-256",
           2278150,
           "80000000"
          ],
          [
           "SHA-256",
           200911.79151896,
           "250000"
          ],
          [
           "X11",
           1207310,
           "0"
          ],
          [
           "Scrypt",
           23150892.1679687,
           "23000000"
          ],
          [
           "Lyra2REv2",
           51173723.8166347,
           "84000000"
          ],
          [
           "Scrypt",
           119606941,
           "265420800"
          ],
          [
           "SHA-256",
           39195739.362088,
           "45000000"
          ],
          [
           "CryptoNight",
           184066828814,
           "184467440735"
          ],
          [
           "CryptoNight",
           6906587610.38292,
           "10000000000"
          ],
          [
           "Scrypt",
           68194674.8711679,
           "105120000"
          ],
          [
           "Scrypt",
           415032420,
           "1680000000"
          ],
          [
           "Scrypt",
           137517654.41397,
           "166386000"
          ],
          [
           "Scrypt",
           181919.2435974,
           "2628000"
          ],
          [
           "Scrypt",
           152270664.860648,
           "160000000"
          ],
          [
           "Scrypt",
           792537250,
           "1000000000"
          ],
          [
           "Stanford Folding",
           719416990,
           "1000000000"
          ],
          [
           "Multiple",
           65113302,
           "0"
          ],
          [
           "QuBit",
           6365285,
           "0"
          ],
          [
           "Scrypt",
           10140044.4430293,
           "3371337"
          ],
          [
           "Scrypt",
           4610340640.89,
           "10000000000"
          ],
          [
           "M7 POW",
           708506520,
           "1840000000"
          ],
          [
           "Scrypt",
           619478,
           "619478"
          ],
          [
           "SHA-256",
           12462620,
           "21000000"
          ],
          [
           "Scrypt",
           88213,
           "92000000000"
          ],
          [
           "X11",
           32221574.820996,
           "33000000"
          ],
          [
           "Lyra2RE",
           13742738,
           "65789100"
          ],
          [
           "SHA-256",
           14747200.0002,
           "53760000"
          ],
          [
           "X11",
           15863837.5,
           "21000000"
          ],
          [
           "Scrypt",
           32565300,
           "210240000"
          ],
          [
           "Scrypt",
           75614500,
           "250000000"
          ],
          [
           "Ethash",
           10495278,
           "16906397"
          ],
          [
           "Blake2b",
           33098296530,
           "0"
          ],
          [
           "X11",
           15867695,
           "16000000"
          ],
          [
           "SHA-256",
           20997476.8650231,
           "21000000"
          ],
          [
           "Scrypt",
           210000000,
           "210000000"
          ],
          [
           "1GB AES Pattern Search",
           11448949,
           "81962100"
          ],
          [
           "Scrypt",
           69836100,
           "84000000"
          ],
          [
           "SHA-256",
           21739971929,
           "21626280000 "
          ],
          [
           "X11",
           45110324,
           "84000000"
          ],
          [
           "Dagger",
           5702048,
           "30000000"
          ],
          [
           "Scrypt",
           636462.55983338,
           "168351300"
          ],
          [
           "X11GOST",
           17263355,
           "24000000"
          ],
          [
           "Scrypt",
           6570807.65677618,
           "20000000"
          ],
          [
           "X11",
           13654082.4987998,
           "25000000"
          ],
          [
           "Scrypt",
           616448,
           "616448"
          ],
          [
           "X11",
           1377917,
           "25000000"
          ],
          [
           "Equihash",
           115898131,
           "200000000"
          ],
          [
           "CryptoNight",
           7822432.72439746,
           "10000000"
          ],
          [
           "SHA-256",
           6243840,
           "9736000"
          ],
          [
           "Multiple",
           1000000000,
           "1200000000"
          ],
          [
           "Scrypt",
           116845228,
           "200000000"
          ],
          [
           "SHA-256",
           9106714,
           "10638298"
          ],
          [
           "Scrypt",
           11119200,
           "30000000"
          ],
          [
           "Lyra2Z",
           7568281.24956067,
           "21400000"
          ],
          [
           "Ethash",
           26205539,
           "26205539"
          ],
          [
           "Equihash",
           5613550,
           "21000000"
          ],
          [
           "Scrypt",
           196297971,
           "10000000000"
          ],
          [
           "X11",
           824000000,
           "500000000"
          ],
          [
           "X11",
           61364813,
           "228000000"
          ],
          [
           "CryptoNight",
           978145,
           "21000000"
          ],
          [
           "Scrypt",
           894026,
           "2714286"
          ],
          [
           "CryptoNight",
           9357088,
           "25000000"
          ],
          [
           "Lyra2RE",
           1876146.443596,
           "9999999"
          ],
          [
           "X11",
           536982074,
           "100000000000"
          ],
          [
           "CryptoNight-V7",
           10969318.522954,
           "185000000"
          ],
          [
           "Scrypt",
           3115258,
           "3360000"
          ],
          [
           "X11",
           30385540,
           "1000000000"
          ],
          [
           "Equihash",
           6921653.89980891,
           "17000000"
          ],
          [
           "Scrypt",
           99843408.3158479,
           "100000000 "
          ],
          [
           "Lyra2RE",
           18545757.5,
           "21000000"
          ],
          [
           "Dagger-Hashimoto",
           2232901,
           "2232901"
          ],
          [
           "Scrypt",
           64096052,
           "4000000000"
          ],
          [
           "NIST5",
           10123200,
           "48252000"
          ],
          [
           "Scrypt",
           20276099.146524,
           "35520400"
          ],
          [
           "SHA-256",
           1317747500,
           "2500000000"
          ],
          [
           "Scrypt",
           13673406.4325268,
           "72000000"
          ],
          [
           "CryptoNight-V7",
           69036016.8340164,
           "105000000"
          ],
          [
           "Argon2d",
           19784224.6512734,
           "0"
          ],
          [
           "Blake2b",
           133248297,
           "340282367"
          ],
          [
           "Cloverhash",
           18407259.0885883,
           "30000000"
          ],
          [
           "CryptoNight",
           1809467143,
           "2000000000"
          ],
          [
           "X11",
           35138975,
           "100000000"
          ],
          [
           "Scrypt",
           18133195,
           "19276800"
          ],
          [
           "Scrypt",
           5167775,
           " 75000000"
          ],
          [
           "X11",
           26042364.3735553,
           "60000000"
          ],
          [
           "X11",
           2622886,
           "18900000"
          ],
          [
           "CryptoNight",
           14161803,
           "54000000"
          ],
          [
           "Time Travel",
           17801865.1605478,
           "21000000"
          ],
          [
           "Scrypt",
           163055097500,
           "200000000000"
          ],
          [
           "Keccak",
           2241009149.22257,
           "5000000000"
          ],
          [
           "X11",
           122475638.389743,
           "1100000000"
          ],
          [
           "SHA-256",
           17995589.6469082,
           "21000000"
          ],
          [
           "Scrypt",
           485214,
           "10500000000"
          ],
          [
           "Scrypt",
           143006669741.687,
           "0"
          ],
          [
           "Scrypt",
           9704042,
           "20000000"
          ],
          [
           "Scrypt",
           17453749.4042601,
           "84000000"
          ],
          [
           "Scrypt",
           32646731.063036,
           "100000000"
          ],
          [
           "Scrypt",
           33716526,
           "100000000"
          ],
          [
           "CryptoNight",
           8946653,
           "88888888"
          ],
          [
           "Equihash",
           5211553258.01514,
           "21000000000"
          ],
          [
           "X11",
           2702855668.85288,
           "1800000000"
          ],
          [
           "NeoScrypt",
           4165967.57499639,
           "27000000"
          ],
          [
           "Equihash",
           17202361.088994,
           "21000000"
          ],
          [
           "Dagger",
           33986980,
           "156306732.71"
          ],
          [
           "Scrypt",
           99990001.493466,
           "100000000"
          ],
          [
           "X11",
           175215859,
           "350000000"
          ],
          [
           "NeoScrypt",
           6375259.04,
           "45000000"
          ],
          [
           "Ethash",
           12756367,
           "280000000"
          ],
          [
           "NeoScrypt",
           5832306.875,
           "31800000"
          ],
          [
           "Multiple",
           481730566.566176,
           "660000000"
          ],
          [
           "CryptoNight",
           19281821413.4924,
           "85000000000"
          ],
          [
           "CryptoNight",
           4500000,
           "12500000"
          ],
          [
           "Ethash",
           520891780,
           "10000000000"
          ],
          [
           "X11",
           80316207,
           "550000000"
          ],
          [
           "CryptoNight-V7",
           441250233.377,
           "999481516"
          ],
          [
           "Scrypt",
           3964201248.87125,
           "4999999999"
          ],
          [
           "BLAKE256",
           30089671530.5228,
           " 90000000000"
          ],
          [
           "X11",
           4229040.50393462,
           "19800000"
          ],
          [
           "NeoScrypt",
           7847417.33355824,
           "21000000"
          ],
          [
           "NeoScrypt",
           299797953,
           "500000000"
          ],
          [
           "Scrypt",
           45483049.3398182,
           "64000000"
          ],
          [
           "X11",
           8478104.33969947,
           "23000000"
          ],
          [
           "SHA-256",
           20166000,
           "20166000"
          ],
          [
           "C11",
           11916588.09471,
           "23000000"
          ],
          [
           "CryptoNight",
           53139835213.77,
           "1000000000000"
          ],
          [
           "SkunkHash",
           4818338.98949984,
           "16600000"
          ],
          [
           "CryptoNight",
           133932467.774108,
           "336000000"
          ],
          [
           "Scrypt",
           10000000000,
           "10000000000"
          ],
          [
           "Dagger",
           107325266.027783,
           "100000000"
          ],
          [
           "Lyra2REv2",
           643795911.540095,
           "1100000000"
          ],
          [
           "Scrypt",
           12446100.00278,
           "40000000"
          ],
          [
           "Scrypt",
           14491014421,
           "18406979840"
          ],
          [
           "X11",
           211297638.500483,
           "500000000"
          ],
          [
           "Ethash",
           247612453,
           "6500000000"
          ],
          [
           "CryptoNight",
           80049082.9057215,
           "1000000000"
          ],
          [
           "Scrypt",
           4070212.1493016,
           "21000000"
          ],
          [
           "IMesh",
           25000000,
           "25000000"
          ],
          [
           "Equihash",
           71355477,
           "70000000"
          ],
          [
           "Lyra2Z",
           27340501.6514783,
           "300000000"
          ],
          [
           "X11",
           31801461.1867843,
           "100000000"
          ],
          [
           "CryptoNight",
           16016864,
           "18400000"
          ],
          [
           "NIST5",
           21069346.2522598,
           "21000000"
          ],
          [
           "Lyra2RE",
           5097689.71077377,
           "26280000"
          ],
          [
           "Tribus",
           795447,
           "18000000"
          ],
          [
           "Lyra2Z",
           6986399.70430446,
           "10500000"
          ],
          [
           "CryptoNight",
           84300,
           "600000518"
          ],
          [
           "CryptoNight Heavy",
           19153632,
           "150000000"
          ],
          [
           "CryptoNight",
           41294520017,
           "184000000000"
          ],
          [
           "Jump Consistent Hash",
           135862416.039898,
           "168000000"
          ],
          [
           "CryptoNight",
           560085952.404637,
           "1000000000"
          ],
          [
           "X16R",
           8125865.02097646,
           "22075700"
          ],
          [
           "HMQ1725",
           8645406.16776286,
           "21000000"
          ],
          [
           "X11",
           4993030.69736615,
           "21000000"
          ],
          [
           "Scrypt",
           1416663.06600024,
           "22105263"
          ],
          [
           "CryptoNight-V7",
           15580199.3087496,
           "1750000000"
          ],
          [
           "Cryptonight-GPU",
           4890897,
           "88188888"
          ],
          [
           "XEVAN",
           14746153.0962884,
           "210000000"
          ],
          [
           "CryptoNight Heavy",
           99553110528.8022,
           "184470000000"
          ],
          [
           "SHA-256",
           2100000000,
           "2100000000"
          ],
          [
           "X11",
           5015881.37315389,
           "25000000"
          ],
          [
           "X16R",
           9753753.61515394,
           "100000000"
          ],
          [
           "Equihash",
           4235111504,
           "7600000000"
          ],
          [
           "Lyra2Z",
           13634850,
           "84000000"
          ],
          [
           "SHA-256",
           17992514.6469233,
           "21000000"
          ],
          [
           "CryptoNight",
           1867054873.28397,
           "8080000000"
          ],
          [
           "Blake",
           1578281.31341127,
           "105120001.44"
          ],
          [
           "Blake",
           15846721.2482747,
           "25228800"
          ],
          [
           "Exosis",
           406091.925,
           "21000000"
          ],
          [
           "Scrypt",
           35284717.173946,
           "120000000"
          ],
          [
           "Equihash",
           35687520,
           "262800000"
          ],
          [
           "Equihash",
           25150787.5,
           "30886000"
          ],
          [
           "QuBit",
           12925790.4226959,
           "100000000"
          ],
          [
           "SHA-256",
           52293836.6277958,
           "64000000"
          ],
          [
           "X13",
           1170292.5,
           "2100000"
          ],
          [
           "SHA-256",
           84613099.9999955,
           "168000000"
          ],
          [
           "Scrypt",
           55565076.3863525,
           "98100000000"
          ],
          [
           "NeoScrypt",
           3824685012,
           "4000000000"
          ],
          [
           "Blake",
           23356790.1494191,
           "7000000000"
          ],
          [
           "Scrypt",
           780210700,
           "1000000000"
          ],
          [
           "SHA-256",
           22986929.0854247,
           "42000000"
          ],
          [
           "Scrypt",
           29583989322.9213,
           "50000000000"
          ],
          [
           "Groestl",
           73298203.8873662,
           "105000000"
          ],
          [
           "Scrypt",
           5052555.91981545,
           "5000000"
          ],
          [
           "Scrypt",
           69684455.4387001,
           "182000000"
          ],
          [
           "Multiple",
           3332922.5,
           "2800000"
          ],
          [
           "Equihash+Scrypt",
           100000000,
           "2100000000"
          ],
          [
           "Ethash",
           24487944.0958204,
           "24487944"
          ],
          [
           "CryptoNight",
           980222595,
           "1400222610"
          ],
          [
           "Equihash",
           7296537.5,
           "21000000"
          ]
         ],
         "hovertemplate": "<b>%{hovertext}</b><br><br>Class=%{marker.color}<br>PC 1=%{x}<br>PC 2=%{y}<br>PC 3=%{z}<br>Algorithm=%{customdata[0]}<br>TotalCoinsMined=%{customdata[1]}<br>TotalCoinSupply=%{customdata[2]}<extra></extra>",
         "hovertext": [
          "Bitcoin",
          "Ethereum",
          "Litecoin",
          "Monero",
          "Ethereum Classic",
          "ZCash",
          "DigiByte",
          "ProsperCoin",
          "Spreadcoin",
          "Argentum",
          "MyriadCoin",
          "MoonCoin",
          "ZetaCoin",
          "SexCoin",
          "Quatloo",
          "QuarkCoin",
          "Riecoin",
          "Digitalcoin ",
          "Catcoin",
          "CannaCoin",
          "CryptCoin",
          "Verge",
          "DevCoin",
          "EarthCoin",
          "E-Gulden",
          "Einsteinium",
          "Emerald",
          "Franko",
          "FeatherCoin",
          "GrandCoin",
          "GlobalCoin",
          "GoldCoin",
          "Infinite Coin",
          "IXcoin",
          "KrugerCoin",
          "LuckyCoin",
          "Litebar ",
          "MegaCoin",
          "MediterraneanCoin",
          "MinCoin",
          "NobleCoin",
          "Namecoin",
          "NyanCoin",
          "RonPaulCoin",
          "StableCoin",
          "SmartCoin",
          "SysCoin",
          "TigerCoin",
          "TerraCoin",
          "UnbreakableCoin",
          "Unobtanium",
          "UroCoin",
          "ViaCoin",
          "Vertcoin",
          "WorldCoin",
          "JouleCoin",
          "ByteCoin",
          "DigitalNote ",
          "MonaCoin",
          "Gulden",
          "PesetaCoin",
          "Wild Beast Coin",
          "Flo",
          "ArtByte",
          "Folding Coin",
          "Unitus",
          "CypherPunkCoin",
          "OmniCron",
          "GreenCoin",
          "Cryptonite",
          "MasterCoin",
          "SoonCoin",
          "1Credit",
          "MarsCoin ",
          "Crypto",
          "Anarchists Prime",
          "BowsCoin",
          "Song Coin",
          "BitZeny",
          "Expanse",
          "Siacoin",
          "MindCoin",
          "I0coin",
          "Revolution VR",
          "HOdlcoin",
          "Gamecredits",
          "CarpeDiemCoin",
          "Adzcoin",
          "SoilCoin",
          "YoCoin",
          "SibCoin",
          "Francs",
          "BolivarCoin",
          "Omni",
          "PizzaCoin",
          "Komodo",
          "Karbo",
          "ZayedCoin",
          "Circuits of Value",
          "DopeCoin",
          "DollarCoin",
          "Shilling",
          "ZCoin",
          "Elementrem",
          "ZClassic",
          "KiloCoin",
          "ArtexCoin",
          "Kurrent",
          "Cannabis Industry Coin",
          "OsmiumCoin",
          "Bikercoins",
          "HexxCoin",
          "PacCoin",
          "Citadel",
          "BeaverCoin",
          "VaultCoin",
          "Zero",
          "Canada eCoin",
          "Zoin",
          "DubaiCoin",
          "EB3coin",
          "Coinonat",
          "BenjiRolls",
          "ILCoin",
          "EquiTrader",
          "Quantum Resistant Ledger",
          "Dynamic",
          "Nano",
          "ChanCoin",
          "Dinastycoin",
          "DigitalPrice",
          "Unify",
          "SocialCoin",
          "ArcticCoin",
          "DAS",
          "LeviarCoin",
          "Bitcore",
          "gCn Coin",
          "SmartCash",
          "Onix",
          "Bitcoin Cash",
          "Sojourn Coin",
          "NewYorkCoin",
          "FrazCoin",
          "Kronecoin",
          "AdCoin",
          "Linx",
          "Sumokoin",
          "BitcoinZ",
          "Elements",
          "VIVO Coin",
          "Bitcoin Gold",
          "Pirl",
          "eBoost",
          "Pura",
          "Innova",
          "Ellaism",
          "GoByte",
          "SHIELD",
          "UltraNote",
          "BitCoal",
          "DaxxCoin",
          "AC3",
          "Lethean",
          "PopularCoin",
          "Photon",
          "Sucre",
          "SparksPay",
          "GunCoin",
          "IrishCoin",
          "Pioneer Coin",
          "UnitedBitcoin",
          "Interzone",
          "TurtleCoin",
          "MUNcoin",
          "Niobio Cash",
          "ShareChain",
          "Travelflex",
          "KREDS",
          "BitFlip",
          "LottoCoin",
          "Crypto Improvement Fund",
          "Callisto Network",
          "BitTube",
          "Poseidon",
          "Aidos Kuneen",
          "Bitrolium",
          "Alpenschillling",
          "FuturoCoin",
          "Monero Classic",
          "Jumpcoin",
          "Infinex",
          "KEYCO",
          "GINcoin",
          "PlatinCoin",
          "Loki",
          "Newton Coin",
          "MassGrid",
          "PluraCoin",
          "Motion",
          "PlusOneCoin",
          "Axe",
          "HexCoin",
          "Webchain",
          "Ryo",
          "Urals Coin",
          "Qwertycoin",
          "Project Pai",
          "Azart",
          "Xchange",
          "CrypticCoin",
          "Actinium",
          "Bitcoin SV",
          "FREDEnergy",
          "Universal Molecule",
          "Lithium",
          "Exosis",
          "Block-Logic",
          "Beam",
          "Bithereum",
          "SLICE",
          "BLAST",
          "Bitcoin Rhodium",
          "GlobalToken",
          "SolarCoin",
          "UFO Coin",
          "BlakeCoin",
          "Crypto Escudo",
          "Crown Coin",
          "SmileyCoin",
          "Groestlcoin",
          "Bata",
          "Pakcoin",
          "JoinCoin",
          "Vollar",
          "Reality Clash",
          "Beldex",
          "Horizen"
         ],
         "legendgroup": "3",
         "marker": {
          "color": [
           3,
           3,
           3,
           3,
           3,
           3,
           3,
           3,
           3,
           3,
           3,
           3,
           3,
           3,
           3,
           3,
           3,
           3,
           3,
           3,
           3,
           3,
           3,
           3,
           3,
           3,
           3,
           3,
           3,
           3,
           3,
           3,
           3,
           3,
           3,
           3,
           3,
           3,
           3,
           3,
           3,
           3,
           3,
           3,
           3,
           3,
           3,
           3,
           3,
           3,
           3,
           3,
           3,
           3,
           3,
           3,
           3,
           3,
           3,
           3,
           3,
           3,
           3,
           3,
           3,
           3,
           3,
           3,
           3,
           3,
           3,
           3,
           3,
           3,
           3,
           3,
           3,
           3,
           3,
           3,
           3,
           3,
           3,
           3,
           3,
           3,
           3,
           3,
           3,
           3,
           3,
           3,
           3,
           3,
           3,
           3,
           3,
           3,
           3,
           3,
           3,
           3,
           3,
           3,
           3,
           3,
           3,
           3,
           3,
           3,
           3,
           3,
           3,
           3,
           3,
           3,
           3,
           3,
           3,
           3,
           3,
           3,
           3,
           3,
           3,
           3,
           3,
           3,
           3,
           3,
           3,
           3,
           3,
           3,
           3,
           3,
           3,
           3,
           3,
           3,
           3,
           3,
           3,
           3,
           3,
           3,
           3,
           3,
           3,
           3,
           3,
           3,
           3,
           3,
           3,
           3,
           3,
           3,
           3,
           3,
           3,
           3,
           3,
           3,
           3,
           3,
           3,
           3,
           3,
           3,
           3,
           3,
           3,
           3,
           3,
           3,
           3,
           3,
           3,
           3,
           3,
           3,
           3,
           3,
           3,
           3,
           3,
           3,
           3,
           3,
           3,
           3,
           3,
           3,
           3,
           3,
           3,
           3,
           3,
           3,
           3,
           3,
           3,
           3,
           3,
           3,
           3,
           3,
           3,
           3,
           3,
           3,
           3,
           3,
           3,
           3,
           3,
           3,
           3,
           3,
           3,
           3,
           3,
           3,
           3,
           3,
           3,
           3,
           3,
           3,
           3,
           3,
           3,
           3,
           3,
           3,
           3,
           3
          ],
          "coloraxis": "coloraxis",
          "symbol": "diamond"
         },
         "mode": "markers",
         "name": "3",
         "scene": "scene",
         "showlegend": true,
         "type": "scatter3d",
         "x": [
          -0.15071166623376975,
          -0.15510260712929339,
          -0.15659828231702813,
          -0.1543885517902935,
          -0.153543396573917,
          -0.1574367751166322,
          0.16540201574414978,
          -0.1577442633233515,
          -0.23367658954295104,
          -0.15736060993901066,
          -0.08801109820574653,
          2.566499182326944,
          -0.14779740595336457,
          -0.1546161812422781,
          -0.15716436199493838,
          -0.2391055590136687,
          -0.22114960862391994,
          -0.15721374889658907,
          -0.15772654579656586,
          -0.15781302117776627,
          -0.233765874501053,
          0.18907251578322246,
          0.22705184978060022,
          0.09085846701613193,
          -0.15755945128103277,
          -0.1531652876718357,
          -0.15749866106423985,
          -0.15786999554335332,
          -0.17608929903953097,
          -0.13709363386943238,
          -0.15666546977701062,
          -0.15694263135924255,
          1.5905716573806763,
          -0.1506730715091697,
          -0.1542320743161908,
          -0.15758588110088118,
          -0.157940603474163,
          -0.15720002232171557,
          -0.1349300583275463,
          -0.15782186973028914,
          -0.02266119879213984,
          -0.15075061003712256,
          -0.15148749292701388,
          -0.1578011898822027,
          -0.15589437220584493,
          -0.1572880238835679,
          -0.13790355122918624,
          -0.15021454384384914,
          -0.15050154621564557,
          -0.15048406215491678,
          -0.15107523779056076,
          -0.23393983716336386,
          -0.15751791684833577,
          -0.21519829896726972,
          -0.15462069410358725,
          -0.15028180184868212,
          3.861569510340985,
          0.46146816777096117,
          -0.15638551418104474,
          -0.14097861339290962,
          -0.15510473911284217,
          -0.15794279443226006,
          -0.15496998518106572,
          -0.14119568988682146,
          -0.1191014927627349,
          -0.12201164477951118,
          -0.18109713785409656,
          -0.15781598034026975,
          -0.03074432965349446,
          -0.13719780108504584,
          -0.1579517043473848,
          -0.15077836180313192,
          0.4947733054561234,
          -0.23332717070145723,
          -0.16146658597453756,
          -0.15051804748561315,
          -0.23361195837157941,
          -0.1560745534033547,
          -0.15526703717175933,
          -0.15616886008345984,
          0.3727238000868253,
          -0.23364738606689803,
          -0.15067419281992314,
          -0.1539106437427357,
          -0.14293895934103462,
          -0.1565153258407032,
          0.2676970717053434,
          -0.23280801920313446,
          -0.15034900238267543,
          -0.15676144726647032,
          -0.14941351717179635,
          -0.1577415636955538,
          -0.23361054888329638,
          -0.15795176282662407,
          -0.23376038100092159,
          -0.2847981188263821,
          0.3063892822649011,
          -0.1509341803585509,
          -0.10208729066970466,
          -0.1551185588049614,
          -0.15089283686344926,
          -0.15761510045151741,
          -0.15359808018447044,
          -0.15591113740870996,
          -0.15745837215917904,
          -0.08461826615115489,
          -0.22035007300109016,
          -0.23158795758974335,
          0.3063837913955425,
          -0.1579334908859454,
          0.3065144372520191,
          -0.162007240370308,
          0.48209489172956954,
          -0.15315204524667916,
          -0.15790179916279545,
          -0.22648875794228532,
          -0.15747078641062615,
          -0.15603556364781507,
          -0.1617257411909098,
          -0.1404604117407572,
          -0.12880153881638248,
          -0.19673343399946663,
          -0.15746417237402935,
          -0.1172588042394576,
          -0.15728593792293255,
          -0.153010930440288,
          -0.17164297036517645,
          -0.027204400903530275,
          -0.1455711939473654,
          0.34249753977263736,
          -0.2328162014653798,
          -0.15760557440024753,
          -0.1573684653401748,
          -0.2332110249353608,
          -0.23378846522779126,
          0.3067788330967862,
          -0.12256270407703217,
          3.2511350266190315,
          -0.11441849904326001,
          -0.22465529137460524,
          -0.15071083122454593,
          -0.08346070740052865,
          1.5874504239054434,
          -0.1577033221830305,
          -0.1571546589057965,
          -0.15685570740126506,
          -0.15684265042179968,
          0.3069627166476893,
          0.05492583317862921,
          -0.1881949653667193,
          -0.18077762616115325,
          -0.1573169292871038,
          -0.1491076406659634,
          -0.1560337744599587,
          -0.22933280694919156,
          -0.1806229522899875,
          -0.15427462585530638,
          -0.18072323249846609,
          -0.11224410904979641,
          1.1446310750430797,
          0.3063664689510361,
          -0.07910980464109392,
          -0.22907207787105188,
          -0.14212170352269218,
          -0.0741053174059144,
          1.097977320151563,
          -0.23376247645371578,
          -0.18077526334360894,
          -0.17381348736506835,
          -0.15695445694113005,
          -0.23368791224727187,
          -0.15069025829059093,
          -0.21669182075241653,
          8.049756434058434,
          -0.17325271290651156,
          0.3102414262669794,
          0.035037129152373885,
          -0.14861203157072395,
          -0.2007567972980799,
          -0.15752795591977184,
          0.14949766170077244,
          -0.22782818107207853,
          -0.1072775562209742,
          0.31429482322323754,
          -0.15776498881755657,
          -0.1775832187906666,
          -0.15630833100190308,
          -0.15138010323880444,
          -0.23285693623408946,
          0.30654889393636303,
          -0.19679318665346493,
          -0.1618524151568011,
          -0.13285916389141267,
          -0.15368251713361974,
          0.3104808647103091,
          0.567888615340766,
          2.115699359290008,
          -0.1415421788390258,
          0.3201537325628168,
          -0.21169073456598725,
          -0.17028430876800243,
          -0.2337446379125722,
          -0.15778953392058054,
          -0.1419921638061619,
          -0.15244405389939703,
          -0.006626015171438535,
          3.090455028685354,
          -0.11054929789309062,
          -0.23371597919598275,
          -0.21111799655786068,
          -0.052064160389853065,
          -0.15307989276003725,
          -0.15071086875530093,
          0.38633773346530137,
          -0.16527718172764885,
          -0.16566985815863158,
          -0.1639094834092733,
          -0.1566816113483129,
          -0.15537575544170576,
          -0.15714977703182734,
          -0.1803075705426719,
          -0.14998713380121045,
          -0.122440591797406,
          -0.1488547978431697,
          0.5387296348636657,
          -0.10595946141724348,
          -0.11609250683170515,
          -0.14134613695351284,
          -0.15050091724796685,
          0.5578603526870315,
          -0.22071074752929085,
          -0.1578665184754552,
          -0.15582187106029516,
          -0.12274581607438038,
          -0.14028272569082673,
          -0.15594428712664005,
          0.3281211137621677,
          -0.1574378310886725
         ],
         "y": [
          -1.3167965272786148,
          -2.020461802069748,
          -1.1150598279613335,
          -2.2330128116035834,
          -2.020565457027199,
          -2.020438413649974,
          -1.7827579134254778,
          -1.115049711523054,
          -0.950141052661131,
          -1.1150689443732569,
          -1.7768547950226403,
          -1.308500070146322,
          -1.3168139974017248,
          -1.1151185770953191,
          -1.1150889115157652,
          -0.49841661953616,
          -1.2283013551698005,
          -1.115052949027752,
          -1.1150491634475574,
          -1.1150461535443998,
          -0.9501423680600732,
          -1.7788107315972692,
          -1.3202843405103288,
          -1.1171084345015865,
          -1.1150439945314503,
          -1.1151097086596566,
          -1.115050070064605,
          -1.1150465387438255,
          -1.621000406012877,
          -1.1154232055586888,
          -1.1150517804966107,
          -1.1150619784950686,
          -1.1264806658624493,
          -1.3167953333860867,
          -1.1151178485748907,
          -1.115044088838956,
          -1.1150415727760745,
          -1.1150480646962058,
          -2.1809385570089335,
          -1.1150441561833702,
          -1.1217049738219291,
          -1.3167977319695758,
          -1.1150847188907904,
          -1.115051472494119,
          -1.1151581167644604,
          -1.1150574410723677,
          -1.317027399211229,
          -1.316799963053172,
          -1.3168052161789925,
          -1.3168321597684618,
          -1.3167927660800294,
          -0.9501347304893832,
          -1.1150441562513653,
          -1.277224917072424,
          -1.1151298701728003,
          -1.3168005884122957,
          -2.363806908775894,
          -2.342798030351706,
          -1.1150685217375846,
          -1.1157309943822382,
          -1.1150732142862418,
          -1.1150425648965716,
          -1.115064426963575,
          -1.1152458825720943,
          -2.293326371378824,
          -1.776460021226397,
          -1.5488315404428061,
          -1.1150391796554793,
          -1.11833864402016,
          -2.1336457074312447,
          -1.115041387803278,
          -1.316798590445091,
          -1.1613907710151417,
          -0.9501396462812254,
          -2.2221481723841445,
          -1.3168142323425012,
          -0.9501397766297334,
          -1.1151349330985345,
          -1.1151387107285897,
          -2.0205070136014234,
          -2.234349581410873,
          -0.9501372561790389,
          -1.3167953680728102,
          -1.1150678209451261,
          -2.2244898669348907,
          -1.115057261778565,
          -1.3194799902715115,
          -0.9501604738196294,
          -2.275882642444805,
          -1.1151258844906689,
          -2.2421402511907673,
          -1.115048904737722,
          -0.950142626127755,
          -1.1150413874207572,
          -0.950147261047361,
          -1.3063351936254408,
          -2.34036973854144,
          -1.3167952635821816,
          -1.7767116093196529,
          -1.115097953945361,
          -1.3167946372683677,
          -1.1150522254609934,
          -2.213007555749039,
          -2.0205057670212434,
          -2.0204390817347457,
          -1.1200051850028199,
          -0.9500759809632683,
          -0.9502268839019234,
          -2.340377864419412,
          -1.1150423395083613,
          -2.340376716108511,
          -2.2221245461820867,
          -1.0003123319682876,
          -2.2331083672443404,
          -1.1150418261825457,
          -0.9506275129775915,
          -2.020436572659013,
          -1.1150539931706631,
          -2.2221237942859426,
          -2.121456849885238,
          -1.1170323052774715,
          -0.6091886365328659,
          -1.11505154940515,
          -1.317554691832305,
          -1.1150724206611993,
          -2.233046140001722,
          -2.1799851757879694,
          -2.24696711242389,
          -2.261231694402129,
          -2.3406920794783383,
          -0.9501722993274465,
          -1.1150441749608264,
          -1.1150771433958582,
          -0.9501555818380728,
          -0.950143717830888,
          -2.340389512234307,
          -2.294361468446059,
          -1.1542389204338992,
          -1.2645127158141567,
          -0.9506431238465143,
          -1.316796501448368,
          -1.1203310143875898,
          -1.061048520279084,
          -1.1150477217714863,
          -1.1150770389625584,
          -1.1150793635680323,
          -1.1150789596623072,
          -2.3404090582186927,
          -2.029042752779049,
          -0.9500215493569644,
          -1.6209219432097497,
          -2.0204347063287815,
          -2.2759355965332744,
          -1.115053937823772,
          -0.9502453624053808,
          -1.6209301774615628,
          -2.020638706173579,
          -1.620923732310616,
          -1.7766352328133097,
          -2.375910621252982,
          -2.340372252437486,
          -2.025343782318517,
          -0.9503819519523318,
          -2.233356247671723,
          -1.1160636024752446,
          -1.2854286056663977,
          -0.9501435648392488,
          -1.6209175304692678,
          -1.6210486229282952,
          -1.1150563804015072,
          -0.9501435727430799,
          -1.3167952618322667,
          -1.2063447220436636,
          -2.8241033340277157,
          -2.2650906196786225,
          -2.3404863635768933,
          -1.116303754718839,
          -2.2758795400773297,
          -1.2775130296287345,
          -1.115056762472691,
          -1.1188435795403517,
          -0.9503073094011598,
          -2.0236836641205422,
          -2.3408412299230696,
          -1.1150503526472735,
          -2.1532511097433016,
          -2.020438946728581,
          -2.2131404490225375,
          -0.9501735594202835,
          -2.340370876608707,
          -0.6091707742413882,
          -2.2221315317203074,
          -2.2269705995194884,
          -2.213002284033417,
          -2.3406699016928814,
          -2.2169696779174384,
          -2.41747571799437,
          -2.1879612007836675,
          -2.3406599899179232,
          -1.328597121397283,
          -2.264423368203748,
          -0.9501438809500596,
          -1.11505191133649,
          -2.2338950715954144,
          -2.2695146634200074,
          -0.6615416944600238,
          -2.272250405239048,
          -1.3170578294608994,
          -0.9501458875181106,
          -1.3286357649540432,
          -2.022660507938366,
          -2.213036803098022,
          -1.316796502609348,
          -2.3437334340231817,
          -2.230522155284376,
          -2.230476519077038,
          -2.1175123767195196,
          -1.1150884435620316,
          -2.0205495457400477,
          -2.020436685921353,
          -1.5488794433810562,
          -1.3168052153470389,
          -0.36309790467702685,
          -1.3168454081497625,
          -1.1644429985040647,
          -1.6214810825035122,
          -2.23398756536711,
          -1.115250536514588,
          -1.3168051967224523,
          -1.1290616887130982,
          -1.2283029681740554,
          -1.1150419209774245,
          -1.1151066913204848,
          -1.7764847573138196,
          -2.2243699598511117,
          -2.0205055501842635,
          -2.34070299719656,
          -2.020438446315504
         ],
         "z": [
          0.1869631996518663,
          0.36490702665358027,
          -0.027174859815705412,
          0.3065651092888804,
          0.36488064301238854,
          0.34079679772365373,
          0.3168775663923727,
          -0.027144236596393694,
          0.06381234915392389,
          -0.0271517947520452,
          0.32302608813018435,
          -0.07114283990099457,
          0.18688392037002205,
          -0.027220813010113403,
          -0.027153938919528622,
          0.04313119206899456,
          0.12452103986932499,
          -0.0271586589352257,
          -0.027144829815598487,
          -0.027142900920171558,
          0.06381509267463051,
          0.31553846517725115,
          0.1768945118936997,
          -0.033810567701174056,
          -0.02715042448334477,
          -0.02726326934890857,
          -0.027151107287318083,
          -0.027141227443180174,
          0.2377533967295394,
          -0.027663563893372198,
          -0.02717433170363482,
          -0.02716477562949114,
          -0.07454370912211725,
          0.18696190742117674,
          -0.027231777533342046,
          -0.027149662520247277,
          -0.027140078919770598,
          -0.02715987671027532,
          0.27671133669183456,
          -0.027142990751818027,
          -0.029825253642596073,
          0.18696450357042826,
          -0.02731487026646905,
          -0.027142330578223694,
          -0.027178016550070554,
          -0.027155798990592242,
          0.1866409653335848,
          0.18694975344544418,
          0.18695874659510445,
          0.18696283373294548,
          0.186972821321868,
          0.06381870399356515,
          -0.027151569218336963,
          0.1887392672076947,
          -0.02721876574427681,
          0.18695175798688735,
          0.25308030811377874,
          0.34546989545437634,
          -0.027179386781508417,
          -0.0275015917433321,
          -0.027214736398391014,
          -0.027139848417089194,
          -0.02722003346959933,
          -0.027577937452121927,
          0.35541472572113014,
          0.3239185731335852,
          0.17146593381246572,
          -0.02714400301158851,
          -0.030169421722047705,
          0.3482169428857981,
          -0.02713979706586469,
          0.18696543275658195,
          -0.03768198230458343,
          0.06380224839365066,
          0.32917293173561574,
          0.18696074511973806,
          0.06381030813107662,
          -0.02717687266582699,
          -0.02719902101613619,
          0.36494480583087485,
          0.30706436816683014,
          0.06381087951520624,
          0.186961944964965,
          -0.027249354318709736,
          0.42489559858512693,
          -0.027177637369005934,
          0.17561063472058877,
          0.06379113717536222,
          0.38807618226724555,
          -0.02715902474860413,
          0.29455379177563534,
          -0.027144449947061947,
          0.06381075278484132,
          -0.02713979548043308,
          0.06381576947203266,
          0.3930859296727975,
          0.34943386901015605,
          0.18696926484275073,
          0.3233990187136113,
          -0.02721014045607716,
          0.1869679915255667,
          -0.027147454580522427,
          0.34633839468346844,
          0.36493732018333724,
          0.34079752083701853,
          -0.02836561162137336,
          0.0634251715545974,
          0.06376799347324817,
          0.34943540543314955,
          -0.027140149309074723,
          0.3494315229877362,
          0.32918417403966177,
          0.052140548092626186,
          0.3065464564015774,
          -0.027141131015074753,
          0.06369218813203596,
          0.3407974446453389,
          -0.027191733407782834,
          0.32917610144620324,
          0.4420341409963131,
          -0.027624034352437377,
          0.030789866578659338,
          -0.02715182916558404,
          0.18614795085149707,
          -0.027153311231931394,
          0.30653189466130515,
          0.30018672060889917,
          0.32049662781544647,
          0.3977733539085229,
          0.34846958389768257,
          0.06379337851963085,
          -0.027149092073932356,
          -0.02715017915966824,
          0.06380167955745004,
          0.06381595972400789,
          0.34942623635742387,
          0.3512887255003863,
          -0.11669078596194642,
          0.09879155378910634,
          0.0636430960619371,
          0.18696317169404075,
          -0.028342888275947914,
          -0.08557952315685138,
          -0.027145730351484553,
          -0.027156231184207173,
          -0.027164273309585724,
          -0.02716471048408953,
          0.3494243695511418,
          0.33626607224187416,
          0.06250840253159529,
          0.23787237642682432,
          0.34079278503900745,
          0.38805014980176267,
          -0.027191793313468788,
          0.06370748770866978,
          0.2378694109362543,
          0.3649137333820987,
          0.2378711454308172,
          0.32367269061006904,
          0.33181831613586443,
          0.34943494025073946,
          0.3635922472887837,
          0.06372335027979156,
          0.3062772878300302,
          -0.029332414659668335,
          0.040233253202165135,
          0.06381520023187091,
          0.23787155954534475,
          0.2376973635775404,
          -0.027165393589026983,
          0.06381309714607847,
          0.18696238031997658,
          0.09462893750883675,
          0.21313037731595832,
          0.2901455813921415,
          0.3493449767889015,
          -0.03237192013862983,
          0.3880266322258744,
          0.18838066502314535,
          -0.027149142742698806,
          -0.0351705584333376,
          0.06367555397974202,
          0.3641049959565833,
          0.3492909072199583,
          -0.027143542664258263,
          0.37634481701818256,
          0.340765040213355,
          0.3462983893543529,
          0.063794742403394,
          0.34942955776069645,
          0.030788516271264825,
          0.3291809919880404,
          0.2765825214301605,
          0.3463398815247912,
          0.34936942181918074,
          0.35933372039439454,
          0.31147815114545285,
          0.43856439683948495,
          0.34909473889566794,
          0.18436662874445675,
          0.35367971438569035,
          0.06381475051475513,
          -0.027142584938883597,
          0.30636523551437345,
          0.4084968271510042,
          0.15718233153685096,
          0.29753729202575674,
          0.18587411815863786,
          0.06381428280836095,
          0.18435703399423098,
          0.3382006318814371,
          0.34632874209870795,
          0.18696317295064763,
          0.3477493305443229,
          0.3446729834917296,
          0.34467630755702683,
          0.42138071774674385,
          -0.027167643171549096,
          0.3407575226602736,
          0.3407884040362176,
          0.17145179363459812,
          0.18694422816519973,
          -0.030445255620069216,
          0.18691910323500904,
          -0.03840366488868362,
          0.23585583689170708,
          0.3438739848591011,
          -0.027572900175172138,
          0.18695872553597376,
          -0.044958652736328965,
          0.12450892809127728,
          -0.027142110627991125,
          -0.027188805424995795,
          0.3239434989896324,
          0.33525378414398427,
          0.36493821890581474,
          0.34887718660611644,
          0.34079683307976766
         ]
        },
        {
         "customdata": [
          [
           "VeChainThor Authority",
           55454734800,
           "86712634466"
          ],
          [
           "Proof-of-BibleHash",
           1772091549.88818,
           "5200000000"
          ],
          [
           "SHA-256 + Hive",
           638382332.208514,
           "840000000"
          ],
          [
           "Proof-of-Authority",
           204479039,
           "252460800"
          ],
          [
           "ECC 256K1",
           1000000000,
           "1000000000"
          ]
         ],
         "hovertemplate": "<b>%{hovertext}</b><br><br>Class=%{marker.color}<br>PC 1=%{x}<br>PC 2=%{y}<br>PC 3=%{z}<br>Algorithm=%{customdata[0]}<br>TotalCoinsMined=%{customdata[1]}<br>TotalCoinSupply=%{customdata[2]}<extra></extra>",
         "hovertext": [
          "Vechain",
          "BiblePay",
          "LitecoinCash",
          "Poa Network",
          "Acute Angle Cloud"
         ],
         "legendgroup": "1",
         "marker": {
          "color": [
           1,
           1,
           1,
           1,
           1
          ],
          "coloraxis": "coloraxis",
          "symbol": "square"
         },
         "mode": "markers",
         "name": "1",
         "scene": "scene",
         "showlegend": true,
         "type": "scatter3d",
         "x": [
          4.576697592002032,
          -0.4199258408786427,
          -0.6583395033497222,
          -0.4842962488667487,
          -0.04103217617149425
         ],
         "y": [
          3.020258613734433,
          2.4315017106007,
          2.4668871504700802,
          3.069606966239274,
          3.924250712819313
         ],
         "z": [
          7.87891968079005,
          18.813825338408797,
          7.1353112801726715,
          14.012836494343347,
          18.596173799930483
         ]
        },
        {
         "customdata": [
          [
           "TRC10",
           989988713439.649,
           "990000000000"
          ]
         ],
         "hovertemplate": "<b>%{hovertext}</b><br><br>Class=%{marker.color}<br>PC 1=%{x}<br>PC 2=%{y}<br>PC 3=%{z}<br>Algorithm=%{customdata[0]}<br>TotalCoinsMined=%{customdata[1]}<br>TotalCoinSupply=%{customdata[2]}<extra></extra>",
         "hovertext": [
          "BitTorrent"
         ],
         "legendgroup": "2",
         "marker": {
          "color": [
           2
          ],
          "coloraxis": "coloraxis",
          "symbol": "x"
         },
         "mode": "markers",
         "name": "2",
         "scene": "scene",
         "showlegend": true,
         "type": "scatter3d",
         "x": [
          34.02366612205505
         ],
         "y": [
          1.6483348052945812
         ],
         "z": [
          -1.1903263819895147
         ]
        }
       ],
       "layout": {
        "coloraxis": {
         "colorbar": {
          "title": {
           "text": "Class"
          }
         },
         "colorscale": [
          [
           0,
           "#0d0887"
          ],
          [
           0.1111111111111111,
           "#46039f"
          ],
          [
           0.2222222222222222,
           "#7201a8"
          ],
          [
           0.3333333333333333,
           "#9c179e"
          ],
          [
           0.4444444444444444,
           "#bd3786"
          ],
          [
           0.5555555555555556,
           "#d8576b"
          ],
          [
           0.6666666666666666,
           "#ed7953"
          ],
          [
           0.7777777777777778,
           "#fb9f3a"
          ],
          [
           0.8888888888888888,
           "#fdca26"
          ],
          [
           1,
           "#f0f921"
          ]
         ]
        },
        "legend": {
         "title": {
          "text": "Class"
         },
         "tracegroupgap": 0,
         "x": 0,
         "y": 1
        },
        "margin": {
         "t": 60
        },
        "scene": {
         "domain": {
          "x": [
           0,
           1
          ],
          "y": [
           0,
           1
          ]
         },
         "xaxis": {
          "title": {
           "text": "PC 1"
          }
         },
         "yaxis": {
          "title": {
           "text": "PC 2"
          }
         },
         "zaxis": {
          "title": {
           "text": "PC 3"
          }
         }
        },
        "template": {
         "data": {
          "bar": [
           {
            "error_x": {
             "color": "#2a3f5f"
            },
            "error_y": {
             "color": "#2a3f5f"
            },
            "marker": {
             "line": {
              "color": "#E5ECF6",
              "width": 0.5
             },
             "pattern": {
              "fillmode": "overlay",
              "size": 10,
              "solidity": 0.2
             }
            },
            "type": "bar"
           }
          ],
          "barpolar": [
           {
            "marker": {
             "line": {
              "color": "#E5ECF6",
              "width": 0.5
             },
             "pattern": {
              "fillmode": "overlay",
              "size": 10,
              "solidity": 0.2
             }
            },
            "type": "barpolar"
           }
          ],
          "carpet": [
           {
            "aaxis": {
             "endlinecolor": "#2a3f5f",
             "gridcolor": "white",
             "linecolor": "white",
             "minorgridcolor": "white",
             "startlinecolor": "#2a3f5f"
            },
            "baxis": {
             "endlinecolor": "#2a3f5f",
             "gridcolor": "white",
             "linecolor": "white",
             "minorgridcolor": "white",
             "startlinecolor": "#2a3f5f"
            },
            "type": "carpet"
           }
          ],
          "choropleth": [
           {
            "colorbar": {
             "outlinewidth": 0,
             "ticks": ""
            },
            "type": "choropleth"
           }
          ],
          "contour": [
           {
            "colorbar": {
             "outlinewidth": 0,
             "ticks": ""
            },
            "colorscale": [
             [
              0,
              "#0d0887"
             ],
             [
              0.1111111111111111,
              "#46039f"
             ],
             [
              0.2222222222222222,
              "#7201a8"
             ],
             [
              0.3333333333333333,
              "#9c179e"
             ],
             [
              0.4444444444444444,
              "#bd3786"
             ],
             [
              0.5555555555555556,
              "#d8576b"
             ],
             [
              0.6666666666666666,
              "#ed7953"
             ],
             [
              0.7777777777777778,
              "#fb9f3a"
             ],
             [
              0.8888888888888888,
              "#fdca26"
             ],
             [
              1,
              "#f0f921"
             ]
            ],
            "type": "contour"
           }
          ],
          "contourcarpet": [
           {
            "colorbar": {
             "outlinewidth": 0,
             "ticks": ""
            },
            "type": "contourcarpet"
           }
          ],
          "heatmap": [
           {
            "colorbar": {
             "outlinewidth": 0,
             "ticks": ""
            },
            "colorscale": [
             [
              0,
              "#0d0887"
             ],
             [
              0.1111111111111111,
              "#46039f"
             ],
             [
              0.2222222222222222,
              "#7201a8"
             ],
             [
              0.3333333333333333,
              "#9c179e"
             ],
             [
              0.4444444444444444,
              "#bd3786"
             ],
             [
              0.5555555555555556,
              "#d8576b"
             ],
             [
              0.6666666666666666,
              "#ed7953"
             ],
             [
              0.7777777777777778,
              "#fb9f3a"
             ],
             [
              0.8888888888888888,
              "#fdca26"
             ],
             [
              1,
              "#f0f921"
             ]
            ],
            "type": "heatmap"
           }
          ],
          "heatmapgl": [
           {
            "colorbar": {
             "outlinewidth": 0,
             "ticks": ""
            },
            "colorscale": [
             [
              0,
              "#0d0887"
             ],
             [
              0.1111111111111111,
              "#46039f"
             ],
             [
              0.2222222222222222,
              "#7201a8"
             ],
             [
              0.3333333333333333,
              "#9c179e"
             ],
             [
              0.4444444444444444,
              "#bd3786"
             ],
             [
              0.5555555555555556,
              "#d8576b"
             ],
             [
              0.6666666666666666,
              "#ed7953"
             ],
             [
              0.7777777777777778,
              "#fb9f3a"
             ],
             [
              0.8888888888888888,
              "#fdca26"
             ],
             [
              1,
              "#f0f921"
             ]
            ],
            "type": "heatmapgl"
           }
          ],
          "histogram": [
           {
            "marker": {
             "pattern": {
              "fillmode": "overlay",
              "size": 10,
              "solidity": 0.2
             }
            },
            "type": "histogram"
           }
          ],
          "histogram2d": [
           {
            "colorbar": {
             "outlinewidth": 0,
             "ticks": ""
            },
            "colorscale": [
             [
              0,
              "#0d0887"
             ],
             [
              0.1111111111111111,
              "#46039f"
             ],
             [
              0.2222222222222222,
              "#7201a8"
             ],
             [
              0.3333333333333333,
              "#9c179e"
             ],
             [
              0.4444444444444444,
              "#bd3786"
             ],
             [
              0.5555555555555556,
              "#d8576b"
             ],
             [
              0.6666666666666666,
              "#ed7953"
             ],
             [
              0.7777777777777778,
              "#fb9f3a"
             ],
             [
              0.8888888888888888,
              "#fdca26"
             ],
             [
              1,
              "#f0f921"
             ]
            ],
            "type": "histogram2d"
           }
          ],
          "histogram2dcontour": [
           {
            "colorbar": {
             "outlinewidth": 0,
             "ticks": ""
            },
            "colorscale": [
             [
              0,
              "#0d0887"
             ],
             [
              0.1111111111111111,
              "#46039f"
             ],
             [
              0.2222222222222222,
              "#7201a8"
             ],
             [
              0.3333333333333333,
              "#9c179e"
             ],
             [
              0.4444444444444444,
              "#bd3786"
             ],
             [
              0.5555555555555556,
              "#d8576b"
             ],
             [
              0.6666666666666666,
              "#ed7953"
             ],
             [
              0.7777777777777778,
              "#fb9f3a"
             ],
             [
              0.8888888888888888,
              "#fdca26"
             ],
             [
              1,
              "#f0f921"
             ]
            ],
            "type": "histogram2dcontour"
           }
          ],
          "mesh3d": [
           {
            "colorbar": {
             "outlinewidth": 0,
             "ticks": ""
            },
            "type": "mesh3d"
           }
          ],
          "parcoords": [
           {
            "line": {
             "colorbar": {
              "outlinewidth": 0,
              "ticks": ""
             }
            },
            "type": "parcoords"
           }
          ],
          "pie": [
           {
            "automargin": true,
            "type": "pie"
           }
          ],
          "scatter": [
           {
            "marker": {
             "colorbar": {
              "outlinewidth": 0,
              "ticks": ""
             }
            },
            "type": "scatter"
           }
          ],
          "scatter3d": [
           {
            "line": {
             "colorbar": {
              "outlinewidth": 0,
              "ticks": ""
             }
            },
            "marker": {
             "colorbar": {
              "outlinewidth": 0,
              "ticks": ""
             }
            },
            "type": "scatter3d"
           }
          ],
          "scattercarpet": [
           {
            "marker": {
             "colorbar": {
              "outlinewidth": 0,
              "ticks": ""
             }
            },
            "type": "scattercarpet"
           }
          ],
          "scattergeo": [
           {
            "marker": {
             "colorbar": {
              "outlinewidth": 0,
              "ticks": ""
             }
            },
            "type": "scattergeo"
           }
          ],
          "scattergl": [
           {
            "marker": {
             "colorbar": {
              "outlinewidth": 0,
              "ticks": ""
             }
            },
            "type": "scattergl"
           }
          ],
          "scattermapbox": [
           {
            "marker": {
             "colorbar": {
              "outlinewidth": 0,
              "ticks": ""
             }
            },
            "type": "scattermapbox"
           }
          ],
          "scatterpolar": [
           {
            "marker": {
             "colorbar": {
              "outlinewidth": 0,
              "ticks": ""
             }
            },
            "type": "scatterpolar"
           }
          ],
          "scatterpolargl": [
           {
            "marker": {
             "colorbar": {
              "outlinewidth": 0,
              "ticks": ""
             }
            },
            "type": "scatterpolargl"
           }
          ],
          "scatterternary": [
           {
            "marker": {
             "colorbar": {
              "outlinewidth": 0,
              "ticks": ""
             }
            },
            "type": "scatterternary"
           }
          ],
          "surface": [
           {
            "colorbar": {
             "outlinewidth": 0,
             "ticks": ""
            },
            "colorscale": [
             [
              0,
              "#0d0887"
             ],
             [
              0.1111111111111111,
              "#46039f"
             ],
             [
              0.2222222222222222,
              "#7201a8"
             ],
             [
              0.3333333333333333,
              "#9c179e"
             ],
             [
              0.4444444444444444,
              "#bd3786"
             ],
             [
              0.5555555555555556,
              "#d8576b"
             ],
             [
              0.6666666666666666,
              "#ed7953"
             ],
             [
              0.7777777777777778,
              "#fb9f3a"
             ],
             [
              0.8888888888888888,
              "#fdca26"
             ],
             [
              1,
              "#f0f921"
             ]
            ],
            "type": "surface"
           }
          ],
          "table": [
           {
            "cells": {
             "fill": {
              "color": "#EBF0F8"
             },
             "line": {
              "color": "white"
             }
            },
            "header": {
             "fill": {
              "color": "#C8D4E3"
             },
             "line": {
              "color": "white"
             }
            },
            "type": "table"
           }
          ]
         },
         "layout": {
          "annotationdefaults": {
           "arrowcolor": "#2a3f5f",
           "arrowhead": 0,
           "arrowwidth": 1
          },
          "autotypenumbers": "strict",
          "coloraxis": {
           "colorbar": {
            "outlinewidth": 0,
            "ticks": ""
           }
          },
          "colorscale": {
           "diverging": [
            [
             0,
             "#8e0152"
            ],
            [
             0.1,
             "#c51b7d"
            ],
            [
             0.2,
             "#de77ae"
            ],
            [
             0.3,
             "#f1b6da"
            ],
            [
             0.4,
             "#fde0ef"
            ],
            [
             0.5,
             "#f7f7f7"
            ],
            [
             0.6,
             "#e6f5d0"
            ],
            [
             0.7,
             "#b8e186"
            ],
            [
             0.8,
             "#7fbc41"
            ],
            [
             0.9,
             "#4d9221"
            ],
            [
             1,
             "#276419"
            ]
           ],
           "sequential": [
            [
             0,
             "#0d0887"
            ],
            [
             0.1111111111111111,
             "#46039f"
            ],
            [
             0.2222222222222222,
             "#7201a8"
            ],
            [
             0.3333333333333333,
             "#9c179e"
            ],
            [
             0.4444444444444444,
             "#bd3786"
            ],
            [
             0.5555555555555556,
             "#d8576b"
            ],
            [
             0.6666666666666666,
             "#ed7953"
            ],
            [
             0.7777777777777778,
             "#fb9f3a"
            ],
            [
             0.8888888888888888,
             "#fdca26"
            ],
            [
             1,
             "#f0f921"
            ]
           ],
           "sequentialminus": [
            [
             0,
             "#0d0887"
            ],
            [
             0.1111111111111111,
             "#46039f"
            ],
            [
             0.2222222222222222,
             "#7201a8"
            ],
            [
             0.3333333333333333,
             "#9c179e"
            ],
            [
             0.4444444444444444,
             "#bd3786"
            ],
            [
             0.5555555555555556,
             "#d8576b"
            ],
            [
             0.6666666666666666,
             "#ed7953"
            ],
            [
             0.7777777777777778,
             "#fb9f3a"
            ],
            [
             0.8888888888888888,
             "#fdca26"
            ],
            [
             1,
             "#f0f921"
            ]
           ]
          },
          "colorway": [
           "#636efa",
           "#EF553B",
           "#00cc96",
           "#ab63fa",
           "#FFA15A",
           "#19d3f3",
           "#FF6692",
           "#B6E880",
           "#FF97FF",
           "#FECB52"
          ],
          "font": {
           "color": "#2a3f5f"
          },
          "geo": {
           "bgcolor": "white",
           "lakecolor": "white",
           "landcolor": "#E5ECF6",
           "showlakes": true,
           "showland": true,
           "subunitcolor": "white"
          },
          "hoverlabel": {
           "align": "left"
          },
          "hovermode": "closest",
          "mapbox": {
           "style": "light"
          },
          "paper_bgcolor": "white",
          "plot_bgcolor": "#E5ECF6",
          "polar": {
           "angularaxis": {
            "gridcolor": "white",
            "linecolor": "white",
            "ticks": ""
           },
           "bgcolor": "#E5ECF6",
           "radialaxis": {
            "gridcolor": "white",
            "linecolor": "white",
            "ticks": ""
           }
          },
          "scene": {
           "xaxis": {
            "backgroundcolor": "#E5ECF6",
            "gridcolor": "white",
            "gridwidth": 2,
            "linecolor": "white",
            "showbackground": true,
            "ticks": "",
            "zerolinecolor": "white"
           },
           "yaxis": {
            "backgroundcolor": "#E5ECF6",
            "gridcolor": "white",
            "gridwidth": 2,
            "linecolor": "white",
            "showbackground": true,
            "ticks": "",
            "zerolinecolor": "white"
           },
           "zaxis": {
            "backgroundcolor": "#E5ECF6",
            "gridcolor": "white",
            "gridwidth": 2,
            "linecolor": "white",
            "showbackground": true,
            "ticks": "",
            "zerolinecolor": "white"
           }
          },
          "shapedefaults": {
           "line": {
            "color": "#2a3f5f"
           }
          },
          "ternary": {
           "aaxis": {
            "gridcolor": "white",
            "linecolor": "white",
            "ticks": ""
           },
           "baxis": {
            "gridcolor": "white",
            "linecolor": "white",
            "ticks": ""
           },
           "bgcolor": "#E5ECF6",
           "caxis": {
            "gridcolor": "white",
            "linecolor": "white",
            "ticks": ""
           }
          },
          "title": {
           "x": 0.05
          },
          "xaxis": {
           "automargin": true,
           "gridcolor": "white",
           "linecolor": "white",
           "ticks": "",
           "title": {
            "standoff": 15
           },
           "zerolinecolor": "white",
           "zerolinewidth": 2
          },
          "yaxis": {
           "automargin": true,
           "gridcolor": "white",
           "linecolor": "white",
           "ticks": "",
           "title": {
            "standoff": 15
           },
           "zerolinecolor": "white",
           "zerolinewidth": 2
          }
         }
        }
       }
      },
      "text/html": [
       "<div>                            <div id=\"ea56ece5-d115-472d-9fd8-dfdf23af7cc0\" class=\"plotly-graph-div\" style=\"height:525px; width:100%;\"></div>            <script type=\"text/javascript\">                require([\"plotly\"], function(Plotly) {                    window.PLOTLYENV=window.PLOTLYENV || {};                                    if (document.getElementById(\"ea56ece5-d115-472d-9fd8-dfdf23af7cc0\")) {                    Plotly.newPlot(                        \"ea56ece5-d115-472d-9fd8-dfdf23af7cc0\",                        [{\"customdata\":[[\"Scrypt\",41.99995383,\"42\"],[\"Scrypt\",1055184902.04,\"532000000\"],[\"X13\",29279424622.5027,\"314159265359\"],[\"X11\",9031294.37563393,\"22000000\"],[\"SHA-512\",2741570000.0,\"3600570502\"],[\"SHA-256\",1288862.0,\"22000000\"],[\"SHA-256\",11995334.8847328,\"12500000\"],[\"X15\",25542535.5881841,\"350000000\"],[\"Scrypt\",18135099.992959,\"16768584\"],[\"Scrypt\",635423900.0,\"0\"],[\"Scrypt\",123062801.128773,\"0\"],[\"Scrypt\",42579.476901,\"500000\"],[\"Scrypt\",1039116.65144562,\"1000000\"],[\"Scrypt\",39999997299.8568,\"40000000000\"],[\"Groestl\",3304487.74735637,\"4380000\"],[\"PoS\",5679705.0,\"0\"],[\"Scrypt\",461829905.32893,\"0\"],[\"Scrypt\",89266933.684704,\"120000000\"],[\"X11\",1678520090.7713,\"0\"],[\"X11\",17650913.9743456,\"22000000\"],[\"SHA3\",61445805.0,\"100000000\"],[\"Scrypt\",21293925445.4969,\"0\"],[\"SHA-256\",1613836099.99999,\"2419200000\"],[\"Scrypt\",16180000.0,\"16180000\"],[\"X13\",66087096.2077108,\"0\"],[\"X13\",15156364.3306548,\"0\"],[\"NeoScrypt\",3220616.279225,\"3770000\"],[\"Scrypt\",222677226.014206,\"420000000\"],[\"Scrypt\",73959274.625,\"98000000\"],[\"Scrypt\",29315567169.0888,\"0\"],[\"X11\",50707661.7493518,\"0\"],[\"X11\",1177.0,\"1000\"],[\"Multiple\",80260463.7331396,\"100000000\"],[\"PHI1612\",1622326490.46336,\"2300000000\"],[\"X11\",1431851.00002479,\"10000000\"],[\"Scrypt\",1098952592.6,\"1600000000\"],[\"Scrypt\",50235211.141939,\"100000000\"],[\"Scrypt\",32021108.4136696,\"0\"],[\"X11\",6950831.0970606,\"5500000\"],[\"Multiple\",100000000.0,\"0\"],[\"X13\",33093725.4123502,\"0\"],[\"Scrypt\",147990237.978331,\"1000000000\"],[\"Shabal256\",1813033920.0,\"2158812800\"],[\"Counterparty\",51173144.0,\"500000000\"],[\"SHA-256\",39121694.0,\"68000000\"],[\"Groestl\",53193831.0,\"0\"],[\"Scrypt\",27184490.3918338,\"0\"],[\"X13\",2022464.886973,\"12000000\"],[\"Scrypt\",174646113.934655,\"500000000\"],[\"Scrypt\",1467841.0,\"0\"],[\"X13\",7096834.0,\"10000000\"],[\"X11\",2689812.0,\"20000000\"],[\"Scrypt\",11604722.0,\"20000000\"],[\"X11\",1513704.0,\"0\"],[\"SHA3\",63657220.0,\"78000000\"],[\"QUAIT\",8568038.35935056,\"5060000\"],[\"X11\",329200.01639,\"0\"],[\"Scrypt\",100000000.0,\"100000000\"],[\"X13\",23042604.0,\"50000000\"],[\"SHA-256\",43059794.804778,\"1000000000\"],[\"X15\",13530556.4180753,\"26298000\"],[\"BLAKE256\",10365046.9281661,\"21000000\"],[\"SHA-256\",3669691.84494672,\"22000000\"],[\"X11\",10996318099.0,\"26550000000\"],[\"SHA-256\",5129014.0,\"10500000\"],[\"NIST5\",10069449031.9252,\"0\"],[\"Scrypt\",8998743.2411911,\"42000000\"],[\"Scrypt\",40477042.0,\"221052632\"],[\"X11\",10407269.7881868,\"384000000\"],[\"Scrypt\",36971236046.8073,\" 99000000000\"],[\"SHA-256\",4377081.60953993,\"40000000\"],[\"Scrypt\",2147483647.0,\"2147483647\"],[\"PoS\",20000000.0,\"20000000\"],[\"X11\",134554941.15119,\"75000000\"],[\"SHA-256\",1195525.0,\"222725000\"],[\"SHA-256\",16662820.0,\"525000000\"],[\"NIST5\",83450403.0,\"90000000\"],[\"X11\",24387724.5010828,\"139000000\"],[\"POS 3.0\",38589808.6658096,\"33500000\"],[\"Scrypt\",813092338.575672,\"2000000000\"],[\"Scrypt\",4526324.0,\"44333333\"],[\"Scrypt\",100000000.0,\"100000000\"],[\"X13\",5000000.0,\"200000000\"],[\"X11\",657000000.0,\"657000000\"],[\"X11\",15563873.0,\"50000000\"],[\"Scrypt\",43165500.0,\"90000000\"],[\"SHA-256\",595429.0,\"21000000\"],[\"X11\",657636.34549789,\"3000000\"],[\"Scrypt\",2581970.0,\"21000000\"],[\"Scrypt\",1939889.0,\"0\"],[\"Scrypt\",169598616.0,\"0\"],[\"Scrypt\",665200057.0,\"3100000000\"],[\"SHA-256D\",19577787259.0,\"20000000000\"],[\"PoS\",74033806.7949683,\"74000000\"],[\"Scrypt\",33522957.0,\"0\"],[\"X11\",264678458.288619,\"1500000000\"],[\"PoS\",148716816.0,\"39999898\"],[\"X13\",2500124.0,\"2500124\"],[\"X14\",100000000.0,\"100000000\"],[\"PoS\",17818682.1654,\"301000000\"],[\"SHA-256D\",1082162635.53683,\"7506000000\"],[\"DPoS\",108202084.0,\"125000000\"],[\"X11\",18342813.0,\"30000000\"],[\"X13\",92192822723.0,\"850000000\"],[\"X11\",3853326.77707314,\"3853326.77707314\"],[\"PoS\",50000000.0,\"50000000\"],[\"Scrypt\",17089600.0,\"38540000 \"],[\"Scrypt\",2449577.41533168,\"42000000\"],[\"PoS\",20000000.0,\"20000000\"],[\"X11\",6069482.07721352,\"60000000\"],[\"SHA-256\",12416554.0,\"20000000\"],[\"Scrypt\",20244023.640728,\"33000000\"],[\"X11\",75590369.0,\"76500000\"],[\"Scrypt\",11080722.3769581,\"28000000\"],[\"Scrypt\",10914418.0,\"650659833\"],[\"X11\",814671.0,\"5000000\"],[\"Scrypt\",8377873.0,\"144000000\"],[\"Scrypt\",33813143821.8337,\"32514916898\"],[\"Scrypt\",3472983.0,\"13000000\"],[\"Scrypt\",3315789.0,\"3315789\"],[\"Quark\",10517772.7391666,\"15000000\"],[\"QuBit\",30227750.0,\"78835200\"],[\"Scrypt\",23965372.0,\"500000000\"],[\"SHA-256\",2526078.47525448,\"21000000\"],[\"X11\",5659096.95728771,\"9354000\"],[\"Scrypt\",11821728.0,\"20000000\"],[\"Scrypt\",308179.0,\"21933333\"],[\"Scrypt\",2922613.96424908,\"55000000\"],[\"Scrypt\",110000000.0,\"110000000\"],[\"X13\",14524851.4827,\"14524851.4827\"],[\"Scrypt\",1000000000.0,\"1000000000\"],[\"Scrypt\",36050365.0,\"34426423\"],[\"X11\",13162749.0858027,\"100000000\"],[\"Blake2S\",12184195.9258495,\"36900000\"],[\"X11\",110630387.850471,\"110000000\"],[\"PoS\",111135836.889,\"110290030\"],[\"X11\",21521322.0099142,\"100000000\"],[\"PoS\",401421401.0,\"400000000\"],[\"X11\",121665451.643876,\"500000000\"],[\"Scrypt\",5368934.0,\"21212121\"],[\"Scrypt\",1148324.0,\"28600000\"],[\"Scrypt\",500000.0,\"1000000000\"],[\"SHA-256\",100545745.0,\"75000000000\"],[\"X11\",17171382.0,\"40000000\"],[\"Scrypt\",295135466.361878,\"2000000000\"],[\"PoS\",11390225.9742772,\"30000000\"],[\"Scrypt\",21358764.0,\"105000000\"],[\"X15\",40659020000.0,\"90000000000\"],[\"SHA-256\",10343113.0,\"200084200\"],[\"POS 3.0\",100000000.0,\"100000000\"],[\"536\",22801882871.0,\"50000000000\"],[\"NIST5\",4171382.0,\"10000000\"],[\"NIST5\",62942075.0,\"120000000\"],[\"Skein\",6804362.0,\"100000000\"],[\"X13\",21268092.0,\"30000000\"],[\"Scrypt\",9044930943.24243,\"50000000000\"],[\"X13\",21917018.0492836,\"18898187.6216583\"],[\"SkunkHash v2 Raptor\",107972766.0,\"137500000\"],[\"Skein\",47331802.4774238,\"100000000\"],[\"X11\",12569262.5359307,\"9507271\"],[\"Scrypt\",18663297.3489799,\"17405891.19707116\"],[\"PoS\",4000000.0,\"61599965\"],[\"Scrypt\",19539588.0,\"48252000\"],[\"Scrypt\",4200000.0,\"4200000\"],[\"SHA-512\",25000000.0,\"91388946\"],[\"Ouroboros\",25927070538.0,\"45000000000\"],[\"X11\",7262402.04264803,\"27000000\"],[\"NeoScrypt\",182638400.0,\"400000000\"],[\"Scrypt\",1140734.91680375,\"15733333\"],[\"Lyra2REv2\",24000000.0,\"24000000\"],[\"Scrypt\",48459472454.0,\"25000000000\"],[\"SHA-256\",92050800.0,\"100000000\"],[\"NIST5\",560563220.0,\"1200000000\"],[\"PHI1612\",8305775.31777569,\"60000000\"],[\"Scrypt\",2149688.0,\"21000000\"],[\"Quark\",30711550.5294042,\"200000000\"],[\"POS 2.0\",12330806.30517,\"21000000\"],[\"Scrypt\",16362544.992,\"14788275.991\"],[\"SHA-256\",8999999990.0,\"9000000000\"],[\"X11\",38198594.8342105,\"144000000\"],[\"DPoS\",288090567.493887,\"500000000\"],[\"NIST5\",28399150208.0,\"30000000000\"],[\"X13\",183534024.889807,\"210000000\"],[\"Scrypt\",110976977.29338,\"210000000\"],[\"NIST5\",13247178.8807286,\"27716121\"],[\"Quark\",16955764.902064,\"20000000\"],[\"Scrypt\",4911500269.41,\"50000000000\"],[\"Scrypt\",8419402.321,\"150000000\"],[\"X11\",45174214.1078625,\"50000000\"],[\"Quark\",27299680.0,\"120000000\"],[\"Scrypt\",591022748.0,\"900000000\"],[\"Scrypt\",2504486.227718,\"4000000\"],[\"X11\",4407252.0,\"21000000\"],[\"POS 3.0\",20445861.5344251,\"25000000\"],[\"Ethash\",1618033.0,\"1618033\"],[\"Scrypt\",9399342.52839847,\"30000000\"],[\"Scrypt\",234846265.782157,\"232000000\"],[\"X13\",230298925.0,\"800000000\"],[\"C11\",11251342.1879021,\"19340594\"],[\"X11\",2167827.1,\"25000000\"],[\"XEVAN\",419275.38,\"60000000\"],[\"Scrypt\",25570013.1348022,\"124000000\"],[\"VBFT\",650848625.0,\"1000000000\"],[\"NIST5\",13787854.6277781,\"50000000\"],[\"Scrypt\",845637.81347436,\"3000000\"],[\"Scrypt\",1182153.5,\"5000000\"],[\"Scrypt\",267297676.3125,\"500000000\"],[\"Green Protocol\",9803691.3618195,\"21000000\"],[\"PoS\",21876586.8530324,\"88000000\"],[\"Scrypt\",9880502.37178894,\"30000000\"],[\"Semux BFT consensus\",1231147.0,\"100000000\"],[\"Quark\",139739596.506702,\"200000000\"],[\"PoS\",11075254.0929996,\"80000000\"],[\"X16R\",4403800.0,\"45000000\"],[\"Scrypt\",1404157529.46026,\"5121951220\"],[\"XEVAN\",10904963.0923455,\"21000000\"],[\"Scrypt\",38706809.466535,\"26000000\"],[\"Scrypt\",10200000000.0,\"10200000000\"],[\"Scrypt\",7630000.0154,\"44000000\"],[\"SHA-256D\",33238183.7225834,\"100000000\"],[\"Scrypt\",21599339.6728,\"84000000\"],[\"X15\",30284196.369129,\"90000000\"],[\"Scrypt\",77872059787.8998,\"92000000000\"],[\"Quark\",2716264.95302831,\"650000000 \"],[\"SHA-256\",57811001.000889,\"100262205\"],[\"DPoS\",18194936.0,\"18081806 \"],[\"X16R\",36923120.6205934,\"82546564\"],[\"Quark\",7082392.24744494,\"21000000\"],[\"Quark\",5919489.76813523,\"5151000\"],[\"Scrypt\",1042012.45227735,\"16880000000\"],[\"Lyra2REv2\",13332617.9413708,\"52500000\"],[\"Quark\",66053877.6256106,\"100000000\"],[\"Scrypt\",5403802.49590733,\"1000000000\"],[\"X11\",19269509.94,\"55000000\"],[\"X11\",30771125.9760867,\"50000000\"],[\"Scrypt\",107763867.917675,\"260000000\"],[\"PoS\",9327131.59708692,\"210000000\"],[\"Keccak\",4672513.84432375,\"366000000\"],[\"X11\",4504639.0,\"100000000\"],[\"Scrypt\",1059954080.43439,\"18000000000\"],[\"SHA-512\",1000000000.0,\"1000000000\"],[\"XEVAN\",6787405.18013774,\"50000000\"],[\"XEVAN\",208515864.367343,\"70000000000\"],[\"X11\",17209923728.3266,\"0\"],[\"Quark\",35312185.7437239,\"54000000\"],[\"Equihash\",13475920.0,\"105000000\"],[\"Scrypt\",14777549.3940764,\"21000000\"],[\"Quark\",18265011.2486006,\"19035999\"],[\"Quark\",1934701.67524713,\"13370000\"],[\"Scrypt\",30825710000.0296,\"74800000000\"],[\"X11\",715659.44237941,\"19700000\"],[\"Scrypt\",20546528.2059957,\"84000000\"],[\"XEVAN\",198938144.363399,\"500000000\"],[\"SHA-256D\",896361168.0,\"5000000000\"],[\"X11\",15420234.5389336,\"420000000\"],[\"X11\",23775960.3207514,\"30000000\"],[\"DPoS\",1000000000.0,\"1000000000\"],[\"Scrypt\",15318887081.0146,\"35000000000\"],[\"X11\",242574105.22384,\"0\"],[\"Scrypt\",3537150.0,\"200000000\"],[\"Scrypt\",20576532.0,\"54256119\"],[\"SHA-256\",4392258.24647793,\"21000000\"],[\"Scrypt\",9631199.99309942,\"0\"],[\"X11\",436353624.490312,\"500000000\"],[\"Scrypt\",980732528.97974,\"10500000000\"],[\"SHA-256\",17939725045.334,\"190000000\"],[\"X11\",494240666.028571,\"1000000000\"],[\"Scrypt\",60000000.0,\"15000000\"],[\"Scrypt\",404316475.545465,\"400000000\"],[\"X11\",201364327.427503,\"208000000\"],[\"Scrypt\",103621876.167052,\"160000000\"],[\"PoS\",3821245.74150193,\"9000000\"],[\"X11\",16901016.6609755,\"16504333\"],[\"SHA-256\",74676064.9488608,\"105000000\"],[\"DPoS\",120012140.0,\"159918400\"],[\"Scrypt\",10000244677.7002,\"10008835635\"],[\"Scrypt\",252005564.19257,\"300000000\"],[\"NeoScrypt\",1120385.00502,\"60168145\"],[\"X13\",140777.753365,\"120000\"],[\"DPoS\",1020544523.0722,\"0\"],[\"DPoS\",1122382283.37,\"0\"],[\"SHA-256\",1000000000.0,\"1000000000\"],[\"Leased POS\",100000000.0,\"100000000\"],[\"PoS\",9283137.5558676,\"8634140\"],[\"PoS\",1000000000.0,\"1000000000\"],[\"SHA-256\",1999999995.3056,\"2000000000\"],[\"Scrypt\",14931046.1546605,\"250000000\"],[\"Scrypt\",128326.99633965,\"1000000\"]],\"hovertemplate\":\"<b>%{hovertext}</b><br><br>Class=%{marker.color}<br>PC 1=%{x}<br>PC 2=%{y}<br>PC 3=%{z}<br>Algorithm=%{customdata[0]}<br>TotalCoinsMined=%{customdata[1]}<br>TotalCoinSupply=%{customdata[2]}<extra></extra>\",\"hovertext\":[\"42 Coin\",\"404Coin\",\"EliteCoin\",\"Dash\",\"Bitshares\",\"BitcoinDark\",\"PayCoin\",\"KoboCoin\",\"Aurora Coin\",\"BlueCoin\",\"EnergyCoin\",\"BitBar\",\"CryptoBullion\",\"CasinoCoin\",\"Diamond\",\"Exclusive Coin\",\"FlutterCoin\",\"HoboNickels\",\"HyperStake\",\"IOCoin\",\"MaxCoin\",\"MintCoin\",\"MazaCoin\",\"Nautilus Coin\",\"NavCoin\",\"OpalCoin\",\"Orbitcoin\",\"PotCoin\",\"PhoenixCoin\",\"Reddcoin\",\"SuperCoin\",\"SyncCoin\",\"TeslaCoin\",\"TittieCoin\",\"TorCoin\",\"UnitaryStatus Dollar\",\"UltraCoin\",\"VeriCoin\",\"X11 Coin\",\"Crypti\",\"StealthCoin\",\"ZCC Coin\",\"BurstCoin\",\"StorjCoin\",\"Neutron\",\"FairCoin\",\"RubyCoin\",\"Kore\",\"Dnotes\",\"8BIT Coin\",\"Sativa Coin\",\"Ucoin\",\"Vtorrent\",\"IslaCoin\",\"Nexus\",\"Droidz\",\"Squall Coin\",\"Diggits\",\"Paycon\",\"Emercoin\",\"EverGreenCoin\",\"Decred\",\"EDRCoin\",\"Hitcoin\",\"DubaiCoin\",\"PWR Coin\",\"BillaryCoin\",\"GPU Coin\",\"EuropeCoin\",\"ZeitCoin\",\"SwingCoin\",\"SafeExchangeCoin\",\"Nebuchadnezzar\",\"Ratecoin\",\"Revenu\",\"Clockcoin\",\"VIP Tokens\",\"BitSend\",\"Let it Ride\",\"PutinCoin\",\"iBankCoin\",\"Frankywillcoin\",\"MudraCoin\",\"Lutetium Coin\",\"GoldBlocks\",\"CarterCoin\",\"BitTokens\",\"MustangCoin\",\"ZoneCoin\",\"RootCoin\",\"BitCurrency\",\"Swiscoin\",\"BuzzCoin\",\"Opair\",\"PesoBit\",\"Halloween Coin\",\"CoffeeCoin\",\"RoyalCoin\",\"GanjaCoin V2\",\"TeamUP\",\"LanaCoin\",\"ARK\",\"InsaneCoin\",\"EmberCoin\",\"XenixCoin\",\"FreeCoin\",\"PLNCoin\",\"AquariusCoin\",\"Creatio\",\"Eternity\",\"Eurocoin\",\"BitcoinFast\",\"Stakenet\",\"BitConnect Coin\",\"MoneyCoin\",\"Enigma\",\"Russiacoin\",\"PandaCoin\",\"GameUnits\",\"GAKHcoin\",\"Allsafe\",\"LiteCreed\",\"Klingon Empire Darsek\",\"Internet of People\",\"KushCoin\",\"Printerium\",\"Impeach\",\"Zilbercoin\",\"FirstCoin\",\"FindCoin\",\"OpenChat\",\"RenosCoin\",\"VirtacoinPlus\",\"TajCoin\",\"Impact\",\"Atmos\",\"HappyCoin\",\"MacronCoin\",\"Condensate\",\"Independent Money System\",\"ArgusCoin\",\"LomoCoin\",\"ProCurrency\",\"GoldReserve\",\"GrowthCoin\",\"Phreak\",\"Degas Coin\",\"HTML5 Coin\",\"Ultimate Secure Cash\",\"QTUM\",\"Espers\",\"Denarius\",\"Virta Unique Coin\",\"Bitcoin Planet\",\"BritCoin\",\"Linda\",\"DeepOnion\",\"Signatum\",\"Cream\",\"Monoeci\",\"Draftcoin\",\"Stakecoin\",\"CoinonatX\",\"Ethereum Dark\",\"Obsidian\",\"Cardano\",\"Regalcoin\",\"TrezarCoin\",\"TerraNovaCoin\",\"Rupee\",\"WomenCoin\",\"Theresa May Coin\",\"NamoCoin\",\"LUXCoin\",\"Xios\",\"Bitcloud 2.0\",\"KekCoin\",\"BlackholeCoin\",\"Infinity Economics\",\"Magnet\",\"Lamden Tau\",\"Electra\",\"Bitcoin Diamond\",\"Cash & Back Coin\",\"Bulwark\",\"Kalkulus\",\"GermanCoin\",\"LiteCoin Ultra\",\"PhantomX\",\"Digiwage\",\"Trollcoin\",\"Litecoin Plus\",\"Monkey Project\",\"TokenPay\",\"1717 Masonic Commemorative Token\",\"My Big Coin\",\"Unified Society USDEX\",\"Tokyo Coin\",\"Stipend\",\"Pushi\",\"Ellerium\",\"Velox\",\"Ontology\",\"Bitspace\",\"Briacoin\",\"Ignition\",\"MedicCoin\",\"Bitcoin Green\",\"Deviant Coin\",\"Abjcoin\",\"Semux\",\"Carebit\",\"Zealium\",\"Proton\",\"iDealCash\",\"Bitcoin Incognito\",\"HollyWoodCoin\",\"Swisscoin\",\"Xt3ch\",\"TheVig\",\"EmaratCoin\",\"Dekado\",\"Lynx\",\"Poseidon Quark\",\"BitcoinWSpectrum\",\"Muse\",\"Trivechain\",\"Dystem\",\"Giant\",\"Peony Coin\",\"Absolute Coin\",\"Vitae\",\"TPCash\",\"ARENON\",\"EUNO\",\"MMOCoin\",\"Ketan\",\"XDNA\",\"PAXEX\",\"ThunderStake\",\"Kcash\",\"Bettex coin\",\"BitMoney\",\"Junson Ming Chan Coin\",\"HerbCoin\",\"PirateCash\",\"Oduwa\",\"Galilel\",\"Crypto Sports\",\"Credit\",\"Dash Platinum\",\"Nasdacoin\",\"Beetle Coin\",\"Titan Coin\",\"Award\",\"Insane Coin\",\"ALAX\",\"LiteDoge\",\"TruckCoin\",\"OrangeCoin\",\"BitstarCoin\",\"NeosCoin\",\"HyperCoin\",\"PinkCoin\",\"AudioCoin\",\"IncaKoin\",\"Piggy Coin\",\"Genstake\",\"XiaoMiCoin\",\"CapriCoin\",\" ClubCoin\",\"Radium\",\"Creditbit \",\"OKCash\",\"Lisk\",\"HiCoin\",\"WhiteCoin\",\"FriendshipCoin\",\"Triangles Coin\",\"EOS\",\"Oxycoin\",\"TigerCash\",\"Waves\",\"Particl\",\"Nxt\",\"ZEPHYR\",\"Gapcoin\",\"BitcoinPlus\"],\"legendgroup\":\"0\",\"marker\":{\"color\":[0,0,0,0,0,0,0,0,0,0,0,0,0,0,0,0,0,0,0,0,0,0,0,0,0,0,0,0,0,0,0,0,0,0,0,0,0,0,0,0,0,0,0,0,0,0,0,0,0,0,0,0,0,0,0,0,0,0,0,0,0,0,0,0,0,0,0,0,0,0,0,0,0,0,0,0,0,0,0,0,0,0,0,0,0,0,0,0,0,0,0,0,0,0,0,0,0,0,0,0,0,0,0,0,0,0,0,0,0,0,0,0,0,0,0,0,0,0,0,0,0,0,0,0,0,0,0,0,0,0,0,0,0,0,0,0,0,0,0,0,0,0,0,0,0,0,0,0,0,0,0,0,0,0,0,0,0,0,0,0,0,0,0,0,0,0,0,0,0,0,0,0,0,0,0,0,0,0,0,0,0,0,0,0,0,0,0,0,0,0,0,0,0,0,0,0,0,0,0,0,0,0,0,0,0,0,0,0,0,0,0,0,0,0,0,0,0,0,0,0,0,0,0,0,0,0,0,0,0,0,0,0,0,0,0,0,0,0,0,0,0,0,0,0,0,0,0,0,0,0,0,0,0,0,0,0,0,0,0,0,0,0,0,0,0,0,0,0,0,0,0,0,0,0,0,0,0,0,0,0,0,0,0,0,0,0,0,0],\"coloraxis\":\"coloraxis\",\"symbol\":\"circle\"},\"mode\":\"markers\",\"name\":\"0\",\"scene\":\"scene\",\"showlegend\":true,\"x\":[-0.3287059722233517,-0.31205279462276225,2.2930928598941662,-0.4044305681620737,-0.22434162649985753,-0.3216499566578911,-0.2814596104502942,-0.25247614935735474,-0.3283656595422823,-0.32095054577648724,-0.32720397633182624,-0.328701905868518,-0.328686195531442,0.7115554759228052,-0.39302123660438076,-0.3708599816884251,-0.2530152367741127,-0.3267650644341993,-0.3440832655608874,-0.4043253646392208,-0.40112644763684524,-0.028683905928604023,-0.2849605913726319,-0.28826662329869046,-0.29240548630086655,-0.29302710218003325,-0.35169629281486264,-0.32300828872771564,-0.3271079853224865,0.029094148571970253,-0.363950917504863,-0.40469686378305386,-0.25173251452061096,-0.32570656449584345,-0.4046084597717974,-0.30394119227031774,-0.327383350539689,-0.24837584505324908,-0.4045730272363216,-0.25220108657171925,-0.2928081744704209,-0.3198047785666778,0.09740451210702386,-0.3608126876951498,-0.3208618343214642,-0.39244340690640933,-0.28824710850998686,-0.293102263582699,-0.2828998435055469,-0.32868805785308086,-0.2930545201909593,-0.3643950821912075,-0.3284224368609131,-0.40467841029897905,-0.37255154579912964,-0.4110579497518323,-0.2204549695769596,-0.2866488906813188,-0.2925761018840569,-0.3142012709591996,-0.2549194082740707,-0.0782836313542743,-0.3216208983352896,-0.08211439970573235,-0.3216846791141111,-0.24504277707446057,-0.3282981541368784,-0.28651651272758333,-0.40184540038744104,0.8650601845023824,-0.321484555360059,-0.019001045092507947,-0.3705433016111883,-0.40252250390280847,-0.32022696094159075,-0.3178935530755563,-0.36628457893905797,-0.4034130312618224,-0.3653955499308993,-0.3045921698851779,-0.32833618567327216,-0.3267759651392156,-0.2516049963411117,-0.3518896589170969,-0.4041521784834704,-0.32754058679137654,-0.3216655150487024,-0.4046675738445886,-0.32852546570924646,-0.3286822964488811,-0.28650892650016585,-0.19801323462818668,0.024166351610278736,-0.36950068473191633,-0.32829682119930104,-0.39082401896271507,-0.36883039857589806,-0.2530367604320077,-0.41891300809360954,-0.3685762424210732,-0.290219405273675,3.7029547286074966,-0.4042601602835397,0.8380434237458237,-0.4046225157324318,-0.36996429924276614,-0.3282239527752533,-0.3283780875154615,-0.3705433016111883,-0.4041971091453161,-0.32152833171193873,-0.32822475869718837,-0.4121034757219456,-0.3283720726985619,-0.323956358771466,-0.40465146730658313,-0.3275820464926375,0.3548065846299329,-0.32857135042795765,-0.32864197804448336,-0.37440638347193245,-0.3509888740095257,-0.3248659950475376,-0.32164195123316913,-0.4045614490534057,-0.3284197882758545,-0.32854659565358163,-0.2881530051688877,-0.24322529841699028,-0.2528046822422704,-0.3094058940865495,-0.2878946454814034,-0.40382673673186603,-0.4254257394025693,-0.40256618259757443,-0.36879037372637663,-0.40372471931595033,-0.36319192323624,-0.39966446570622804,-0.3284899454800551,-0.3284890418755134,-0.32160491515554007,0.25165412005629956,-0.40420350819055384,-0.2707868230880762,-0.3705774354144395,-0.32770031637049185,0.8795232107785936,-0.28014887450556264,-0.36417421642491987,0.5817237543154529,-0.3678197856170204,-0.3663220369582613,-0.45210780036933,-0.2927396591287332,0.13643629319044423,-0.29281050576883216,-0.3463500991060976,-0.45161315794786266,-0.4044760221773127,-0.288227616704268,-0.3704434336964342,-0.3281251441627846,-0.3286249127023771,-0.2823951855392547,0.635417844140401,-0.4044166829351043,-0.3466952424378889,-0.32858042292865025,-0.3465708931993256,0.4401217622657633,-0.3199887894689347,-0.35258595762030437,-0.4014256612339591,-0.3285307417644998,-0.41297442364175524,-0.3969498460855177,-0.3284013439920483,-0.10799399153240574,-0.4032089931053745,3.707810898032023,0.19152215139327683,-0.289482091399757,-0.32586154468943124,-0.32745624484926783,-0.374292332205067,0.08598726079695376,-0.32753896989024084,-0.40379078060949875,-0.3734565879108103,-0.31510700754105686,-0.32864702564864884,-0.3643670256683622,-0.36567730616897953,-0.2870009164699985,-0.2667131340145775,-0.3241936156924004,-0.2445982219176387,-0.3874682161952743,-0.40449305276275876,-0.17860743249496464,-0.28738703894524936,-0.35602347281774976,-0.36741861716704194,-0.32867436705394604,-0.32865606992775503,-0.281769019732138,-0.38093433705971164,-0.37003794067511453,-0.32837253162147584,3.9007988774736533,-0.41164372286137724,-0.37022653191936067,-0.3421887541999344,-0.27522804175005927,0.005481741102152347,-0.28792200834293474,-0.1318451677704101,-0.28817359544863813,-0.3555668969621872,-0.3278463741763114,-0.21413589072572745,2.2509562834356767,-0.36999630521292787,-0.28027775565815755,1.0020381210969225,-0.3816525351353951,-0.3744057429836532,-0.41465945875689336,-0.1688033349410386,-0.3866259581475415,-0.3731254872439091,-0.32154506363981666,-0.3639444014920072,-0.4039665720808125,-0.2854189388628744,-0.3693255237793872,-0.3453335998075439,-0.3638053355779757,-0.1880599067404685,-0.16146530503868872,-0.1384735837787262,0.9288912597090403,-0.15452056400457514,-0.41395413579640805,-0.28738167296907213,-0.3283766171549926,-0.4144102666934614,-0.37452270569256607,0.5782282862054935,-0.36442130545383417,-0.3278592238704237,-0.1730627048166704,-0.31026709317914813,-0.4015287981415036,-0.40419384804878555,3.7200473183279965,0.10658637375720065,-0.40173623829955046,-0.32724381061758545,-0.32806988917704577,-0.28149209982044754,-0.3285884230473273,-0.3958236576514847,-0.2422389804447004,-0.10151717280378705,-0.39156966149458844,-0.32786724128635886,-0.3209332583373118,-0.4007634580264999,-0.3263060623738252,-0.37081880981558846,-0.3929621751398398,-0.3201653754817035,3.703346616288789,-0.09551243434489533,-0.3235017273723547,-0.3513217840785035,-0.2932095178759601,3.7132031114554285,3.714446053910147,-0.26239462298960625,-0.4899753935282092,-0.3707547425110883,-0.3794363285496449,2.4559649352331214,-0.3267499989405511,-0.2885702373738874],\"y\":[1.0432918553091917,1.0434222239662945,1.648017371916866,1.2081903048271496,1.7044406753956665,0.8415298519672578,0.6259628576542408,1.863547677907112,1.043290254306834,1.0435317623679363,1.043338318209588,1.0432916194911301,1.0432917438386407,0.5244092051922374,0.9300544625473248,1.5544956008817912,0.30877485896910895,1.0432651025703583,0.9932558884710834,1.2081935592019672,2.044532631341602,0.8357556466803155,0.840930969564313,0.8277139900007979,1.795260827833851,1.7952415987148105,0.5374225680282516,1.0431643325489979,1.0432704066720153,1.0543600750329978,0.9926413008180108,1.208197978538136,0.16625265999932348,1.6341985690933987,1.2081934812105612,1.0429006914700985,1.0432604419510896,0.33705977687285565,1.2081978320203195,0.1663104926325488,1.7952483710433988,1.042843930815962,0.9955354357596671,1.5044602755956882,0.8415209611699469,0.930075505124555,0.8277262962594288,1.7952305943677598,0.8275300716080644,1.0432924095042366,1.7952335178155703,0.9926130954931566,1.0432861607505748,1.2081985501030736,2.2809934270147525,1.897414015517615,0.7846383002039176,0.8277034081857915,1.7952193862560675,0.8410529074835154,1.8637062234293842,0.9068793036670605,0.8415307508599069,1.1989738266405952,0.8415370955201656,1.5529667798426814,1.0432740932771496,0.8276199488569782,1.208008449146885,0.7917985966805836,0.8415219495585831,0.5291878786714108,1.554490931594256,1.2082109954858564,0.8414286917021613,0.8412822456474701,1.549151180788572,1.2081371582479288,1.5149195944257363,1.0425912441472682,1.0432712291653443,1.0432792308632788,1.5795611816867183,0.9925392132755995,1.2081786648626232,1.043262810739497,0.8415300939574725,1.2081967154944453,1.0432822503725112,1.0432925877280095,0.8277800653311359,0.4231503631170055,1.9077463239807115,1.5544841271545031,1.043304512052516,1.2075422108156033,1.5545294532614988,1.5796597380592026,1.9439838880129603,1.5543485405497866,1.9070576834702293,1.9004467905475537,1.2081897900406042,1.8296154480000801,1.2081974921361949,1.5544871442588921,1.0432788911593032,1.0432716206111463,1.554490931594256,1.2081700422255341,0.8415350608734172,1.0432828731713106,0.5411789669336725,1.0432819325213953,1.0429681744211112,1.2081957671858503,1.043222471381614,0.8241013540304173,1.0432866171691846,1.0432914367143273,1.4443635781287087,0.6094709167630266,1.043049004116944,0.8415308228825676,1.2081954026796946,1.0432862426821328,1.0432809216807446,0.8276894271455383,0.2267317725369584,1.579658220003348,1.0431656108023655,0.8277122996163838,1.208152568365076,1.8675652808681997,1.2081843297068908,1.5544798523115337,1.2081557241805894,1.5544434953357698,1.2079920144894412,1.0432831957365571,1.0432778802219336,1.0427882452359811,0.5882176735557343,1.2081843097731852,0.8268198646029021,1.5544826429481187,1.043247020528766,1.8337234564056883,0.6258677291453877,1.5149092774863107,2.0710057801130297,1.5491615525582951,1.5491283238145859,1.9324919936674547,1.7952287922584687,1.0215168654951694,1.7952346303436886,1.515605648682167,1.9325072949786402,1.208197934424969,0.827714309977916,1.5544639327099954,1.0432749232684275,1.0432913250875409,1.7051829442448856,1.406024652736743,1.2081871179798853,0.5372906877712197,1.0432843595687529,0.6655523935360431,1.0489929682338905,0.8415248232204358,1.5487721000751888,1.8502935206760214,1.043282087162564,1.659853822266413,1.3968174696756082,1.0432905827479035,0.6248284256362401,1.208139853607733,1.9003257836549718,1.5447732724673309,1.7951993726722193,1.0432279573946104,1.333580231125854,1.4443634898263358,1.019956270790475,1.0432194642680555,1.2081898443755223,1.4443170153308422,1.0430615795500253,1.0432907856987226,0.9926132401212326,1.514917026389961,-0.07774532074895965,0.42008962371147934,1.043263641207687,1.5793439649610415,0.9519900353064814,1.2081862020986995,1.4968616311054888,0.8276632156484234,1.6080753146971818,1.5491450313450776,1.0432906631921544,1.043289782647402,0.827565052607877,1.606894671210528,1.5544573817855865,1.043280471775408,1.7970065618933715,1.6598949862787413,1.5544573340863326,0.6141472663193779,1.0412415679252802,1.0733254354932698,0.8277175477907955,1.0420041612908075,0.8276967462270013,1.9103927918125674,1.0432576911351261,1.648104633166725,0.30722310904000805,1.4440407203622,0.6259359410595348,1.7010414759200114,0.8297164508916371,1.4443592582927482,1.6599426266194173,0.8192123013694159,0.8811098304297128,1.4443417231236002,1.0427900966879133,0.9926017222701794,1.2081844064270377,0.8276257316509373,1.554391180223852,0.8953107143848045,0.9925734767805184,1.0346236661792505,2.1343951923206412,1.2812932507316244,1.2444379363645688,0.9991198373759682,1.6599291138891508,-0.0777210901320948,1.043286854866483,1.6599402924780688,1.4443611587450829,1.0172460816131808,0.99261250128294,1.0432572936415834,1.49671491127025,1.9082500532514615,1.2079922050546958,1.2081918413489745,1.9003426687255927,1.0314426077215,1.2082895635046151,1.0431924310097012,1.0432722899028573,0.6259557047893585,1.0432954916158828,1.2081108263759655,1.0383722471560115,0.8482179482571286,1.207880782452093,1.0433069515922697,1.043242987213732,1.2081692144120293,1.0432503703870166,1.5544903650227246,0.6437608095655677,0.8415157443194708,1.9004336576355334,0.8264492285120714,1.043235861453148,0.5373933617558979,1.7952358690590144,1.900854224255197,1.9008926735439349,0.6258383817370228,3.0469207826486566,1.5544926115035524,1.7447188860145857,0.8251373345247791,1.0431715428819008,0.8277155772885634],\"z\":[-0.5041681452640789,-0.5046603123145783,-0.5554384930166291,-0.41321568663922426,-0.2257098007180746,-0.2900587879648847,-0.050809974516315026,-0.5262210469409472,-0.5041774777455146,-0.5044278128834929,-0.5042184351781887,-0.504168219938381,-0.5041686844719587,-0.16735031835174347,-0.352479610850858,-0.16915681059151697,-0.32282747049511207,-0.5042183754605895,-0.17464330653145835,-0.41321920906935217,-0.609736523214612,-0.2736178636080698,-0.29099245980361765,-0.26492451128990463,-0.5075002157134006,-0.5074794027363941,-0.23915324759322054,-0.5043072715564698,-0.5042095989193818,-0.5161480285647938,-0.1739780967179006,-0.4132094755464612,0.08612435173307599,-0.24029228636724687,-0.41321120600156114,-0.5048005824602873,-0.5042001332028915,-0.41489292651120474,-0.4132129456827797,0.08612774433000836,-0.5074867328859913,-0.5043432139419609,0.23563086090535962,-0.06925178917805326,-0.29007951968745804,-0.3524994963482714,-0.26492715420353163,-0.5074754106391958,-0.26504471083300274,-0.5041687450791854,-0.5074772551092245,-0.17396076593983442,-0.5041751793841901,-0.41321009352999005,-0.5773599632586378,-0.5360504973505152,-0.06590518555644417,-0.2649683696624302,-0.5074883550739651,-0.2901879288411737,-0.526179044521784,-0.4141925490264247,-0.2900597608972379,-0.4207455694416664,-0.2900590394438937,-0.4503440462920967,-0.504176635470374,-0.26495791712519,-0.41325773127588594,-0.29136905569434324,-0.29006211263174364,-0.14754419009174802,-0.16916495445961213,-0.4132730555876898,-0.29008175132202874,-0.2901227104001015,-0.44627355508083816,-0.4132353693604862,-0.08449704868621596,-0.5047296017591619,-0.5041750751860662,-0.5042204697142287,-0.26824607067998507,-0.17430114668087227,-0.41322156477342953,-0.5041960982258985,-0.2900583899995712,-0.41321008747200444,-0.5041716068050494,-0.5041689379828372,-0.26498535210904856,-0.3134188626751581,-0.6477802597260522,-0.16919322348978916,-0.5041818444863146,-0.4134895246483527,-0.16921984675401408,-0.2682224171732911,-0.5151549797126879,-0.16919626343885816,-0.6387902605551341,-0.10746055750029454,-0.4132204085525126,-0.5452454508611532,-0.4132114911837799,-0.16918065180124625,-0.5041795453315134,-0.5041739591366022,-0.16916495445961213,-0.4132188307867202,-0.2900631061411695,-0.5041801995547562,-0.22941288127398787,-0.5041758819871826,-0.5042471659251843,-0.41321038082883,-0.5041880701444663,-0.28245982764880184,-0.504171054183035,-0.5041698802112059,-0.19451702422649642,-0.30558152385244647,-0.5042352348048662,-0.29005917896453715,-0.4132128594501982,-0.5041752680642606,-0.5041707845669904,-0.2649235420897467,-0.3728939124409367,-0.2682287090484696,-0.5046913899632512,-0.26493472226257164,-0.41322631315292174,-0.6041634286171691,-0.41326728947985647,-0.16921254388238208,-0.4132297289056446,-0.1693643683128859,-0.4133164899071305,-0.5041727700125802,-0.5041718918418264,-0.5042829416698257,-0.059439136077151185,-0.41322107576517997,-0.26526583727462316,-0.1691625819739149,-0.5041889057276253,-0.5530992058462879,-0.05083079499918115,-0.084529764496526,-0.619406479530435,-0.4462319901331044,-0.4462686120619164,-0.7201543227434066,-0.5074853380729591,-0.5135939850374186,-0.5074843310782795,-0.16060540950882798,-0.720170884388129,-0.41321570087111087,-0.2649256665733201,-0.16916318304510447,-0.5041816594440168,-0.5041703428699441,-0.22419754278218101,-0.10714282948030295,-0.4132155367372429,-0.23927197196890318,-0.5041704143221181,-0.04901932491584132,-0.52683603814645,-0.2901048162525298,-0.4465957257159694,-0.47862812631835694,-0.5041714301518777,-0.4337985760572501,-0.22728680714062865,-0.5041765264586133,-0.05551284267615844,-0.4132415861693358,-0.10757704143835996,-0.4612722897386803,-0.5075722750497804,-0.504237560615911,-0.20698562905701112,-0.19452022808936661,-0.5119048477640621,-0.5041887746681404,-0.4132336651168946,-0.19453591436750953,-0.5045128011276689,-0.5041696270753792,-0.17396158236829112,-0.0844886600818259,0.12717361320301246,-0.21449999103384512,-0.5042907011513873,-0.26840689493674985,-0.38239904361250154,-0.4132132256416435,-0.319823297246672,-0.26494070386374424,-0.05644061696761022,-0.4462405036138924,-0.5041688345905273,-0.5041692012927469,-0.2650825731366912,-0.08117309295358195,-0.16917351359464092,-0.5041756206983358,-0.19977235120933676,-0.43384313065386343,-0.16916818286490098,-0.05341104943067723,-0.5053288930486207,0.02748131076441979,-0.2649348422240434,-0.509505241397701,-0.2649242052622733,-0.6375129457270243,-0.5041865976053749,-0.28694109063488454,-0.4413442293864145,-0.19458660210429085,-0.050838754063792777,-0.09820181911517119,-0.292680741127709,-0.19451630790186686,-0.4337661165603059,-0.26685078568307424,-0.2882703315889061,-0.19454945952986705,-0.5042849456215623,-0.17397155200038103,-0.4132277792571972,-0.2649898771236182,-0.16918236546324564,-0.37679221390319056,-0.17397067494175428,-0.5066639560790918,-0.35499769869227915,-0.08057265362678384,0.089155314646249,-0.18099025531611368,-0.43378372567207846,0.10300810985935814,-0.5041765905605178,-0.43377275270121396,-0.19451332994689582,-0.5253366415735837,-0.1739599248195894,-0.5041861673712109,-0.3199548430271653,-0.6384271644925651,-0.41326390515271416,-0.4132226288223988,-0.10792526114366849,-0.5144389721282178,-0.4133086034944645,-0.5041925091280094,-0.5041827712185123,-0.05080784153199075,-0.504172081057224,-0.41344508805336405,-0.5057721412240471,-0.2974086283781963,-0.4135260397952376,-0.5041943832808206,-0.5043792070696095,-0.4133155981679007,-0.5042288253294968,-0.16915708245618513,-0.04960982416441436,-0.290098288982041,-0.10746938508345186,-0.2701496048838402,-0.5043055056065306,-0.23915885211015905,-0.5074732803286546,-0.10781906461544243,-0.10786068088297582,-0.05132688491115815,-1.575287912658465,-0.16915927254791777,-0.3135938534149701,-0.06105983437814522,-0.5042028948785922,-0.26491621222358125],\"type\":\"scatter3d\"},{\"customdata\":[[\"SHA-256\",17927175.0,\"21000000\"],[\"Ethash\",107684222.6865,\"0\"],[\"Scrypt\",63039243.3000049,\"84000000\"],[\"CryptoNight-V7\",17201143.1449131,\"0\"],[\"Ethash\",113359703.0,\"210000000\"],[\"Equihash\",7383056.25,\"21000000\"],[\"Multiple\",11406219141.0,\"21000000000\"],[\"Scrypt\",5768310.0,\"21000000\"],[\"X11\",11149733.9976203,\"20000000\"],[\"Scrypt\",12205795.4449549,\"64000000\"],[\"Multiple\",1688254250.0,\"2000000000\"],[\"Scrypt\",88.0,\"384000000000\"],[\"SHA-256\",170204389.754849,\"169795588\"],[\"Scrypt\",128940951.183046,\"250000000\"],[\"Scrypt\",7357794.7925,\"100000000\"],[\"Quark\",259557164.91477,\"247000000\"],[\"Groestl\",49548585.1412917,\"84000000\"],[\"Scrypt\",33442988.3440364,\"48166000\"],[\"Scrypt\",7219956.64626131,\"21000000 \"],[\"Scrypt\",4703879.51824446,\"13140000\"],[\"X11\",4996986.20575291,\"18000000\"],[\"Multiple\",15929530669.1206,\"16555000000\"],[\"SHA-256\",18773857500.0,\"21000000000\"],[\"Scrypt\",12539015186.822,\"13500000000\"],[\"Scrypt\",20910478.8062499,\"21000000 \"],[\"Scrypt\",218871896.499999,\"299792458\"],[\"Scrypt\",19496786.31025,\"32000000\"],[\"Scrypt\",1142732.14912776,\"11235813\"],[\"NeoScrypt\",208669093.00773,\"336000000\"],[\"Scrypt\",884125802.0,\"1420609614\"],[\"Scrypt\",65672720.4708748,\"70000000\"],[\"Scrypt\",41658647.9999715,\"72245700\"],[\"Scrypt\",90595753018.6314,\"90600000000\"],[\"SHA-256\",21089348.999,\"21000000\"],[\"Scrypt\",151447649.8,\"265420800\"],[\"Scrypt\",19326319.14375,\"20000000\"],[\"Scrypt\",1104344.22938102,\"1350000\"],[\"Scrypt\",38151999.9930997,\"42000000\"],[\"HybridScryptHash256\",40431856.9,\"200000000\"],[\"Scrypt\",5804204.88794916,\"10000000\"],[\"Scrypt\",2366066305.76482,\"15000000000\"],[\"SHA-256\",14736400.0,\"21000000\"],[\"Scrypt\",334709223.483138,\"337000000\"],[\"Scrypt\",1104157.42169891,\"21000000\"],[\"Scrypt\",24215181.725,\"250000000\"],[\"Scrypt\",25593737.1355044,\"51200000\"],[\"SHA-256\",563336541.299966,\"888000000\"],[\"SHA-256\",43536800.0,\"47011968\"],[\"SHA-256\",22935396.0,\"42000000\"],[\"SHA-256\",2278150.0,\"80000000\"],[\"SHA-256\",200911.79151896,\"250000\"],[\"X11\",1207310.0,\"0\"],[\"Scrypt\",23150892.1679687,\"23000000\"],[\"Lyra2REv2\",51173723.8166347,\"84000000\"],[\"Scrypt\",119606941.0,\"265420800\"],[\"SHA-256\",39195739.362088,\"45000000\"],[\"CryptoNight\",184066828814.0,\"184467440735\"],[\"CryptoNight\",6906587610.38292,\"10000000000\"],[\"Scrypt\",68194674.8711679,\"105120000\"],[\"Scrypt\",415032420.0,\"1680000000\"],[\"Scrypt\",137517654.41397,\"166386000\"],[\"Scrypt\",181919.2435974,\"2628000\"],[\"Scrypt\",152270664.860648,\"160000000\"],[\"Scrypt\",792537250.0,\"1000000000\"],[\"Stanford Folding\",719416990.0,\"1000000000\"],[\"Multiple\",65113302.0,\"0\"],[\"QuBit\",6365285.0,\"0\"],[\"Scrypt\",10140044.4430293,\"3371337\"],[\"Scrypt\",4610340640.89,\"10000000000\"],[\"M7 POW\",708506520.0,\"1840000000\"],[\"Scrypt\",619478.0,\"619478\"],[\"SHA-256\",12462620.0,\"21000000\"],[\"Scrypt\",88213.0,\"92000000000\"],[\"X11\",32221574.820996,\"33000000\"],[\"Lyra2RE\",13742738.0,\"65789100\"],[\"SHA-256\",14747200.0002,\"53760000\"],[\"X11\",15863837.5,\"21000000\"],[\"Scrypt\",32565300.0,\"210240000\"],[\"Scrypt\",75614500.0,\"250000000\"],[\"Ethash\",10495278.0,\"16906397\"],[\"Blake2b\",33098296530.0,\"0\"],[\"X11\",15867695.0,\"16000000\"],[\"SHA-256\",20997476.8650231,\"21000000\"],[\"Scrypt\",210000000.0,\"210000000\"],[\"1GB AES Pattern Search\",11448949.0,\"81962100\"],[\"Scrypt\",69836100.0,\"84000000\"],[\"SHA-256\",21739971929.0,\"21626280000 \"],[\"X11\",45110324.0,\"84000000\"],[\"Dagger\",5702048.0,\"30000000\"],[\"Scrypt\",636462.55983338,\"168351300\"],[\"X11GOST\",17263355.0,\"24000000\"],[\"Scrypt\",6570807.65677618,\"20000000\"],[\"X11\",13654082.4987998,\"25000000\"],[\"Scrypt\",616448.0,\"616448\"],[\"X11\",1377917.0,\"25000000\"],[\"Equihash\",115898131.0,\"200000000\"],[\"CryptoNight\",7822432.72439746,\"10000000\"],[\"SHA-256\",6243840.0,\"9736000\"],[\"Multiple\",1000000000.0,\"1200000000\"],[\"Scrypt\",116845228.0,\"200000000\"],[\"SHA-256\",9106714.0,\"10638298\"],[\"Scrypt\",11119200.0,\"30000000\"],[\"Lyra2Z\",7568281.24956067,\"21400000\"],[\"Ethash\",26205539.0,\"26205539\"],[\"Equihash\",5613550.0,\"21000000\"],[\"Scrypt\",196297971.0,\"10000000000\"],[\"X11\",824000000.0,\"500000000\"],[\"X11\",61364813.0,\"228000000\"],[\"CryptoNight\",978145.0,\"21000000\"],[\"Scrypt\",894026.0,\"2714286\"],[\"CryptoNight\",9357088.0,\"25000000\"],[\"Lyra2RE\",1876146.443596,\"9999999\"],[\"X11\",536982074.0,\"100000000000\"],[\"CryptoNight-V7\",10969318.522954,\"185000000\"],[\"Scrypt\",3115258.0,\"3360000\"],[\"X11\",30385540.0,\"1000000000\"],[\"Equihash\",6921653.89980891,\"17000000\"],[\"Scrypt\",99843408.3158479,\"100000000 \"],[\"Lyra2RE\",18545757.5,\"21000000\"],[\"Dagger-Hashimoto\",2232901.0,\"2232901\"],[\"Scrypt\",64096052.0,\"4000000000\"],[\"NIST5\",10123200.0,\"48252000\"],[\"Scrypt\",20276099.146524,\"35520400\"],[\"SHA-256\",1317747500.0,\"2500000000\"],[\"Scrypt\",13673406.4325268,\"72000000\"],[\"CryptoNight-V7\",69036016.8340164,\"105000000\"],[\"Argon2d\",19784224.6512734,\"0\"],[\"Blake2b\",133248297.0,\"340282367\"],[\"Cloverhash\",18407259.0885883,\"30000000\"],[\"CryptoNight\",1809467143.0,\"2000000000\"],[\"X11\",35138975.0,\"100000000\"],[\"Scrypt\",18133195.0,\"19276800\"],[\"Scrypt\",5167775.0,\" 75000000\"],[\"X11\",26042364.3735553,\"60000000\"],[\"X11\",2622886.0,\"18900000\"],[\"CryptoNight\",14161803.0,\"54000000\"],[\"Time Travel\",17801865.1605478,\"21000000\"],[\"Scrypt\",163055097500.0,\"200000000000\"],[\"Keccak\",2241009149.22257,\"5000000000\"],[\"X11\",122475638.389743,\"1100000000\"],[\"SHA-256\",17995589.6469082,\"21000000\"],[\"Scrypt\",485214.0,\"10500000000\"],[\"Scrypt\",143006669741.687,\"0\"],[\"Scrypt\",9704042.0,\"20000000\"],[\"Scrypt\",17453749.4042601,\"84000000\"],[\"Scrypt\",32646731.063036,\"100000000\"],[\"Scrypt\",33716526.0,\"100000000\"],[\"CryptoNight\",8946653.0,\"88888888\"],[\"Equihash\",5211553258.01514,\"21000000000\"],[\"X11\",2702855668.85288,\"1800000000\"],[\"NeoScrypt\",4165967.57499639,\"27000000\"],[\"Equihash\",17202361.088994,\"21000000\"],[\"Dagger\",33986980.0,\"156306732.71\"],[\"Scrypt\",99990001.493466,\"100000000\"],[\"X11\",175215859.0,\"350000000\"],[\"NeoScrypt\",6375259.04,\"45000000\"],[\"Ethash\",12756367.0,\"280000000\"],[\"NeoScrypt\",5832306.875,\"31800000\"],[\"Multiple\",481730566.566176,\"660000000\"],[\"CryptoNight\",19281821413.4924,\"85000000000\"],[\"CryptoNight\",4500000.0,\"12500000\"],[\"Ethash\",520891780.0,\"10000000000\"],[\"X11\",80316207.0,\"550000000\"],[\"CryptoNight-V7\",441250233.377,\"999481516\"],[\"Scrypt\",3964201248.87125,\"4999999999\"],[\"BLAKE256\",30089671530.5228,\" 90000000000\"],[\"X11\",4229040.50393462,\"19800000\"],[\"NeoScrypt\",7847417.33355824,\"21000000\"],[\"NeoScrypt\",299797953.0,\"500000000\"],[\"Scrypt\",45483049.3398182,\"64000000\"],[\"X11\",8478104.33969947,\"23000000\"],[\"SHA-256\",20166000.0,\"20166000\"],[\"C11\",11916588.09471,\"23000000\"],[\"CryptoNight\",53139835213.77,\"1000000000000\"],[\"SkunkHash\",4818338.98949984,\"16600000\"],[\"CryptoNight\",133932467.774108,\"336000000\"],[\"Scrypt\",10000000000.0,\"10000000000\"],[\"Dagger\",107325266.027783,\"100000000\"],[\"Lyra2REv2\",643795911.540095,\"1100000000\"],[\"Scrypt\",12446100.00278,\"40000000\"],[\"Scrypt\",14491014421.0,\"18406979840\"],[\"X11\",211297638.500483,\"500000000\"],[\"Ethash\",247612453.0,\"6500000000\"],[\"CryptoNight\",80049082.9057215,\"1000000000\"],[\"Scrypt\",4070212.1493016,\"21000000\"],[\"IMesh\",25000000.0,\"25000000\"],[\"Equihash\",71355477.0,\"70000000\"],[\"Lyra2Z\",27340501.6514783,\"300000000\"],[\"X11\",31801461.1867843,\"100000000\"],[\"CryptoNight\",16016864.0,\"18400000\"],[\"NIST5\",21069346.2522598,\"21000000\"],[\"Lyra2RE\",5097689.71077377,\"26280000\"],[\"Tribus\",795447.0,\"18000000\"],[\"Lyra2Z\",6986399.70430446,\"10500000\"],[\"CryptoNight\",84300.0,\"600000518\"],[\"CryptoNight Heavy\",19153632.0,\"150000000\"],[\"CryptoNight\",41294520017.0,\"184000000000\"],[\"Jump Consistent Hash\",135862416.039898,\"168000000\"],[\"CryptoNight\",560085952.404637,\"1000000000\"],[\"X16R\",8125865.02097646,\"22075700\"],[\"HMQ1725\",8645406.16776286,\"21000000\"],[\"X11\",4993030.69736615,\"21000000\"],[\"Scrypt\",1416663.06600024,\"22105263\"],[\"CryptoNight-V7\",15580199.3087496,\"1750000000\"],[\"Cryptonight-GPU\",4890897.0,\"88188888\"],[\"XEVAN\",14746153.0962884,\"210000000\"],[\"CryptoNight Heavy\",99553110528.8022,\"184470000000\"],[\"SHA-256\",2100000000.0,\"2100000000\"],[\"X11\",5015881.37315389,\"25000000\"],[\"X16R\",9753753.61515394,\"100000000\"],[\"Equihash\",4235111504.0,\"7600000000\"],[\"Lyra2Z\",13634850.0,\"84000000\"],[\"SHA-256\",17992514.6469233,\"21000000\"],[\"CryptoNight\",1867054873.28397,\"8080000000\"],[\"Blake\",1578281.31341127,\"105120001.44\"],[\"Blake\",15846721.2482747,\"25228800\"],[\"Exosis\",406091.925,\"21000000\"],[\"Scrypt\",35284717.173946,\"120000000\"],[\"Equihash\",35687520.0,\"262800000\"],[\"Equihash\",25150787.5,\"30886000\"],[\"QuBit\",12925790.4226959,\"100000000\"],[\"SHA-256\",52293836.6277958,\"64000000\"],[\"X13\",1170292.5,\"2100000\"],[\"SHA-256\",84613099.9999955,\"168000000\"],[\"Scrypt\",55565076.3863525,\"98100000000\"],[\"NeoScrypt\",3824685012.0,\"4000000000\"],[\"Blake\",23356790.1494191,\"7000000000\"],[\"Scrypt\",780210700.0,\"1000000000\"],[\"SHA-256\",22986929.0854247,\"42000000\"],[\"Scrypt\",29583989322.9213,\"50000000000\"],[\"Groestl\",73298203.8873662,\"105000000\"],[\"Scrypt\",5052555.91981545,\"5000000\"],[\"Scrypt\",69684455.4387001,\"182000000\"],[\"Multiple\",3332922.5,\"2800000\"],[\"Equihash+Scrypt\",100000000.0,\"2100000000\"],[\"Ethash\",24487944.0958204,\"24487944\"],[\"CryptoNight\",980222595.0,\"1400222610\"],[\"Equihash\",7296537.5,\"21000000\"]],\"hovertemplate\":\"<b>%{hovertext}</b><br><br>Class=%{marker.color}<br>PC 1=%{x}<br>PC 2=%{y}<br>PC 3=%{z}<br>Algorithm=%{customdata[0]}<br>TotalCoinsMined=%{customdata[1]}<br>TotalCoinSupply=%{customdata[2]}<extra></extra>\",\"hovertext\":[\"Bitcoin\",\"Ethereum\",\"Litecoin\",\"Monero\",\"Ethereum Classic\",\"ZCash\",\"DigiByte\",\"ProsperCoin\",\"Spreadcoin\",\"Argentum\",\"MyriadCoin\",\"MoonCoin\",\"ZetaCoin\",\"SexCoin\",\"Quatloo\",\"QuarkCoin\",\"Riecoin\",\"Digitalcoin \",\"Catcoin\",\"CannaCoin\",\"CryptCoin\",\"Verge\",\"DevCoin\",\"EarthCoin\",\"E-Gulden\",\"Einsteinium\",\"Emerald\",\"Franko\",\"FeatherCoin\",\"GrandCoin\",\"GlobalCoin\",\"GoldCoin\",\"Infinite Coin\",\"IXcoin\",\"KrugerCoin\",\"LuckyCoin\",\"Litebar \",\"MegaCoin\",\"MediterraneanCoin\",\"MinCoin\",\"NobleCoin\",\"Namecoin\",\"NyanCoin\",\"RonPaulCoin\",\"StableCoin\",\"SmartCoin\",\"SysCoin\",\"TigerCoin\",\"TerraCoin\",\"UnbreakableCoin\",\"Unobtanium\",\"UroCoin\",\"ViaCoin\",\"Vertcoin\",\"WorldCoin\",\"JouleCoin\",\"ByteCoin\",\"DigitalNote \",\"MonaCoin\",\"Gulden\",\"PesetaCoin\",\"Wild Beast Coin\",\"Flo\",\"ArtByte\",\"Folding Coin\",\"Unitus\",\"CypherPunkCoin\",\"OmniCron\",\"GreenCoin\",\"Cryptonite\",\"MasterCoin\",\"SoonCoin\",\"1Credit\",\"MarsCoin \",\"Crypto\",\"Anarchists Prime\",\"BowsCoin\",\"Song Coin\",\"BitZeny\",\"Expanse\",\"Siacoin\",\"MindCoin\",\"I0coin\",\"Revolution VR\",\"HOdlcoin\",\"Gamecredits\",\"CarpeDiemCoin\",\"Adzcoin\",\"SoilCoin\",\"YoCoin\",\"SibCoin\",\"Francs\",\"BolivarCoin\",\"Omni\",\"PizzaCoin\",\"Komodo\",\"Karbo\",\"ZayedCoin\",\"Circuits of Value\",\"DopeCoin\",\"DollarCoin\",\"Shilling\",\"ZCoin\",\"Elementrem\",\"ZClassic\",\"KiloCoin\",\"ArtexCoin\",\"Kurrent\",\"Cannabis Industry Coin\",\"OsmiumCoin\",\"Bikercoins\",\"HexxCoin\",\"PacCoin\",\"Citadel\",\"BeaverCoin\",\"VaultCoin\",\"Zero\",\"Canada eCoin\",\"Zoin\",\"DubaiCoin\",\"EB3coin\",\"Coinonat\",\"BenjiRolls\",\"ILCoin\",\"EquiTrader\",\"Quantum Resistant Ledger\",\"Dynamic\",\"Nano\",\"ChanCoin\",\"Dinastycoin\",\"DigitalPrice\",\"Unify\",\"SocialCoin\",\"ArcticCoin\",\"DAS\",\"LeviarCoin\",\"Bitcore\",\"gCn Coin\",\"SmartCash\",\"Onix\",\"Bitcoin Cash\",\"Sojourn Coin\",\"NewYorkCoin\",\"FrazCoin\",\"Kronecoin\",\"AdCoin\",\"Linx\",\"Sumokoin\",\"BitcoinZ\",\"Elements\",\"VIVO Coin\",\"Bitcoin Gold\",\"Pirl\",\"eBoost\",\"Pura\",\"Innova\",\"Ellaism\",\"GoByte\",\"SHIELD\",\"UltraNote\",\"BitCoal\",\"DaxxCoin\",\"AC3\",\"Lethean\",\"PopularCoin\",\"Photon\",\"Sucre\",\"SparksPay\",\"GunCoin\",\"IrishCoin\",\"Pioneer Coin\",\"UnitedBitcoin\",\"Interzone\",\"TurtleCoin\",\"MUNcoin\",\"Niobio Cash\",\"ShareChain\",\"Travelflex\",\"KREDS\",\"BitFlip\",\"LottoCoin\",\"Crypto Improvement Fund\",\"Callisto Network\",\"BitTube\",\"Poseidon\",\"Aidos Kuneen\",\"Bitrolium\",\"Alpenschillling\",\"FuturoCoin\",\"Monero Classic\",\"Jumpcoin\",\"Infinex\",\"KEYCO\",\"GINcoin\",\"PlatinCoin\",\"Loki\",\"Newton Coin\",\"MassGrid\",\"PluraCoin\",\"Motion\",\"PlusOneCoin\",\"Axe\",\"HexCoin\",\"Webchain\",\"Ryo\",\"Urals Coin\",\"Qwertycoin\",\"Project Pai\",\"Azart\",\"Xchange\",\"CrypticCoin\",\"Actinium\",\"Bitcoin SV\",\"FREDEnergy\",\"Universal Molecule\",\"Lithium\",\"Exosis\",\"Block-Logic\",\"Beam\",\"Bithereum\",\"SLICE\",\"BLAST\",\"Bitcoin Rhodium\",\"GlobalToken\",\"SolarCoin\",\"UFO Coin\",\"BlakeCoin\",\"Crypto Escudo\",\"Crown Coin\",\"SmileyCoin\",\"Groestlcoin\",\"Bata\",\"Pakcoin\",\"JoinCoin\",\"Vollar\",\"Reality Clash\",\"Beldex\",\"Horizen\"],\"legendgroup\":\"3\",\"marker\":{\"color\":[3,3,3,3,3,3,3,3,3,3,3,3,3,3,3,3,3,3,3,3,3,3,3,3,3,3,3,3,3,3,3,3,3,3,3,3,3,3,3,3,3,3,3,3,3,3,3,3,3,3,3,3,3,3,3,3,3,3,3,3,3,3,3,3,3,3,3,3,3,3,3,3,3,3,3,3,3,3,3,3,3,3,3,3,3,3,3,3,3,3,3,3,3,3,3,3,3,3,3,3,3,3,3,3,3,3,3,3,3,3,3,3,3,3,3,3,3,3,3,3,3,3,3,3,3,3,3,3,3,3,3,3,3,3,3,3,3,3,3,3,3,3,3,3,3,3,3,3,3,3,3,3,3,3,3,3,3,3,3,3,3,3,3,3,3,3,3,3,3,3,3,3,3,3,3,3,3,3,3,3,3,3,3,3,3,3,3,3,3,3,3,3,3,3,3,3,3,3,3,3,3,3,3,3,3,3,3,3,3,3,3,3,3,3,3,3,3,3,3,3,3,3,3,3,3,3,3,3,3,3,3,3,3,3,3,3,3,3],\"coloraxis\":\"coloraxis\",\"symbol\":\"diamond\"},\"mode\":\"markers\",\"name\":\"3\",\"scene\":\"scene\",\"showlegend\":true,\"x\":[-0.15071166623376975,-0.15510260712929339,-0.15659828231702813,-0.1543885517902935,-0.153543396573917,-0.1574367751166322,0.16540201574414978,-0.1577442633233515,-0.23367658954295104,-0.15736060993901066,-0.08801109820574653,2.566499182326944,-0.14779740595336457,-0.1546161812422781,-0.15716436199493838,-0.2391055590136687,-0.22114960862391994,-0.15721374889658907,-0.15772654579656586,-0.15781302117776627,-0.233765874501053,0.18907251578322246,0.22705184978060022,0.09085846701613193,-0.15755945128103277,-0.1531652876718357,-0.15749866106423985,-0.15786999554335332,-0.17608929903953097,-0.13709363386943238,-0.15666546977701062,-0.15694263135924255,1.5905716573806763,-0.1506730715091697,-0.1542320743161908,-0.15758588110088118,-0.157940603474163,-0.15720002232171557,-0.1349300583275463,-0.15782186973028914,-0.02266119879213984,-0.15075061003712256,-0.15148749292701388,-0.1578011898822027,-0.15589437220584493,-0.1572880238835679,-0.13790355122918624,-0.15021454384384914,-0.15050154621564557,-0.15048406215491678,-0.15107523779056076,-0.23393983716336386,-0.15751791684833577,-0.21519829896726972,-0.15462069410358725,-0.15028180184868212,3.861569510340985,0.46146816777096117,-0.15638551418104474,-0.14097861339290962,-0.15510473911284217,-0.15794279443226006,-0.15496998518106572,-0.14119568988682146,-0.1191014927627349,-0.12201164477951118,-0.18109713785409656,-0.15781598034026975,-0.03074432965349446,-0.13719780108504584,-0.1579517043473848,-0.15077836180313192,0.4947733054561234,-0.23332717070145723,-0.16146658597453756,-0.15051804748561315,-0.23361195837157941,-0.1560745534033547,-0.15526703717175933,-0.15616886008345984,0.3727238000868253,-0.23364738606689803,-0.15067419281992314,-0.1539106437427357,-0.14293895934103462,-0.1565153258407032,0.2676970717053434,-0.23280801920313446,-0.15034900238267543,-0.15676144726647032,-0.14941351717179635,-0.1577415636955538,-0.23361054888329638,-0.15795176282662407,-0.23376038100092159,-0.2847981188263821,0.3063892822649011,-0.1509341803585509,-0.10208729066970466,-0.1551185588049614,-0.15089283686344926,-0.15761510045151741,-0.15359808018447044,-0.15591113740870996,-0.15745837215917904,-0.08461826615115489,-0.22035007300109016,-0.23158795758974335,0.3063837913955425,-0.1579334908859454,0.3065144372520191,-0.162007240370308,0.48209489172956954,-0.15315204524667916,-0.15790179916279545,-0.22648875794228532,-0.15747078641062615,-0.15603556364781507,-0.1617257411909098,-0.1404604117407572,-0.12880153881638248,-0.19673343399946663,-0.15746417237402935,-0.1172588042394576,-0.15728593792293255,-0.153010930440288,-0.17164297036517645,-0.027204400903530275,-0.1455711939473654,0.34249753977263736,-0.2328162014653798,-0.15760557440024753,-0.1573684653401748,-0.2332110249353608,-0.23378846522779126,0.3067788330967862,-0.12256270407703217,3.2511350266190315,-0.11441849904326001,-0.22465529137460524,-0.15071083122454593,-0.08346070740052865,1.5874504239054434,-0.1577033221830305,-0.1571546589057965,-0.15685570740126506,-0.15684265042179968,0.3069627166476893,0.05492583317862921,-0.1881949653667193,-0.18077762616115325,-0.1573169292871038,-0.1491076406659634,-0.1560337744599587,-0.22933280694919156,-0.1806229522899875,-0.15427462585530638,-0.18072323249846609,-0.11224410904979641,1.1446310750430797,0.3063664689510361,-0.07910980464109392,-0.22907207787105188,-0.14212170352269218,-0.0741053174059144,1.097977320151563,-0.23376247645371578,-0.18077526334360894,-0.17381348736506835,-0.15695445694113005,-0.23368791224727187,-0.15069025829059093,-0.21669182075241653,8.049756434058434,-0.17325271290651156,0.3102414262669794,0.035037129152373885,-0.14861203157072395,-0.2007567972980799,-0.15752795591977184,0.14949766170077244,-0.22782818107207853,-0.1072775562209742,0.31429482322323754,-0.15776498881755657,-0.1775832187906666,-0.15630833100190308,-0.15138010323880444,-0.23285693623408946,0.30654889393636303,-0.19679318665346493,-0.1618524151568011,-0.13285916389141267,-0.15368251713361974,0.3104808647103091,0.567888615340766,2.115699359290008,-0.1415421788390258,0.3201537325628168,-0.21169073456598725,-0.17028430876800243,-0.2337446379125722,-0.15778953392058054,-0.1419921638061619,-0.15244405389939703,-0.006626015171438535,3.090455028685354,-0.11054929789309062,-0.23371597919598275,-0.21111799655786068,-0.052064160389853065,-0.15307989276003725,-0.15071086875530093,0.38633773346530137,-0.16527718172764885,-0.16566985815863158,-0.1639094834092733,-0.1566816113483129,-0.15537575544170576,-0.15714977703182734,-0.1803075705426719,-0.14998713380121045,-0.122440591797406,-0.1488547978431697,0.5387296348636657,-0.10595946141724348,-0.11609250683170515,-0.14134613695351284,-0.15050091724796685,0.5578603526870315,-0.22071074752929085,-0.1578665184754552,-0.15582187106029516,-0.12274581607438038,-0.14028272569082673,-0.15594428712664005,0.3281211137621677,-0.1574378310886725],\"y\":[-1.3167965272786148,-2.020461802069748,-1.1150598279613335,-2.2330128116035834,-2.020565457027199,-2.020438413649974,-1.7827579134254778,-1.115049711523054,-0.950141052661131,-1.1150689443732569,-1.7768547950226403,-1.308500070146322,-1.3168139974017248,-1.1151185770953191,-1.1150889115157652,-0.49841661953616,-1.2283013551698005,-1.115052949027752,-1.1150491634475574,-1.1150461535443998,-0.9501423680600732,-1.7788107315972692,-1.3202843405103288,-1.1171084345015865,-1.1150439945314503,-1.1151097086596566,-1.115050070064605,-1.1150465387438255,-1.621000406012877,-1.1154232055586888,-1.1150517804966107,-1.1150619784950686,-1.1264806658624493,-1.3167953333860867,-1.1151178485748907,-1.115044088838956,-1.1150415727760745,-1.1150480646962058,-2.1809385570089335,-1.1150441561833702,-1.1217049738219291,-1.3167977319695758,-1.1150847188907904,-1.115051472494119,-1.1151581167644604,-1.1150574410723677,-1.317027399211229,-1.316799963053172,-1.3168052161789925,-1.3168321597684618,-1.3167927660800294,-0.9501347304893832,-1.1150441562513653,-1.277224917072424,-1.1151298701728003,-1.3168005884122957,-2.363806908775894,-2.342798030351706,-1.1150685217375846,-1.1157309943822382,-1.1150732142862418,-1.1150425648965716,-1.115064426963575,-1.1152458825720943,-2.293326371378824,-1.776460021226397,-1.5488315404428061,-1.1150391796554793,-1.11833864402016,-2.1336457074312447,-1.115041387803278,-1.316798590445091,-1.1613907710151417,-0.9501396462812254,-2.2221481723841445,-1.3168142323425012,-0.9501397766297334,-1.1151349330985345,-1.1151387107285897,-2.0205070136014234,-2.234349581410873,-0.9501372561790389,-1.3167953680728102,-1.1150678209451261,-2.2244898669348907,-1.115057261778565,-1.3194799902715115,-0.9501604738196294,-2.275882642444805,-1.1151258844906689,-2.2421402511907673,-1.115048904737722,-0.950142626127755,-1.1150413874207572,-0.950147261047361,-1.3063351936254408,-2.34036973854144,-1.3167952635821816,-1.7767116093196529,-1.115097953945361,-1.3167946372683677,-1.1150522254609934,-2.213007555749039,-2.0205057670212434,-2.0204390817347457,-1.1200051850028199,-0.9500759809632683,-0.9502268839019234,-2.340377864419412,-1.1150423395083613,-2.340376716108511,-2.2221245461820867,-1.0003123319682876,-2.2331083672443404,-1.1150418261825457,-0.9506275129775915,-2.020436572659013,-1.1150539931706631,-2.2221237942859426,-2.121456849885238,-1.1170323052774715,-0.6091886365328659,-1.11505154940515,-1.317554691832305,-1.1150724206611993,-2.233046140001722,-2.1799851757879694,-2.24696711242389,-2.261231694402129,-2.3406920794783383,-0.9501722993274465,-1.1150441749608264,-1.1150771433958582,-0.9501555818380728,-0.950143717830888,-2.340389512234307,-2.294361468446059,-1.1542389204338992,-1.2645127158141567,-0.9506431238465143,-1.316796501448368,-1.1203310143875898,-1.061048520279084,-1.1150477217714863,-1.1150770389625584,-1.1150793635680323,-1.1150789596623072,-2.3404090582186927,-2.029042752779049,-0.9500215493569644,-1.6209219432097497,-2.0204347063287815,-2.2759355965332744,-1.115053937823772,-0.9502453624053808,-1.6209301774615628,-2.020638706173579,-1.620923732310616,-1.7766352328133097,-2.375910621252982,-2.340372252437486,-2.025343782318517,-0.9503819519523318,-2.233356247671723,-1.1160636024752446,-1.2854286056663977,-0.9501435648392488,-1.6209175304692678,-1.6210486229282952,-1.1150563804015072,-0.9501435727430799,-1.3167952618322667,-1.2063447220436636,-2.8241033340277157,-2.2650906196786225,-2.3404863635768933,-1.116303754718839,-2.2758795400773297,-1.2775130296287345,-1.115056762472691,-1.1188435795403517,-0.9503073094011598,-2.0236836641205422,-2.3408412299230696,-1.1150503526472735,-2.1532511097433016,-2.020438946728581,-2.2131404490225375,-0.9501735594202835,-2.340370876608707,-0.6091707742413882,-2.2221315317203074,-2.2269705995194884,-2.213002284033417,-2.3406699016928814,-2.2169696779174384,-2.41747571799437,-2.1879612007836675,-2.3406599899179232,-1.328597121397283,-2.264423368203748,-0.9501438809500596,-1.11505191133649,-2.2338950715954144,-2.2695146634200074,-0.6615416944600238,-2.272250405239048,-1.3170578294608994,-0.9501458875181106,-1.3286357649540432,-2.022660507938366,-2.213036803098022,-1.316796502609348,-2.3437334340231817,-2.230522155284376,-2.230476519077038,-2.1175123767195196,-1.1150884435620316,-2.0205495457400477,-2.020436685921353,-1.5488794433810562,-1.3168052153470389,-0.36309790467702685,-1.3168454081497625,-1.1644429985040647,-1.6214810825035122,-2.23398756536711,-1.115250536514588,-1.3168051967224523,-1.1290616887130982,-1.2283029681740554,-1.1150419209774245,-1.1151066913204848,-1.7764847573138196,-2.2243699598511117,-2.0205055501842635,-2.34070299719656,-2.020438446315504],\"z\":[0.1869631996518663,0.36490702665358027,-0.027174859815705412,0.3065651092888804,0.36488064301238854,0.34079679772365373,0.3168775663923727,-0.027144236596393694,0.06381234915392389,-0.0271517947520452,0.32302608813018435,-0.07114283990099457,0.18688392037002205,-0.027220813010113403,-0.027153938919528622,0.04313119206899456,0.12452103986932499,-0.0271586589352257,-0.027144829815598487,-0.027142900920171558,0.06381509267463051,0.31553846517725115,0.1768945118936997,-0.033810567701174056,-0.02715042448334477,-0.02726326934890857,-0.027151107287318083,-0.027141227443180174,0.2377533967295394,-0.027663563893372198,-0.02717433170363482,-0.02716477562949114,-0.07454370912211725,0.18696190742117674,-0.027231777533342046,-0.027149662520247277,-0.027140078919770598,-0.02715987671027532,0.27671133669183456,-0.027142990751818027,-0.029825253642596073,0.18696450357042826,-0.02731487026646905,-0.027142330578223694,-0.027178016550070554,-0.027155798990592242,0.1866409653335848,0.18694975344544418,0.18695874659510445,0.18696283373294548,0.186972821321868,0.06381870399356515,-0.027151569218336963,0.1887392672076947,-0.02721876574427681,0.18695175798688735,0.25308030811377874,0.34546989545437634,-0.027179386781508417,-0.0275015917433321,-0.027214736398391014,-0.027139848417089194,-0.02722003346959933,-0.027577937452121927,0.35541472572113014,0.3239185731335852,0.17146593381246572,-0.02714400301158851,-0.030169421722047705,0.3482169428857981,-0.02713979706586469,0.18696543275658195,-0.03768198230458343,0.06380224839365066,0.32917293173561574,0.18696074511973806,0.06381030813107662,-0.02717687266582699,-0.02719902101613619,0.36494480583087485,0.30706436816683014,0.06381087951520624,0.186961944964965,-0.027249354318709736,0.42489559858512693,-0.027177637369005934,0.17561063472058877,0.06379113717536222,0.38807618226724555,-0.02715902474860413,0.29455379177563534,-0.027144449947061947,0.06381075278484132,-0.02713979548043308,0.06381576947203266,0.3930859296727975,0.34943386901015605,0.18696926484275073,0.3233990187136113,-0.02721014045607716,0.1869679915255667,-0.027147454580522427,0.34633839468346844,0.36493732018333724,0.34079752083701853,-0.02836561162137336,0.0634251715545974,0.06376799347324817,0.34943540543314955,-0.027140149309074723,0.3494315229877362,0.32918417403966177,0.052140548092626186,0.3065464564015774,-0.027141131015074753,0.06369218813203596,0.3407974446453389,-0.027191733407782834,0.32917610144620324,0.4420341409963131,-0.027624034352437377,0.030789866578659338,-0.02715182916558404,0.18614795085149707,-0.027153311231931394,0.30653189466130515,0.30018672060889917,0.32049662781544647,0.3977733539085229,0.34846958389768257,0.06379337851963085,-0.027149092073932356,-0.02715017915966824,0.06380167955745004,0.06381595972400789,0.34942623635742387,0.3512887255003863,-0.11669078596194642,0.09879155378910634,0.0636430960619371,0.18696317169404075,-0.028342888275947914,-0.08557952315685138,-0.027145730351484553,-0.027156231184207173,-0.027164273309585724,-0.02716471048408953,0.3494243695511418,0.33626607224187416,0.06250840253159529,0.23787237642682432,0.34079278503900745,0.38805014980176267,-0.027191793313468788,0.06370748770866978,0.2378694109362543,0.3649137333820987,0.2378711454308172,0.32367269061006904,0.33181831613586443,0.34943494025073946,0.3635922472887837,0.06372335027979156,0.3062772878300302,-0.029332414659668335,0.040233253202165135,0.06381520023187091,0.23787155954534475,0.2376973635775404,-0.027165393589026983,0.06381309714607847,0.18696238031997658,0.09462893750883675,0.21313037731595832,0.2901455813921415,0.3493449767889015,-0.03237192013862983,0.3880266322258744,0.18838066502314535,-0.027149142742698806,-0.0351705584333376,0.06367555397974202,0.3641049959565833,0.3492909072199583,-0.027143542664258263,0.37634481701818256,0.340765040213355,0.3462983893543529,0.063794742403394,0.34942955776069645,0.030788516271264825,0.3291809919880404,0.2765825214301605,0.3463398815247912,0.34936942181918074,0.35933372039439454,0.31147815114545285,0.43856439683948495,0.34909473889566794,0.18436662874445675,0.35367971438569035,0.06381475051475513,-0.027142584938883597,0.30636523551437345,0.4084968271510042,0.15718233153685096,0.29753729202575674,0.18587411815863786,0.06381428280836095,0.18435703399423098,0.3382006318814371,0.34632874209870795,0.18696317295064763,0.3477493305443229,0.3446729834917296,0.34467630755702683,0.42138071774674385,-0.027167643171549096,0.3407575226602736,0.3407884040362176,0.17145179363459812,0.18694422816519973,-0.030445255620069216,0.18691910323500904,-0.03840366488868362,0.23585583689170708,0.3438739848591011,-0.027572900175172138,0.18695872553597376,-0.044958652736328965,0.12450892809127728,-0.027142110627991125,-0.027188805424995795,0.3239434989896324,0.33525378414398427,0.36493821890581474,0.34887718660611644,0.34079683307976766],\"type\":\"scatter3d\"},{\"customdata\":[[\"VeChainThor Authority\",55454734800.0,\"86712634466\"],[\"Proof-of-BibleHash\",1772091549.88818,\"5200000000\"],[\"SHA-256 + Hive\",638382332.208514,\"840000000\"],[\"Proof-of-Authority\",204479039.0,\"252460800\"],[\"ECC 256K1\",1000000000.0,\"1000000000\"]],\"hovertemplate\":\"<b>%{hovertext}</b><br><br>Class=%{marker.color}<br>PC 1=%{x}<br>PC 2=%{y}<br>PC 3=%{z}<br>Algorithm=%{customdata[0]}<br>TotalCoinsMined=%{customdata[1]}<br>TotalCoinSupply=%{customdata[2]}<extra></extra>\",\"hovertext\":[\"Vechain\",\"BiblePay\",\"LitecoinCash\",\"Poa Network\",\"Acute Angle Cloud\"],\"legendgroup\":\"1\",\"marker\":{\"color\":[1,1,1,1,1],\"coloraxis\":\"coloraxis\",\"symbol\":\"square\"},\"mode\":\"markers\",\"name\":\"1\",\"scene\":\"scene\",\"showlegend\":true,\"x\":[4.576697592002032,-0.4199258408786427,-0.6583395033497222,-0.4842962488667487,-0.04103217617149425],\"y\":[3.020258613734433,2.4315017106007,2.4668871504700802,3.069606966239274,3.924250712819313],\"z\":[7.87891968079005,18.813825338408797,7.1353112801726715,14.012836494343347,18.596173799930483],\"type\":\"scatter3d\"},{\"customdata\":[[\"TRC10\",989988713439.649,\"990000000000\"]],\"hovertemplate\":\"<b>%{hovertext}</b><br><br>Class=%{marker.color}<br>PC 1=%{x}<br>PC 2=%{y}<br>PC 3=%{z}<br>Algorithm=%{customdata[0]}<br>TotalCoinsMined=%{customdata[1]}<br>TotalCoinSupply=%{customdata[2]}<extra></extra>\",\"hovertext\":[\"BitTorrent\"],\"legendgroup\":\"2\",\"marker\":{\"color\":[2],\"coloraxis\":\"coloraxis\",\"symbol\":\"x\"},\"mode\":\"markers\",\"name\":\"2\",\"scene\":\"scene\",\"showlegend\":true,\"x\":[34.02366612205505],\"y\":[1.6483348052945812],\"z\":[-1.1903263819895147],\"type\":\"scatter3d\"}],                        {\"template\":{\"data\":{\"bar\":[{\"error_x\":{\"color\":\"#2a3f5f\"},\"error_y\":{\"color\":\"#2a3f5f\"},\"marker\":{\"line\":{\"color\":\"#E5ECF6\",\"width\":0.5},\"pattern\":{\"fillmode\":\"overlay\",\"size\":10,\"solidity\":0.2}},\"type\":\"bar\"}],\"barpolar\":[{\"marker\":{\"line\":{\"color\":\"#E5ECF6\",\"width\":0.5},\"pattern\":{\"fillmode\":\"overlay\",\"size\":10,\"solidity\":0.2}},\"type\":\"barpolar\"}],\"carpet\":[{\"aaxis\":{\"endlinecolor\":\"#2a3f5f\",\"gridcolor\":\"white\",\"linecolor\":\"white\",\"minorgridcolor\":\"white\",\"startlinecolor\":\"#2a3f5f\"},\"baxis\":{\"endlinecolor\":\"#2a3f5f\",\"gridcolor\":\"white\",\"linecolor\":\"white\",\"minorgridcolor\":\"white\",\"startlinecolor\":\"#2a3f5f\"},\"type\":\"carpet\"}],\"choropleth\":[{\"colorbar\":{\"outlinewidth\":0,\"ticks\":\"\"},\"type\":\"choropleth\"}],\"contour\":[{\"colorbar\":{\"outlinewidth\":0,\"ticks\":\"\"},\"colorscale\":[[0.0,\"#0d0887\"],[0.1111111111111111,\"#46039f\"],[0.2222222222222222,\"#7201a8\"],[0.3333333333333333,\"#9c179e\"],[0.4444444444444444,\"#bd3786\"],[0.5555555555555556,\"#d8576b\"],[0.6666666666666666,\"#ed7953\"],[0.7777777777777778,\"#fb9f3a\"],[0.8888888888888888,\"#fdca26\"],[1.0,\"#f0f921\"]],\"type\":\"contour\"}],\"contourcarpet\":[{\"colorbar\":{\"outlinewidth\":0,\"ticks\":\"\"},\"type\":\"contourcarpet\"}],\"heatmap\":[{\"colorbar\":{\"outlinewidth\":0,\"ticks\":\"\"},\"colorscale\":[[0.0,\"#0d0887\"],[0.1111111111111111,\"#46039f\"],[0.2222222222222222,\"#7201a8\"],[0.3333333333333333,\"#9c179e\"],[0.4444444444444444,\"#bd3786\"],[0.5555555555555556,\"#d8576b\"],[0.6666666666666666,\"#ed7953\"],[0.7777777777777778,\"#fb9f3a\"],[0.8888888888888888,\"#fdca26\"],[1.0,\"#f0f921\"]],\"type\":\"heatmap\"}],\"heatmapgl\":[{\"colorbar\":{\"outlinewidth\":0,\"ticks\":\"\"},\"colorscale\":[[0.0,\"#0d0887\"],[0.1111111111111111,\"#46039f\"],[0.2222222222222222,\"#7201a8\"],[0.3333333333333333,\"#9c179e\"],[0.4444444444444444,\"#bd3786\"],[0.5555555555555556,\"#d8576b\"],[0.6666666666666666,\"#ed7953\"],[0.7777777777777778,\"#fb9f3a\"],[0.8888888888888888,\"#fdca26\"],[1.0,\"#f0f921\"]],\"type\":\"heatmapgl\"}],\"histogram\":[{\"marker\":{\"pattern\":{\"fillmode\":\"overlay\",\"size\":10,\"solidity\":0.2}},\"type\":\"histogram\"}],\"histogram2d\":[{\"colorbar\":{\"outlinewidth\":0,\"ticks\":\"\"},\"colorscale\":[[0.0,\"#0d0887\"],[0.1111111111111111,\"#46039f\"],[0.2222222222222222,\"#7201a8\"],[0.3333333333333333,\"#9c179e\"],[0.4444444444444444,\"#bd3786\"],[0.5555555555555556,\"#d8576b\"],[0.6666666666666666,\"#ed7953\"],[0.7777777777777778,\"#fb9f3a\"],[0.8888888888888888,\"#fdca26\"],[1.0,\"#f0f921\"]],\"type\":\"histogram2d\"}],\"histogram2dcontour\":[{\"colorbar\":{\"outlinewidth\":0,\"ticks\":\"\"},\"colorscale\":[[0.0,\"#0d0887\"],[0.1111111111111111,\"#46039f\"],[0.2222222222222222,\"#7201a8\"],[0.3333333333333333,\"#9c179e\"],[0.4444444444444444,\"#bd3786\"],[0.5555555555555556,\"#d8576b\"],[0.6666666666666666,\"#ed7953\"],[0.7777777777777778,\"#fb9f3a\"],[0.8888888888888888,\"#fdca26\"],[1.0,\"#f0f921\"]],\"type\":\"histogram2dcontour\"}],\"mesh3d\":[{\"colorbar\":{\"outlinewidth\":0,\"ticks\":\"\"},\"type\":\"mesh3d\"}],\"parcoords\":[{\"line\":{\"colorbar\":{\"outlinewidth\":0,\"ticks\":\"\"}},\"type\":\"parcoords\"}],\"pie\":[{\"automargin\":true,\"type\":\"pie\"}],\"scatter\":[{\"marker\":{\"colorbar\":{\"outlinewidth\":0,\"ticks\":\"\"}},\"type\":\"scatter\"}],\"scatter3d\":[{\"line\":{\"colorbar\":{\"outlinewidth\":0,\"ticks\":\"\"}},\"marker\":{\"colorbar\":{\"outlinewidth\":0,\"ticks\":\"\"}},\"type\":\"scatter3d\"}],\"scattercarpet\":[{\"marker\":{\"colorbar\":{\"outlinewidth\":0,\"ticks\":\"\"}},\"type\":\"scattercarpet\"}],\"scattergeo\":[{\"marker\":{\"colorbar\":{\"outlinewidth\":0,\"ticks\":\"\"}},\"type\":\"scattergeo\"}],\"scattergl\":[{\"marker\":{\"colorbar\":{\"outlinewidth\":0,\"ticks\":\"\"}},\"type\":\"scattergl\"}],\"scattermapbox\":[{\"marker\":{\"colorbar\":{\"outlinewidth\":0,\"ticks\":\"\"}},\"type\":\"scattermapbox\"}],\"scatterpolar\":[{\"marker\":{\"colorbar\":{\"outlinewidth\":0,\"ticks\":\"\"}},\"type\":\"scatterpolar\"}],\"scatterpolargl\":[{\"marker\":{\"colorbar\":{\"outlinewidth\":0,\"ticks\":\"\"}},\"type\":\"scatterpolargl\"}],\"scatterternary\":[{\"marker\":{\"colorbar\":{\"outlinewidth\":0,\"ticks\":\"\"}},\"type\":\"scatterternary\"}],\"surface\":[{\"colorbar\":{\"outlinewidth\":0,\"ticks\":\"\"},\"colorscale\":[[0.0,\"#0d0887\"],[0.1111111111111111,\"#46039f\"],[0.2222222222222222,\"#7201a8\"],[0.3333333333333333,\"#9c179e\"],[0.4444444444444444,\"#bd3786\"],[0.5555555555555556,\"#d8576b\"],[0.6666666666666666,\"#ed7953\"],[0.7777777777777778,\"#fb9f3a\"],[0.8888888888888888,\"#fdca26\"],[1.0,\"#f0f921\"]],\"type\":\"surface\"}],\"table\":[{\"cells\":{\"fill\":{\"color\":\"#EBF0F8\"},\"line\":{\"color\":\"white\"}},\"header\":{\"fill\":{\"color\":\"#C8D4E3\"},\"line\":{\"color\":\"white\"}},\"type\":\"table\"}]},\"layout\":{\"annotationdefaults\":{\"arrowcolor\":\"#2a3f5f\",\"arrowhead\":0,\"arrowwidth\":1},\"autotypenumbers\":\"strict\",\"coloraxis\":{\"colorbar\":{\"outlinewidth\":0,\"ticks\":\"\"}},\"colorscale\":{\"diverging\":[[0,\"#8e0152\"],[0.1,\"#c51b7d\"],[0.2,\"#de77ae\"],[0.3,\"#f1b6da\"],[0.4,\"#fde0ef\"],[0.5,\"#f7f7f7\"],[0.6,\"#e6f5d0\"],[0.7,\"#b8e186\"],[0.8,\"#7fbc41\"],[0.9,\"#4d9221\"],[1,\"#276419\"]],\"sequential\":[[0.0,\"#0d0887\"],[0.1111111111111111,\"#46039f\"],[0.2222222222222222,\"#7201a8\"],[0.3333333333333333,\"#9c179e\"],[0.4444444444444444,\"#bd3786\"],[0.5555555555555556,\"#d8576b\"],[0.6666666666666666,\"#ed7953\"],[0.7777777777777778,\"#fb9f3a\"],[0.8888888888888888,\"#fdca26\"],[1.0,\"#f0f921\"]],\"sequentialminus\":[[0.0,\"#0d0887\"],[0.1111111111111111,\"#46039f\"],[0.2222222222222222,\"#7201a8\"],[0.3333333333333333,\"#9c179e\"],[0.4444444444444444,\"#bd3786\"],[0.5555555555555556,\"#d8576b\"],[0.6666666666666666,\"#ed7953\"],[0.7777777777777778,\"#fb9f3a\"],[0.8888888888888888,\"#fdca26\"],[1.0,\"#f0f921\"]]},\"colorway\":[\"#636efa\",\"#EF553B\",\"#00cc96\",\"#ab63fa\",\"#FFA15A\",\"#19d3f3\",\"#FF6692\",\"#B6E880\",\"#FF97FF\",\"#FECB52\"],\"font\":{\"color\":\"#2a3f5f\"},\"geo\":{\"bgcolor\":\"white\",\"lakecolor\":\"white\",\"landcolor\":\"#E5ECF6\",\"showlakes\":true,\"showland\":true,\"subunitcolor\":\"white\"},\"hoverlabel\":{\"align\":\"left\"},\"hovermode\":\"closest\",\"mapbox\":{\"style\":\"light\"},\"paper_bgcolor\":\"white\",\"plot_bgcolor\":\"#E5ECF6\",\"polar\":{\"angularaxis\":{\"gridcolor\":\"white\",\"linecolor\":\"white\",\"ticks\":\"\"},\"bgcolor\":\"#E5ECF6\",\"radialaxis\":{\"gridcolor\":\"white\",\"linecolor\":\"white\",\"ticks\":\"\"}},\"scene\":{\"xaxis\":{\"backgroundcolor\":\"#E5ECF6\",\"gridcolor\":\"white\",\"gridwidth\":2,\"linecolor\":\"white\",\"showbackground\":true,\"ticks\":\"\",\"zerolinecolor\":\"white\"},\"yaxis\":{\"backgroundcolor\":\"#E5ECF6\",\"gridcolor\":\"white\",\"gridwidth\":2,\"linecolor\":\"white\",\"showbackground\":true,\"ticks\":\"\",\"zerolinecolor\":\"white\"},\"zaxis\":{\"backgroundcolor\":\"#E5ECF6\",\"gridcolor\":\"white\",\"gridwidth\":2,\"linecolor\":\"white\",\"showbackground\":true,\"ticks\":\"\",\"zerolinecolor\":\"white\"}},\"shapedefaults\":{\"line\":{\"color\":\"#2a3f5f\"}},\"ternary\":{\"aaxis\":{\"gridcolor\":\"white\",\"linecolor\":\"white\",\"ticks\":\"\"},\"baxis\":{\"gridcolor\":\"white\",\"linecolor\":\"white\",\"ticks\":\"\"},\"bgcolor\":\"#E5ECF6\",\"caxis\":{\"gridcolor\":\"white\",\"linecolor\":\"white\",\"ticks\":\"\"}},\"title\":{\"x\":0.05},\"xaxis\":{\"automargin\":true,\"gridcolor\":\"white\",\"linecolor\":\"white\",\"ticks\":\"\",\"title\":{\"standoff\":15},\"zerolinecolor\":\"white\",\"zerolinewidth\":2},\"yaxis\":{\"automargin\":true,\"gridcolor\":\"white\",\"linecolor\":\"white\",\"ticks\":\"\",\"title\":{\"standoff\":15},\"zerolinecolor\":\"white\",\"zerolinewidth\":2}}},\"scene\":{\"domain\":{\"x\":[0.0,1.0],\"y\":[0.0,1.0]},\"xaxis\":{\"title\":{\"text\":\"PC 1\"}},\"yaxis\":{\"title\":{\"text\":\"PC 2\"}},\"zaxis\":{\"title\":{\"text\":\"PC 3\"}}},\"coloraxis\":{\"colorbar\":{\"title\":{\"text\":\"Class\"}},\"colorscale\":[[0.0,\"#0d0887\"],[0.1111111111111111,\"#46039f\"],[0.2222222222222222,\"#7201a8\"],[0.3333333333333333,\"#9c179e\"],[0.4444444444444444,\"#bd3786\"],[0.5555555555555556,\"#d8576b\"],[0.6666666666666666,\"#ed7953\"],[0.7777777777777778,\"#fb9f3a\"],[0.8888888888888888,\"#fdca26\"],[1.0,\"#f0f921\"]]},\"legend\":{\"title\":{\"text\":\"Class\"},\"tracegroupgap\":0,\"x\":0,\"y\":1},\"margin\":{\"t\":60}},                        {\"responsive\": true}                    ).then(function(){\n",
       "                            \n",
       "var gd = document.getElementById('ea56ece5-d115-472d-9fd8-dfdf23af7cc0');\n",
       "var x = new MutationObserver(function (mutations, observer) {{\n",
       "        var display = window.getComputedStyle(gd).display;\n",
       "        if (!display || display === 'none') {{\n",
       "            console.log([gd, 'removed!']);\n",
       "            Plotly.purge(gd);\n",
       "            observer.disconnect();\n",
       "        }}\n",
       "}});\n",
       "\n",
       "// Listen for the removal of the full notebook cells\n",
       "var notebookContainer = gd.closest('#notebook-container');\n",
       "if (notebookContainer) {{\n",
       "    x.observe(notebookContainer, {childList: true});\n",
       "}}\n",
       "\n",
       "// Listen for the clearing of the current output cell\n",
       "var outputEl = gd.closest('.output');\n",
       "if (outputEl) {{\n",
       "    x.observe(outputEl, {childList: true});\n",
       "}}\n",
       "\n",
       "                        })                };                });            </script>        </div>"
      ]
     },
     "metadata": {},
     "output_type": "display_data"
    }
   ],
   "source": [
    "# Creating a 3D-Scatter with the PCA data and the clusters\n",
    "fig = px.scatter_3d(\n",
    "    clustered_df, \n",
    "    x=\"PC 1\", \n",
    "    y=\"PC 2\", \n",
    "    z=\"PC 3\", \n",
    "    color=\"Class\", \n",
    "    symbol=\"Class\", \n",
    "    hover_name=\"CoinName\", \n",
    "    hover_data=[\"Algorithm\", \"TotalCoinsMined\", \"TotalCoinSupply\"])\n",
    "fig.update_layout(legend=dict(x=0, y=1))\n",
    "fig.show()"
   ]
  },
  {
   "cell_type": "code",
   "execution_count": 193,
   "metadata": {},
   "outputs": [],
   "source": [
    "# Create a table with tradable cryptocurrencies.\n",
    "# YOUR CODE HERE"
   ]
  },
  {
   "cell_type": "code",
   "execution_count": 194,
   "metadata": {},
   "outputs": [
    {
     "data": {},
     "metadata": {},
     "output_type": "display_data"
    },
    {
     "data": {
      "application/vnd.holoviews_exec.v0+json": "",
      "text/html": [
       "<div id='1536'>\n",
       "\n",
       "\n",
       "\n",
       "\n",
       "\n",
       "  <div class=\"bk-root\" id=\"4e7bac2d-5d42-4ba6-a432-43924bcc8f08\" data-root-id=\"1536\"></div>\n",
       "</div>\n",
       "<script type=\"application/javascript\">(function(root) {\n",
       "  function embed_document(root) {\n",
       "    var docs_json = {\"d1d3d3fc-682a-4374-9dfb-ee9562801f38\":{\"defs\":[{\"extends\":null,\"module\":null,\"name\":\"ReactiveHTML1\",\"overrides\":[],\"properties\":[]},{\"extends\":null,\"module\":null,\"name\":\"FlexBox1\",\"overrides\":[],\"properties\":[{\"default\":\"flex-start\",\"kind\":null,\"name\":\"align_content\"},{\"default\":\"flex-start\",\"kind\":null,\"name\":\"align_items\"},{\"default\":\"row\",\"kind\":null,\"name\":\"flex_direction\"},{\"default\":\"wrap\",\"kind\":null,\"name\":\"flex_wrap\"},{\"default\":\"flex-start\",\"kind\":null,\"name\":\"justify_content\"}]},{\"extends\":null,\"module\":null,\"name\":\"GridStack1\",\"overrides\":[],\"properties\":[{\"default\":\"warn\",\"kind\":null,\"name\":\"mode\"},{\"default\":null,\"kind\":null,\"name\":\"ncols\"},{\"default\":null,\"kind\":null,\"name\":\"nrows\"},{\"default\":true,\"kind\":null,\"name\":\"allow_resize\"},{\"default\":true,\"kind\":null,\"name\":\"allow_drag\"},{\"default\":[],\"kind\":null,\"name\":\"state\"}]},{\"extends\":null,\"module\":null,\"name\":\"click1\",\"overrides\":[],\"properties\":[{\"default\":\"\",\"kind\":null,\"name\":\"terminal_output\"},{\"default\":\"\",\"kind\":null,\"name\":\"debug_name\"},{\"default\":0,\"kind\":null,\"name\":\"clears\"}]},{\"extends\":null,\"module\":null,\"name\":\"TemplateActions1\",\"overrides\":[],\"properties\":[{\"default\":0,\"kind\":null,\"name\":\"open_modal\"},{\"default\":0,\"kind\":null,\"name\":\"close_modal\"}]},{\"extends\":null,\"module\":null,\"name\":\"MaterialTemplateActions1\",\"overrides\":[],\"properties\":[{\"default\":0,\"kind\":null,\"name\":\"open_modal\"},{\"default\":0,\"kind\":null,\"name\":\"close_modal\"}]}],\"roots\":{\"references\":[{\"attributes\":{},\"id\":\"1556\",\"type\":\"NumberEditor\"},{\"attributes\":{\"data\":{\"Algorithm\":[\"Scrypt\",\"Scrypt\",\"X13\",\"SHA-256\",\"Ethash\",\"Scrypt\",\"X11\",\"CryptoNight-V7\",\"Ethash\",\"Equihash\",\"SHA-512\",\"Multiple\",\"SHA-256\",\"SHA-256\",\"Scrypt\",\"X15\",\"X11\",\"Scrypt\",\"Scrypt\",\"Scrypt\",\"Multiple\",\"Scrypt\",\"SHA-256\",\"Scrypt\",\"Scrypt\",\"Scrypt\",\"Quark\",\"Groestl\",\"Scrypt\",\"Scrypt\",\"Scrypt\",\"Scrypt\",\"Scrypt\",\"X11\",\"Scrypt\",\"Groestl\",\"Multiple\",\"SHA-256\",\"Scrypt\",\"Scrypt\",\"Scrypt\",\"Scrypt\",\"PoS\",\"Scrypt\",\"Scrypt\",\"NeoScrypt\",\"Scrypt\",\"Scrypt\",\"Scrypt\",\"Scrypt\",\"X11\",\"Scrypt\",\"X11\",\"SHA-256\",\"Scrypt\",\"Scrypt\",\"Scrypt\",\"SHA3\",\"Scrypt\",\"HybridScryptHash256\",\"Scrypt\",\"Scrypt\",\"SHA-256\",\"Scrypt\",\"X13\",\"Scrypt\",\"SHA-256\",\"Scrypt\",\"X13\",\"NeoScrypt\",\"Scrypt\",\"Scrypt\",\"Scrypt\",\"Scrypt\",\"Scrypt\",\"Scrypt\",\"X11\",\"X11\",\"SHA-256\",\"Multiple\",\"SHA-256\",\"PHI1612\",\"X11\",\"SHA-256\",\"SHA-256\",\"SHA-256\",\"X11\",\"Scrypt\",\"Scrypt\",\"Scrypt\",\"Scrypt\",\"Lyra2REv2\",\"Scrypt\",\"X11\",\"Multiple\",\"SHA-256\",\"X13\",\"Scrypt\",\"CryptoNight\",\"CryptoNight\",\"Shabal256\",\"Counterparty\",\"Scrypt\",\"SHA-256\",\"Groestl\",\"Scrypt\",\"Scrypt\",\"Scrypt\",\"X13\",\"Scrypt\",\"Scrypt\",\"Scrypt\",\"Scrypt\",\"X13\",\"Scrypt\",\"Stanford Folding\",\"X11\",\"Multiple\",\"QuBit\",\"Scrypt\",\"Scrypt\",\"Scrypt\",\"M7 POW\",\"Scrypt\",\"SHA-256\",\"Scrypt\",\"X11\",\"SHA3\",\"X11\",\"Lyra2RE\",\"SHA-256\",\"QUAIT\",\"X11\",\"X11\",\"Scrypt\",\"Scrypt\",\"Scrypt\",\"Ethash\",\"X13\",\"Blake2b\",\"SHA-256\",\"X15\",\"X11\",\"SHA-256\",\"BLAKE256\",\"Scrypt\",\"1GB AES Pattern Search\",\"SHA-256\",\"X11\",\"Scrypt\",\"SHA-256\",\"SHA-256\",\"NIST5\",\"Scrypt\",\"Scrypt\",\"X11\",\"Dagger\",\"Scrypt\",\"X11GOST\",\"X11\",\"Scrypt\",\"SHA-256\",\"Scrypt\",\"PoS\",\"Scrypt\",\"X11\",\"X11\",\"SHA-256\",\"SHA-256\",\"NIST5\",\"X11\",\"Scrypt\",\"POS 3.0\",\"Scrypt\",\"Scrypt\",\"Scrypt\",\"X13\",\"X11\",\"X11\",\"Equihash\",\"X11\",\"Scrypt\",\"CryptoNight\",\"SHA-256\",\"SHA-256\",\"X11\",\"Scrypt\",\"Multiple\",\"Scrypt\",\"Scrypt\",\"Scrypt\",\"SHA-256\",\"Scrypt\",\"Scrypt\",\"SHA-256D\",\"PoS\",\"Scrypt\",\"X11\",\"Lyra2Z\",\"PoS\",\"X13\",\"X14\",\"PoS\",\"SHA-256D\",\"Ethash\",\"Equihash\",\"DPoS\",\"X11\",\"Scrypt\",\"X11\",\"X13\",\"X11\",\"PoS\",\"Scrypt\",\"Scrypt\",\"X11\",\"PoS\",\"X11\",\"SHA-256\",\"Scrypt\",\"X11\",\"Scrypt\",\"Scrypt\",\"X11\",\"CryptoNight\",\"Scrypt\",\"Scrypt\",\"Scrypt\",\"Scrypt\",\"Quark\",\"QuBit\",\"Scrypt\",\"CryptoNight\",\"Lyra2RE\",\"Scrypt\",\"SHA-256\",\"X11\",\"Scrypt\",\"X11\",\"Scrypt\",\"CryptoNight-V7\",\"Scrypt\",\"Scrypt\",\"Scrypt\",\"X13\",\"X11\",\"Equihash\",\"Scrypt\",\"Scrypt\",\"Lyra2RE\",\"Scrypt\",\"Dagger-Hashimoto\",\"X11\",\"Blake2S\",\"X11\",\"Scrypt\",\"PoS\",\"X11\",\"NIST5\",\"PoS\",\"X11\",\"Scrypt\",\"Scrypt\",\"Scrypt\",\"SHA-256\",\"X11\",\"Scrypt\",\"Scrypt\",\"SHA-256\",\"PoS\",\"Scrypt\",\"X15\",\"SHA-256\",\"Scrypt\",\"POS 3.0\",\"CryptoNight-V7\",\"536\",\"Argon2d\",\"Blake2b\",\"Cloverhash\",\"CryptoNight\",\"NIST5\",\"X11\",\"NIST5\",\"Skein\",\"Scrypt\",\"X13\",\"Scrypt\",\"X11\",\"X11\",\"Scrypt\",\"CryptoNight\",\"X13\",\"Time Travel\",\"Scrypt\",\"Keccak\",\"SkunkHash v2 Raptor\",\"X11\",\"Skein\",\"SHA-256\",\"X11\",\"Scrypt\",\"VeChainThor Authority\",\"Scrypt\",\"PoS\",\"Scrypt\",\"Scrypt\",\"Scrypt\",\"Scrypt\",\"Scrypt\",\"Scrypt\",\"Scrypt\",\"CryptoNight\",\"SHA-512\",\"Ouroboros\",\"X11\",\"Equihash\",\"NeoScrypt\",\"X11\",\"Scrypt\",\"NeoScrypt\",\"Lyra2REv2\",\"Equihash\",\"Scrypt\",\"SHA-256\",\"NIST5\",\"PHI1612\",\"Dagger\",\"Scrypt\",\"Quark\",\"Scrypt\",\"POS 2.0\",\"Scrypt\",\"SHA-256\",\"X11\",\"NeoScrypt\",\"Ethash\",\"NeoScrypt\",\"X11\",\"DPoS\",\"NIST5\",\"X13\",\"Multiple\",\"Scrypt\",\"CryptoNight\",\"CryptoNight\",\"Ethash\",\"NIST5\",\"Quark\",\"X11\",\"CryptoNight-V7\",\"Scrypt\",\"Scrypt\",\"Scrypt\",\"X11\",\"BLAKE256\",\"X11\",\"NeoScrypt\",\"Quark\",\"NeoScrypt\",\"Scrypt\",\"Scrypt\",\"Scrypt\",\"X11\",\"X11\",\"SHA-256\",\"C11\",\"POS 3.0\",\"Ethash\",\"Scrypt\",\"CryptoNight\",\"SkunkHash\",\"Scrypt\",\"CryptoNight\",\"Scrypt\",\"Dagger\",\"Lyra2REv2\",\"X13\",\"Proof-of-BibleHash\",\"SHA-256 + Hive\",\"Scrypt\",\"Scrypt\",\"X11\",\"C11\",\"Proof-of-Authority\",\"X11\",\"XEVAN\",\"Scrypt\",\"VBFT\",\"Ethash\",\"CryptoNight\",\"Scrypt\",\"IMesh\",\"NIST5\",\"Scrypt\",\"Scrypt\",\"Equihash\",\"Scrypt\",\"Lyra2Z\",\"Green Protocol\",\"PoS\",\"Scrypt\",\"Semux BFT consensus\",\"X11\",\"Quark\",\"PoS\",\"CryptoNight\",\"X16R\",\"Scrypt\",\"NIST5\",\"Lyra2RE\",\"XEVAN\",\"Tribus\",\"Scrypt\",\"Lyra2Z\",\"CryptoNight\",\"CryptoNight Heavy\",\"CryptoNight\",\"Scrypt\",\"Scrypt\",\"Jump Consistent Hash\",\"SHA-256D\",\"CryptoNight\",\"Scrypt\",\"X15\",\"Scrypt\",\"Quark\",\"SHA-256\",\"DPoS\",\"X16R\",\"HMQ1725\",\"X11\",\"X16R\",\"Quark\",\"Quark\",\"Scrypt\",\"Lyra2REv2\",\"Quark\",\"Scrypt\",\"Scrypt\",\"CryptoNight-V7\",\"Cryptonight-GPU\",\"XEVAN\",\"CryptoNight Heavy\",\"X11\",\"X11\",\"Scrypt\",\"PoS\",\"SHA-256\",\"Keccak\",\"X11\",\"X11\",\"Scrypt\",\"SHA-512\",\"X16R\",\"ECC 256K1\",\"Equihash\",\"XEVAN\",\"Lyra2Z\",\"SHA-256\",\"XEVAN\",\"X11\",\"CryptoNight\",\"Quark\",\"Blake\",\"Blake\",\"Equihash\",\"Exosis\",\"Scrypt\",\"Scrypt\",\"Equihash\",\"Quark\",\"Equihash\",\"Quark\",\"Scrypt\",\"QuBit\",\"X11\",\"Scrypt\",\"XEVAN\",\"SHA-256D\",\"X11\",\"SHA-256\",\"X13\",\"SHA-256\",\"X11\",\"DPoS\",\"Scrypt\",\"Scrypt\",\"X11\",\"NeoScrypt\",\"Scrypt\",\"Blake\",\"Scrypt\",\"SHA-256\",\"Scrypt\",\"X11\",\"Scrypt\",\"Scrypt\",\"SHA-256\",\"X11\",\"SHA-256\",\"Scrypt\",\"Scrypt\",\"Scrypt\",\"Groestl\",\"X11\",\"Scrypt\",\"PoS\",\"Scrypt\",\"Scrypt\",\"X11\",\"SHA-256\",\"DPoS\",\"Scrypt\",\"Scrypt\",\"NeoScrypt\",\"Multiple\",\"X13\",\"Equihash+Scrypt\",\"DPoS\",\"Ethash\",\"DPoS\",\"SHA-256\",\"Leased POS\",\"PoS\",\"TRC10\",\"PoS\",\"SHA-256\",\"Scrypt\",\"CryptoNight\",\"Equihash\",\"Scrypt\"],\"Class\":{\"__ndarray__\":\"AAAAAAAAAAAAAAAAAwAAAAMAAAADAAAAAAAAAAMAAAADAAAAAwAAAAAAAAADAAAAAAAAAAAAAAADAAAAAAAAAAMAAAADAAAAAAAAAAAAAAADAAAAAwAAAAMAAAADAAAAAwAAAAAAAAADAAAAAwAAAAMAAAAAAAAAAwAAAAAAAAADAAAAAwAAAAAAAAAAAAAAAwAAAAMAAAADAAAAAwAAAAMAAAADAAAAAAAAAAAAAAADAAAAAwAAAAMAAAADAAAAAwAAAAAAAAAAAAAAAwAAAAAAAAADAAAAAwAAAAMAAAADAAAAAAAAAAMAAAADAAAAAAAAAAMAAAAAAAAAAAAAAAAAAAADAAAAAwAAAAMAAAAAAAAAAAAAAAAAAAAAAAAAAAAAAAMAAAADAAAAAwAAAAAAAAAAAAAAAwAAAAAAAAADAAAAAAAAAAAAAAADAAAAAwAAAAMAAAADAAAAAAAAAAAAAAADAAAAAAAAAAMAAAADAAAAAAAAAAAAAAADAAAAAAAAAAAAAAADAAAAAwAAAAAAAAAAAAAAAwAAAAAAAAAAAAAAAwAAAAAAAAADAAAAAAAAAAMAAAAAAAAAAwAAAAAAAAAAAAAAAwAAAAMAAAAAAAAAAwAAAAMAAAADAAAAAAAAAAMAAAADAAAAAwAAAAMAAAADAAAAAAAAAAAAAAADAAAAAwAAAAMAAAAAAAAAAwAAAAAAAAADAAAAAwAAAAAAAAADAAAAAAAAAAMAAAAAAAAAAAAAAAMAAAADAAAAAAAAAAMAAAADAAAAAAAAAAAAAAADAAAAAAAAAAMAAAAAAAAAAAAAAAAAAAADAAAAAwAAAAMAAAADAAAAAAAAAAAAAAAAAAAAAAAAAAAAAAADAAAAAwAAAAAAAAAAAAAAAAAAAAAAAAAAAAAAAwAAAAAAAAAAAAAAAAAAAAAAAAAAAAAAAwAAAAAAAAADAAAAAAAAAAAAAAADAAAAAAAAAAMAAAAAAAAAAAAAAAMAAAAAAAAAAwAAAAAAAAADAAAAAAAAAAMAAAAAAAAAAAAAAAAAAAAAAAAAAwAAAAAAAAAAAAAAAAAAAAAAAAAAAAAAAwAAAAMAAAAAAAAAAAAAAAMAAAADAAAAAAAAAAAAAAAAAAAAAAAAAAAAAAADAAAAAAAAAAAAAAAAAAAAAAAAAAAAAAAAAAAAAAAAAAAAAAADAAAAAAAAAAAAAAAAAAAAAAAAAAAAAAAAAAAAAwAAAAMAAAADAAAAAAAAAAAAAAAAAAAAAAAAAAMAAAAAAAAAAwAAAAAAAAAAAAAAAwAAAAAAAAADAAAAAwAAAAAAAAADAAAAAwAAAAAAAAADAAAAAAAAAAAAAAAAAAAAAwAAAAAAAAAAAAAAAwAAAAAAAAAAAAAAAAAAAAAAAAAAAAAAAAAAAAAAAAADAAAAAAAAAAMAAAAAAAAAAAAAAAAAAAAAAAAAAwAAAAAAAAADAAAAAAAAAAMAAAADAAAAAwAAAAMAAAAAAAAAAwAAAAAAAAAAAAAAAwAAAAAAAAADAAAAAwAAAAMAAAAAAAAAAwAAAAAAAAADAAAAAwAAAAMAAAAAAAAAAwAAAAAAAAADAAAAAAAAAAAAAAABAAAAAwAAAAAAAAADAAAAAwAAAAMAAAADAAAAAwAAAAAAAAAAAAAAAwAAAAAAAAAAAAAAAAAAAAMAAAAAAAAAAwAAAAAAAAADAAAAAAAAAAMAAAAAAAAAAAAAAAAAAAAAAAAAAwAAAAAAAAAAAAAAAwAAAAAAAAAAAAAAAAAAAAMAAAADAAAAAwAAAAMAAAAAAAAAAAAAAAAAAAAAAAAAAwAAAAAAAAADAAAAAwAAAAMAAAAAAAAAAAAAAAMAAAADAAAAAAAAAAAAAAADAAAAAAAAAAMAAAADAAAAAwAAAAAAAAADAAAAAwAAAAAAAAAAAAAAAAAAAAMAAAADAAAAAwAAAAAAAAAAAAAAAAAAAAMAAAADAAAAAAAAAAMAAAADAAAAAwAAAAMAAAAAAAAAAQAAAAEAAAADAAAAAwAAAAMAAAAAAAAAAQAAAAAAAAAAAAAAAAAAAAAAAAADAAAAAwAAAAMAAAADAAAAAAAAAAAAAAAAAAAAAwAAAAAAAAADAAAAAAAAAAAAAAAAAAAAAAAAAAMAAAAAAAAAAAAAAAMAAAAAAAAAAAAAAAMAAAADAAAAAAAAAAMAAAAAAAAAAwAAAAMAAAADAAAAAwAAAAAAAAAAAAAAAwAAAAAAAAADAAAAAAAAAAAAAAAAAAAAAAAAAAAAAAAAAAAAAwAAAAMAAAADAAAAAAAAAAAAAAAAAAAAAAAAAAAAAAAAAAAAAwAAAAAAAAADAAAAAwAAAAMAAAADAAAAAAAAAAAAAAAAAAAAAAAAAAMAAAAAAAAAAAAAAAMAAAAAAAAAAAAAAAMAAAABAAAAAwAAAAAAAAADAAAAAwAAAAAAAAAAAAAAAwAAAAAAAAADAAAAAwAAAAAAAAADAAAAAwAAAAAAAAADAAAAAAAAAAMAAAAAAAAAAAAAAAMAAAAAAAAAAAAAAAAAAAAAAAAAAAAAAAMAAAADAAAAAwAAAAAAAAAAAAAAAAAAAAMAAAAAAAAAAwAAAAAAAAADAAAAAAAAAAAAAAAAAAAAAAAAAAMAAAAAAAAAAAAAAAAAAAADAAAAAAAAAAMAAAAAAAAAAwAAAAAAAAAAAAAAAAAAAAMAAAADAAAAAAAAAAAAAAAAAAAAAAAAAAAAAAAAAAAAAwAAAAAAAAADAAAAAAAAAAMAAAAAAAAAAAAAAAAAAAAAAAAAAgAAAAAAAAAAAAAAAAAAAAMAAAADAAAAAAAAAA==\",\"dtype\":\"int32\",\"order\":\"little\",\"shape\":[532]},\"CoinName\":[\"42 Coin\",\"404Coin\",\"EliteCoin\",\"Bitcoin\",\"Ethereum\",\"Litecoin\",\"Dash\",\"Monero\",\"Ethereum Classic\",\"ZCash\",\"Bitshares\",\"DigiByte\",\"BitcoinDark\",\"PayCoin\",\"ProsperCoin\",\"KoboCoin\",\"Spreadcoin\",\"Argentum\",\"Aurora Coin\",\"BlueCoin\",\"MyriadCoin\",\"MoonCoin\",\"ZetaCoin\",\"SexCoin\",\"Quatloo\",\"EnergyCoin\",\"QuarkCoin\",\"Riecoin\",\"Digitalcoin \",\"BitBar\",\"Catcoin\",\"CryptoBullion\",\"CannaCoin\",\"CryptCoin\",\"CasinoCoin\",\"Diamond\",\"Verge\",\"DevCoin\",\"EarthCoin\",\"E-Gulden\",\"Einsteinium\",\"Emerald\",\"Exclusive Coin\",\"FlutterCoin\",\"Franko\",\"FeatherCoin\",\"GrandCoin\",\"GlobalCoin\",\"GoldCoin\",\"HoboNickels\",\"HyperStake\",\"Infinite Coin\",\"IOCoin\",\"IXcoin\",\"KrugerCoin\",\"LuckyCoin\",\"Litebar \",\"MaxCoin\",\"MegaCoin\",\"MediterraneanCoin\",\"MintCoin\",\"MinCoin\",\"MazaCoin\",\"Nautilus Coin\",\"NavCoin\",\"NobleCoin\",\"Namecoin\",\"NyanCoin\",\"OpalCoin\",\"Orbitcoin\",\"PotCoin\",\"PhoenixCoin\",\"Reddcoin\",\"RonPaulCoin\",\"StableCoin\",\"SmartCoin\",\"SuperCoin\",\"SyncCoin\",\"SysCoin\",\"TeslaCoin\",\"TigerCoin\",\"TittieCoin\",\"TorCoin\",\"TerraCoin\",\"UnbreakableCoin\",\"Unobtanium\",\"UroCoin\",\"UnitaryStatus Dollar\",\"UltraCoin\",\"ViaCoin\",\"VeriCoin\",\"Vertcoin\",\"WorldCoin\",\"X11 Coin\",\"Crypti\",\"JouleCoin\",\"StealthCoin\",\"ZCC Coin\",\"ByteCoin\",\"DigitalNote \",\"BurstCoin\",\"StorjCoin\",\"MonaCoin\",\"Neutron\",\"FairCoin\",\"Gulden\",\"RubyCoin\",\"PesetaCoin\",\"Kore\",\"Wild Beast Coin\",\"Dnotes\",\"Flo\",\"8BIT Coin\",\"Sativa Coin\",\"ArtByte\",\"Folding Coin\",\"Ucoin\",\"Unitus\",\"CypherPunkCoin\",\"OmniCron\",\"Vtorrent\",\"GreenCoin\",\"Cryptonite\",\"MasterCoin\",\"SoonCoin\",\"1Credit\",\"IslaCoin\",\"Nexus\",\"MarsCoin \",\"Crypto\",\"Anarchists Prime\",\"Droidz\",\"BowsCoin\",\"Squall Coin\",\"Song Coin\",\"BitZeny\",\"Diggits\",\"Expanse\",\"Paycon\",\"Siacoin\",\"Emercoin\",\"EverGreenCoin\",\"MindCoin\",\"I0coin\",\"Decred\",\"Revolution VR\",\"HOdlcoin\",\"EDRCoin\",\"Hitcoin\",\"Gamecredits\",\"DubaiCoin\",\"CarpeDiemCoin\",\"PWR Coin\",\"BillaryCoin\",\"GPU Coin\",\"Adzcoin\",\"SoilCoin\",\"YoCoin\",\"SibCoin\",\"EuropeCoin\",\"ZeitCoin\",\"SwingCoin\",\"SafeExchangeCoin\",\"Nebuchadnezzar\",\"Francs\",\"BolivarCoin\",\"Ratecoin\",\"Revenu\",\"Clockcoin\",\"VIP Tokens\",\"BitSend\",\"Omni\",\"Let it Ride\",\"PutinCoin\",\"iBankCoin\",\"Frankywillcoin\",\"MudraCoin\",\"PizzaCoin\",\"Lutetium Coin\",\"Komodo\",\"GoldBlocks\",\"CarterCoin\",\"Karbo\",\"BitTokens\",\"ZayedCoin\",\"MustangCoin\",\"ZoneCoin\",\"Circuits of Value\",\"RootCoin\",\"DopeCoin\",\"BitCurrency\",\"DollarCoin\",\"Swiscoin\",\"Shilling\",\"BuzzCoin\",\"Opair\",\"PesoBit\",\"Halloween Coin\",\"ZCoin\",\"CoffeeCoin\",\"RoyalCoin\",\"GanjaCoin V2\",\"TeamUP\",\"LanaCoin\",\"Elementrem\",\"ZClassic\",\"ARK\",\"InsaneCoin\",\"KiloCoin\",\"ArtexCoin\",\"EmberCoin\",\"XenixCoin\",\"FreeCoin\",\"PLNCoin\",\"AquariusCoin\",\"Kurrent\",\"Creatio\",\"Eternity\",\"Eurocoin\",\"BitcoinFast\",\"Stakenet\",\"BitConnect Coin\",\"MoneyCoin\",\"Enigma\",\"Cannabis Industry Coin\",\"Russiacoin\",\"PandaCoin\",\"GameUnits\",\"GAKHcoin\",\"Allsafe\",\"LiteCreed\",\"OsmiumCoin\",\"Bikercoins\",\"HexxCoin\",\"Klingon Empire Darsek\",\"Internet of People\",\"KushCoin\",\"Printerium\",\"PacCoin\",\"Impeach\",\"Citadel\",\"Zilbercoin\",\"FirstCoin\",\"BeaverCoin\",\"FindCoin\",\"VaultCoin\",\"Zero\",\"OpenChat\",\"Canada eCoin\",\"Zoin\",\"RenosCoin\",\"DubaiCoin\",\"VirtacoinPlus\",\"TajCoin\",\"Impact\",\"EB3coin\",\"Atmos\",\"HappyCoin\",\"Coinonat\",\"MacronCoin\",\"Condensate\",\"Independent Money System\",\"ArgusCoin\",\"LomoCoin\",\"ProCurrency\",\"GoldReserve\",\"BenjiRolls\",\"GrowthCoin\",\"ILCoin\",\"Phreak\",\"Degas Coin\",\"HTML5 Coin\",\"Ultimate Secure Cash\",\"EquiTrader\",\"QTUM\",\"Quantum Resistant Ledger\",\"Espers\",\"Dynamic\",\"Nano\",\"ChanCoin\",\"Dinastycoin\",\"Denarius\",\"DigitalPrice\",\"Virta Unique Coin\",\"Bitcoin Planet\",\"Unify\",\"BritCoin\",\"SocialCoin\",\"ArcticCoin\",\"DAS\",\"Linda\",\"LeviarCoin\",\"DeepOnion\",\"Bitcore\",\"gCn Coin\",\"SmartCash\",\"Signatum\",\"Onix\",\"Cream\",\"Bitcoin Cash\",\"Monoeci\",\"Draftcoin\",\"Vechain\",\"Sojourn Coin\",\"Stakecoin\",\"NewYorkCoin\",\"FrazCoin\",\"Kronecoin\",\"AdCoin\",\"Linx\",\"CoinonatX\",\"Ethereum Dark\",\"Sumokoin\",\"Obsidian\",\"Cardano\",\"Regalcoin\",\"BitcoinZ\",\"TrezarCoin\",\"Elements\",\"TerraNovaCoin\",\"VIVO Coin\",\"Rupee\",\"Bitcoin Gold\",\"WomenCoin\",\"Theresa May Coin\",\"NamoCoin\",\"LUXCoin\",\"Pirl\",\"Xios\",\"Bitcloud 2.0\",\"eBoost\",\"KekCoin\",\"BlackholeCoin\",\"Infinity Economics\",\"Pura\",\"Innova\",\"Ellaism\",\"GoByte\",\"Magnet\",\"Lamden Tau\",\"Electra\",\"Bitcoin Diamond\",\"SHIELD\",\"Cash & Back Coin\",\"UltraNote\",\"BitCoal\",\"DaxxCoin\",\"Bulwark\",\"Kalkulus\",\"AC3\",\"Lethean\",\"GermanCoin\",\"LiteCoin Ultra\",\"PopularCoin\",\"PhantomX\",\"Photon\",\"Sucre\",\"SparksPay\",\"Digiwage\",\"GunCoin\",\"IrishCoin\",\"Trollcoin\",\"Litecoin Plus\",\"Monkey Project\",\"Pioneer Coin\",\"UnitedBitcoin\",\"Interzone\",\"TokenPay\",\"1717 Masonic Commemorative Token\",\"My Big Coin\",\"TurtleCoin\",\"MUNcoin\",\"Unified Society USDEX\",\"Niobio Cash\",\"ShareChain\",\"Travelflex\",\"KREDS\",\"Tokyo Coin\",\"BiblePay\",\"LitecoinCash\",\"BitFlip\",\"LottoCoin\",\"Crypto Improvement Fund\",\"Stipend\",\"Poa Network\",\"Pushi\",\"Ellerium\",\"Velox\",\"Ontology\",\"Callisto Network\",\"BitTube\",\"Poseidon\",\"Aidos Kuneen\",\"Bitspace\",\"Briacoin\",\"Ignition\",\"Bitrolium\",\"MedicCoin\",\"Alpenschillling\",\"Bitcoin Green\",\"Deviant Coin\",\"Abjcoin\",\"Semux\",\"FuturoCoin\",\"Carebit\",\"Zealium\",\"Monero Classic\",\"Proton\",\"iDealCash\",\"Jumpcoin\",\"Infinex\",\"Bitcoin Incognito\",\"KEYCO\",\"HollyWoodCoin\",\"GINcoin\",\"PlatinCoin\",\"Loki\",\"Newton Coin\",\"Swisscoin\",\"Xt3ch\",\"MassGrid\",\"TheVig\",\"PluraCoin\",\"EmaratCoin\",\"Dekado\",\"Lynx\",\"Poseidon Quark\",\"BitcoinWSpectrum\",\"Muse\",\"Motion\",\"PlusOneCoin\",\"Axe\",\"Trivechain\",\"Dystem\",\"Giant\",\"Peony Coin\",\"Absolute Coin\",\"Vitae\",\"HexCoin\",\"TPCash\",\"Webchain\",\"Ryo\",\"Urals Coin\",\"Qwertycoin\",\"ARENON\",\"EUNO\",\"MMOCoin\",\"Ketan\",\"Project Pai\",\"XDNA\",\"PAXEX\",\"Azart\",\"ThunderStake\",\"Kcash\",\"Xchange\",\"Acute Angle Cloud\",\"CrypticCoin\",\"Bettex coin\",\"Actinium\",\"Bitcoin SV\",\"BitMoney\",\"Junson Ming Chan Coin\",\"FREDEnergy\",\"HerbCoin\",\"Universal Molecule\",\"Lithium\",\"PirateCash\",\"Exosis\",\"Block-Logic\",\"Oduwa\",\"Beam\",\"Galilel\",\"Bithereum\",\"Crypto Sports\",\"Credit\",\"SLICE\",\"Dash Platinum\",\"Nasdacoin\",\"Beetle Coin\",\"Titan Coin\",\"Award\",\"BLAST\",\"Bitcoin Rhodium\",\"GlobalToken\",\"Insane Coin\",\"ALAX\",\"LiteDoge\",\"SolarCoin\",\"TruckCoin\",\"UFO Coin\",\"OrangeCoin\",\"BlakeCoin\",\"BitstarCoin\",\"NeosCoin\",\"HyperCoin\",\"PinkCoin\",\"Crypto Escudo\",\"AudioCoin\",\"IncaKoin\",\"Piggy Coin\",\"Crown Coin\",\"Genstake\",\"SmileyCoin\",\"XiaoMiCoin\",\"Groestlcoin\",\"CapriCoin\",\" ClubCoin\",\"Radium\",\"Bata\",\"Pakcoin\",\"Creditbit \",\"OKCash\",\"Lisk\",\"HiCoin\",\"WhiteCoin\",\"FriendshipCoin\",\"JoinCoin\",\"Triangles Coin\",\"Vollar\",\"EOS\",\"Reality Clash\",\"Oxycoin\",\"TigerCash\",\"Waves\",\"Particl\",\"BitTorrent\",\"Nxt\",\"ZEPHYR\",\"Gapcoin\",\"Beldex\",\"Horizen\",\"BitcoinPlus\"],\"ProofType\":[\"PoW/PoS\",\"PoW/PoS\",\"PoW/PoS\",\"PoW\",\"PoW\",\"PoW\",\"PoW/PoS\",\"PoW\",\"PoW\",\"PoW\",\"PoS\",\"PoW\",\"PoW/PoS\",\"PoS\",\"PoW\",\"PoW/PoS\",\"PoW\",\"PoW\",\"PoW/PoS\",\"PoW/PoS\",\"PoW\",\"PoW\",\"PoW\",\"PoW\",\"PoW\",\"PoW/PoS\",\"PoW\",\"PoW\",\"PoW\",\"PoW/PoS\",\"PoW\",\"PoW/PoS\",\"PoW\",\"PoW\",\"PoC\",\"PoW/PoS\",\"PoW\",\"PoW\",\"PoW\",\"PoW\",\"PoW\",\"PoW\",\"PoS\",\"PoS/PoW/PoT\",\"PoW\",\"PoW\",\"PoW\",\"PoW\",\"PoW\",\"PoW/PoS\",\"PoS\",\"PoW\",\"PoW/PoS\",\"PoW\",\"PoW\",\"PoW\",\"PoW\",\"PoW/PoS\",\"PoW\",\"PoW\",\"PoS\",\"PoW\",\"PoW/PoS\",\"PoS\",\"PoW/PoS\",\"PoW\",\"PoW\",\"PoW\",\"PoW/PoS\",\"PoW/PoS\",\"PoW/PoS\",\"PoW/PoS\",\"PoW/PoS\",\"PoW\",\"PoW\",\"PoW\",\"PoS\",\"PoW/PoS\",\"PoW\",\"PoS\",\"PoW\",\"PoS\",\"PoW/PoS\",\"PoW\",\"PoW\",\"PoW\",\"PoW\",\"PoW/PoS\",\"PoW/PoS\",\"PoW\",\"PoST\",\"PoW\",\"PoW\",\"PoW/PoS\",\"PoS\",\"PoW\",\"PoW/PoS\",\"PoW/PoS\",\"PoW\",\"PoW\",\"PoC\",\"PoS\",\"PoW\",\"PoW/PoS\",\"PoW/PoS\",\"PoW\",\"PoS\",\"PoW\",\"PoW/PoS\",\"PoW\",\"PoS\",\"PoW\",\"PoW/PoS\",\"PoW/PoS\",\"PoW\",\"PoW\",\"PoS\",\"PoW\",\"PoW\",\"PoW\",\"PoW/PoS\",\"PoW\",\"PoW\",\"PoW\",\"PoW\",\"PoW\",\"PoW/PoS\",\"PoW/nPoS\",\"PoW\",\"PoW\",\"PoW\",\"PoW/PoS\",\"PoW\",\"PoS/PoW\",\"PoW\",\"PoW\",\"PoS\",\"PoW\",\"PoW/PoS\",\"PoW\",\"PoW/PoS\",\"PoW/PoS\",\"PoW\",\"PoW\",\"PoW/PoS\",\"PoW\",\"PoW\",\"PoW/PoS\",\"PoW/PoS\",\"PoW\",\"PoW/PoS\",\"PoW\",\"PoW/PoS\",\"PoW/PoS\",\"PoS\",\"PoW\",\"PoW\",\"PoW\",\"PoW\",\"PoW/PoS\",\"PoS\",\"PoW/PoS\",\"PoC\",\"PoS\",\"PoW\",\"PoW\",\"PoW/PoS\",\"PoW/PoS\",\"PoW/PoS\",\"PoW/PoS\",\"PoW/PoS\",\"PoW\",\"PoS\",\"PoW/PoS\",\"PoW/PoS\",\"PoW/PoS\",\"PoS\",\"PoW\",\"PoS\",\"dPoW/PoW\",\"PoW/PoS\",\"PoW/PoS\",\"PoW\",\"PoW/PoS\",\"PoW\",\"PoW/PoS\",\"PoW/PoS\",\"PoW\",\"PoW/PoS\",\"PoW\",\"PoS\",\"PoW\",\"PoW/PoW\",\"PoW\",\"PoW/PoS\",\"PoS\",\"PoW/PoS\",\"PoW/PoS\",\"PoW\",\"PoS\",\"PoS\",\"PoW/PoS\",\"PoS\",\"PoW/PoS\",\"PoW\",\"PoW\",\"DPoS\",\"PoW/PoS\",\"PoW\",\"PoW\",\"PoW/PoS\",\"PoW/PoS\",\"PoS\",\"PoW/PoS\",\"PoW/PoS\",\"PoW\",\"PoS\",\"PoW/PoS\",\"PoW/PoS\",\"PoW/PoS\",\"TPoS\",\"PoW/PoS\",\"PoW/PoS\",\"PoW/PoS\",\"PoW\",\"PoW/PoS\",\"PoS\",\"PoW/PoS\",\"PoW/PoS\",\"PoS\",\"PoW/PoS\",\"PoW\",\"PoW\",\"PoW\",\"PoW/PoS\",\"PoW/PoS\",\"PoW/PoS\",\"PoW/PoS\",\"PoW\",\"PoW/PoS\",\"PoW\",\"PoS\",\"PoW/PoS \",\"PoW\",\"PoS\",\"PoW\",\"PoW\",\"PoW/PoS\",\"PoW\",\"PoW\",\"PoS\",\"PoW\",\"PoW/PoS\",\"PoW/PoS\",\"PoW/PoS\",\"PoW\",\"PoS\",\"PoW/PoS\",\"PoW\",\"PoS\",\"PoW/PoS\",\"PoW/PoS\",\"PoW/PoS\",\"PoW/PoS\",\"PoS\",\"PoW/PoS\",\"PoW\",\"PoS\",\"PoW\",\"PoS\",\"PoW/PoS\",\"PoW/PoS\",\"PoS\",\"PoW\",\"PoS\",\"PoW\",\"PoW/PoS\",\"PoW\",\"PoW\",\"PoW\",\"PoW\",\"PoW/PoS\",\"PoW\",\"PoW/PoS\",\"PoW/PoS\",\"PoW\",\"PoW/PoS\",\"PoW\",\"PoW\",\"PoW\",\"PoW/PoS\",\"PoW\",\"PoW/PoS\",\"PoW\",\"PoW\",\"PoW\",\"PoS\",\"PoW\",\"PoW/PoS\",\"PoW\",\"PoW/PoS\",\"PoS\",\"Proof of Authority\",\"PoW\",\"PoS\",\"PoW\",\"PoW\",\"PoW\",\"PoW\",\"PoW\",\"PoW/PoS\",\"PoW/PoS\",\"PoW\",\"PoS\",\"PoS\",\"PoW/PoS\",\"PoW\",\"PoW/PoS\",\"PoW\",\"PoW/PoS\",\"PoW\",\"PoS\",\"PoW\",\"PoW/PoS\",\"PoW/PoS\",\"PoW/PoS\",\"PoW/PoS\",\"PoW\",\"PoW/PoS\",\"PoW/PoS\",\"PoW\",\"PoS\",\"PoW/PoS\",\"PoS\",\"PoW\",\"PoW\",\"PoW\",\"PoW\",\"PoW/PoS\",\"DPoS\",\"PoW/PoS\",\"PoW/PoS\",\"PoW\",\"PoW/PoS\",\"PoW\",\"PoW\",\"PoW\",\"PoS\",\"PoS\",\"PoW\",\"PoW\",\"PoW/PoS\",\"PoW/PoS\",\"PoW\",\"PoW/PoS\",\"PoW\",\"PoW\",\"PoW\",\"PoS\",\"PoW\",\"PoW\",\"PoW/PoS\",\"PoW/PoS\",\"PoS\",\"PoW\",\"PoW\",\"PoW\",\"PoS\",\"PoS\",\"PoW and PoS\",\"PoW\",\"PoW\",\"PoW/PoS\",\"PoW\",\"PoW\",\"PoW\",\"PoW\",\"PoS\",\"POBh\",\"PoW + Hive\",\"PoW\",\"PoW\",\"PoW\",\"PoW/PoS\",\"PoA\",\"PoW/PoS\",\"PoW/PoS\",\"PoS\",\"PoS\",\"PoW\",\"PoW\",\"PoW\",\"PoW\",\"PoW/PoS\",\"PoW/PoS\",\"PoW/PoS\",\"PoW\",\"PoS\",\"PoW\",\"PoS\",\"PoS\",\"PoW/PoS\",\"DPoS\",\"PoW\",\"PoW/PoS\",\"PoS\",\"PoW\",\"PoS\",\"PoW/PoS\",\"PoW\",\"PoW\",\"PoS/PoW\",\"PoW\",\"PoS\",\"PoW\",\"PoW\",\"PoW\",\"PoW\",\"PoW/PoS\",\"PoS\",\"PoW\",\"PoW/PoS\",\"PoW\",\"PoW/PoS\",\"PoS\",\"HPoW\",\"PoS\",\"PoS\",\"PoS\",\"PoW\",\"PoW\",\"PoW\",\"PoW/PoS\",\"PoS\",\"PoW/PoS\",\"PoS\",\"PoW/PoS\",\"PoS\",\"PoW\",\"PoW/PoS\",\"PoW\",\"PoW\",\"PoW\",\"PoW\",\"PoS\",\"PoW/PoS\",\"PoS\",\"PoS\",\"PoW\",\"PoW/PoS\",\"PoS\",\"PoW\",\"PoW/PoS\",\"Zero-Knowledge Proof\",\"PoW\",\"DPOS\",\"PoW\",\"PoS\",\"PoW\",\"PoW\",\"Pos\",\"PoS\",\"PoW\",\"PoW/PoS\",\"PoW\",\"PoW\",\"PoS\",\"PoW\",\"PoW\",\"PoW/PoS\",\"PoW\",\"PoW/PoS\",\"PoW\",\"PoS\",\"PoW/PoS\",\"PoW\",\"PoS\",\"PoW/PoS\",\"PoW/PoS\",\"PoW/PoS\",\"PoW/PoS\",\"PoW\",\"PoW\",\"PoW\",\"PoW/PoS\",\"DPoS\",\"PoW/PoS\",\"PoW\",\"PoW/PoS\",\"PoW\",\"PoW/PoS\",\"PoW\",\"PoW/PoS\",\"PoS\",\"PoW/PoS\",\"PoW/PoS\",\"PoW\",\"PoW/PoS\",\"PoW/PoS\",\"PoW/PoS\",\"PoW\",\"PoW/PoS\",\"PoW\",\"PoW/PoS\",\"PoW\",\"PoW/PoS\",\"PoW/PoS\",\"PoS\",\"PoW\",\"PoW\",\"Proof of Trust\",\"PoW/PoS\",\"DPoS\",\"PoS\",\"PoW/PoS\",\"PoW/PoS\",\"PoW\",\"PoW/PoS\",\"PoW\",\"DPoS\",\"PoW\",\"DPoS\",\"PoS\",\"LPoS\",\"PoS\",\"DPoS\",\"PoS/LPoS\",\"DPoS\",\"PoW/PoS\",\"PoW\",\"PoW\",\"PoS\"],\"TotalCoinSupply\":[\"42\",\"532000000\",\"314159265359\",\"21000000\",\"0\",\"84000000\",\"22000000\",\"0\",\"210000000\",\"21000000\",\"3600570502\",\"21000000000\",\"22000000\",\"12500000\",\"21000000\",\"350000000\",\"20000000\",\"64000000\",\"16768584\",\"0\",\"2000000000\",\"384000000000\",\"169795588\",\"250000000\",\"100000000\",\"0\",\"247000000\",\"84000000\",\"48166000\",\"500000\",\"21000000 \",\"1000000\",\"13140000\",\"18000000\",\"40000000000\",\"4380000\",\"16555000000\",\"21000000000\",\"13500000000\",\"21000000 \",\"299792458\",\"32000000\",\"0\",\"0\",\"11235813\",\"336000000\",\"1420609614\",\"70000000\",\"72245700\",\"120000000\",\"0\",\"90600000000\",\"22000000\",\"21000000\",\"265420800\",\"20000000\",\"1350000\",\"100000000\",\"42000000\",\"200000000\",\"0\",\"10000000\",\"2419200000\",\"16180000\",\"0\",\"15000000000\",\"21000000\",\"337000000\",\"0\",\"3770000\",\"420000000\",\"98000000\",\"0\",\"21000000\",\"250000000\",\"51200000\",\"0\",\"1000\",\"888000000\",\"100000000\",\"47011968\",\"2300000000\",\"10000000\",\"42000000\",\"80000000\",\"250000\",\"0\",\"1600000000\",\"100000000\",\"23000000\",\"0\",\"84000000\",\"265420800\",\"5500000\",\"0\",\"45000000\",\"0\",\"1000000000\",\"184467440735\",\"10000000000\",\"2158812800\",\"500000000\",\"105120000\",\"68000000\",\"0\",\"1680000000\",\"0\",\"166386000\",\"12000000\",\"2628000\",\"500000000\",\"160000000\",\"0\",\"10000000\",\"1000000000\",\"1000000000\",\"20000000\",\"0\",\"0\",\"3371337\",\"20000000\",\"10000000000\",\"1840000000\",\"619478\",\"21000000\",\"92000000000\",\"0\",\"78000000\",\"33000000\",\"65789100\",\"53760000\",\"5060000\",\"21000000\",\"0\",\"210240000\",\"250000000\",\"100000000\",\"16906397\",\"50000000\",\"0\",\"1000000000\",\"26298000\",\"16000000\",\"21000000\",\"21000000\",\"210000000\",\"81962100\",\"22000000\",\"26550000000\",\"84000000\",\"10500000\",\"21626280000 \",\"0\",\"42000000\",\"221052632\",\"84000000\",\"30000000\",\"168351300\",\"24000000\",\"384000000\",\" 99000000000\",\"40000000\",\"2147483647\",\"20000000\",\"20000000\",\"25000000\",\"75000000\",\"222725000\",\"525000000\",\"90000000\",\"139000000\",\"616448\",\"33500000\",\"2000000000\",\"44333333\",\"100000000\",\"200000000\",\"25000000\",\"657000000\",\"200000000\",\"50000000\",\"90000000\",\"10000000\",\"21000000\",\"9736000\",\"3000000\",\"21000000\",\"1200000000\",\"0\",\"200000000\",\"0\",\"10638298\",\"3100000000\",\"30000000\",\"20000000000\",\"74000000\",\"0\",\"1500000000\",\"21400000\",\"39999898\",\"2500124\",\"100000000\",\"301000000\",\"7506000000\",\"26205539\",\"21000000\",\"125000000\",\"30000000\",\"10000000000\",\"500000000\",\"850000000\",\"3853326.77707314\",\"50000000\",\"38540000 \",\"42000000\",\"228000000\",\"20000000\",\"60000000\",\"20000000\",\"33000000\",\"76500000\",\"28000000\",\"650659833\",\"5000000\",\"21000000\",\"144000000\",\"32514916898\",\"13000000\",\"3315789\",\"15000000\",\"78835200\",\"2714286\",\"25000000\",\"9999999\",\"500000000\",\"21000000\",\"9354000\",\"20000000\",\"100000000000\",\"21933333\",\"185000000\",\"55000000\",\"110000000\",\"3360000\",\"14524851.4827\",\"1000000000\",\"17000000\",\"1000000000\",\"100000000 \",\"21000000\",\"34426423\",\"2232901\",\"100000000\",\"36900000\",\"110000000\",\"4000000000\",\"110290030\",\"100000000\",\"48252000\",\"400000000\",\"500000000\",\"21212121\",\"28600000\",\"1000000000\",\"75000000000\",\"40000000\",\"35520400\",\"2000000000\",\"2500000000\",\"30000000\",\"105000000\",\"90000000000\",\"200084200\",\"72000000\",\"100000000\",\"105000000\",\"50000000000\",\"0\",\"340282367\",\"30000000\",\"2000000000\",\"10000000\",\"100000000\",\"120000000\",\"100000000\",\"19276800\",\"30000000\",\" 75000000\",\"60000000\",\"18900000\",\"50000000000\",\"54000000\",\"18898187.6216583\",\"21000000\",\"200000000000\",\"5000000000\",\"137500000\",\"1100000000\",\"100000000\",\"21000000\",\"9507271\",\"17405891.19707116\",\"86712634466\",\"10500000000\",\"61599965\",\"0\",\"20000000\",\"84000000\",\"100000000\",\"100000000\",\"48252000\",\"4200000\",\"88888888\",\"91388946\",\"45000000000\",\"27000000\",\"21000000000\",\"400000000\",\"1800000000\",\"15733333\",\"27000000\",\"24000000\",\"21000000\",\"25000000000\",\"100000000\",\"1200000000\",\"60000000\",\"156306732.71\",\"21000000\",\"200000000\",\"100000000\",\"21000000\",\"14788275.991\",\"9000000000\",\"350000000\",\"45000000\",\"280000000\",\"31800000\",\"144000000\",\"500000000\",\"30000000000\",\"210000000\",\"660000000\",\"210000000\",\"85000000000\",\"12500000\",\"10000000000\",\"27716121\",\"20000000\",\"550000000\",\"999481516\",\"50000000000\",\"150000000\",\"4999999999\",\"50000000\",\" 90000000000\",\"19800000\",\"21000000\",\"120000000\",\"500000000\",\"64000000\",\"900000000\",\"4000000\",\"21000000\",\"23000000\",\"20166000\",\"23000000\",\"25000000\",\"1618033\",\"30000000\",\"1000000000000\",\"16600000\",\"232000000\",\"336000000\",\"10000000000\",\"100000000\",\"1100000000\",\"800000000\",\"5200000000\",\"840000000\",\"40000000\",\"18406979840\",\"500000000\",\"19340594\",\"252460800\",\"25000000\",\"60000000\",\"124000000\",\"1000000000\",\"6500000000\",\"1000000000\",\"21000000\",\"25000000\",\"50000000\",\"3000000\",\"5000000\",\"70000000\",\"500000000\",\"300000000\",\"21000000\",\"88000000\",\"30000000\",\"100000000\",\"100000000\",\"200000000\",\"80000000\",\"18400000\",\"45000000\",\"5121951220\",\"21000000\",\"26280000\",\"21000000\",\"18000000\",\"26000000\",\"10500000\",\"600000518\",\"150000000\",\"184000000000\",\"10200000000\",\"44000000\",\"168000000\",\"100000000\",\"1000000000\",\"84000000\",\"90000000\",\"92000000000\",\"650000000 \",\"100262205\",\"18081806 \",\"22075700\",\"21000000\",\"21000000\",\"82546564\",\"21000000\",\"5151000\",\"16880000000\",\"52500000\",\"100000000\",\"22105263\",\"1000000000\",\"1750000000\",\"88188888\",\"210000000\",\"184470000000\",\"55000000\",\"50000000\",\"260000000\",\"210000000\",\"2100000000\",\"366000000\",\"100000000\",\"25000000\",\"18000000000\",\"1000000000\",\"100000000\",\"1000000000\",\"7600000000\",\"50000000\",\"84000000\",\"21000000\",\"70000000000\",\"0\",\"8080000000\",\"54000000\",\"105120001.44\",\"25228800\",\"105000000\",\"21000000\",\"120000000\",\"21000000\",\"262800000\",\"19035999\",\"30886000\",\"13370000\",\"74800000000\",\"100000000\",\"19700000\",\"84000000\",\"500000000\",\"5000000000\",\"420000000\",\"64000000\",\"2100000\",\"168000000\",\"30000000\",\"1000000000\",\"35000000000\",\"98100000000\",\"0\",\"4000000000\",\"200000000\",\"7000000000\",\"54256119\",\"21000000\",\"0\",\"500000000\",\"1000000000\",\"10500000000\",\"190000000\",\"1000000000\",\"42000000\",\"15000000\",\"50000000000\",\"400000000\",\"105000000\",\"208000000\",\"160000000\",\"9000000\",\"5000000\",\"182000000\",\"16504333\",\"105000000\",\"159918400\",\"10008835635\",\"300000000\",\"60168145\",\"2800000\",\"120000\",\"2100000000\",\"0\",\"24487944\",\"0\",\"1000000000\",\"100000000\",\"8634140\",\"990000000000\",\"1000000000\",\"2000000000\",\"250000000\",\"1400222610\",\"21000000\",\"1000000\"],\"TotalCoinsMined\":{\"__ndarray__\":\"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\",\"dtype\":\"float64\",\"order\":\"little\",\"shape\":[532]}},\"selected\":{\"id\":\"1539\"},\"selection_policy\":{\"id\":\"1573\"}},\"id\":\"1538\",\"type\":\"ColumnDataSource\"},{\"attributes\":{},\"id\":\"1540\",\"type\":\"StringFormatter\"},{\"attributes\":{},\"id\":\"1573\",\"type\":\"UnionRenderers\"},{\"attributes\":{},\"id\":\"1560\",\"type\":\"StringFormatter\"},{\"attributes\":{},\"id\":\"1541\",\"type\":\"StringEditor\"},{\"attributes\":{},\"id\":\"1546\",\"type\":\"StringEditor\"},{\"attributes\":{\"editor\":{\"id\":\"1566\"},\"field\":\"Class\",\"formatter\":{\"id\":\"1565\"},\"title\":\"Class\"},\"id\":\"1567\",\"type\":\"TableColumn\"},{\"attributes\":{\"margin\":[5,5,5,5],\"name\":\"HSpacer02670\",\"sizing_mode\":\"stretch_width\"},\"id\":\"1537\",\"type\":\"Spacer\"},{\"attributes\":{\"editor\":{\"id\":\"1556\"},\"field\":\"TotalCoinsMined\",\"formatter\":{\"id\":\"1555\"},\"title\":\"TotalCoinsMined\"},\"id\":\"1557\",\"type\":\"TableColumn\"},{\"attributes\":{\"source\":{\"id\":\"1538\"}},\"id\":\"1572\",\"type\":\"CDSView\"},{\"attributes\":{\"editor\":{\"id\":\"1541\"},\"field\":\"CoinName\",\"formatter\":{\"id\":\"1540\"},\"title\":\"CoinName\"},\"id\":\"1542\",\"type\":\"TableColumn\"},{\"attributes\":{\"editor\":{\"id\":\"1551\"},\"field\":\"ProofType\",\"formatter\":{\"id\":\"1550\"},\"title\":\"ProofType\"},\"id\":\"1552\",\"type\":\"TableColumn\"},{\"attributes\":{},\"id\":\"1565\",\"type\":\"NumberFormatter\"},{\"attributes\":{\"format\":\"0,0.0[00000]\"},\"id\":\"1555\",\"type\":\"NumberFormatter\"},{\"attributes\":{},\"id\":\"1545\",\"type\":\"StringFormatter\"},{\"attributes\":{\"columns\":[{\"id\":\"1542\"},{\"id\":\"1547\"},{\"id\":\"1552\"},{\"id\":\"1557\"},{\"id\":\"1562\"},{\"id\":\"1567\"}],\"height\":300,\"reorderable\":false,\"source\":{\"id\":\"1538\"},\"view\":{\"id\":\"1572\"},\"width\":700},\"id\":\"1570\",\"type\":\"DataTable\"},{\"attributes\":{},\"id\":\"1551\",\"type\":\"StringEditor\"},{\"attributes\":{\"margin\":[5,5,5,5],\"name\":\"HSpacer02671\",\"sizing_mode\":\"stretch_width\"},\"id\":\"1577\",\"type\":\"Spacer\"},{\"attributes\":{\"editor\":{\"id\":\"1546\"},\"field\":\"Algorithm\",\"formatter\":{\"id\":\"1545\"},\"title\":\"Algorithm\"},\"id\":\"1547\",\"type\":\"TableColumn\"},{\"attributes\":{},\"id\":\"1566\",\"type\":\"IntEditor\"},{\"attributes\":{\"children\":[{\"id\":\"1537\"},{\"id\":\"1570\"},{\"id\":\"1577\"}],\"margin\":[0,0,0,0],\"name\":\"Row02666\",\"tags\":[\"embedded\"]},\"id\":\"1536\",\"type\":\"Row\"},{\"attributes\":{},\"id\":\"1539\",\"type\":\"Selection\"},{\"attributes\":{\"editor\":{\"id\":\"1561\"},\"field\":\"TotalCoinSupply\",\"formatter\":{\"id\":\"1560\"},\"title\":\"TotalCoinSupply\"},\"id\":\"1562\",\"type\":\"TableColumn\"},{\"attributes\":{},\"id\":\"1561\",\"type\":\"StringEditor\"},{\"attributes\":{},\"id\":\"1550\",\"type\":\"StringFormatter\"}],\"root_ids\":[\"1536\"]},\"title\":\"Bokeh Application\",\"version\":\"2.4.2\"}};\n",
       "    var render_items = [{\"docid\":\"d1d3d3fc-682a-4374-9dfb-ee9562801f38\",\"root_ids\":[\"1536\"],\"roots\":{\"1536\":\"4e7bac2d-5d42-4ba6-a432-43924bcc8f08\"}}];\n",
       "    root.Bokeh.embed.embed_items_notebook(docs_json, render_items);\n",
       "  }\n",
       "  if (root.Bokeh !== undefined && root.Bokeh.Panel !== undefined) {\n",
       "    embed_document(root);\n",
       "  } else {\n",
       "    var attempts = 0;\n",
       "    var timer = setInterval(function(root) {\n",
       "      if (root.Bokeh !== undefined && root.Bokeh.Panel !== undefined) {\n",
       "        clearInterval(timer);\n",
       "        embed_document(root);\n",
       "      } else if (document.readyState == \"complete\") {\n",
       "        attempts++;\n",
       "        if (attempts > 200) {\n",
       "          clearInterval(timer);\n",
       "          console.log(\"Bokeh: ERROR: Unable to run BokehJS code because BokehJS library is missing\");\n",
       "        }\n",
       "      }\n",
       "    }, 25, root)\n",
       "  }\n",
       "})(window);</script>"
      ],
      "text/plain": [
       ":Table   [CoinName,Algorithm,ProofType,TotalCoinsMined,TotalCoinSupply,Class]"
      ]
     },
     "execution_count": 194,
     "metadata": {
      "application/vnd.holoviews_exec.v0+json": {
       "id": "1536"
      }
     },
     "output_type": "execute_result"
    }
   ],
   "source": [
    "# Print the total number of tradable cryptocurrencies.\n",
    "clustered_df.hvplot.table(columns=['CoinName', 'Algorithm', 'ProofType', 'TotalCoinsMined', 'TotalCoinSupply', 'Class'], sortable=True, selectable=True)"
   ]
  },
  {
   "cell_type": "code",
   "execution_count": 195,
   "metadata": {},
   "outputs": [
    {
     "data": {
      "text/plain": [
       "array([[4.20000000e-11, 0.00000000e+00],\n",
       "       [5.32000000e-04, 1.06585544e-03],\n",
       "       [3.14159265e-01, 2.95755135e-02],\n",
       "       ...,\n",
       "       [1.40022261e-03, 9.90135079e-04],\n",
       "       [2.10000000e-05, 7.37028150e-06],\n",
       "       [1.00000000e-06, 1.29582282e-07]])"
      ]
     },
     "execution_count": 195,
     "metadata": {},
     "output_type": "execute_result"
    }
   ],
   "source": [
    "# Scaling data to create the scatter plot with tradable cryptocurrencies.\n",
    "cluster_df = clustered_df[['TotalCoinSupply', 'TotalCoinsMined']]\n",
    "X_minmax = MinMaxScaler().fit_transform(cluster_df)\n",
    "X_minmax"
   ]
  },
  {
   "cell_type": "code",
   "execution_count": 196,
   "metadata": {},
   "outputs": [
    {
     "data": {
      "text/html": [
       "<div>\n",
       "<style scoped>\n",
       "    .dataframe tbody tr th:only-of-type {\n",
       "        vertical-align: middle;\n",
       "    }\n",
       "\n",
       "    .dataframe tbody tr th {\n",
       "        vertical-align: top;\n",
       "    }\n",
       "\n",
       "    .dataframe thead th {\n",
       "        text-align: right;\n",
       "    }\n",
       "</style>\n",
       "<table border=\"1\" class=\"dataframe\">\n",
       "  <thead>\n",
       "    <tr style=\"text-align: right;\">\n",
       "      <th></th>\n",
       "      <th>TotalCoinSupply_scaled</th>\n",
       "      <th>TotalCoinsMined_scaled</th>\n",
       "      <th>CoinName</th>\n",
       "      <th>Class</th>\n",
       "    </tr>\n",
       "  </thead>\n",
       "  <tbody>\n",
       "    <tr>\n",
       "      <th>42</th>\n",
       "      <td>4.200000e-11</td>\n",
       "      <td>0.000000</td>\n",
       "      <td>42 Coin</td>\n",
       "      <td>0</td>\n",
       "    </tr>\n",
       "    <tr>\n",
       "      <th>404</th>\n",
       "      <td>5.320000e-04</td>\n",
       "      <td>0.001066</td>\n",
       "      <td>404Coin</td>\n",
       "      <td>0</td>\n",
       "    </tr>\n",
       "    <tr>\n",
       "      <th>1337</th>\n",
       "      <td>3.141593e-01</td>\n",
       "      <td>0.029576</td>\n",
       "      <td>EliteCoin</td>\n",
       "      <td>0</td>\n",
       "    </tr>\n",
       "    <tr>\n",
       "      <th>BTC</th>\n",
       "      <td>2.100000e-05</td>\n",
       "      <td>0.000018</td>\n",
       "      <td>Bitcoin</td>\n",
       "      <td>3</td>\n",
       "    </tr>\n",
       "    <tr>\n",
       "      <th>ETH</th>\n",
       "      <td>0.000000e+00</td>\n",
       "      <td>0.000109</td>\n",
       "      <td>Ethereum</td>\n",
       "      <td>3</td>\n",
       "    </tr>\n",
       "    <tr>\n",
       "      <th>LTC</th>\n",
       "      <td>8.400000e-05</td>\n",
       "      <td>0.000064</td>\n",
       "      <td>Litecoin</td>\n",
       "      <td>3</td>\n",
       "    </tr>\n",
       "    <tr>\n",
       "      <th>DASH</th>\n",
       "      <td>2.200000e-05</td>\n",
       "      <td>0.000009</td>\n",
       "      <td>Dash</td>\n",
       "      <td>0</td>\n",
       "    </tr>\n",
       "    <tr>\n",
       "      <th>XMR</th>\n",
       "      <td>0.000000e+00</td>\n",
       "      <td>0.000017</td>\n",
       "      <td>Monero</td>\n",
       "      <td>3</td>\n",
       "    </tr>\n",
       "    <tr>\n",
       "      <th>ETC</th>\n",
       "      <td>2.100000e-04</td>\n",
       "      <td>0.000115</td>\n",
       "      <td>Ethereum Classic</td>\n",
       "      <td>3</td>\n",
       "    </tr>\n",
       "    <tr>\n",
       "      <th>ZEC</th>\n",
       "      <td>2.100000e-05</td>\n",
       "      <td>0.000007</td>\n",
       "      <td>ZCash</td>\n",
       "      <td>3</td>\n",
       "    </tr>\n",
       "  </tbody>\n",
       "</table>\n",
       "</div>"
      ],
      "text/plain": [
       "      TotalCoinSupply_scaled  TotalCoinsMined_scaled          CoinName  Class\n",
       "42              4.200000e-11                0.000000           42 Coin      0\n",
       "404             5.320000e-04                0.001066           404Coin      0\n",
       "1337            3.141593e-01                0.029576         EliteCoin      0\n",
       "BTC             2.100000e-05                0.000018           Bitcoin      3\n",
       "ETH             0.000000e+00                0.000109          Ethereum      3\n",
       "LTC             8.400000e-05                0.000064          Litecoin      3\n",
       "DASH            2.200000e-05                0.000009              Dash      0\n",
       "XMR             0.000000e+00                0.000017            Monero      3\n",
       "ETC             2.100000e-04                0.000115  Ethereum Classic      3\n",
       "ZEC             2.100000e-05                0.000007             ZCash      3"
      ]
     },
     "execution_count": 196,
     "metadata": {},
     "output_type": "execute_result"
    }
   ],
   "source": [
    "# Create a new DataFrame that has the scaled data with the clustered_df DataFrame index.\n",
    "index_values = (clustered_df.index.tolist())\n",
    "plot_df = pd.DataFrame(\n",
    "    data = X_minmax, columns=[\"TotalCoinSupply_scaled\", \"TotalCoinsMined_scaled\"], index = index_values)\n",
    "\n",
    "# Add the \"CoinName\" column from the clustered_df DataFrame to the new DataFrame.\n",
    "plot_df = plot_df.join(crypto_names_df, how='inner')\n",
    "\n",
    "# Add the \"Class\" column from the clustered_df DataFrame to the new DataFrame. \n",
    "class_df = clustered_df[\"Class\"]\n",
    "plot_df = plot_df.join(class_df, how='inner')\n",
    "\n",
    "plot_df.head(10)"
   ]
  },
  {
   "cell_type": "code",
   "execution_count": 197,
   "metadata": {},
   "outputs": [
    {
     "data": {},
     "metadata": {},
     "output_type": "display_data"
    },
    {
     "data": {
      "application/vnd.holoviews_exec.v0+json": "",
      "text/html": [
       "<div id='1589'>\n",
       "\n",
       "\n",
       "\n",
       "\n",
       "\n",
       "  <div class=\"bk-root\" id=\"5b7c697d-4905-427a-9563-76afb5a40015\" data-root-id=\"1589\"></div>\n",
       "</div>\n",
       "<script type=\"application/javascript\">(function(root) {\n",
       "  function embed_document(root) {\n",
       "    var docs_json = {\"12d9db16-68f6-47a0-a061-fb7f573bd48e\":{\"defs\":[{\"extends\":null,\"module\":null,\"name\":\"ReactiveHTML1\",\"overrides\":[],\"properties\":[]},{\"extends\":null,\"module\":null,\"name\":\"FlexBox1\",\"overrides\":[],\"properties\":[{\"default\":\"flex-start\",\"kind\":null,\"name\":\"align_content\"},{\"default\":\"flex-start\",\"kind\":null,\"name\":\"align_items\"},{\"default\":\"row\",\"kind\":null,\"name\":\"flex_direction\"},{\"default\":\"wrap\",\"kind\":null,\"name\":\"flex_wrap\"},{\"default\":\"flex-start\",\"kind\":null,\"name\":\"justify_content\"}]},{\"extends\":null,\"module\":null,\"name\":\"GridStack1\",\"overrides\":[],\"properties\":[{\"default\":\"warn\",\"kind\":null,\"name\":\"mode\"},{\"default\":null,\"kind\":null,\"name\":\"ncols\"},{\"default\":null,\"kind\":null,\"name\":\"nrows\"},{\"default\":true,\"kind\":null,\"name\":\"allow_resize\"},{\"default\":true,\"kind\":null,\"name\":\"allow_drag\"},{\"default\":[],\"kind\":null,\"name\":\"state\"}]},{\"extends\":null,\"module\":null,\"name\":\"click1\",\"overrides\":[],\"properties\":[{\"default\":\"\",\"kind\":null,\"name\":\"terminal_output\"},{\"default\":\"\",\"kind\":null,\"name\":\"debug_name\"},{\"default\":0,\"kind\":null,\"name\":\"clears\"}]},{\"extends\":null,\"module\":null,\"name\":\"TemplateActions1\",\"overrides\":[],\"properties\":[{\"default\":0,\"kind\":null,\"name\":\"open_modal\"},{\"default\":0,\"kind\":null,\"name\":\"close_modal\"}]},{\"extends\":null,\"module\":null,\"name\":\"MaterialTemplateActions1\",\"overrides\":[],\"properties\":[{\"default\":0,\"kind\":null,\"name\":\"open_modal\"},{\"default\":0,\"kind\":null,\"name\":\"close_modal\"}]}],\"roots\":{\"references\":[{\"attributes\":{\"axis\":{\"id\":\"1606\"},\"coordinates\":null,\"grid_line_color\":null,\"group\":null,\"ticker\":null},\"id\":\"1609\",\"type\":\"Grid\"},{\"attributes\":{\"data\":{\"Class\":[3,3,3,3,3,3,3,3,3,3,3,3,3,3,3,3,3,3,3,3,3,3,3,3,3,3,3,3,3,3,3,3,3,3,3,3,3,3,3,3,3,3,3,3,3,3,3,3,3,3,3,3,3,3,3,3,3,3,3,3,3,3,3,3,3,3,3,3,3,3,3,3,3,3,3,3,3,3,3,3,3,3,3,3,3,3,3,3,3,3,3,3,3,3,3,3,3,3,3,3,3,3,3,3,3,3,3,3,3,3,3,3,3,3,3,3,3,3,3,3,3,3,3,3,3,3,3,3,3,3,3,3,3,3,3,3,3,3,3,3,3,3,3,3,3,3,3,3,3,3,3,3,3,3,3,3,3,3,3,3,3,3,3,3,3,3,3,3,3,3,3,3,3,3,3,3,3,3,3,3,3,3,3,3,3,3,3,3,3,3,3,3,3,3,3,3,3,3,3,3,3,3,3,3,3,3,3,3,3,3,3,3,3,3,3,3,3,3,3,3,3,3,3,3,3,3,3,3,3,3,3,3,3,3,3,3,3,3],\"TotalCoinSupply_scaled\":{\"__ndarray__\":\"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\",\"dtype\":\"float64\",\"order\":\"little\",\"shape\":[238]},\"TotalCoinsMined_scaled\":{\"__ndarray__\":\"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\",\"dtype\":\"float64\",\"order\":\"little\",\"shape\":[238]}},\"selected\":{\"id\":\"1701\"},\"selection_policy\":{\"id\":\"1721\"}},\"id\":\"1700\",\"type\":\"ColumnDataSource\"},{\"attributes\":{\"label\":{\"value\":\"2\"},\"renderers\":[{\"id\":\"1682\"}]},\"id\":\"1698\",\"type\":\"LegendItem\"},{\"attributes\":{\"coordinates\":null,\"data_source\":{\"id\":\"1654\"},\"glyph\":{\"id\":\"1657\"},\"group\":null,\"hover_glyph\":null,\"muted_glyph\":{\"id\":\"1659\"},\"nonselection_glyph\":{\"id\":\"1658\"},\"selection_glyph\":{\"id\":\"1675\"},\"view\":{\"id\":\"1661\"}},\"id\":\"1660\",\"type\":\"GlyphRenderer\"},{\"attributes\":{\"margin\":[5,5,5,5],\"name\":\"HSpacer02860\",\"sizing_mode\":\"stretch_width\"},\"id\":\"1590\",\"type\":\"Spacer\"},{\"attributes\":{},\"id\":\"1655\",\"type\":\"Selection\"},{\"attributes\":{},\"id\":\"1671\",\"type\":\"UnionRenderers\"},{\"attributes\":{\"fill_alpha\":{\"value\":0.2},\"fill_color\":{\"value\":\"#e5ae38\"},\"hatch_alpha\":{\"value\":0.2},\"hatch_color\":{\"value\":\"#e5ae38\"},\"line_alpha\":{\"value\":0.2},\"line_color\":{\"value\":\"#e5ae38\"},\"size\":{\"value\":5.477225575051661},\"x\":{\"field\":\"TotalCoinsMined_scaled\"},\"y\":{\"field\":\"TotalCoinSupply_scaled\"}},\"id\":\"1681\",\"type\":\"Scatter\"},{\"attributes\":{\"data\":{\"Class\":[2],\"TotalCoinSupply_scaled\":{\"__ndarray__\":\"rkfhehSu7z8=\",\"dtype\":\"float64\",\"order\":\"little\",\"shape\":[1]},\"TotalCoinsMined_scaled\":{\"__ndarray__\":\"AAAAAAAA8D8=\",\"dtype\":\"float64\",\"order\":\"little\",\"shape\":[1]}},\"selected\":{\"id\":\"1677\"},\"selection_policy\":{\"id\":\"1695\"}},\"id\":\"1676\",\"type\":\"ColumnDataSource\"},{\"attributes\":{},\"id\":\"1611\",\"type\":\"BasicTicker\"},{\"attributes\":{\"fill_alpha\":{\"value\":0.2},\"fill_color\":{\"value\":\"#30a2da\"},\"hatch_alpha\":{\"value\":0.2},\"hatch_color\":{\"value\":\"#30a2da\"},\"line_alpha\":{\"value\":0.2},\"line_color\":{\"value\":\"#30a2da\"},\"size\":{\"value\":5.477225575051661},\"x\":{\"field\":\"TotalCoinsMined_scaled\"},\"y\":{\"field\":\"TotalCoinSupply_scaled\"}},\"id\":\"1638\",\"type\":\"Scatter\"},{\"attributes\":{},\"id\":\"1607\",\"type\":\"BasicTicker\"},{\"attributes\":{},\"id\":\"1628\",\"type\":\"BasicTickFormatter\"},{\"attributes\":{\"coordinates\":null,\"group\":null,\"text_color\":\"black\",\"text_font_size\":\"12pt\"},\"id\":\"1598\",\"type\":\"Title\"},{\"attributes\":{},\"id\":\"1648\",\"type\":\"UnionRenderers\"},{\"attributes\":{\"children\":[{\"id\":\"1590\"},{\"id\":\"1597\"},{\"id\":\"1870\"}],\"margin\":[0,0,0,0],\"name\":\"Row02856\",\"tags\":[\"embedded\"]},\"id\":\"1589\",\"type\":\"Row\"},{\"attributes\":{},\"id\":\"1604\",\"type\":\"LinearScale\"},{\"attributes\":{\"axis_label\":\"Total Cryptocurrency Coin Supply\",\"coordinates\":null,\"formatter\":{\"id\":\"1631\"},\"group\":null,\"major_label_policy\":{\"id\":\"1632\"},\"ticker\":{\"id\":\"1611\"}},\"id\":\"1610\",\"type\":\"LinearAxis\"},{\"attributes\":{\"angle\":{\"value\":0.0},\"fill_alpha\":{\"value\":1.0},\"fill_color\":{\"value\":\"#30a2da\"},\"hatch_alpha\":{\"value\":1.0},\"hatch_color\":{\"value\":\"#30a2da\"},\"hatch_scale\":{\"value\":12.0},\"hatch_weight\":{\"value\":1.0},\"line_alpha\":{\"value\":1.0},\"line_cap\":{\"value\":\"butt\"},\"line_color\":{\"value\":\"#30a2da\"},\"line_dash\":{\"value\":[]},\"line_dash_offset\":{\"value\":0},\"line_join\":{\"value\":\"bevel\"},\"line_width\":{\"value\":1},\"marker\":{\"value\":\"circle\"},\"size\":{\"value\":5.477225575051661},\"x\":{\"field\":\"TotalCoinsMined_scaled\"},\"y\":{\"field\":\"TotalCoinSupply_scaled\"}},\"id\":\"1653\",\"type\":\"Scatter\"},{\"attributes\":{\"axis_label\":\"Total Cryptocurrency Coins Mined\",\"coordinates\":null,\"formatter\":{\"id\":\"1628\"},\"group\":null,\"major_label_policy\":{\"id\":\"1629\"},\"ticker\":{\"id\":\"1607\"}},\"id\":\"1606\",\"type\":\"LinearAxis\"},{\"attributes\":{\"axis\":{\"id\":\"1610\"},\"coordinates\":null,\"dimension\":1,\"grid_line_color\":null,\"group\":null,\"ticker\":null},\"id\":\"1613\",\"type\":\"Grid\"},{\"attributes\":{\"label\":{\"value\":\"1\"},\"renderers\":[{\"id\":\"1660\"}]},\"id\":\"1674\",\"type\":\"LegendItem\"},{\"attributes\":{\"fill_color\":{\"value\":\"#30a2da\"},\"hatch_color\":{\"value\":\"#30a2da\"},\"line_color\":{\"value\":\"#30a2da\"},\"size\":{\"value\":5.477225575051661},\"x\":{\"field\":\"TotalCoinsMined_scaled\"},\"y\":{\"field\":\"TotalCoinSupply_scaled\"}},\"id\":\"1636\",\"type\":\"Scatter\"},{\"attributes\":{\"fill_alpha\":{\"value\":0.2},\"fill_color\":{\"value\":\"#fc4f30\"},\"hatch_alpha\":{\"value\":0.2},\"hatch_color\":{\"value\":\"#fc4f30\"},\"line_alpha\":{\"value\":0.2},\"line_color\":{\"value\":\"#fc4f30\"},\"size\":{\"value\":5.477225575051661},\"x\":{\"field\":\"TotalCoinsMined_scaled\"},\"y\":{\"field\":\"TotalCoinSupply_scaled\"}},\"id\":\"1659\",\"type\":\"Scatter\"},{\"attributes\":{\"label\":{\"value\":\"3\"},\"renderers\":[{\"id\":\"1706\"}]},\"id\":\"1724\",\"type\":\"LegendItem\"},{\"attributes\":{\"coordinates\":null,\"data_source\":{\"id\":\"1633\"},\"glyph\":{\"id\":\"1636\"},\"group\":null,\"hover_glyph\":null,\"muted_glyph\":{\"id\":\"1638\"},\"nonselection_glyph\":{\"id\":\"1637\"},\"selection_glyph\":{\"id\":\"1653\"},\"view\":{\"id\":\"1640\"}},\"id\":\"1639\",\"type\":\"GlyphRenderer\"},{\"attributes\":{\"source\":{\"id\":\"1654\"}},\"id\":\"1661\",\"type\":\"CDSView\"},{\"attributes\":{\"coordinates\":null,\"data_source\":{\"id\":\"1700\"},\"glyph\":{\"id\":\"1703\"},\"group\":null,\"hover_glyph\":null,\"muted_glyph\":{\"id\":\"1705\"},\"nonselection_glyph\":{\"id\":\"1704\"},\"selection_glyph\":{\"id\":\"1725\"},\"view\":{\"id\":\"1707\"}},\"id\":\"1706\",\"type\":\"GlyphRenderer\"},{\"attributes\":{\"fill_color\":{\"value\":\"#e5ae38\"},\"hatch_color\":{\"value\":\"#e5ae38\"},\"line_color\":{\"value\":\"#e5ae38\"},\"size\":{\"value\":5.477225575051661},\"x\":{\"field\":\"TotalCoinsMined_scaled\"},\"y\":{\"field\":\"TotalCoinSupply_scaled\"}},\"id\":\"1679\",\"type\":\"Scatter\"},{\"attributes\":{\"angle\":{\"value\":0.0},\"fill_alpha\":{\"value\":1.0},\"fill_color\":{\"value\":\"#6d904f\"},\"hatch_alpha\":{\"value\":1.0},\"hatch_color\":{\"value\":\"#6d904f\"},\"hatch_scale\":{\"value\":12.0},\"hatch_weight\":{\"value\":1.0},\"line_alpha\":{\"value\":1.0},\"line_cap\":{\"value\":\"butt\"},\"line_color\":{\"value\":\"#6d904f\"},\"line_dash\":{\"value\":[]},\"line_dash_offset\":{\"value\":0},\"line_join\":{\"value\":\"bevel\"},\"line_width\":{\"value\":1},\"marker\":{\"value\":\"circle\"},\"size\":{\"value\":5.477225575051661},\"x\":{\"field\":\"TotalCoinsMined_scaled\"},\"y\":{\"field\":\"TotalCoinSupply_scaled\"}},\"id\":\"1725\",\"type\":\"Scatter\"},{\"attributes\":{},\"id\":\"1614\",\"type\":\"SaveTool\"},{\"attributes\":{},\"id\":\"1721\",\"type\":\"UnionRenderers\"},{\"attributes\":{},\"id\":\"1701\",\"type\":\"Selection\"},{\"attributes\":{\"source\":{\"id\":\"1633\"}},\"id\":\"1640\",\"type\":\"CDSView\"},{\"attributes\":{\"angle\":{\"value\":0.0},\"fill_alpha\":{\"value\":1.0},\"fill_color\":{\"value\":\"#e5ae38\"},\"hatch_alpha\":{\"value\":1.0},\"hatch_color\":{\"value\":\"#e5ae38\"},\"hatch_scale\":{\"value\":12.0},\"hatch_weight\":{\"value\":1.0},\"line_alpha\":{\"value\":1.0},\"line_cap\":{\"value\":\"butt\"},\"line_color\":{\"value\":\"#e5ae38\"},\"line_dash\":{\"value\":[]},\"line_dash_offset\":{\"value\":0},\"line_join\":{\"value\":\"bevel\"},\"line_width\":{\"value\":1},\"marker\":{\"value\":\"circle\"},\"size\":{\"value\":5.477225575051661},\"x\":{\"field\":\"TotalCoinsMined_scaled\"},\"y\":{\"field\":\"TotalCoinSupply_scaled\"}},\"id\":\"1699\",\"type\":\"Scatter\"},{\"attributes\":{},\"id\":\"1615\",\"type\":\"PanTool\"},{\"attributes\":{\"angle\":{\"value\":0.0},\"fill_alpha\":{\"value\":1.0},\"fill_color\":{\"value\":\"#fc4f30\"},\"hatch_alpha\":{\"value\":1.0},\"hatch_color\":{\"value\":\"#fc4f30\"},\"hatch_scale\":{\"value\":12.0},\"hatch_weight\":{\"value\":1.0},\"line_alpha\":{\"value\":1.0},\"line_cap\":{\"value\":\"butt\"},\"line_color\":{\"value\":\"#fc4f30\"},\"line_dash\":{\"value\":[]},\"line_dash_offset\":{\"value\":0},\"line_join\":{\"value\":\"bevel\"},\"line_width\":{\"value\":1},\"marker\":{\"value\":\"circle\"},\"size\":{\"value\":5.477225575051661},\"x\":{\"field\":\"TotalCoinsMined_scaled\"},\"y\":{\"field\":\"TotalCoinSupply_scaled\"}},\"id\":\"1675\",\"type\":\"Scatter\"},{\"attributes\":{},\"id\":\"1618\",\"type\":\"ResetTool\"},{\"attributes\":{},\"id\":\"1602\",\"type\":\"LinearScale\"},{\"attributes\":{\"source\":{\"id\":\"1676\"}},\"id\":\"1683\",\"type\":\"CDSView\"},{\"attributes\":{},\"id\":\"1616\",\"type\":\"WheelZoomTool\"},{\"attributes\":{\"fill_alpha\":{\"value\":0.1},\"fill_color\":{\"value\":\"#fc4f30\"},\"hatch_alpha\":{\"value\":0.1},\"hatch_color\":{\"value\":\"#fc4f30\"},\"line_alpha\":{\"value\":0.1},\"line_color\":{\"value\":\"#fc4f30\"},\"size\":{\"value\":5.477225575051661},\"x\":{\"field\":\"TotalCoinsMined_scaled\"},\"y\":{\"field\":\"TotalCoinSupply_scaled\"}},\"id\":\"1658\",\"type\":\"Scatter\"},{\"attributes\":{\"fill_alpha\":{\"value\":0.1},\"fill_color\":{\"value\":\"#e5ae38\"},\"hatch_alpha\":{\"value\":0.1},\"hatch_color\":{\"value\":\"#e5ae38\"},\"line_alpha\":{\"value\":0.1},\"line_color\":{\"value\":\"#e5ae38\"},\"size\":{\"value\":5.477225575051661},\"x\":{\"field\":\"TotalCoinsMined_scaled\"},\"y\":{\"field\":\"TotalCoinSupply_scaled\"}},\"id\":\"1680\",\"type\":\"Scatter\"},{\"attributes\":{},\"id\":\"1634\",\"type\":\"Selection\"},{\"attributes\":{\"fill_color\":{\"value\":\"#6d904f\"},\"hatch_color\":{\"value\":\"#6d904f\"},\"line_color\":{\"value\":\"#6d904f\"},\"size\":{\"value\":5.477225575051661},\"x\":{\"field\":\"TotalCoinsMined_scaled\"},\"y\":{\"field\":\"TotalCoinSupply_scaled\"}},\"id\":\"1703\",\"type\":\"Scatter\"},{\"attributes\":{\"overlay\":{\"id\":\"1619\"}},\"id\":\"1617\",\"type\":\"BoxZoomTool\"},{\"attributes\":{\"fill_alpha\":{\"value\":0.1},\"fill_color\":{\"value\":\"#6d904f\"},\"hatch_alpha\":{\"value\":0.1},\"hatch_color\":{\"value\":\"#6d904f\"},\"line_alpha\":{\"value\":0.1},\"line_color\":{\"value\":\"#6d904f\"},\"size\":{\"value\":5.477225575051661},\"x\":{\"field\":\"TotalCoinsMined_scaled\"},\"y\":{\"field\":\"TotalCoinSupply_scaled\"}},\"id\":\"1704\",\"type\":\"Scatter\"},{\"attributes\":{},\"id\":\"1677\",\"type\":\"Selection\"},{\"attributes\":{\"end\":1.042857142857143,\"reset_end\":1.042857142857143,\"reset_start\":-0.04285714285714286,\"start\":-0.04285714285714286,\"tags\":[[[\"TotalCoinsMined_scaled\",\"TotalCoinsMined_scaled\",null]]]},\"id\":\"1591\",\"type\":\"Range1d\"},{\"attributes\":{},\"id\":\"1695\",\"type\":\"UnionRenderers\"},{\"attributes\":{},\"id\":\"1631\",\"type\":\"BasicTickFormatter\"},{\"attributes\":{\"label\":{\"value\":\"0\"},\"renderers\":[{\"id\":\"1639\"}]},\"id\":\"1652\",\"type\":\"LegendItem\"},{\"attributes\":{\"tools\":[{\"id\":\"1593\"},{\"id\":\"1614\"},{\"id\":\"1615\"},{\"id\":\"1616\"},{\"id\":\"1617\"},{\"id\":\"1618\"}]},\"id\":\"1620\",\"type\":\"Toolbar\"},{\"attributes\":{\"data\":{\"Class\":[0,0,0,0,0,0,0,0,0,0,0,0,0,0,0,0,0,0,0,0,0,0,0,0,0,0,0,0,0,0,0,0,0,0,0,0,0,0,0,0,0,0,0,0,0,0,0,0,0,0,0,0,0,0,0,0,0,0,0,0,0,0,0,0,0,0,0,0,0,0,0,0,0,0,0,0,0,0,0,0,0,0,0,0,0,0,0,0,0,0,0,0,0,0,0,0,0,0,0,0,0,0,0,0,0,0,0,0,0,0,0,0,0,0,0,0,0,0,0,0,0,0,0,0,0,0,0,0,0,0,0,0,0,0,0,0,0,0,0,0,0,0,0,0,0,0,0,0,0,0,0,0,0,0,0,0,0,0,0,0,0,0,0,0,0,0,0,0,0,0,0,0,0,0,0,0,0,0,0,0,0,0,0,0,0,0,0,0,0,0,0,0,0,0,0,0,0,0,0,0,0,0,0,0,0,0,0,0,0,0,0,0,0,0,0,0,0,0,0,0,0,0,0,0,0,0,0,0,0,0,0,0,0,0,0,0,0,0,0,0,0,0,0,0,0,0,0,0,0,0,0,0,0,0,0,0,0,0,0,0,0,0,0,0,0,0,0,0,0,0,0,0,0,0,0,0,0,0,0,0,0,0,0,0,0,0,0,0],\"TotalCoinSupply_scaled\":{\"__ndarray__\":\"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\",\"dtype\":\"float64\",\"order\":\"little\",\"shape\":[288]},\"TotalCoinsMined_scaled\":{\"__ndarray__\":\"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\",\"dtype\":\"float64\",\"order\":\"little\",\"shape\":[288]}},\"selected\":{\"id\":\"1634\"},\"selection_policy\":{\"id\":\"1648\"}},\"id\":\"1633\",\"type\":\"ColumnDataSource\"},{\"attributes\":{\"coordinates\":null,\"data_source\":{\"id\":\"1676\"},\"glyph\":{\"id\":\"1679\"},\"group\":null,\"hover_glyph\":null,\"muted_glyph\":{\"id\":\"1681\"},\"nonselection_glyph\":{\"id\":\"1680\"},\"selection_glyph\":{\"id\":\"1699\"},\"view\":{\"id\":\"1683\"}},\"id\":\"1682\",\"type\":\"GlyphRenderer\"},{\"attributes\":{\"click_policy\":\"mute\",\"coordinates\":null,\"group\":null,\"items\":[{\"id\":\"1652\"},{\"id\":\"1674\"},{\"id\":\"1698\"},{\"id\":\"1724\"}],\"location\":[0,0],\"title\":\"Class\"},\"id\":\"1651\",\"type\":\"Legend\"},{\"attributes\":{},\"id\":\"1629\",\"type\":\"AllLabels\"},{\"attributes\":{\"bottom_units\":\"screen\",\"coordinates\":null,\"fill_alpha\":0.5,\"fill_color\":\"lightgrey\",\"group\":null,\"left_units\":\"screen\",\"level\":\"overlay\",\"line_alpha\":1.0,\"line_color\":\"black\",\"line_dash\":[4,4],\"line_width\":2,\"right_units\":\"screen\",\"syncable\":false,\"top_units\":\"screen\"},\"id\":\"1619\",\"type\":\"BoxAnnotation\"},{\"attributes\":{\"data\":{\"Class\":[1,1,1,1,1],\"TotalCoinSupply_scaled\":{\"__ndarray__\":\"+nQumcwytj+U9gZfmEx1P7x5qkNuhks/hFoo4ZaLMD/8qfHSTWJQPw==\",\"dtype\":\"float64\",\"order\":\"little\",\"shape\":[5]},\"TotalCoinsMined_scaled\":{\"__ndarray__\":\"zaDgBxGurD+PWA2R2lNdP5CkxfJKIUU/nBkleI8SKz96Q0MFuIxQPw==\",\"dtype\":\"float64\",\"order\":\"little\",\"shape\":[5]}},\"selected\":{\"id\":\"1655\"},\"selection_policy\":{\"id\":\"1671\"}},\"id\":\"1654\",\"type\":\"ColumnDataSource\"},{\"attributes\":{},\"id\":\"1632\",\"type\":\"AllLabels\"},{\"attributes\":{\"fill_color\":{\"value\":\"#fc4f30\"},\"hatch_color\":{\"value\":\"#fc4f30\"},\"line_color\":{\"value\":\"#fc4f30\"},\"size\":{\"value\":5.477225575051661},\"x\":{\"field\":\"TotalCoinsMined_scaled\"},\"y\":{\"field\":\"TotalCoinSupply_scaled\"}},\"id\":\"1657\",\"type\":\"Scatter\"},{\"attributes\":{\"source\":{\"id\":\"1700\"}},\"id\":\"1707\",\"type\":\"CDSView\"},{\"attributes\":{\"fill_alpha\":{\"value\":0.1},\"fill_color\":{\"value\":\"#30a2da\"},\"hatch_alpha\":{\"value\":0.1},\"hatch_color\":{\"value\":\"#30a2da\"},\"line_alpha\":{\"value\":0.1},\"line_color\":{\"value\":\"#30a2da\"},\"size\":{\"value\":5.477225575051661},\"x\":{\"field\":\"TotalCoinsMined_scaled\"},\"y\":{\"field\":\"TotalCoinSupply_scaled\"}},\"id\":\"1637\",\"type\":\"Scatter\"},{\"attributes\":{\"callback\":null,\"renderers\":[{\"id\":\"1639\"},{\"id\":\"1660\"},{\"id\":\"1682\"},{\"id\":\"1706\"}],\"tags\":[\"hv_created\"],\"tooltips\":[[\"Class\",\"@{Class}\"],[\"TotalCoinsMined_scaled\",\"@{TotalCoinsMined_scaled}\"],[\"TotalCoinSupply_scaled\",\"@{TotalCoinSupply_scaled}\"]]},\"id\":\"1593\",\"type\":\"HoverTool\"},{\"attributes\":{\"margin\":[5,5,5,5],\"name\":\"HSpacer02861\",\"sizing_mode\":\"stretch_width\"},\"id\":\"1870\",\"type\":\"Spacer\"},{\"attributes\":{\"below\":[{\"id\":\"1606\"}],\"center\":[{\"id\":\"1609\"},{\"id\":\"1613\"}],\"height\":300,\"left\":[{\"id\":\"1610\"}],\"margin\":[5,5,5,5],\"min_border_bottom\":10,\"min_border_left\":10,\"min_border_right\":10,\"min_border_top\":10,\"renderers\":[{\"id\":\"1639\"},{\"id\":\"1660\"},{\"id\":\"1682\"},{\"id\":\"1706\"}],\"right\":[{\"id\":\"1651\"}],\"sizing_mode\":\"fixed\",\"title\":{\"id\":\"1598\"},\"toolbar\":{\"id\":\"1620\"},\"width\":700,\"x_range\":{\"id\":\"1591\"},\"x_scale\":{\"id\":\"1602\"},\"y_range\":{\"id\":\"1592\"},\"y_scale\":{\"id\":\"1604\"}},\"id\":\"1597\",\"subtype\":\"Figure\",\"type\":\"Plot\"},{\"attributes\":{\"end\":1.1,\"reset_end\":1.1,\"reset_start\":-0.1,\"start\":-0.1,\"tags\":[[[\"TotalCoinSupply_scaled\",\"TotalCoinSupply_scaled\",null]]]},\"id\":\"1592\",\"type\":\"Range1d\"},{\"attributes\":{\"fill_alpha\":{\"value\":0.2},\"fill_color\":{\"value\":\"#6d904f\"},\"hatch_alpha\":{\"value\":0.2},\"hatch_color\":{\"value\":\"#6d904f\"},\"line_alpha\":{\"value\":0.2},\"line_color\":{\"value\":\"#6d904f\"},\"size\":{\"value\":5.477225575051661},\"x\":{\"field\":\"TotalCoinsMined_scaled\"},\"y\":{\"field\":\"TotalCoinSupply_scaled\"}},\"id\":\"1705\",\"type\":\"Scatter\"}],\"root_ids\":[\"1589\"]},\"title\":\"Bokeh Application\",\"version\":\"2.4.2\"}};\n",
       "    var render_items = [{\"docid\":\"12d9db16-68f6-47a0-a061-fb7f573bd48e\",\"root_ids\":[\"1589\"],\"roots\":{\"1589\":\"5b7c697d-4905-427a-9563-76afb5a40015\"}}];\n",
       "    root.Bokeh.embed.embed_items_notebook(docs_json, render_items);\n",
       "  }\n",
       "  if (root.Bokeh !== undefined && root.Bokeh.Panel !== undefined) {\n",
       "    embed_document(root);\n",
       "  } else {\n",
       "    var attempts = 0;\n",
       "    var timer = setInterval(function(root) {\n",
       "      if (root.Bokeh !== undefined && root.Bokeh.Panel !== undefined) {\n",
       "        clearInterval(timer);\n",
       "        embed_document(root);\n",
       "      } else if (document.readyState == \"complete\") {\n",
       "        attempts++;\n",
       "        if (attempts > 200) {\n",
       "          clearInterval(timer);\n",
       "          console.log(\"Bokeh: ERROR: Unable to run BokehJS code because BokehJS library is missing\");\n",
       "        }\n",
       "      }\n",
       "    }, 25, root)\n",
       "  }\n",
       "})(window);</script>"
      ],
      "text/plain": [
       ":NdOverlay   [Class]\n",
       "   :Scatter   [TotalCoinsMined_scaled]   (TotalCoinSupply_scaled)"
      ]
     },
     "execution_count": 197,
     "metadata": {
      "application/vnd.holoviews_exec.v0+json": {
       "id": "1589"
      }
     },
     "output_type": "execute_result"
    }
   ],
   "source": [
    "# Create a hvplot.scatter plot using x=\"TotalCoinsMined\" and y=\"TotalCoinSupply\".\n",
    "plot_df.hvplot.scatter(x=\"TotalCoinsMined_scaled\", \n",
    "                       y=\"TotalCoinSupply_scaled\", \n",
    "                       by=\"Class\",\n",
    "                        xlabel=\"Total Cryptocurrency Coins Mined\",\n",
    "                        ylabel=\"Total Cryptocurrency Coin Supply\",)\n"
   ]
  },
  {
   "cell_type": "code",
   "execution_count": null,
   "metadata": {},
   "outputs": [],
   "source": []
  }
 ],
 "metadata": {
  "file_extension": ".py",
  "kernelspec": {
   "display_name": "mlnenv",
   "language": "python",
   "name": "mlnenv"
  },
  "language_info": {
   "codemirror_mode": {
    "name": "ipython",
    "version": 3
   },
   "file_extension": ".py",
   "mimetype": "text/x-python",
   "name": "python",
   "nbconvert_exporter": "python",
   "pygments_lexer": "ipython3",
   "version": "3.7.13"
  },
  "latex_envs": {
   "LaTeX_envs_menu_present": true,
   "autoclose": false,
   "autocomplete": true,
   "bibliofile": "biblio.bib",
   "cite_by": "apalike",
   "current_citInitial": 1,
   "eqLabelWithNumbers": true,
   "eqNumInitial": 1,
   "hotkeys": {
    "equation": "Ctrl-E",
    "itemize": "Ctrl-I"
   },
   "labels_anchors": false,
   "latex_user_defs": false,
   "report_style_numbering": false,
   "user_envs_cfg": false
  },
  "mimetype": "text/x-python",
  "name": "python",
  "npconvert_exporter": "python",
  "pygments_lexer": "ipython3",
  "version": 3
 },
 "nbformat": 4,
 "nbformat_minor": 2
}
